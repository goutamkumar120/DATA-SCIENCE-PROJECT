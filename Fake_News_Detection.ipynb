{
  "nbformat": 4,
  "nbformat_minor": 0,
  "metadata": {
    "colab": {
      "name": "Fake News Detection.ipynb",
      "provenance": [],
      "collapsed_sections": [],
      "include_colab_link": true
    },
    "kernelspec": {
      "name": "python3",
      "display_name": "Python 3"
    },
    "language_info": {
      "name": "python"
    }
  },
  "cells": [
    {
      "cell_type": "markdown",
      "metadata": {
        "id": "view-in-github",
        "colab_type": "text"
      },
      "source": [
        "<a href=\"https://colab.research.google.com/github/goutamkumar120/DATA-SCIENCE-PROJECT/blob/main/Fake_News_Detection.ipynb\" target=\"_parent\"><img src=\"https://colab.research.google.com/assets/colab-badge.svg\" alt=\"Open In Colab\"/></a>"
      ]
    },
    {
      "cell_type": "code",
      "metadata": {
        "colab": {
          "base_uri": "https://localhost:8080/"
        },
        "id": "HkFyxhE_sfzL",
        "outputId": "7ca48d70-8f01-411f-a915-9020f851d421"
      },
      "source": [
        "from google.colab import drive\n",
        "drive.mount('/content/gdrive')"
      ],
      "execution_count": null,
      "outputs": [
        {
          "output_type": "stream",
          "text": [
            "Mounted at /content/gdrive\n"
          ],
          "name": "stdout"
        }
      ]
    },
    {
      "cell_type": "code",
      "metadata": {
        "colab": {
          "base_uri": "https://localhost:8080/"
        },
        "id": "sDLWpwhcA6CL",
        "outputId": "8323f0d0-ae0b-48ee-d598-4c39f5952a04"
      },
      "source": [
        "import io\n",
        "import pandas as pd\n",
        "import numpy as np\n",
        "import matplotlib.pyplot as plt\n",
        "import nltk\n",
        "nltk.download('punkt')\n",
        "import re\n",
        "from nltk.stem import PorterStemmer\n",
        "from nltk.corpus import stopwords\n",
        "nltk.download('stopwords')\n",
        "from sklearn.feature_extraction.text import TfidfVectorizer\n",
        "from sklearn.model_selection import train_test_split, GridSearchCV, KFold\n",
        "from sklearn.neighbors import KNeighborsClassifier\n",
        "from sklearn.metrics import precision_score, accuracy_score, confusion_matrix, classification_report\n",
        "from sklearn.svm import SVC \n",
        "from sklearn.linear_model import LogisticRegression\n",
        "from sklearn.ensemble import AdaBoostClassifier, RandomForestClassifier\n",
        "from sklearn.tree import DecisionTreeClassifier \n",
        "from xgboost import XGBClassifier\n",
        "from tensorflow import keras\n",
        "from tensorflow.keras import layers\n",
        "from sklearn.preprocessing import normalize\n",
        "from tensorflow.keras.callbacks import EarlyStopping, ReduceLROnPlateau\n",
        "from keras.wrappers.scikit_learn import KerasClassifier\n",
        "from sklearn.model_selection import RandomizedSearchCV\n",
        "from keras.optimizers import Adam\n",
        "from tensorflow.keras.preprocessing.sequence import pad_sequences\n",
        "from keras.preprocessing.text import Tokenizer"
      ],
      "execution_count": null,
      "outputs": [
        {
          "output_type": "stream",
          "text": [
            "[nltk_data] Downloading package punkt to /root/nltk_data...\n",
            "[nltk_data]   Unzipping tokenizers/punkt.zip.\n",
            "[nltk_data] Downloading package stopwords to /root/nltk_data...\n",
            "[nltk_data]   Unzipping corpora/stopwords.zip.\n"
          ],
          "name": "stdout"
        }
      ]
    },
    {
      "cell_type": "code",
      "metadata": {
        "id": "Rc_gcfRdspvJ"
      },
      "source": [
        "train = pd.read_csv('/content/gdrive/MyDrive/train.csv')\n",
        "test = pd.read_csv('/content/gdrive/MyDrive/test.csv')"
      ],
      "execution_count": null,
      "outputs": []
    },
    {
      "cell_type": "code",
      "metadata": {
        "colab": {
          "base_uri": "https://localhost:8080/",
          "height": 195
        },
        "id": "eZ38tERE0Wi7",
        "outputId": "1c37d9cb-4599-4c9f-bbf4-f7706290dc72"
      },
      "source": [
        "train.head()\n",
        "\n",
        "## Label 1 is unreliable and 0 is reliable"
      ],
      "execution_count": null,
      "outputs": [
        {
          "output_type": "execute_result",
          "data": {
            "text/html": [
              "<div>\n",
              "<style scoped>\n",
              "    .dataframe tbody tr th:only-of-type {\n",
              "        vertical-align: middle;\n",
              "    }\n",
              "\n",
              "    .dataframe tbody tr th {\n",
              "        vertical-align: top;\n",
              "    }\n",
              "\n",
              "    .dataframe thead th {\n",
              "        text-align: right;\n",
              "    }\n",
              "</style>\n",
              "<table border=\"1\" class=\"dataframe\">\n",
              "  <thead>\n",
              "    <tr style=\"text-align: right;\">\n",
              "      <th></th>\n",
              "      <th>id</th>\n",
              "      <th>title</th>\n",
              "      <th>author</th>\n",
              "      <th>text</th>\n",
              "      <th>label</th>\n",
              "    </tr>\n",
              "  </thead>\n",
              "  <tbody>\n",
              "    <tr>\n",
              "      <th>0</th>\n",
              "      <td>0</td>\n",
              "      <td>House Dem Aide: We Didn’t Even See Comey’s Let...</td>\n",
              "      <td>Darrell Lucus</td>\n",
              "      <td>House Dem Aide: We Didn’t Even See Comey’s Let...</td>\n",
              "      <td>1</td>\n",
              "    </tr>\n",
              "    <tr>\n",
              "      <th>1</th>\n",
              "      <td>1</td>\n",
              "      <td>FLYNN: Hillary Clinton, Big Woman on Campus - ...</td>\n",
              "      <td>Daniel J. Flynn</td>\n",
              "      <td>Ever get the feeling your life circles the rou...</td>\n",
              "      <td>0</td>\n",
              "    </tr>\n",
              "    <tr>\n",
              "      <th>2</th>\n",
              "      <td>2</td>\n",
              "      <td>Why the Truth Might Get You Fired</td>\n",
              "      <td>Consortiumnews.com</td>\n",
              "      <td>Why the Truth Might Get You Fired October 29, ...</td>\n",
              "      <td>1</td>\n",
              "    </tr>\n",
              "    <tr>\n",
              "      <th>3</th>\n",
              "      <td>3</td>\n",
              "      <td>15 Civilians Killed In Single US Airstrike Hav...</td>\n",
              "      <td>Jessica Purkiss</td>\n",
              "      <td>Videos 15 Civilians Killed In Single US Airstr...</td>\n",
              "      <td>1</td>\n",
              "    </tr>\n",
              "    <tr>\n",
              "      <th>4</th>\n",
              "      <td>4</td>\n",
              "      <td>Iranian woman jailed for fictional unpublished...</td>\n",
              "      <td>Howard Portnoy</td>\n",
              "      <td>Print \\nAn Iranian woman has been sentenced to...</td>\n",
              "      <td>1</td>\n",
              "    </tr>\n",
              "  </tbody>\n",
              "</table>\n",
              "</div>"
            ],
            "text/plain": [
              "   id  ... label\n",
              "0   0  ...     1\n",
              "1   1  ...     0\n",
              "2   2  ...     1\n",
              "3   3  ...     1\n",
              "4   4  ...     1\n",
              "\n",
              "[5 rows x 5 columns]"
            ]
          },
          "metadata": {
            "tags": []
          },
          "execution_count": 99
        }
      ]
    },
    {
      "cell_type": "code",
      "metadata": {
        "colab": {
          "base_uri": "https://localhost:8080/",
          "height": 195
        },
        "id": "jfI89adi0eBZ",
        "outputId": "3f9fb7d0-2a3c-44d3-bcec-adeb5f5622df"
      },
      "source": [
        "test.head()"
      ],
      "execution_count": null,
      "outputs": [
        {
          "output_type": "execute_result",
          "data": {
            "text/html": [
              "<div>\n",
              "<style scoped>\n",
              "    .dataframe tbody tr th:only-of-type {\n",
              "        vertical-align: middle;\n",
              "    }\n",
              "\n",
              "    .dataframe tbody tr th {\n",
              "        vertical-align: top;\n",
              "    }\n",
              "\n",
              "    .dataframe thead th {\n",
              "        text-align: right;\n",
              "    }\n",
              "</style>\n",
              "<table border=\"1\" class=\"dataframe\">\n",
              "  <thead>\n",
              "    <tr style=\"text-align: right;\">\n",
              "      <th></th>\n",
              "      <th>id</th>\n",
              "      <th>title</th>\n",
              "      <th>author</th>\n",
              "      <th>text</th>\n",
              "    </tr>\n",
              "  </thead>\n",
              "  <tbody>\n",
              "    <tr>\n",
              "      <th>0</th>\n",
              "      <td>20800</td>\n",
              "      <td>Specter of Trump Loosens Tongues, if Not Purse...</td>\n",
              "      <td>David Streitfeld</td>\n",
              "      <td>PALO ALTO, Calif.  —   After years of scorning...</td>\n",
              "    </tr>\n",
              "    <tr>\n",
              "      <th>1</th>\n",
              "      <td>20801</td>\n",
              "      <td>Russian warships ready to strike terrorists ne...</td>\n",
              "      <td>NaN</td>\n",
              "      <td>Russian warships ready to strike terrorists ne...</td>\n",
              "    </tr>\n",
              "    <tr>\n",
              "      <th>2</th>\n",
              "      <td>20802</td>\n",
              "      <td>#NoDAPL: Native American Leaders Vow to Stay A...</td>\n",
              "      <td>Common Dreams</td>\n",
              "      <td>Videos #NoDAPL: Native American Leaders Vow to...</td>\n",
              "    </tr>\n",
              "    <tr>\n",
              "      <th>3</th>\n",
              "      <td>20803</td>\n",
              "      <td>Tim Tebow Will Attempt Another Comeback, This ...</td>\n",
              "      <td>Daniel Victor</td>\n",
              "      <td>If at first you don’t succeed, try a different...</td>\n",
              "    </tr>\n",
              "    <tr>\n",
              "      <th>4</th>\n",
              "      <td>20804</td>\n",
              "      <td>Keiser Report: Meme Wars (E995)</td>\n",
              "      <td>Truth Broadcast Network</td>\n",
              "      <td>42 mins ago 1 Views 0 Comments 0 Likes 'For th...</td>\n",
              "    </tr>\n",
              "  </tbody>\n",
              "</table>\n",
              "</div>"
            ],
            "text/plain": [
              "      id  ...                                               text\n",
              "0  20800  ...  PALO ALTO, Calif.  —   After years of scorning...\n",
              "1  20801  ...  Russian warships ready to strike terrorists ne...\n",
              "2  20802  ...  Videos #NoDAPL: Native American Leaders Vow to...\n",
              "3  20803  ...  If at first you don’t succeed, try a different...\n",
              "4  20804  ...  42 mins ago 1 Views 0 Comments 0 Likes 'For th...\n",
              "\n",
              "[5 rows x 4 columns]"
            ]
          },
          "metadata": {
            "tags": []
          },
          "execution_count": 100
        }
      ]
    },
    {
      "cell_type": "code",
      "metadata": {
        "colab": {
          "base_uri": "https://localhost:8080/"
        },
        "id": "XHef8EaZ0fUV",
        "outputId": "45a713b8-27e6-471d-9f38-4d72b9e17626"
      },
      "source": [
        "train.info()"
      ],
      "execution_count": null,
      "outputs": [
        {
          "output_type": "stream",
          "text": [
            "<class 'pandas.core.frame.DataFrame'>\n",
            "RangeIndex: 20800 entries, 0 to 20799\n",
            "Data columns (total 5 columns):\n",
            " #   Column  Non-Null Count  Dtype \n",
            "---  ------  --------------  ----- \n",
            " 0   id      20800 non-null  int64 \n",
            " 1   title   20242 non-null  object\n",
            " 2   author  18843 non-null  object\n",
            " 3   text    20761 non-null  object\n",
            " 4   label   20800 non-null  int64 \n",
            "dtypes: int64(2), object(3)\n",
            "memory usage: 812.6+ KB\n"
          ],
          "name": "stdout"
        }
      ]
    },
    {
      "cell_type": "code",
      "metadata": {
        "colab": {
          "base_uri": "https://localhost:8080/"
        },
        "id": "QepvfxHYuvV4",
        "outputId": "e19ae48e-876a-49be-824b-1adc0e4c4838"
      },
      "source": [
        "test.info()"
      ],
      "execution_count": null,
      "outputs": [
        {
          "output_type": "stream",
          "text": [
            "<class 'pandas.core.frame.DataFrame'>\n",
            "RangeIndex: 5200 entries, 0 to 5199\n",
            "Data columns (total 4 columns):\n",
            " #   Column  Non-Null Count  Dtype \n",
            "---  ------  --------------  ----- \n",
            " 0   id      5200 non-null   int64 \n",
            " 1   title   5078 non-null   object\n",
            " 2   author  4697 non-null   object\n",
            " 3   text    5193 non-null   object\n",
            "dtypes: int64(1), object(3)\n",
            "memory usage: 162.6+ KB\n"
          ],
          "name": "stdout"
        }
      ]
    },
    {
      "cell_type": "code",
      "metadata": {
        "id": "NRRk353C0onb"
      },
      "source": [
        "train.fillna(' ', inplace = True)\n",
        "test.fillna(' ', inplace = True)\n",
        "\n",
        "## All the null values were filled with spaces."
      ],
      "execution_count": null,
      "outputs": []
    },
    {
      "cell_type": "code",
      "metadata": {
        "colab": {
          "base_uri": "https://localhost:8080/",
          "height": 486
        },
        "id": "VMeFOqpy0wwf",
        "outputId": "8d0b7de7-18e3-4cda-dad6-8a8f4a9360e6"
      },
      "source": [
        "train_new = pd.DataFrame({'Author' : train[train['label'] == 1]['author'].value_counts().head(20).index, 'Quantities' : train[train['label'] == 1]['author'].value_counts().head(20)})\n",
        "unreliable_plot = train_new.plot(kind = 'bar', x = 'Author', y = 'Quantities')\n",
        "unreliable_plot"
      ],
      "execution_count": null,
      "outputs": [
        {
          "output_type": "execute_result",
          "data": {
            "text/plain": [
              "<matplotlib.axes._subplots.AxesSubplot at 0x7f5eb3521a50>"
            ]
          },
          "metadata": {
            "tags": []
          },
          "execution_count": 104
        },
        {
          "output_type": "display_data",
          "data": {
            "image/png": "[encoded data removed]",
            "text/plain": [
              "<Figure size 432x288 with 1 Axes>"
            ]
          },
          "metadata": {
            "tags": [],
            "needs_background": "light"
          }
        }
      ]
    },
    {
      "cell_type": "code",
      "metadata": {
        "colab": {
          "base_uri": "https://localhost:8080/",
          "height": 388
        },
        "id": "tPUZmP_n1trr",
        "outputId": "78af0f1e-46f1-4293-9d99-56f594313fc5"
      },
      "source": [
        "train_new_reliable = pd.DataFrame({'Author' : train[train['label'] == 0]['author'].value_counts().head(20).index, 'Quantities' : train[train['label'] == 0]['author'].value_counts().head(20)})\n",
        "reliable_plot = train_new_reliable.plot(kind = 'bar', x = 'Author', y = 'Quantities')\n",
        "reliable_plot"
      ],
      "execution_count": null,
      "outputs": [
        {
          "output_type": "execute_result",
          "data": {
            "text/plain": [
              "<matplotlib.axes._subplots.AxesSubplot at 0x7f5eb370ecd0>"
            ]
          },
          "metadata": {
            "tags": []
          },
          "execution_count": 105
        },
        {
          "output_type": "display_data",
          "data": {
            "image/png": "[encoded data removed]",
            "text/plain": [
              "<Figure size 432x288 with 1 Axes>"
            ]
          },
          "metadata": {
            "tags": [],
            "needs_background": "light"
          }
        }
      ]
    },
    {
      "cell_type": "code",
      "metadata": {
        "id": "J3E7eCmO2AJ6"
      },
      "source": [
        "unreliable_count = len(train[train['label'] == 1])\n",
        "reliable_count = len(train[train['label'] == 0])"
      ],
      "execution_count": null,
      "outputs": []
    },
    {
      "cell_type": "code",
      "metadata": {
        "colab": {
          "base_uri": "https://localhost:8080/",
          "height": 248
        },
        "id": "M-wun4Im2OyS",
        "outputId": "7d1fcc91-0dd7-40b7-c8ee-e5fc22c19ddc"
      },
      "source": [
        "x = np.array([unreliable_count, reliable_count])\n",
        "mylabels = ['Unreliable', 'Reliable']\n",
        "plt.pie(x, labels = mylabels, autopct = '%.3f')\n",
        "plt.show()"
      ],
      "execution_count": null,
      "outputs": [
        {
          "output_type": "display_data",
          "data": {
            "image/png": "[encoded data removed]",
            "text/plain": [
              "<Figure size 432x288 with 1 Axes>"
            ]
          },
          "metadata": {
            "tags": []
          }
        }
      ]
    },
    {
      "cell_type": "code",
      "metadata": {
        "id": "6BPVh-ldbbWW"
      },
      "source": [
        "train['total'] = train['title'] + train['author']\n",
        "test['total'] = test['title'] + test['author']"
      ],
      "execution_count": null,
      "outputs": []
    },
    {
      "cell_type": "code",
      "metadata": {
        "id": "X1NRr1IH3R7e"
      },
      "source": [
        "stemmer = PorterStemmer()\n",
        "\n",
        "def porterstemmer(text):\n",
        "    review = re.sub('[^a-zA-Z]', ' ', text)\n",
        "    review = review.lower()\n",
        "    review = review.split()\n",
        "    review = [stemmer.stem(words) for words in review if words not in stopwords.words('english') and words.isalpha()]\n",
        "    review = ' '.join(review)\n",
        "    return review\n",
        "\n",
        "\n",
        "## This helps us to remove the stopwords and also to trim the important words and this is the first data preprocessing step."
      ],
      "execution_count": null,
      "outputs": []
    },
    {
      "cell_type": "code",
      "metadata": {
        "id": "fGEfenchctT8"
      },
      "source": [
        "train['clean_total'] = train['total'].apply(porterstemmer)\n",
        "test['clean_total'] = test['total'].apply(porterstemmer)"
      ],
      "execution_count": null,
      "outputs": []
    },
    {
      "cell_type": "code",
      "metadata": {
        "id": "wFF4Hek2ToDc"
      },
      "source": [
        "df_train = train[['title', 'label']]"
      ],
      "execution_count": null,
      "outputs": []
    },
    {
      "cell_type": "code",
      "metadata": {
        "id": "wjZF5eJjXbq7"
      },
      "source": [
        "unreliable_title = df_train[df_train['label'] == 1]['title']\n",
        "reliable_title = df_train[df_train['label'] == 0]['title']"
      ],
      "execution_count": null,
      "outputs": []
    },
    {
      "cell_type": "code",
      "metadata": {
        "id": "WeFa4qBSYOlp"
      },
      "source": [
        "common_words_reliable = pd.Series(' '.join([str(i) for i in reliable_title]).split()).value_counts().head(30).index\n",
        "common_words_unreliable = pd.Series(' '.join([str(i) for i in unreliable_title]).split()).value_counts().head(30).index"
      ],
      "execution_count": null,
      "outputs": []
    },
    {
      "cell_type": "code",
      "metadata": {
        "id": "YQ5tA27RZG9w"
      },
      "source": [
        "common_words = set(common_words_reliable).intersection(common_words_unreliable)"
      ],
      "execution_count": null,
      "outputs": []
    },
    {
      "cell_type": "code",
      "metadata": {
        "id": "bLWy9YC7ZcqU"
      },
      "source": [
        "def text_cleaning(data):\n",
        "  review = [i for i in data.split() if i not in common_words]\n",
        "  return review\n",
        "\n",
        "## All the common words in the first 30 entries were removed from the data."
      ],
      "execution_count": null,
      "outputs": []
    },
    {
      "cell_type": "code",
      "metadata": {
        "id": "BFj-YJU8aEtC"
      },
      "source": [
        "train['new_total'] = train['clean_total'].apply(text_cleaning)\n",
        "test['new_total'] = test['clean_total'].apply(text_cleaning)"
      ],
      "execution_count": null,
      "outputs": []
    },
    {
      "cell_type": "code",
      "metadata": {
        "colab": {
          "base_uri": "https://localhost:8080/"
        },
        "id": "AR93gLYkaKnn",
        "outputId": "10ed1413-bd6e-45c3-f76e-14528baf8a14"
      },
      "source": [
        "np.max(train['new_total'].apply(lambda x : len(x)))"
      ],
      "execution_count": null,
      "outputs": [
        {
          "output_type": "execute_result",
          "data": {
            "text/plain": [
              "50"
            ]
          },
          "metadata": {
            "tags": []
          },
          "execution_count": 17
        }
      ]
    },
    {
      "cell_type": "code",
      "metadata": {
        "id": "8-94D_c9gGfA"
      },
      "source": [
        "train = train.drop(columns = ['text', 'id'])\n",
        "test = test.drop(columns = ['text', 'id'])\n",
        "\n",
        "\n",
        "## Unnecessary columns were removed."
      ],
      "execution_count": null,
      "outputs": []
    },
    {
      "cell_type": "code",
      "metadata": {
        "id": "d7F19GeoLpHv"
      },
      "source": [
        "## Function to do produce a tf-idf frequency matrix\n",
        "corpus_vectorizer = TfidfVectorizer(norm = None)\n",
        "\n",
        "def tf_idf_matrix(corp):\n",
        "  tf_idf_scores = corpus_vectorizer.fit_transform(corp)\n",
        "  feature_names = corpus_vectorizer.get_feature_names()\n",
        "  df = pd.DataFrame(tf_idf_scores.T.todense(), index = feature_names, columns = [i for i in range(1, len(corp)+1)])\n",
        "  return df"
      ],
      "execution_count": null,
      "outputs": []
    },
    {
      "cell_type": "code",
      "metadata": {
        "id": "N137pZWLNRkD"
      },
      "source": [
        "document = train['clean_total']\n",
        "df = tf_idf_matrix(document)"
      ],
      "execution_count": null,
      "outputs": []
    },
    {
      "cell_type": "code",
      "metadata": {
        "id": "bfEAxzo5LMve"
      },
      "source": [
        "lst = []\n",
        "for k in range(1, 20801): \n",
        "  x = df[k].where(df[k].values > 0.0)\n",
        "  x.fillna(0.0, inplace = True)\n",
        "  y = []\n",
        "  for i in x:\n",
        "    if i > 0.0:\n",
        "      y.append(i)\n",
        "\n",
        "  lst.append(y)\n",
        "\n",
        "\n",
        "## From the sparse tf-idf matrix only the values that were not 0 were taken."
      ],
      "execution_count": null,
      "outputs": []
    },
    {
      "cell_type": "code",
      "metadata": {
        "id": "xGkzRrP0khI8",
        "colab": {
          "base_uri": "https://localhost:8080/",
          "height": 422
        },
        "outputId": "63759c6e-d6c1-4ce1-e943-d4984bb9296f"
      },
      "source": [
        "main_df = pd.DataFrame(lst, columns = [i for i in range(1,47)])\n",
        "main_df.fillna(0.0, inplace = True)\n",
        "main_df\n",
        "\n",
        "## And the main dataframe was formed from those values and even though this matrix is sparse it is almost 500 times smaller than the size of the previous one."
      ],
      "execution_count": null,
      "outputs": [
        {
          "output_type": "execute_result",
          "data": {
            "text/html": [
              "<div>\n",
              "<style scoped>\n",
              "    .dataframe tbody tr th:only-of-type {\n",
              "        vertical-align: middle;\n",
              "    }\n",
              "\n",
              "    .dataframe tbody tr th {\n",
              "        vertical-align: top;\n",
              "    }\n",
              "\n",
              "    .dataframe thead th {\n",
              "        text-align: right;\n",
              "    }\n",
              "</style>\n",
              "<table border=\"1\" class=\"dataframe\">\n",
              "  <thead>\n",
              "    <tr style=\"text-align: right;\">\n",
              "      <th></th>\n",
              "      <th>1</th>\n",
              "      <th>2</th>\n",
              "      <th>3</th>\n",
              "      <th>4</th>\n",
              "      <th>5</th>\n",
              "      <th>6</th>\n",
              "      <th>7</th>\n",
              "      <th>8</th>\n",
              "      <th>9</th>\n",
              "      <th>10</th>\n",
              "      <th>11</th>\n",
              "      <th>12</th>\n",
              "      <th>13</th>\n",
              "      <th>14</th>\n",
              "      <th>15</th>\n",
              "      <th>16</th>\n",
              "      <th>17</th>\n",
              "      <th>18</th>\n",
              "      <th>19</th>\n",
              "      <th>20</th>\n",
              "      <th>21</th>\n",
              "      <th>22</th>\n",
              "      <th>23</th>\n",
              "      <th>24</th>\n",
              "      <th>25</th>\n",
              "      <th>26</th>\n",
              "      <th>27</th>\n",
              "      <th>28</th>\n",
              "      <th>29</th>\n",
              "      <th>30</th>\n",
              "      <th>31</th>\n",
              "      <th>32</th>\n",
              "      <th>33</th>\n",
              "      <th>34</th>\n",
              "      <th>35</th>\n",
              "      <th>36</th>\n",
              "      <th>37</th>\n",
              "      <th>38</th>\n",
              "      <th>39</th>\n",
              "      <th>40</th>\n",
              "      <th>41</th>\n",
              "      <th>42</th>\n",
              "      <th>43</th>\n",
              "      <th>44</th>\n",
              "      <th>45</th>\n",
              "      <th>46</th>\n",
              "    </tr>\n",
              "  </thead>\n",
              "  <tbody>\n",
              "    <tr>\n",
              "      <th>0</th>\n",
              "      <td>6.368045</td>\n",
              "      <td>8.640171</td>\n",
              "      <td>5.849006</td>\n",
              "      <td>6.357789</td>\n",
              "      <td>5.487435</td>\n",
              "      <td>5.174435</td>\n",
              "      <td>10.249609</td>\n",
              "      <td>7.723881</td>\n",
              "      <td>6.899705</td>\n",
              "      <td>8.544861</td>\n",
              "      <td>6.044917</td>\n",
              "      <td>6.783873</td>\n",
              "      <td>0.000000</td>\n",
              "      <td>0.000000</td>\n",
              "      <td>0.00000</td>\n",
              "      <td>0.0</td>\n",
              "      <td>0.0</td>\n",
              "      <td>0.0</td>\n",
              "      <td>0.0</td>\n",
              "      <td>0.0</td>\n",
              "      <td>0.0</td>\n",
              "      <td>0.0</td>\n",
              "      <td>0.0</td>\n",
              "      <td>0.0</td>\n",
              "      <td>0.0</td>\n",
              "      <td>0.0</td>\n",
              "      <td>0.0</td>\n",
              "      <td>0.0</td>\n",
              "      <td>0.0</td>\n",
              "      <td>0.0</td>\n",
              "      <td>0.0</td>\n",
              "      <td>0.0</td>\n",
              "      <td>0.0</td>\n",
              "      <td>0.0</td>\n",
              "      <td>0.0</td>\n",
              "      <td>0.0</td>\n",
              "      <td>0.0</td>\n",
              "      <td>0.0</td>\n",
              "      <td>0.0</td>\n",
              "      <td>0.0</td>\n",
              "      <td>0.0</td>\n",
              "      <td>0.0</td>\n",
              "      <td>0.0</td>\n",
              "      <td>0.0</td>\n",
              "      <td>0.0</td>\n",
              "      <td>0.0</td>\n",
              "    </tr>\n",
              "    <tr>\n",
              "      <th>1</th>\n",
              "      <td>5.880161</td>\n",
              "      <td>7.387408</td>\n",
              "      <td>7.646919</td>\n",
              "      <td>3.844381</td>\n",
              "      <td>14.272188</td>\n",
              "      <td>3.842729</td>\n",
              "      <td>6.030101</td>\n",
              "      <td>0.000000</td>\n",
              "      <td>0.000000</td>\n",
              "      <td>0.000000</td>\n",
              "      <td>0.000000</td>\n",
              "      <td>0.000000</td>\n",
              "      <td>0.000000</td>\n",
              "      <td>0.000000</td>\n",
              "      <td>0.00000</td>\n",
              "      <td>0.0</td>\n",
              "      <td>0.0</td>\n",
              "      <td>0.0</td>\n",
              "      <td>0.0</td>\n",
              "      <td>0.0</td>\n",
              "      <td>0.0</td>\n",
              "      <td>0.0</td>\n",
              "      <td>0.0</td>\n",
              "      <td>0.0</td>\n",
              "      <td>0.0</td>\n",
              "      <td>0.0</td>\n",
              "      <td>0.0</td>\n",
              "      <td>0.0</td>\n",
              "      <td>0.0</td>\n",
              "      <td>0.0</td>\n",
              "      <td>0.0</td>\n",
              "      <td>0.0</td>\n",
              "      <td>0.0</td>\n",
              "      <td>0.0</td>\n",
              "      <td>0.0</td>\n",
              "      <td>0.0</td>\n",
              "      <td>0.0</td>\n",
              "      <td>0.0</td>\n",
              "      <td>0.0</td>\n",
              "      <td>0.0</td>\n",
              "      <td>0.0</td>\n",
              "      <td>0.0</td>\n",
              "      <td>0.0</td>\n",
              "      <td>0.0</td>\n",
              "      <td>0.0</td>\n",
              "      <td>0.0</td>\n",
              "    </tr>\n",
              "    <tr>\n",
              "      <th>2</th>\n",
              "      <td>4.758607</td>\n",
              "      <td>10.249609</td>\n",
              "      <td>5.165104</td>\n",
              "      <td>7.331838</td>\n",
              "      <td>6.548307</td>\n",
              "      <td>0.000000</td>\n",
              "      <td>0.000000</td>\n",
              "      <td>0.000000</td>\n",
              "      <td>0.000000</td>\n",
              "      <td>0.000000</td>\n",
              "      <td>0.000000</td>\n",
              "      <td>0.000000</td>\n",
              "      <td>0.000000</td>\n",
              "      <td>0.000000</td>\n",
              "      <td>0.00000</td>\n",
              "      <td>0.0</td>\n",
              "      <td>0.0</td>\n",
              "      <td>0.0</td>\n",
              "      <td>0.0</td>\n",
              "      <td>0.0</td>\n",
              "      <td>0.0</td>\n",
              "      <td>0.0</td>\n",
              "      <td>0.0</td>\n",
              "      <td>0.0</td>\n",
              "      <td>0.0</td>\n",
              "      <td>0.0</td>\n",
              "      <td>0.0</td>\n",
              "      <td>0.0</td>\n",
              "      <td>0.0</td>\n",
              "      <td>0.0</td>\n",
              "      <td>0.0</td>\n",
              "      <td>0.0</td>\n",
              "      <td>0.0</td>\n",
              "      <td>0.0</td>\n",
              "      <td>0.0</td>\n",
              "      <td>0.0</td>\n",
              "      <td>0.0</td>\n",
              "      <td>0.0</td>\n",
              "      <td>0.0</td>\n",
              "      <td>0.0</td>\n",
              "      <td>0.0</td>\n",
              "      <td>0.0</td>\n",
              "      <td>0.0</td>\n",
              "      <td>0.0</td>\n",
              "      <td>0.0</td>\n",
              "      <td>0.0</td>\n",
              "    </tr>\n",
              "    <tr>\n",
              "      <th>3</th>\n",
              "      <td>7.359237</td>\n",
              "      <td>7.010931</td>\n",
              "      <td>10.249609</td>\n",
              "      <td>5.187014</td>\n",
              "      <td>10.249609</td>\n",
              "      <td>7.575461</td>\n",
              "      <td>4.835733</td>\n",
              "      <td>0.000000</td>\n",
              "      <td>0.000000</td>\n",
              "      <td>0.000000</td>\n",
              "      <td>0.000000</td>\n",
              "      <td>0.000000</td>\n",
              "      <td>0.000000</td>\n",
              "      <td>0.000000</td>\n",
              "      <td>0.00000</td>\n",
              "      <td>0.0</td>\n",
              "      <td>0.0</td>\n",
              "      <td>0.0</td>\n",
              "      <td>0.0</td>\n",
              "      <td>0.0</td>\n",
              "      <td>0.0</td>\n",
              "      <td>0.0</td>\n",
              "      <td>0.0</td>\n",
              "      <td>0.0</td>\n",
              "      <td>0.0</td>\n",
              "      <td>0.0</td>\n",
              "      <td>0.0</td>\n",
              "      <td>0.0</td>\n",
              "      <td>0.0</td>\n",
              "      <td>0.0</td>\n",
              "      <td>0.0</td>\n",
              "      <td>0.0</td>\n",
              "      <td>0.0</td>\n",
              "      <td>0.0</td>\n",
              "      <td>0.0</td>\n",
              "      <td>0.0</td>\n",
              "      <td>0.0</td>\n",
              "      <td>0.0</td>\n",
              "      <td>0.0</td>\n",
              "      <td>0.0</td>\n",
              "      <td>0.0</td>\n",
              "      <td>0.0</td>\n",
              "      <td>0.0</td>\n",
              "      <td>0.0</td>\n",
              "      <td>0.0</td>\n",
              "      <td>0.0</td>\n",
              "    </tr>\n",
              "    <tr>\n",
              "      <th>4</th>\n",
              "      <td>10.249609</td>\n",
              "      <td>6.037482</td>\n",
              "      <td>8.996846</td>\n",
              "      <td>7.723881</td>\n",
              "      <td>7.092609</td>\n",
              "      <td>7.136094</td>\n",
              "      <td>7.998317</td>\n",
              "      <td>6.476848</td>\n",
              "      <td>10.249609</td>\n",
              "      <td>12.060203</td>\n",
              "      <td>0.000000</td>\n",
              "      <td>0.000000</td>\n",
              "      <td>0.000000</td>\n",
              "      <td>0.000000</td>\n",
              "      <td>0.00000</td>\n",
              "      <td>0.0</td>\n",
              "      <td>0.0</td>\n",
              "      <td>0.0</td>\n",
              "      <td>0.0</td>\n",
              "      <td>0.0</td>\n",
              "      <td>0.0</td>\n",
              "      <td>0.0</td>\n",
              "      <td>0.0</td>\n",
              "      <td>0.0</td>\n",
              "      <td>0.0</td>\n",
              "      <td>0.0</td>\n",
              "      <td>0.0</td>\n",
              "      <td>0.0</td>\n",
              "      <td>0.0</td>\n",
              "      <td>0.0</td>\n",
              "      <td>0.0</td>\n",
              "      <td>0.0</td>\n",
              "      <td>0.0</td>\n",
              "      <td>0.0</td>\n",
              "      <td>0.0</td>\n",
              "      <td>0.0</td>\n",
              "      <td>0.0</td>\n",
              "      <td>0.0</td>\n",
              "      <td>0.0</td>\n",
              "      <td>0.0</td>\n",
              "      <td>0.0</td>\n",
              "      <td>0.0</td>\n",
              "      <td>0.0</td>\n",
              "      <td>0.0</td>\n",
              "      <td>0.0</td>\n",
              "      <td>0.0</td>\n",
              "    </tr>\n",
              "    <tr>\n",
              "      <th>...</th>\n",
              "      <td>...</td>\n",
              "      <td>...</td>\n",
              "      <td>...</td>\n",
              "      <td>...</td>\n",
              "      <td>...</td>\n",
              "      <td>...</td>\n",
              "      <td>...</td>\n",
              "      <td>...</td>\n",
              "      <td>...</td>\n",
              "      <td>...</td>\n",
              "      <td>...</td>\n",
              "      <td>...</td>\n",
              "      <td>...</td>\n",
              "      <td>...</td>\n",
              "      <td>...</td>\n",
              "      <td>...</td>\n",
              "      <td>...</td>\n",
              "      <td>...</td>\n",
              "      <td>...</td>\n",
              "      <td>...</td>\n",
              "      <td>...</td>\n",
              "      <td>...</td>\n",
              "      <td>...</td>\n",
              "      <td>...</td>\n",
              "      <td>...</td>\n",
              "      <td>...</td>\n",
              "      <td>...</td>\n",
              "      <td>...</td>\n",
              "      <td>...</td>\n",
              "      <td>...</td>\n",
              "      <td>...</td>\n",
              "      <td>...</td>\n",
              "      <td>...</td>\n",
              "      <td>...</td>\n",
              "      <td>...</td>\n",
              "      <td>...</td>\n",
              "      <td>...</td>\n",
              "      <td>...</td>\n",
              "      <td>...</td>\n",
              "      <td>...</td>\n",
              "      <td>...</td>\n",
              "      <td>...</td>\n",
              "      <td>...</td>\n",
              "      <td>...</td>\n",
              "      <td>...</td>\n",
              "      <td>...</td>\n",
              "    </tr>\n",
              "    <tr>\n",
              "      <th>20795</th>\n",
              "      <td>6.399462</td>\n",
              "      <td>5.760973</td>\n",
              "      <td>7.071555</td>\n",
              "      <td>8.377807</td>\n",
              "      <td>8.303699</td>\n",
              "      <td>9.333318</td>\n",
              "      <td>2.769181</td>\n",
              "      <td>5.190184</td>\n",
              "      <td>0.000000</td>\n",
              "      <td>0.000000</td>\n",
              "      <td>0.000000</td>\n",
              "      <td>0.000000</td>\n",
              "      <td>0.000000</td>\n",
              "      <td>0.000000</td>\n",
              "      <td>0.00000</td>\n",
              "      <td>0.0</td>\n",
              "      <td>0.0</td>\n",
              "      <td>0.0</td>\n",
              "      <td>0.0</td>\n",
              "      <td>0.0</td>\n",
              "      <td>0.0</td>\n",
              "      <td>0.0</td>\n",
              "      <td>0.0</td>\n",
              "      <td>0.0</td>\n",
              "      <td>0.0</td>\n",
              "      <td>0.0</td>\n",
              "      <td>0.0</td>\n",
              "      <td>0.0</td>\n",
              "      <td>0.0</td>\n",
              "      <td>0.0</td>\n",
              "      <td>0.0</td>\n",
              "      <td>0.0</td>\n",
              "      <td>0.0</td>\n",
              "      <td>0.0</td>\n",
              "      <td>0.0</td>\n",
              "      <td>0.0</td>\n",
              "      <td>0.0</td>\n",
              "      <td>0.0</td>\n",
              "      <td>0.0</td>\n",
              "      <td>0.0</td>\n",
              "      <td>0.0</td>\n",
              "      <td>0.0</td>\n",
              "      <td>0.0</td>\n",
              "      <td>0.0</td>\n",
              "      <td>0.0</td>\n",
              "      <td>0.0</td>\n",
              "    </tr>\n",
              "    <tr>\n",
              "      <th>20796</th>\n",
              "      <td>7.947024</td>\n",
              "      <td>9.556462</td>\n",
              "      <td>2.124274</td>\n",
              "      <td>8.745532</td>\n",
              "      <td>8.745532</td>\n",
              "      <td>8.544861</td>\n",
              "      <td>7.508769</td>\n",
              "      <td>2.197950</td>\n",
              "      <td>0.000000</td>\n",
              "      <td>0.000000</td>\n",
              "      <td>0.000000</td>\n",
              "      <td>0.000000</td>\n",
              "      <td>0.000000</td>\n",
              "      <td>0.000000</td>\n",
              "      <td>0.00000</td>\n",
              "      <td>0.0</td>\n",
              "      <td>0.0</td>\n",
              "      <td>0.0</td>\n",
              "      <td>0.0</td>\n",
              "      <td>0.0</td>\n",
              "      <td>0.0</td>\n",
              "      <td>0.0</td>\n",
              "      <td>0.0</td>\n",
              "      <td>0.0</td>\n",
              "      <td>0.0</td>\n",
              "      <td>0.0</td>\n",
              "      <td>0.0</td>\n",
              "      <td>0.0</td>\n",
              "      <td>0.0</td>\n",
              "      <td>0.0</td>\n",
              "      <td>0.0</td>\n",
              "      <td>0.0</td>\n",
              "      <td>0.0</td>\n",
              "      <td>0.0</td>\n",
              "      <td>0.0</td>\n",
              "      <td>0.0</td>\n",
              "      <td>0.0</td>\n",
              "      <td>0.0</td>\n",
              "      <td>0.0</td>\n",
              "      <td>0.0</td>\n",
              "      <td>0.0</td>\n",
              "      <td>0.0</td>\n",
              "      <td>0.0</td>\n",
              "      <td>0.0</td>\n",
              "      <td>0.0</td>\n",
              "      <td>0.0</td>\n",
              "    </tr>\n",
              "    <tr>\n",
              "      <th>20797</th>\n",
              "      <td>7.851714</td>\n",
              "      <td>8.109543</td>\n",
              "      <td>8.863315</td>\n",
              "      <td>5.595649</td>\n",
              "      <td>5.760973</td>\n",
              "      <td>5.899331</td>\n",
              "      <td>9.556462</td>\n",
              "      <td>7.807262</td>\n",
              "      <td>2.124274</td>\n",
              "      <td>6.972464</td>\n",
              "      <td>7.205087</td>\n",
              "      <td>6.560730</td>\n",
              "      <td>8.544861</td>\n",
              "      <td>5.297309</td>\n",
              "      <td>2.19795</td>\n",
              "      <td>0.0</td>\n",
              "      <td>0.0</td>\n",
              "      <td>0.0</td>\n",
              "      <td>0.0</td>\n",
              "      <td>0.0</td>\n",
              "      <td>0.0</td>\n",
              "      <td>0.0</td>\n",
              "      <td>0.0</td>\n",
              "      <td>0.0</td>\n",
              "      <td>0.0</td>\n",
              "      <td>0.0</td>\n",
              "      <td>0.0</td>\n",
              "      <td>0.0</td>\n",
              "      <td>0.0</td>\n",
              "      <td>0.0</td>\n",
              "      <td>0.0</td>\n",
              "      <td>0.0</td>\n",
              "      <td>0.0</td>\n",
              "      <td>0.0</td>\n",
              "      <td>0.0</td>\n",
              "      <td>0.0</td>\n",
              "      <td>0.0</td>\n",
              "      <td>0.0</td>\n",
              "      <td>0.0</td>\n",
              "      <td>0.0</td>\n",
              "      <td>0.0</td>\n",
              "      <td>0.0</td>\n",
              "      <td>0.0</td>\n",
              "      <td>0.0</td>\n",
              "      <td>0.0</td>\n",
              "      <td>0.0</td>\n",
              "    </tr>\n",
              "    <tr>\n",
              "      <th>20798</th>\n",
              "      <td>6.511940</td>\n",
              "      <td>10.249609</td>\n",
              "      <td>8.544861</td>\n",
              "      <td>6.799622</td>\n",
              "      <td>6.723249</td>\n",
              "      <td>9.333318</td>\n",
              "      <td>4.750394</td>\n",
              "      <td>0.000000</td>\n",
              "      <td>0.000000</td>\n",
              "      <td>0.000000</td>\n",
              "      <td>0.000000</td>\n",
              "      <td>0.000000</td>\n",
              "      <td>0.000000</td>\n",
              "      <td>0.000000</td>\n",
              "      <td>0.00000</td>\n",
              "      <td>0.0</td>\n",
              "      <td>0.0</td>\n",
              "      <td>0.0</td>\n",
              "      <td>0.0</td>\n",
              "      <td>0.0</td>\n",
              "      <td>0.0</td>\n",
              "      <td>0.0</td>\n",
              "      <td>0.0</td>\n",
              "      <td>0.0</td>\n",
              "      <td>0.0</td>\n",
              "      <td>0.0</td>\n",
              "      <td>0.0</td>\n",
              "      <td>0.0</td>\n",
              "      <td>0.0</td>\n",
              "      <td>0.0</td>\n",
              "      <td>0.0</td>\n",
              "      <td>0.0</td>\n",
              "      <td>0.0</td>\n",
              "      <td>0.0</td>\n",
              "      <td>0.0</td>\n",
              "      <td>0.0</td>\n",
              "      <td>0.0</td>\n",
              "      <td>0.0</td>\n",
              "      <td>0.0</td>\n",
              "      <td>0.0</td>\n",
              "      <td>0.0</td>\n",
              "      <td>0.0</td>\n",
              "      <td>0.0</td>\n",
              "      <td>0.0</td>\n",
              "      <td>0.0</td>\n",
              "      <td>0.0</td>\n",
              "    </tr>\n",
              "    <tr>\n",
              "      <th>20799</th>\n",
              "      <td>10.249609</td>\n",
              "      <td>6.288796</td>\n",
              "      <td>7.764703</td>\n",
              "      <td>0.000000</td>\n",
              "      <td>0.000000</td>\n",
              "      <td>0.000000</td>\n",
              "      <td>0.000000</td>\n",
              "      <td>0.000000</td>\n",
              "      <td>0.000000</td>\n",
              "      <td>0.000000</td>\n",
              "      <td>0.000000</td>\n",
              "      <td>0.000000</td>\n",
              "      <td>0.000000</td>\n",
              "      <td>0.000000</td>\n",
              "      <td>0.00000</td>\n",
              "      <td>0.0</td>\n",
              "      <td>0.0</td>\n",
              "      <td>0.0</td>\n",
              "      <td>0.0</td>\n",
              "      <td>0.0</td>\n",
              "      <td>0.0</td>\n",
              "      <td>0.0</td>\n",
              "      <td>0.0</td>\n",
              "      <td>0.0</td>\n",
              "      <td>0.0</td>\n",
              "      <td>0.0</td>\n",
              "      <td>0.0</td>\n",
              "      <td>0.0</td>\n",
              "      <td>0.0</td>\n",
              "      <td>0.0</td>\n",
              "      <td>0.0</td>\n",
              "      <td>0.0</td>\n",
              "      <td>0.0</td>\n",
              "      <td>0.0</td>\n",
              "      <td>0.0</td>\n",
              "      <td>0.0</td>\n",
              "      <td>0.0</td>\n",
              "      <td>0.0</td>\n",
              "      <td>0.0</td>\n",
              "      <td>0.0</td>\n",
              "      <td>0.0</td>\n",
              "      <td>0.0</td>\n",
              "      <td>0.0</td>\n",
              "      <td>0.0</td>\n",
              "      <td>0.0</td>\n",
              "      <td>0.0</td>\n",
              "    </tr>\n",
              "  </tbody>\n",
              "</table>\n",
              "<p>20800 rows × 46 columns</p>\n",
              "</div>"
            ],
            "text/plain": [
              "              1          2          3         4   ...   43   44   45   46\n",
              "0       6.368045   8.640171   5.849006  6.357789  ...  0.0  0.0  0.0  0.0\n",
              "1       5.880161   7.387408   7.646919  3.844381  ...  0.0  0.0  0.0  0.0\n",
              "2       4.758607  10.249609   5.165104  7.331838  ...  0.0  0.0  0.0  0.0\n",
              "3       7.359237   7.010931  10.249609  5.187014  ...  0.0  0.0  0.0  0.0\n",
              "4      10.249609   6.037482   8.996846  7.723881  ...  0.0  0.0  0.0  0.0\n",
              "...          ...        ...        ...       ...  ...  ...  ...  ...  ...\n",
              "20795   6.399462   5.760973   7.071555  8.377807  ...  0.0  0.0  0.0  0.0\n",
              "20796   7.947024   9.556462   2.124274  8.745532  ...  0.0  0.0  0.0  0.0\n",
              "20797   7.851714   8.109543   8.863315  5.595649  ...  0.0  0.0  0.0  0.0\n",
              "20798   6.511940  10.249609   8.544861  6.799622  ...  0.0  0.0  0.0  0.0\n",
              "20799  10.249609   6.288796   7.764703  0.000000  ...  0.0  0.0  0.0  0.0\n",
              "\n",
              "[20800 rows x 46 columns]"
            ]
          },
          "metadata": {
            "tags": []
          },
          "execution_count": 163
        }
      ]
    },
    {
      "cell_type": "markdown",
      "metadata": {
        "id": "cCFGWJGLuK61"
      },
      "source": [
        "And then the test and training accuracy was tested upon the dataset by using a KNeighborsClassifier, SVMs and Logistic Regression. Then all of them were tried on the test dataset to get the accuracies."
      ]
    },
    {
      "cell_type": "code",
      "metadata": {
        "id": "KQFI-pdOOWvA"
      },
      "source": [
        "X = main_df[0:].to_numpy()\n",
        "y = train.label.to_numpy()\n",
        "\n",
        "X_train, X_test, y_train, y_test = train_test_split(X, y, test_size = 0.2, random_state = 45)"
      ],
      "execution_count": null,
      "outputs": []
    },
    {
      "cell_type": "code",
      "metadata": {
        "id": "Gyaws4ZkPFhE"
      },
      "source": [
        "k_range = range(1, 21)\n",
        "scores_training = []\n",
        "scores_testing = []\n",
        "scores_precision = []\n",
        "for i in k_range:\n",
        "  knn = KNeighborsClassifier(n_neighbors = i)\n",
        "  knn.fit(X_train, y_train)\n",
        "  scores_training.append(knn.score(X_train, y_train))\n",
        "  scores_testing.append(knn.score(X_test, y_test))\n",
        "  scores_precision.append(precision_score(knn.predict(X_test), y_test))\n",
        "\n",
        "\n",
        "## This helps in picking the best value of k in KNeighborsClassifier"
      ],
      "execution_count": null,
      "outputs": []
    },
    {
      "cell_type": "code",
      "metadata": {
        "colab": {
          "base_uri": "https://localhost:8080/",
          "height": 279
        },
        "id": "Ui0oNSc0Rz87",
        "outputId": "712683e5-6ceb-45f7-89f2-495ff959a97f"
      },
      "source": [
        "plt.plot(k_range, scores_training, color = 'r', label = 'Training')\n",
        "plt.plot(k_range, scores_testing, color = 'g', label = 'Testing')\n",
        "plt.plot(k_range, scores_precision, color = 'b', label = 'Precision')\n",
        "plt.xlabel('Accuracy Scores')\n",
        "plt.ylabel('Range')\n",
        "plt.legend(loc = 'upper right')\n",
        "plt.show()"
      ],
      "execution_count": null,
      "outputs": [
        {
          "output_type": "display_data",
          "data": {
            "image/png": "[encoded data removed]",
            "text/plain": [
              "<Figure size 432x288 with 1 Axes>"
            ]
          },
          "metadata": {
            "tags": [],
            "needs_background": "light"
          }
        }
      ]
    },
    {
      "cell_type": "code",
      "metadata": {
        "colab": {
          "base_uri": "https://localhost:8080/",
          "height": 156
        },
        "id": "egjtgerjSHMI",
        "outputId": "ed424d46-ee4f-4571-a5ff-21c81a74cc8a"
      },
      "source": [
        "knn_df = pd.DataFrame([scores_training, scores_testing, scores_precision], index = ['Training', 'Testing', 'Precision'])\n",
        "knn_df"
      ],
      "execution_count": null,
      "outputs": [
        {
          "output_type": "execute_result",
          "data": {
            "text/html": [
              "<div>\n",
              "<style scoped>\n",
              "    .dataframe tbody tr th:only-of-type {\n",
              "        vertical-align: middle;\n",
              "    }\n",
              "\n",
              "    .dataframe tbody tr th {\n",
              "        vertical-align: top;\n",
              "    }\n",
              "\n",
              "    .dataframe thead th {\n",
              "        text-align: right;\n",
              "    }\n",
              "</style>\n",
              "<table border=\"1\" class=\"dataframe\">\n",
              "  <thead>\n",
              "    <tr style=\"text-align: right;\">\n",
              "      <th></th>\n",
              "      <th>0</th>\n",
              "      <th>1</th>\n",
              "      <th>2</th>\n",
              "      <th>3</th>\n",
              "      <th>4</th>\n",
              "      <th>5</th>\n",
              "      <th>6</th>\n",
              "      <th>7</th>\n",
              "      <th>8</th>\n",
              "      <th>9</th>\n",
              "      <th>10</th>\n",
              "      <th>11</th>\n",
              "      <th>12</th>\n",
              "      <th>13</th>\n",
              "      <th>14</th>\n",
              "      <th>15</th>\n",
              "      <th>16</th>\n",
              "      <th>17</th>\n",
              "      <th>18</th>\n",
              "      <th>19</th>\n",
              "    </tr>\n",
              "  </thead>\n",
              "  <tbody>\n",
              "    <tr>\n",
              "      <th>Training</th>\n",
              "      <td>1.000000</td>\n",
              "      <td>0.855829</td>\n",
              "      <td>0.876142</td>\n",
              "      <td>0.828185</td>\n",
              "      <td>0.844050</td>\n",
              "      <td>0.814063</td>\n",
              "      <td>0.825901</td>\n",
              "      <td>0.803726</td>\n",
              "      <td>0.814603</td>\n",
              "      <td>0.800000</td>\n",
              "      <td>0.809135</td>\n",
              "      <td>0.794471</td>\n",
              "      <td>0.803425</td>\n",
              "      <td>0.791106</td>\n",
              "      <td>0.795673</td>\n",
              "      <td>0.786238</td>\n",
              "      <td>0.792849</td>\n",
              "      <td>0.785036</td>\n",
              "      <td>0.789784</td>\n",
              "      <td>0.783474</td>\n",
              "    </tr>\n",
              "    <tr>\n",
              "      <th>Testing</th>\n",
              "      <td>0.748798</td>\n",
              "      <td>0.717308</td>\n",
              "      <td>0.758413</td>\n",
              "      <td>0.746154</td>\n",
              "      <td>0.766827</td>\n",
              "      <td>0.754567</td>\n",
              "      <td>0.769231</td>\n",
              "      <td>0.755288</td>\n",
              "      <td>0.764904</td>\n",
              "      <td>0.752644</td>\n",
              "      <td>0.762981</td>\n",
              "      <td>0.756250</td>\n",
              "      <td>0.765385</td>\n",
              "      <td>0.761058</td>\n",
              "      <td>0.767548</td>\n",
              "      <td>0.761779</td>\n",
              "      <td>0.771394</td>\n",
              "      <td>0.761058</td>\n",
              "      <td>0.765144</td>\n",
              "      <td>0.761298</td>\n",
              "    </tr>\n",
              "    <tr>\n",
              "      <th>Precision</th>\n",
              "      <td>0.719631</td>\n",
              "      <td>0.545190</td>\n",
              "      <td>0.729835</td>\n",
              "      <td>0.624879</td>\n",
              "      <td>0.737609</td>\n",
              "      <td>0.656948</td>\n",
              "      <td>0.737123</td>\n",
              "      <td>0.669582</td>\n",
              "      <td>0.733236</td>\n",
              "      <td>0.672498</td>\n",
              "      <td>0.731778</td>\n",
              "      <td>0.681730</td>\n",
              "      <td>0.730807</td>\n",
              "      <td>0.689018</td>\n",
              "      <td>0.733722</td>\n",
              "      <td>0.693878</td>\n",
              "      <td>0.735666</td>\n",
              "      <td>0.692420</td>\n",
              "      <td>0.724490</td>\n",
              "      <td>0.688533</td>\n",
              "    </tr>\n",
              "  </tbody>\n",
              "</table>\n",
              "</div>"
            ],
            "text/plain": [
              "                 0         1         2   ...        17        18        19\n",
              "Training   1.000000  0.855829  0.876142  ...  0.785036  0.789784  0.783474\n",
              "Testing    0.748798  0.717308  0.758413  ...  0.761058  0.765144  0.761298\n",
              "Precision  0.719631  0.545190  0.729835  ...  0.692420  0.724490  0.688533\n",
              "\n",
              "[3 rows x 20 columns]"
            ]
          },
          "metadata": {
            "tags": []
          },
          "execution_count": 31
        }
      ]
    },
    {
      "cell_type": "code",
      "metadata": {
        "colab": {
          "base_uri": "https://localhost:8080/"
        },
        "id": "jZ_NHpexp6DJ",
        "outputId": "0a86466e-1131-40de-b4af-b3d197ccd620"
      },
      "source": [
        "!pip install kneed"
      ],
      "execution_count": null,
      "outputs": [
        {
          "output_type": "stream",
          "text": [
            "Collecting kneed\n",
            "  Downloading https://files.pythonhosted.org/packages/c3/6b/e130913aaaad1373060e259ab222ca2330672db696b297b082c3f3089fcc/kneed-0.7.0-py2.py3-none-any.whl\n",
            "Requirement already satisfied: numpy>=1.14.2 in /usr/local/lib/python3.7/dist-packages (from kneed) (1.19.5)\n",
            "Requirement already satisfied: matplotlib in /usr/local/lib/python3.7/dist-packages (from kneed) (3.2.2)\n",
            "Requirement already satisfied: scipy in /usr/local/lib/python3.7/dist-packages (from kneed) (1.4.1)\n",
            "Requirement already satisfied: kiwisolver>=1.0.1 in /usr/local/lib/python3.7/dist-packages (from matplotlib->kneed) (1.3.1)\n",
            "Requirement already satisfied: pyparsing!=2.0.4,!=2.1.2,!=2.1.6,>=2.0.1 in /usr/local/lib/python3.7/dist-packages (from matplotlib->kneed) (2.4.7)\n",
            "Requirement already satisfied: python-dateutil>=2.1 in /usr/local/lib/python3.7/dist-packages (from matplotlib->kneed) (2.8.1)\n",
            "Requirement already satisfied: cycler>=0.10 in /usr/local/lib/python3.7/dist-packages (from matplotlib->kneed) (0.10.0)\n",
            "Requirement already satisfied: six>=1.5 in /usr/local/lib/python3.7/dist-packages (from python-dateutil>=2.1->matplotlib->kneed) (1.15.0)\n",
            "Installing collected packages: kneed\n",
            "Successfully installed kneed-0.7.0\n"
          ],
          "name": "stdout"
        }
      ]
    },
    {
      "cell_type": "code",
      "metadata": {
        "colab": {
          "base_uri": "https://localhost:8080/",
          "height": 407
        },
        "id": "2Nk2x_XjmnqW",
        "outputId": "f100def1-6939-4b23-e4f0-64039426da93"
      },
      "source": [
        "from kneed import KneeLocator\n",
        "\n",
        "kl = KneeLocator(x = range(1, 21), y = scores_training, curve = 'convex', direction = 'decreasing', S = 1, interp_method = 'polynomial')\n",
        "kl.plot_knee_normalized()\n",
        "print(kl.knee)"
      ],
      "execution_count": null,
      "outputs": [
        {
          "output_type": "stream",
          "text": [
            "3\n"
          ],
          "name": "stdout"
        },
        {
          "output_type": "display_data",
          "data": {
            "image/png": "[encoded data removed]",
            "text/plain": [
              "<Figure size 432x432 with 1 Axes>"
            ]
          },
          "metadata": {
            "tags": [],
            "needs_background": "light"
          }
        }
      ]
    },
    {
      "cell_type": "code",
      "metadata": {
        "colab": {
          "base_uri": "https://localhost:8080/",
          "height": 407
        },
        "id": "YvK-mRR3qalz",
        "outputId": "b0224027-0f96-4c8e-bf65-4354787d2c98"
      },
      "source": [
        "kl = KneeLocator(x = range(1, 21), y = scores_precision, curve = 'convex', direction = 'decreasing', S = 1, interp_method = 'polynomial')\n",
        "kl.plot_knee_normalized()\n",
        "print(kl.knee)"
      ],
      "execution_count": null,
      "outputs": [
        {
          "output_type": "stream",
          "text": [
            "2\n"
          ],
          "name": "stdout"
        },
        {
          "output_type": "display_data",
          "data": {
            "image/png": "[encoded data removed]",
            "text/plain": [
              "<Figure size 432x432 with 1 Axes>"
            ]
          },
          "metadata": {
            "tags": [],
            "needs_background": "light"
          }
        }
      ]
    },
    {
      "cell_type": "code",
      "metadata": {
        "colab": {
          "base_uri": "https://localhost:8080/"
        },
        "id": "pszncK2xVud5",
        "outputId": "108dd6eb-4302-4dd3-d665-11fdd4bb2aa0"
      },
      "source": [
        "param_grid = {'C' : [1, 10, 100],\n",
        "              'gamma' : [1, 0.1, 0.01],\n",
        "              'kernel' : ['rbf'],\n",
        "              'degree' : [3, 4, 5]}\n",
        "\n",
        "grid = GridSearchCV(SVC(), param_grid, refit = True, verbose = 4)\n",
        "grid.fit(X_train, y_train)"
      ],
      "execution_count": null,
      "outputs": [
        {
          "output_type": "stream",
          "text": [
            "Fitting 5 folds for each of 27 candidates, totalling 135 fits\n",
            "[CV] C=1, degree=3, gamma=1, kernel=rbf ..............................\n"
          ],
          "name": "stdout"
        },
        {
          "output_type": "stream",
          "text": [
            "[Parallel(n_jobs=1)]: Using backend SequentialBackend with 1 concurrent workers.\n"
          ],
          "name": "stderr"
        },
        {
          "output_type": "stream",
          "text": [
            "[CV] .. C=1, degree=3, gamma=1, kernel=rbf, score=0.627, total= 1.0min\n",
            "[CV] C=1, degree=3, gamma=1, kernel=rbf ..............................\n"
          ],
          "name": "stdout"
        },
        {
          "output_type": "stream",
          "text": [
            "[Parallel(n_jobs=1)]: Done   1 out of   1 | elapsed:  1.0min remaining:    0.0s\n"
          ],
          "name": "stderr"
        },
        {
          "output_type": "stream",
          "text": [
            "[CV] .. C=1, degree=3, gamma=1, kernel=rbf, score=0.629, total=  59.4s\n",
            "[CV] C=1, degree=3, gamma=1, kernel=rbf ..............................\n"
          ],
          "name": "stdout"
        },
        {
          "output_type": "stream",
          "text": [
            "[Parallel(n_jobs=1)]: Done   2 out of   2 | elapsed:  2.0min remaining:    0.0s\n"
          ],
          "name": "stderr"
        },
        {
          "output_type": "stream",
          "text": [
            "[CV] .. C=1, degree=3, gamma=1, kernel=rbf, score=0.633, total=  59.2s\n",
            "[CV] C=1, degree=3, gamma=1, kernel=rbf ..............................\n"
          ],
          "name": "stdout"
        },
        {
          "output_type": "stream",
          "text": [
            "[Parallel(n_jobs=1)]: Done   3 out of   3 | elapsed:  3.0min remaining:    0.0s\n"
          ],
          "name": "stderr"
        },
        {
          "output_type": "stream",
          "text": [
            "[CV] .. C=1, degree=3, gamma=1, kernel=rbf, score=0.623, total=  59.3s\n",
            "[CV] C=1, degree=3, gamma=1, kernel=rbf ..............................\n",
            "[CV] .. C=1, degree=3, gamma=1, kernel=rbf, score=0.633, total= 1.0min\n",
            "[CV] C=1, degree=3, gamma=0.1, kernel=rbf ............................\n",
            "[CV]  C=1, degree=3, gamma=0.1, kernel=rbf, score=0.773, total=  40.1s\n",
            "[CV] C=1, degree=3, gamma=0.1, kernel=rbf ............................\n",
            "[CV]  C=1, degree=3, gamma=0.1, kernel=rbf, score=0.776, total=  40.3s\n",
            "[CV] C=1, degree=3, gamma=0.1, kernel=rbf ............................\n",
            "[CV]  C=1, degree=3, gamma=0.1, kernel=rbf, score=0.764, total=  50.4s\n",
            "[CV] C=1, degree=3, gamma=0.1, kernel=rbf ............................\n",
            "[CV]  C=1, degree=3, gamma=0.1, kernel=rbf, score=0.753, total=  40.9s\n",
            "[CV] C=1, degree=3, gamma=0.1, kernel=rbf ............................\n",
            "[CV]  C=1, degree=3, gamma=0.1, kernel=rbf, score=0.765, total=  40.5s\n",
            "[CV] C=1, degree=3, gamma=0.01, kernel=rbf ...........................\n",
            "[CV]  C=1, degree=3, gamma=0.01, kernel=rbf, score=0.768, total=  17.0s\n",
            "[CV] C=1, degree=3, gamma=0.01, kernel=rbf ...........................\n",
            "[CV]  C=1, degree=3, gamma=0.01, kernel=rbf, score=0.764, total=  16.8s\n",
            "[CV] C=1, degree=3, gamma=0.01, kernel=rbf ...........................\n",
            "[CV]  C=1, degree=3, gamma=0.01, kernel=rbf, score=0.754, total=  16.6s\n",
            "[CV] C=1, degree=3, gamma=0.01, kernel=rbf ...........................\n",
            "[CV]  C=1, degree=3, gamma=0.01, kernel=rbf, score=0.745, total=  16.5s\n",
            "[CV] C=1, degree=3, gamma=0.01, kernel=rbf ...........................\n",
            "[CV]  C=1, degree=3, gamma=0.01, kernel=rbf, score=0.766, total=  16.5s\n",
            "[CV] C=1, degree=4, gamma=1, kernel=rbf ..............................\n",
            "[CV] .. C=1, degree=4, gamma=1, kernel=rbf, score=0.627, total=  59.5s\n",
            "[CV] C=1, degree=4, gamma=1, kernel=rbf ..............................\n",
            "[CV] .. C=1, degree=4, gamma=1, kernel=rbf, score=0.629, total=  59.4s\n",
            "[CV] C=1, degree=4, gamma=1, kernel=rbf ..............................\n",
            "[CV] .. C=1, degree=4, gamma=1, kernel=rbf, score=0.633, total=  59.2s\n",
            "[CV] C=1, degree=4, gamma=1, kernel=rbf ..............................\n",
            "[CV] .. C=1, degree=4, gamma=1, kernel=rbf, score=0.623, total=  59.7s\n",
            "[CV] C=1, degree=4, gamma=1, kernel=rbf ..............................\n",
            "[CV] .. C=1, degree=4, gamma=1, kernel=rbf, score=0.633, total=  58.7s\n",
            "[CV] C=1, degree=4, gamma=0.1, kernel=rbf ............................\n",
            "[CV]  C=1, degree=4, gamma=0.1, kernel=rbf, score=0.773, total=  39.1s\n",
            "[CV] C=1, degree=4, gamma=0.1, kernel=rbf ............................\n",
            "[CV]  C=1, degree=4, gamma=0.1, kernel=rbf, score=0.776, total=  40.3s\n",
            "[CV] C=1, degree=4, gamma=0.1, kernel=rbf ............................\n",
            "[CV]  C=1, degree=4, gamma=0.1, kernel=rbf, score=0.764, total=  48.8s\n",
            "[CV] C=1, degree=4, gamma=0.1, kernel=rbf ............................\n",
            "[CV]  C=1, degree=4, gamma=0.1, kernel=rbf, score=0.753, total=  39.9s\n",
            "[CV] C=1, degree=4, gamma=0.1, kernel=rbf ............................\n",
            "[CV]  C=1, degree=4, gamma=0.1, kernel=rbf, score=0.765, total=  40.1s\n",
            "[CV] C=1, degree=4, gamma=0.01, kernel=rbf ...........................\n",
            "[CV]  C=1, degree=4, gamma=0.01, kernel=rbf, score=0.768, total=  16.9s\n",
            "[CV] C=1, degree=4, gamma=0.01, kernel=rbf ...........................\n",
            "[CV]  C=1, degree=4, gamma=0.01, kernel=rbf, score=0.764, total=  16.7s\n",
            "[CV] C=1, degree=4, gamma=0.01, kernel=rbf ...........................\n",
            "[CV]  C=1, degree=4, gamma=0.01, kernel=rbf, score=0.754, total=  16.5s\n",
            "[CV] C=1, degree=4, gamma=0.01, kernel=rbf ...........................\n",
            "[CV]  C=1, degree=4, gamma=0.01, kernel=rbf, score=0.745, total=  16.3s\n",
            "[CV] C=1, degree=4, gamma=0.01, kernel=rbf ...........................\n",
            "[CV]  C=1, degree=4, gamma=0.01, kernel=rbf, score=0.766, total=  16.4s\n",
            "[CV] C=1, degree=5, gamma=1, kernel=rbf ..............................\n",
            "[CV] .. C=1, degree=5, gamma=1, kernel=rbf, score=0.627, total= 1.0min\n",
            "[CV] C=1, degree=5, gamma=1, kernel=rbf ..............................\n",
            "[CV] .. C=1, degree=5, gamma=1, kernel=rbf, score=0.629, total= 1.0min\n",
            "[CV] C=1, degree=5, gamma=1, kernel=rbf ..............................\n",
            "[CV] .. C=1, degree=5, gamma=1, kernel=rbf, score=0.633, total=  59.3s\n",
            "[CV] C=1, degree=5, gamma=1, kernel=rbf ..............................\n",
            "[CV] .. C=1, degree=5, gamma=1, kernel=rbf, score=0.623, total=  59.7s\n",
            "[CV] C=1, degree=5, gamma=1, kernel=rbf ..............................\n",
            "[CV] .. C=1, degree=5, gamma=1, kernel=rbf, score=0.633, total=  58.9s\n",
            "[CV] C=1, degree=5, gamma=0.1, kernel=rbf ............................\n",
            "[CV]  C=1, degree=5, gamma=0.1, kernel=rbf, score=0.773, total=  39.5s\n",
            "[CV] C=1, degree=5, gamma=0.1, kernel=rbf ............................\n",
            "[CV]  C=1, degree=5, gamma=0.1, kernel=rbf, score=0.776, total=  40.6s\n",
            "[CV] C=1, degree=5, gamma=0.1, kernel=rbf ............................\n",
            "[CV]  C=1, degree=5, gamma=0.1, kernel=rbf, score=0.764, total=  48.5s\n",
            "[CV] C=1, degree=5, gamma=0.1, kernel=rbf ............................\n",
            "[CV]  C=1, degree=5, gamma=0.1, kernel=rbf, score=0.753, total=  40.6s\n",
            "[CV] C=1, degree=5, gamma=0.1, kernel=rbf ............................\n",
            "[CV]  C=1, degree=5, gamma=0.1, kernel=rbf, score=0.765, total=  39.5s\n",
            "[CV] C=1, degree=5, gamma=0.01, kernel=rbf ...........................\n",
            "[CV]  C=1, degree=5, gamma=0.01, kernel=rbf, score=0.768, total=  16.7s\n",
            "[CV] C=1, degree=5, gamma=0.01, kernel=rbf ...........................\n",
            "[CV]  C=1, degree=5, gamma=0.01, kernel=rbf, score=0.764, total=  16.8s\n",
            "[CV] C=1, degree=5, gamma=0.01, kernel=rbf ...........................\n",
            "[CV]  C=1, degree=5, gamma=0.01, kernel=rbf, score=0.754, total=  16.5s\n",
            "[CV] C=1, degree=5, gamma=0.01, kernel=rbf ...........................\n",
            "[CV]  C=1, degree=5, gamma=0.01, kernel=rbf, score=0.745, total=  16.6s\n",
            "[CV] C=1, degree=5, gamma=0.01, kernel=rbf ...........................\n",
            "[CV]  C=1, degree=5, gamma=0.01, kernel=rbf, score=0.766, total=  16.7s\n",
            "[CV] C=10, degree=3, gamma=1, kernel=rbf .............................\n",
            "[CV] . C=10, degree=3, gamma=1, kernel=rbf, score=0.636, total= 1.4min\n",
            "[CV] C=10, degree=3, gamma=1, kernel=rbf .............................\n",
            "[CV] . C=10, degree=3, gamma=1, kernel=rbf, score=0.640, total= 1.4min\n",
            "[CV] C=10, degree=3, gamma=1, kernel=rbf .............................\n",
            "[CV] . C=10, degree=3, gamma=1, kernel=rbf, score=0.644, total= 1.5min\n",
            "[CV] C=10, degree=3, gamma=1, kernel=rbf .............................\n",
            "[CV] . C=10, degree=3, gamma=1, kernel=rbf, score=0.636, total= 1.4min\n",
            "[CV] C=10, degree=3, gamma=1, kernel=rbf .............................\n",
            "[CV] . C=10, degree=3, gamma=1, kernel=rbf, score=0.638, total= 1.4min\n",
            "[CV] C=10, degree=3, gamma=0.1, kernel=rbf ...........................\n",
            "[CV]  C=10, degree=3, gamma=0.1, kernel=rbf, score=0.749, total=  56.6s\n",
            "[CV] C=10, degree=3, gamma=0.1, kernel=rbf ...........................\n",
            "[CV]  C=10, degree=3, gamma=0.1, kernel=rbf, score=0.761, total=  56.7s\n",
            "[CV] C=10, degree=3, gamma=0.1, kernel=rbf ...........................\n",
            "[CV]  C=10, degree=3, gamma=0.1, kernel=rbf, score=0.751, total=  56.7s\n",
            "[CV] C=10, degree=3, gamma=0.1, kernel=rbf ...........................\n",
            "[CV]  C=10, degree=3, gamma=0.1, kernel=rbf, score=0.730, total=  55.4s\n",
            "[CV] C=10, degree=3, gamma=0.1, kernel=rbf ...........................\n",
            "[CV]  C=10, degree=3, gamma=0.1, kernel=rbf, score=0.747, total=  56.4s\n",
            "[CV] C=10, degree=3, gamma=0.01, kernel=rbf ..........................\n",
            "[CV]  C=10, degree=3, gamma=0.01, kernel=rbf, score=0.789, total=  20.4s\n",
            "[CV] C=10, degree=3, gamma=0.01, kernel=rbf ..........................\n",
            "[CV]  C=10, degree=3, gamma=0.01, kernel=rbf, score=0.788, total=  20.3s\n",
            "[CV] C=10, degree=3, gamma=0.01, kernel=rbf ..........................\n",
            "[CV]  C=10, degree=3, gamma=0.01, kernel=rbf, score=0.776, total=  20.1s\n",
            "[CV] C=10, degree=3, gamma=0.01, kernel=rbf ..........................\n",
            "[CV]  C=10, degree=3, gamma=0.01, kernel=rbf, score=0.760, total=  19.6s\n",
            "[CV] C=10, degree=3, gamma=0.01, kernel=rbf ..........................\n",
            "[CV]  C=10, degree=3, gamma=0.01, kernel=rbf, score=0.784, total=  20.3s\n",
            "[CV] C=10, degree=4, gamma=1, kernel=rbf .............................\n",
            "[CV] . C=10, degree=4, gamma=1, kernel=rbf, score=0.636, total= 1.4min\n",
            "[CV] C=10, degree=4, gamma=1, kernel=rbf .............................\n",
            "[CV] . C=10, degree=4, gamma=1, kernel=rbf, score=0.640, total= 1.4min\n",
            "[CV] C=10, degree=4, gamma=1, kernel=rbf .............................\n",
            "[CV] . C=10, degree=4, gamma=1, kernel=rbf, score=0.644, total= 1.5min\n",
            "[CV] C=10, degree=4, gamma=1, kernel=rbf .............................\n",
            "[CV] . C=10, degree=4, gamma=1, kernel=rbf, score=0.636, total= 1.4min\n",
            "[CV] C=10, degree=4, gamma=1, kernel=rbf .............................\n",
            "[CV] . C=10, degree=4, gamma=1, kernel=rbf, score=0.638, total= 1.4min\n",
            "[CV] C=10, degree=4, gamma=0.1, kernel=rbf ...........................\n",
            "[CV]  C=10, degree=4, gamma=0.1, kernel=rbf, score=0.749, total=  56.9s\n",
            "[CV] C=10, degree=4, gamma=0.1, kernel=rbf ...........................\n",
            "[CV]  C=10, degree=4, gamma=0.1, kernel=rbf, score=0.761, total=  56.8s\n",
            "[CV] C=10, degree=4, gamma=0.1, kernel=rbf ...........................\n",
            "[CV]  C=10, degree=4, gamma=0.1, kernel=rbf, score=0.751, total=  56.9s\n",
            "[CV] C=10, degree=4, gamma=0.1, kernel=rbf ...........................\n",
            "[CV]  C=10, degree=4, gamma=0.1, kernel=rbf, score=0.730, total=  55.7s\n",
            "[CV] C=10, degree=4, gamma=0.1, kernel=rbf ...........................\n",
            "[CV]  C=10, degree=4, gamma=0.1, kernel=rbf, score=0.747, total=  56.7s\n",
            "[CV] C=10, degree=4, gamma=0.01, kernel=rbf ..........................\n",
            "[CV]  C=10, degree=4, gamma=0.01, kernel=rbf, score=0.789, total=  20.5s\n",
            "[CV] C=10, degree=4, gamma=0.01, kernel=rbf ..........................\n",
            "[CV]  C=10, degree=4, gamma=0.01, kernel=rbf, score=0.788, total=  20.4s\n",
            "[CV] C=10, degree=4, gamma=0.01, kernel=rbf ..........................\n",
            "[CV]  C=10, degree=4, gamma=0.01, kernel=rbf, score=0.776, total=  20.1s\n",
            "[CV] C=10, degree=4, gamma=0.01, kernel=rbf ..........................\n",
            "[CV]  C=10, degree=4, gamma=0.01, kernel=rbf, score=0.760, total=  20.0s\n",
            "[CV] C=10, degree=4, gamma=0.01, kernel=rbf ..........................\n",
            "[CV]  C=10, degree=4, gamma=0.01, kernel=rbf, score=0.784, total=  20.1s\n",
            "[CV] C=10, degree=5, gamma=1, kernel=rbf .............................\n",
            "[CV] . C=10, degree=5, gamma=1, kernel=rbf, score=0.636, total= 1.4min\n",
            "[CV] C=10, degree=5, gamma=1, kernel=rbf .............................\n",
            "[CV] . C=10, degree=5, gamma=1, kernel=rbf, score=0.640, total= 1.4min\n",
            "[CV] C=10, degree=5, gamma=1, kernel=rbf .............................\n",
            "[CV] . C=10, degree=5, gamma=1, kernel=rbf, score=0.644, total= 1.5min\n",
            "[CV] C=10, degree=5, gamma=1, kernel=rbf .............................\n",
            "[CV] . C=10, degree=5, gamma=1, kernel=rbf, score=0.636, total= 1.4min\n",
            "[CV] C=10, degree=5, gamma=1, kernel=rbf .............................\n",
            "[CV] . C=10, degree=5, gamma=1, kernel=rbf, score=0.638, total= 1.4min\n",
            "[CV] C=10, degree=5, gamma=0.1, kernel=rbf ...........................\n",
            "[CV]  C=10, degree=5, gamma=0.1, kernel=rbf, score=0.749, total=  56.8s\n",
            "[CV] C=10, degree=5, gamma=0.1, kernel=rbf ...........................\n",
            "[CV]  C=10, degree=5, gamma=0.1, kernel=rbf, score=0.761, total=  57.9s\n",
            "[CV] C=10, degree=5, gamma=0.1, kernel=rbf ...........................\n",
            "[CV]  C=10, degree=5, gamma=0.1, kernel=rbf, score=0.751, total=  57.9s\n",
            "[CV] C=10, degree=5, gamma=0.1, kernel=rbf ...........................\n",
            "[CV]  C=10, degree=5, gamma=0.1, kernel=rbf, score=0.730, total=  55.9s\n",
            "[CV] C=10, degree=5, gamma=0.1, kernel=rbf ...........................\n",
            "[CV]  C=10, degree=5, gamma=0.1, kernel=rbf, score=0.747, total=  56.7s\n",
            "[CV] C=10, degree=5, gamma=0.01, kernel=rbf ..........................\n",
            "[CV]  C=10, degree=5, gamma=0.01, kernel=rbf, score=0.789, total=  20.9s\n",
            "[CV] C=10, degree=5, gamma=0.01, kernel=rbf ..........................\n",
            "[CV]  C=10, degree=5, gamma=0.01, kernel=rbf, score=0.788, total=  20.5s\n",
            "[CV] C=10, degree=5, gamma=0.01, kernel=rbf ..........................\n",
            "[CV]  C=10, degree=5, gamma=0.01, kernel=rbf, score=0.776, total=  20.4s\n",
            "[CV] C=10, degree=5, gamma=0.01, kernel=rbf ..........................\n",
            "[CV]  C=10, degree=5, gamma=0.01, kernel=rbf, score=0.760, total=  20.0s\n",
            "[CV] C=10, degree=5, gamma=0.01, kernel=rbf ..........................\n",
            "[CV]  C=10, degree=5, gamma=0.01, kernel=rbf, score=0.784, total=  20.3s\n",
            "[CV] C=100, degree=3, gamma=1, kernel=rbf ............................\n",
            "[CV]  C=100, degree=3, gamma=1, kernel=rbf, score=0.636, total= 1.4min\n",
            "[CV] C=100, degree=3, gamma=1, kernel=rbf ............................\n",
            "[CV]  C=100, degree=3, gamma=1, kernel=rbf, score=0.640, total= 1.4min\n",
            "[CV] C=100, degree=3, gamma=1, kernel=rbf ............................\n",
            "[CV]  C=100, degree=3, gamma=1, kernel=rbf, score=0.644, total= 1.5min\n",
            "[CV] C=100, degree=3, gamma=1, kernel=rbf ............................\n",
            "[CV]  C=100, degree=3, gamma=1, kernel=rbf, score=0.636, total= 1.4min\n",
            "[CV] C=100, degree=3, gamma=1, kernel=rbf ............................\n",
            "[CV]  C=100, degree=3, gamma=1, kernel=rbf, score=0.638, total= 1.4min\n",
            "[CV] C=100, degree=3, gamma=0.1, kernel=rbf ..........................\n",
            "[CV]  C=100, degree=3, gamma=0.1, kernel=rbf, score=0.737, total=  57.4s\n",
            "[CV] C=100, degree=3, gamma=0.1, kernel=rbf ..........................\n",
            "[CV]  C=100, degree=3, gamma=0.1, kernel=rbf, score=0.749, total=  57.8s\n",
            "[CV] C=100, degree=3, gamma=0.1, kernel=rbf ..........................\n",
            "[CV]  C=100, degree=3, gamma=0.1, kernel=rbf, score=0.744, total=  56.8s\n",
            "[CV] C=100, degree=3, gamma=0.1, kernel=rbf ..........................\n",
            "[CV]  C=100, degree=3, gamma=0.1, kernel=rbf, score=0.723, total=  55.3s\n",
            "[CV] C=100, degree=3, gamma=0.1, kernel=rbf ..........................\n",
            "[CV]  C=100, degree=3, gamma=0.1, kernel=rbf, score=0.740, total=  56.9s\n",
            "[CV] C=100, degree=3, gamma=0.01, kernel=rbf .........................\n",
            "[CV]  C=100, degree=3, gamma=0.01, kernel=rbf, score=0.799, total=  46.3s\n",
            "[CV] C=100, degree=3, gamma=0.01, kernel=rbf .........................\n",
            "[CV]  C=100, degree=3, gamma=0.01, kernel=rbf, score=0.793, total=  47.0s\n",
            "[CV] C=100, degree=3, gamma=0.01, kernel=rbf .........................\n",
            "[CV]  C=100, degree=3, gamma=0.01, kernel=rbf, score=0.778, total=  45.0s\n",
            "[CV] C=100, degree=3, gamma=0.01, kernel=rbf .........................\n",
            "[CV]  C=100, degree=3, gamma=0.01, kernel=rbf, score=0.769, total=  44.8s\n",
            "[CV] C=100, degree=3, gamma=0.01, kernel=rbf .........................\n",
            "[CV]  C=100, degree=3, gamma=0.01, kernel=rbf, score=0.780, total=  45.2s\n",
            "[CV] C=100, degree=4, gamma=1, kernel=rbf ............................\n",
            "[CV]  C=100, degree=4, gamma=1, kernel=rbf, score=0.636, total= 1.4min\n",
            "[CV] C=100, degree=4, gamma=1, kernel=rbf ............................\n",
            "[CV]  C=100, degree=4, gamma=1, kernel=rbf, score=0.640, total= 1.4min\n",
            "[CV] C=100, degree=4, gamma=1, kernel=rbf ............................\n",
            "[CV]  C=100, degree=4, gamma=1, kernel=rbf, score=0.644, total= 1.5min\n",
            "[CV] C=100, degree=4, gamma=1, kernel=rbf ............................\n",
            "[CV]  C=100, degree=4, gamma=1, kernel=rbf, score=0.636, total= 1.4min\n",
            "[CV] C=100, degree=4, gamma=1, kernel=rbf ............................\n",
            "[CV]  C=100, degree=4, gamma=1, kernel=rbf, score=0.638, total= 1.4min\n",
            "[CV] C=100, degree=4, gamma=0.1, kernel=rbf ..........................\n",
            "[CV]  C=100, degree=4, gamma=0.1, kernel=rbf, score=0.737, total=  57.5s\n",
            "[CV] C=100, degree=4, gamma=0.1, kernel=rbf ..........................\n",
            "[CV]  C=100, degree=4, gamma=0.1, kernel=rbf, score=0.749, total=  58.3s\n",
            "[CV] C=100, degree=4, gamma=0.1, kernel=rbf ..........................\n",
            "[CV]  C=100, degree=4, gamma=0.1, kernel=rbf, score=0.744, total=  58.0s\n",
            "[CV] C=100, degree=4, gamma=0.1, kernel=rbf ..........................\n",
            "[CV]  C=100, degree=4, gamma=0.1, kernel=rbf, score=0.723, total=  56.1s\n",
            "[CV] C=100, degree=4, gamma=0.1, kernel=rbf ..........................\n",
            "[CV]  C=100, degree=4, gamma=0.1, kernel=rbf, score=0.740, total=  57.2s\n",
            "[CV] C=100, degree=4, gamma=0.01, kernel=rbf .........................\n",
            "[CV]  C=100, degree=4, gamma=0.01, kernel=rbf, score=0.799, total=  46.4s\n",
            "[CV] C=100, degree=4, gamma=0.01, kernel=rbf .........................\n",
            "[CV]  C=100, degree=4, gamma=0.01, kernel=rbf, score=0.793, total=  46.9s\n",
            "[CV] C=100, degree=4, gamma=0.01, kernel=rbf .........................\n",
            "[CV]  C=100, degree=4, gamma=0.01, kernel=rbf, score=0.778, total=  44.9s\n",
            "[CV] C=100, degree=4, gamma=0.01, kernel=rbf .........................\n",
            "[CV]  C=100, degree=4, gamma=0.01, kernel=rbf, score=0.769, total=  44.5s\n",
            "[CV] C=100, degree=4, gamma=0.01, kernel=rbf .........................\n",
            "[CV]  C=100, degree=4, gamma=0.01, kernel=rbf, score=0.780, total=  45.3s\n",
            "[CV] C=100, degree=5, gamma=1, kernel=rbf ............................\n",
            "[CV]  C=100, degree=5, gamma=1, kernel=rbf, score=0.636, total= 1.4min\n",
            "[CV] C=100, degree=5, gamma=1, kernel=rbf ............................\n",
            "[CV]  C=100, degree=5, gamma=1, kernel=rbf, score=0.640, total= 1.4min\n",
            "[CV] C=100, degree=5, gamma=1, kernel=rbf ............................\n",
            "[CV]  C=100, degree=5, gamma=1, kernel=rbf, score=0.644, total= 1.5min\n",
            "[CV] C=100, degree=5, gamma=1, kernel=rbf ............................\n",
            "[CV]  C=100, degree=5, gamma=1, kernel=rbf, score=0.636, total= 1.4min\n",
            "[CV] C=100, degree=5, gamma=1, kernel=rbf ............................\n",
            "[CV]  C=100, degree=5, gamma=1, kernel=rbf, score=0.638, total= 1.4min\n",
            "[CV] C=100, degree=5, gamma=0.1, kernel=rbf ..........................\n",
            "[CV]  C=100, degree=5, gamma=0.1, kernel=rbf, score=0.737, total=  56.8s\n",
            "[CV] C=100, degree=5, gamma=0.1, kernel=rbf ..........................\n",
            "[CV]  C=100, degree=5, gamma=0.1, kernel=rbf, score=0.749, total=  57.4s\n",
            "[CV] C=100, degree=5, gamma=0.1, kernel=rbf ..........................\n",
            "[CV]  C=100, degree=5, gamma=0.1, kernel=rbf, score=0.744, total=  56.8s\n",
            "[CV] C=100, degree=5, gamma=0.1, kernel=rbf ..........................\n",
            "[CV]  C=100, degree=5, gamma=0.1, kernel=rbf, score=0.723, total=  55.4s\n",
            "[CV] C=100, degree=5, gamma=0.1, kernel=rbf ..........................\n",
            "[CV]  C=100, degree=5, gamma=0.1, kernel=rbf, score=0.740, total=  57.1s\n",
            "[CV] C=100, degree=5, gamma=0.01, kernel=rbf .........................\n",
            "[CV]  C=100, degree=5, gamma=0.01, kernel=rbf, score=0.799, total=  46.4s\n",
            "[CV] C=100, degree=5, gamma=0.01, kernel=rbf .........................\n",
            "[CV]  C=100, degree=5, gamma=0.01, kernel=rbf, score=0.793, total=  46.6s\n",
            "[CV] C=100, degree=5, gamma=0.01, kernel=rbf .........................\n",
            "[CV]  C=100, degree=5, gamma=0.01, kernel=rbf, score=0.778, total=  45.0s\n",
            "[CV] C=100, degree=5, gamma=0.01, kernel=rbf .........................\n",
            "[CV]  C=100, degree=5, gamma=0.01, kernel=rbf, score=0.769, total=  43.9s\n",
            "[CV] C=100, degree=5, gamma=0.01, kernel=rbf .........................\n",
            "[CV]  C=100, degree=5, gamma=0.01, kernel=rbf, score=0.780, total=  45.3s\n"
          ],
          "name": "stdout"
        },
        {
          "output_type": "stream",
          "text": [
            "[Parallel(n_jobs=1)]: Done 135 out of 135 | elapsed: 116.4min finished\n"
          ],
          "name": "stderr"
        },
        {
          "output_type": "execute_result",
          "data": {
            "text/plain": [
              "GridSearchCV(cv=None, error_score=nan,\n",
              "             estimator=SVC(C=1.0, break_ties=False, cache_size=200,\n",
              "                           class_weight=None, coef0=0.0,\n",
              "                           decision_function_shape='ovr', degree=3,\n",
              "                           gamma='scale', kernel='rbf', max_iter=-1,\n",
              "                           probability=False, random_state=None, shrinking=True,\n",
              "                           tol=0.001, verbose=False),\n",
              "             iid='deprecated', n_jobs=None,\n",
              "             param_grid={'C': [1, 10, 100], 'degree': [3, 4, 5],\n",
              "                         'gamma': [1, 0.1, 0.01], 'kernel': ['rbf']},\n",
              "             pre_dispatch='2*n_jobs', refit=True, return_train_score=False,\n",
              "             scoring=None, verbose=4)"
            ]
          },
          "metadata": {
            "tags": []
          },
          "execution_count": 35
        }
      ]
    },
    {
      "cell_type": "code",
      "metadata": {
        "colab": {
          "base_uri": "https://localhost:8080/"
        },
        "id": "CiVKsOK7ZbDY",
        "outputId": "ab9a00e3-06c9-4f8e-e53e-681e301f458d"
      },
      "source": [
        "print(grid.best_params_)\n",
        "print(grid.best_estimator_)"
      ],
      "execution_count": null,
      "outputs": [
        {
          "output_type": "stream",
          "text": [
            "{'C': 100, 'degree': 3, 'gamma': 0.01, 'kernel': 'rbf'}\n",
            "SVC(C=100, break_ties=False, cache_size=200, class_weight=None, coef0=0.0,\n",
            "    decision_function_shape='ovr', degree=3, gamma=0.01, kernel='rbf',\n",
            "    max_iter=-1, probability=False, random_state=None, shrinking=True,\n",
            "    tol=0.001, verbose=False)\n"
          ],
          "name": "stdout"
        }
      ]
    },
    {
      "cell_type": "code",
      "metadata": {
        "id": "g0B7meN5Dxho"
      },
      "source": [
        "svc = SVC(C = 100, kernel = 'rbf', gamma = 0.01, degree = 3)\n",
        "svc.fit(X_train, y_train)\n",
        "y_pred = svc.predict(X_test)"
      ],
      "execution_count": null,
      "outputs": []
    },
    {
      "cell_type": "code",
      "metadata": {
        "colab": {
          "base_uri": "https://localhost:8080/"
        },
        "id": "YQnyhOsVEO7S",
        "outputId": "296955bf-2e52-46bb-d828-818b8e4dfc6a"
      },
      "source": [
        "print(svc.score(X_train, y_train))\n",
        "print(svc.score(X_test, y_test))\n",
        "print(precision_score(y_pred, y_test))"
      ],
      "execution_count": null,
      "outputs": [
        {
          "output_type": "stream",
          "text": [
            "0.8832331730769231\n",
            "0.7908653846153846\n",
            "0.8333333333333334\n"
          ],
          "name": "stdout"
        }
      ]
    },
    {
      "cell_type": "code",
      "metadata": {
        "colab": {
          "base_uri": "https://localhost:8080/"
        },
        "id": "T9z9d2J8EkBr",
        "outputId": "5961885b-c0d8-4e4d-9e56-69a6aca19589"
      },
      "source": [
        "logreg_grid = {'C' : [0.01, 0.1, 1, 10],\n",
        "               'solver' : ['saga', 'liblinear'],\n",
        "               'penalty' : ['l1', 'l2', 'elasticnet'],\n",
        "               'l1_ratio' : [0.2, 0.4, 0.5]}\n",
        "\n",
        "grid_logreg = GridSearchCV(LogisticRegression(max_iter = 50000), logreg_grid, verbose = 4, refit = True)\n",
        "grid_logreg.fit(X_train, y_train)"
      ],
      "execution_count": null,
      "outputs": [
        {
          "output_type": "stream",
          "text": [
            "Fitting 5 folds for each of 72 candidates, totalling 360 fits\n",
            "[CV] C=0.01, l1_ratio=0.2, penalty=l1, solver=saga ...................\n"
          ],
          "name": "stdout"
        },
        {
          "output_type": "stream",
          "text": [
            "[Parallel(n_jobs=1)]: Using backend SequentialBackend with 1 concurrent workers.\n",
            "/usr/local/lib/python3.7/dist-packages/sklearn/linear_model/_logistic.py:1501: UserWarning: l1_ratio parameter is only used when penalty is 'elasticnet'. Got (penalty=l1)\n",
            "  \"(penalty={})\".format(self.penalty))\n"
          ],
          "name": "stderr"
        },
        {
          "output_type": "stream",
          "text": [
            "[CV]  C=0.01, l1_ratio=0.2, penalty=l1, solver=saga, score=0.671, total=   2.5s\n",
            "[CV] C=0.01, l1_ratio=0.2, penalty=l1, solver=saga ...................\n"
          ],
          "name": "stdout"
        },
        {
          "output_type": "stream",
          "text": [
            "[Parallel(n_jobs=1)]: Done   1 out of   1 | elapsed:    2.5s remaining:    0.0s\n",
            "/usr/local/lib/python3.7/dist-packages/sklearn/linear_model/_logistic.py:1501: UserWarning: l1_ratio parameter is only used when penalty is 'elasticnet'. Got (penalty=l1)\n",
            "  \"(penalty={})\".format(self.penalty))\n"
          ],
          "name": "stderr"
        },
        {
          "output_type": "stream",
          "text": [
            "[CV]  C=0.01, l1_ratio=0.2, penalty=l1, solver=saga, score=0.670, total=   2.5s\n",
            "[CV] C=0.01, l1_ratio=0.2, penalty=l1, solver=saga ...................\n"
          ],
          "name": "stdout"
        },
        {
          "output_type": "stream",
          "text": [
            "[Parallel(n_jobs=1)]: Done   2 out of   2 | elapsed:    5.0s remaining:    0.0s\n",
            "/usr/local/lib/python3.7/dist-packages/sklearn/linear_model/_logistic.py:1501: UserWarning: l1_ratio parameter is only used when penalty is 'elasticnet'. Got (penalty=l1)\n",
            "  \"(penalty={})\".format(self.penalty))\n"
          ],
          "name": "stderr"
        },
        {
          "output_type": "stream",
          "text": [
            "[CV]  C=0.01, l1_ratio=0.2, penalty=l1, solver=saga, score=0.653, total=   2.2s\n",
            "[CV] C=0.01, l1_ratio=0.2, penalty=l1, solver=saga ...................\n"
          ],
          "name": "stdout"
        },
        {
          "output_type": "stream",
          "text": [
            "[Parallel(n_jobs=1)]: Done   3 out of   3 | elapsed:    7.2s remaining:    0.0s\n",
            "/usr/local/lib/python3.7/dist-packages/sklearn/linear_model/_logistic.py:1501: UserWarning: l1_ratio parameter is only used when penalty is 'elasticnet'. Got (penalty=l1)\n",
            "  \"(penalty={})\".format(self.penalty))\n"
          ],
          "name": "stderr"
        },
        {
          "output_type": "stream",
          "text": [
            "[CV]  C=0.01, l1_ratio=0.2, penalty=l1, solver=saga, score=0.648, total=   2.6s\n",
            "[CV] C=0.01, l1_ratio=0.2, penalty=l1, solver=saga ...................\n"
          ],
          "name": "stdout"
        },
        {
          "output_type": "stream",
          "text": [
            "/usr/local/lib/python3.7/dist-packages/sklearn/linear_model/_logistic.py:1501: UserWarning: l1_ratio parameter is only used when penalty is 'elasticnet'. Got (penalty=l1)\n",
            "  \"(penalty={})\".format(self.penalty))\n"
          ],
          "name": "stderr"
        },
        {
          "output_type": "stream",
          "text": [
            "[CV]  C=0.01, l1_ratio=0.2, penalty=l1, solver=saga, score=0.658, total=   2.7s\n",
            "[CV] C=0.01, l1_ratio=0.2, penalty=l1, solver=liblinear ..............\n",
            "[CV]  C=0.01, l1_ratio=0.2, penalty=l1, solver=liblinear, score=0.665, total=   0.1s\n",
            "[CV] C=0.01, l1_ratio=0.2, penalty=l1, solver=liblinear ..............\n"
          ],
          "name": "stdout"
        },
        {
          "output_type": "stream",
          "text": [
            "/usr/local/lib/python3.7/dist-packages/sklearn/linear_model/_logistic.py:1501: UserWarning: l1_ratio parameter is only used when penalty is 'elasticnet'. Got (penalty=l1)\n",
            "  \"(penalty={})\".format(self.penalty))\n",
            "/usr/local/lib/python3.7/dist-packages/sklearn/linear_model/_logistic.py:1501: UserWarning: l1_ratio parameter is only used when penalty is 'elasticnet'. Got (penalty=l1)\n",
            "  \"(penalty={})\".format(self.penalty))\n"
          ],
          "name": "stderr"
        },
        {
          "output_type": "stream",
          "text": [
            "[CV]  C=0.01, l1_ratio=0.2, penalty=l1, solver=liblinear, score=0.661, total=   0.1s\n",
            "[CV] C=0.01, l1_ratio=0.2, penalty=l1, solver=liblinear ..............\n",
            "[CV]  C=0.01, l1_ratio=0.2, penalty=l1, solver=liblinear, score=0.651, total=   0.1s\n",
            "[CV] C=0.01, l1_ratio=0.2, penalty=l1, solver=liblinear ..............\n"
          ],
          "name": "stdout"
        },
        {
          "output_type": "stream",
          "text": [
            "/usr/local/lib/python3.7/dist-packages/sklearn/linear_model/_logistic.py:1501: UserWarning: l1_ratio parameter is only used when penalty is 'elasticnet'. Got (penalty=l1)\n",
            "  \"(penalty={})\".format(self.penalty))\n",
            "/usr/local/lib/python3.7/dist-packages/sklearn/linear_model/_logistic.py:1501: UserWarning: l1_ratio parameter is only used when penalty is 'elasticnet'. Got (penalty=l1)\n",
            "  \"(penalty={})\".format(self.penalty))\n"
          ],
          "name": "stderr"
        },
        {
          "output_type": "stream",
          "text": [
            "[CV]  C=0.01, l1_ratio=0.2, penalty=l1, solver=liblinear, score=0.639, total=   0.1s\n",
            "[CV] C=0.01, l1_ratio=0.2, penalty=l1, solver=liblinear ..............\n",
            "[CV]  C=0.01, l1_ratio=0.2, penalty=l1, solver=liblinear, score=0.665, total=   0.2s\n",
            "[CV] C=0.01, l1_ratio=0.2, penalty=l2, solver=saga ...................\n"
          ],
          "name": "stdout"
        },
        {
          "output_type": "stream",
          "text": [
            "/usr/local/lib/python3.7/dist-packages/sklearn/linear_model/_logistic.py:1501: UserWarning: l1_ratio parameter is only used when penalty is 'elasticnet'. Got (penalty=l1)\n",
            "  \"(penalty={})\".format(self.penalty))\n",
            "/usr/local/lib/python3.7/dist-packages/sklearn/linear_model/_logistic.py:1501: UserWarning: l1_ratio parameter is only used when penalty is 'elasticnet'. Got (penalty=l2)\n",
            "  \"(penalty={})\".format(self.penalty))\n"
          ],
          "name": "stderr"
        },
        {
          "output_type": "stream",
          "text": [
            "[CV]  C=0.01, l1_ratio=0.2, penalty=l2, solver=saga, score=0.672, total=   2.1s\n",
            "[CV] C=0.01, l1_ratio=0.2, penalty=l2, solver=saga ...................\n"
          ],
          "name": "stdout"
        },
        {
          "output_type": "stream",
          "text": [
            "/usr/local/lib/python3.7/dist-packages/sklearn/linear_model/_logistic.py:1501: UserWarning: l1_ratio parameter is only used when penalty is 'elasticnet'. Got (penalty=l2)\n",
            "  \"(penalty={})\".format(self.penalty))\n"
          ],
          "name": "stderr"
        },
        {
          "output_type": "stream",
          "text": [
            "[CV]  C=0.01, l1_ratio=0.2, penalty=l2, solver=saga, score=0.667, total=   2.1s\n",
            "[CV] C=0.01, l1_ratio=0.2, penalty=l2, solver=saga ...................\n"
          ],
          "name": "stdout"
        },
        {
          "output_type": "stream",
          "text": [
            "/usr/local/lib/python3.7/dist-packages/sklearn/linear_model/_logistic.py:1501: UserWarning: l1_ratio parameter is only used when penalty is 'elasticnet'. Got (penalty=l2)\n",
            "  \"(penalty={})\".format(self.penalty))\n"
          ],
          "name": "stderr"
        },
        {
          "output_type": "stream",
          "text": [
            "[CV]  C=0.01, l1_ratio=0.2, penalty=l2, solver=saga, score=0.654, total=   1.8s\n",
            "[CV] C=0.01, l1_ratio=0.2, penalty=l2, solver=saga ...................\n"
          ],
          "name": "stdout"
        },
        {
          "output_type": "stream",
          "text": [
            "/usr/local/lib/python3.7/dist-packages/sklearn/linear_model/_logistic.py:1501: UserWarning: l1_ratio parameter is only used when penalty is 'elasticnet'. Got (penalty=l2)\n",
            "  \"(penalty={})\".format(self.penalty))\n"
          ],
          "name": "stderr"
        },
        {
          "output_type": "stream",
          "text": [
            "[CV]  C=0.01, l1_ratio=0.2, penalty=l2, solver=saga, score=0.646, total=   2.1s\n",
            "[CV] C=0.01, l1_ratio=0.2, penalty=l2, solver=saga ...................\n"
          ],
          "name": "stdout"
        },
        {
          "output_type": "stream",
          "text": [
            "/usr/local/lib/python3.7/dist-packages/sklearn/linear_model/_logistic.py:1501: UserWarning: l1_ratio parameter is only used when penalty is 'elasticnet'. Got (penalty=l2)\n",
            "  \"(penalty={})\".format(self.penalty))\n"
          ],
          "name": "stderr"
        },
        {
          "output_type": "stream",
          "text": [
            "[CV]  C=0.01, l1_ratio=0.2, penalty=l2, solver=saga, score=0.658, total=   2.2s\n",
            "[CV] C=0.01, l1_ratio=0.2, penalty=l2, solver=liblinear ..............\n",
            "[CV]  C=0.01, l1_ratio=0.2, penalty=l2, solver=liblinear, score=0.675, total=   0.1s\n",
            "[CV] C=0.01, l1_ratio=0.2, penalty=l2, solver=liblinear ..............\n",
            "[CV]  C=0.01, l1_ratio=0.2, penalty=l2, solver=liblinear, score=0.666, total=   0.1s\n",
            "[CV] C=0.01, l1_ratio=0.2, penalty=l2, solver=liblinear ..............\n"
          ],
          "name": "stdout"
        },
        {
          "output_type": "stream",
          "text": [
            "/usr/local/lib/python3.7/dist-packages/sklearn/linear_model/_logistic.py:1501: UserWarning: l1_ratio parameter is only used when penalty is 'elasticnet'. Got (penalty=l2)\n",
            "  \"(penalty={})\".format(self.penalty))\n",
            "/usr/local/lib/python3.7/dist-packages/sklearn/linear_model/_logistic.py:1501: UserWarning: l1_ratio parameter is only used when penalty is 'elasticnet'. Got (penalty=l2)\n",
            "  \"(penalty={})\".format(self.penalty))\n",
            "/usr/local/lib/python3.7/dist-packages/sklearn/linear_model/_logistic.py:1501: UserWarning: l1_ratio parameter is only used when penalty is 'elasticnet'. Got (penalty=l2)\n",
            "  \"(penalty={})\".format(self.penalty))\n"
          ],
          "name": "stderr"
        },
        {
          "output_type": "stream",
          "text": [
            "[CV]  C=0.01, l1_ratio=0.2, penalty=l2, solver=liblinear, score=0.657, total=   0.1s\n",
            "[CV] C=0.01, l1_ratio=0.2, penalty=l2, solver=liblinear ..............\n",
            "[CV]  C=0.01, l1_ratio=0.2, penalty=l2, solver=liblinear, score=0.644, total=   0.1s\n",
            "[CV] C=0.01, l1_ratio=0.2, penalty=l2, solver=liblinear ..............\n",
            "[CV]  C=0.01, l1_ratio=0.2, penalty=l2, solver=liblinear, score=0.663, total=   0.1s\n",
            "[CV] C=0.01, l1_ratio=0.2, penalty=elasticnet, solver=saga ...........\n"
          ],
          "name": "stdout"
        },
        {
          "output_type": "stream",
          "text": [
            "/usr/local/lib/python3.7/dist-packages/sklearn/linear_model/_logistic.py:1501: UserWarning: l1_ratio parameter is only used when penalty is 'elasticnet'. Got (penalty=l2)\n",
            "  \"(penalty={})\".format(self.penalty))\n",
            "/usr/local/lib/python3.7/dist-packages/sklearn/linear_model/_logistic.py:1501: UserWarning: l1_ratio parameter is only used when penalty is 'elasticnet'. Got (penalty=l2)\n",
            "  \"(penalty={})\".format(self.penalty))\n"
          ],
          "name": "stderr"
        },
        {
          "output_type": "stream",
          "text": [
            "[CV]  C=0.01, l1_ratio=0.2, penalty=elasticnet, solver=saga, score=0.672, total=   2.7s\n",
            "[CV] C=0.01, l1_ratio=0.2, penalty=elasticnet, solver=saga ...........\n",
            "[CV]  C=0.01, l1_ratio=0.2, penalty=elasticnet, solver=saga, score=0.667, total=   2.7s\n",
            "[CV] C=0.01, l1_ratio=0.2, penalty=elasticnet, solver=saga ...........\n",
            "[CV]  C=0.01, l1_ratio=0.2, penalty=elasticnet, solver=saga, score=0.654, total=   2.2s\n",
            "[CV] C=0.01, l1_ratio=0.2, penalty=elasticnet, solver=saga ...........\n",
            "[CV]  C=0.01, l1_ratio=0.2, penalty=elasticnet, solver=saga, score=0.647, total=   2.6s\n",
            "[CV] C=0.01, l1_ratio=0.2, penalty=elasticnet, solver=saga ...........\n",
            "[CV]  C=0.01, l1_ratio=0.2, penalty=elasticnet, solver=saga, score=0.658, total=   2.8s\n",
            "[CV] C=0.01, l1_ratio=0.2, penalty=elasticnet, solver=liblinear ......\n",
            "[CV]  C=0.01, l1_ratio=0.2, penalty=elasticnet, solver=liblinear, score=nan, total=   0.0s\n",
            "[CV] C=0.01, l1_ratio=0.2, penalty=elasticnet, solver=liblinear ......\n",
            "[CV]  C=0.01, l1_ratio=0.2, penalty=elasticnet, solver=liblinear, score=nan, total=   0.0s\n",
            "[CV] C=0.01, l1_ratio=0.2, penalty=elasticnet, solver=liblinear ......\n",
            "[CV]  C=0.01, l1_ratio=0.2, penalty=elasticnet, solver=liblinear, score=nan, total=   0.0s\n",
            "[CV] C=0.01, l1_ratio=0.2, penalty=elasticnet, solver=liblinear ......\n",
            "[CV]  C=0.01, l1_ratio=0.2, penalty=elasticnet, solver=liblinear, score=nan, total=   0.0s\n",
            "[CV] C=0.01, l1_ratio=0.2, penalty=elasticnet, solver=liblinear ......\n",
            "[CV]  C=0.01, l1_ratio=0.2, penalty=elasticnet, solver=liblinear, score=nan, total=   0.0s\n",
            "[CV] C=0.01, l1_ratio=0.4, penalty=l1, solver=saga ...................\n"
          ],
          "name": "stdout"
        },
        {
          "output_type": "stream",
          "text": [
            "/usr/local/lib/python3.7/dist-packages/sklearn/model_selection/_validation.py:536: FitFailedWarning: Estimator fit failed. The score on this train-test partition for these parameters will be set to nan. Details: \n",
            "ValueError: Only 'saga' solver supports elasticnet penalty, got solver=liblinear.\n",
            "\n",
            "  FitFailedWarning)\n",
            "/usr/local/lib/python3.7/dist-packages/sklearn/linear_model/_logistic.py:1501: UserWarning: l1_ratio parameter is only used when penalty is 'elasticnet'. Got (penalty=l1)\n",
            "  \"(penalty={})\".format(self.penalty))\n"
          ],
          "name": "stderr"
        },
        {
          "output_type": "stream",
          "text": [
            "[CV]  C=0.01, l1_ratio=0.4, penalty=l1, solver=saga, score=0.671, total=   2.5s\n",
            "[CV] C=0.01, l1_ratio=0.4, penalty=l1, solver=saga ...................\n"
          ],
          "name": "stdout"
        },
        {
          "output_type": "stream",
          "text": [
            "/usr/local/lib/python3.7/dist-packages/sklearn/linear_model/_logistic.py:1501: UserWarning: l1_ratio parameter is only used when penalty is 'elasticnet'. Got (penalty=l1)\n",
            "  \"(penalty={})\".format(self.penalty))\n"
          ],
          "name": "stderr"
        },
        {
          "output_type": "stream",
          "text": [
            "[CV]  C=0.01, l1_ratio=0.4, penalty=l1, solver=saga, score=0.670, total=   2.5s\n",
            "[CV] C=0.01, l1_ratio=0.4, penalty=l1, solver=saga ...................\n"
          ],
          "name": "stdout"
        },
        {
          "output_type": "stream",
          "text": [
            "/usr/local/lib/python3.7/dist-packages/sklearn/linear_model/_logistic.py:1501: UserWarning: l1_ratio parameter is only used when penalty is 'elasticnet'. Got (penalty=l1)\n",
            "  \"(penalty={})\".format(self.penalty))\n"
          ],
          "name": "stderr"
        },
        {
          "output_type": "stream",
          "text": [
            "[CV]  C=0.01, l1_ratio=0.4, penalty=l1, solver=saga, score=0.653, total=   2.2s\n",
            "[CV] C=0.01, l1_ratio=0.4, penalty=l1, solver=saga ...................\n"
          ],
          "name": "stdout"
        },
        {
          "output_type": "stream",
          "text": [
            "/usr/local/lib/python3.7/dist-packages/sklearn/linear_model/_logistic.py:1501: UserWarning: l1_ratio parameter is only used when penalty is 'elasticnet'. Got (penalty=l1)\n",
            "  \"(penalty={})\".format(self.penalty))\n"
          ],
          "name": "stderr"
        },
        {
          "output_type": "stream",
          "text": [
            "[CV]  C=0.01, l1_ratio=0.4, penalty=l1, solver=saga, score=0.648, total=   2.5s\n",
            "[CV] C=0.01, l1_ratio=0.4, penalty=l1, solver=saga ...................\n"
          ],
          "name": "stdout"
        },
        {
          "output_type": "stream",
          "text": [
            "/usr/local/lib/python3.7/dist-packages/sklearn/linear_model/_logistic.py:1501: UserWarning: l1_ratio parameter is only used when penalty is 'elasticnet'. Got (penalty=l1)\n",
            "  \"(penalty={})\".format(self.penalty))\n"
          ],
          "name": "stderr"
        },
        {
          "output_type": "stream",
          "text": [
            "[CV]  C=0.01, l1_ratio=0.4, penalty=l1, solver=saga, score=0.658, total=   2.6s\n",
            "[CV] C=0.01, l1_ratio=0.4, penalty=l1, solver=liblinear ..............\n",
            "[CV]  C=0.01, l1_ratio=0.4, penalty=l1, solver=liblinear, score=0.665, total=   0.1s\n",
            "[CV] C=0.01, l1_ratio=0.4, penalty=l1, solver=liblinear ..............\n"
          ],
          "name": "stdout"
        },
        {
          "output_type": "stream",
          "text": [
            "/usr/local/lib/python3.7/dist-packages/sklearn/linear_model/_logistic.py:1501: UserWarning: l1_ratio parameter is only used when penalty is 'elasticnet'. Got (penalty=l1)\n",
            "  \"(penalty={})\".format(self.penalty))\n",
            "/usr/local/lib/python3.7/dist-packages/sklearn/linear_model/_logistic.py:1501: UserWarning: l1_ratio parameter is only used when penalty is 'elasticnet'. Got (penalty=l1)\n",
            "  \"(penalty={})\".format(self.penalty))\n"
          ],
          "name": "stderr"
        },
        {
          "output_type": "stream",
          "text": [
            "[CV]  C=0.01, l1_ratio=0.4, penalty=l1, solver=liblinear, score=0.661, total=   0.1s\n",
            "[CV] C=0.01, l1_ratio=0.4, penalty=l1, solver=liblinear ..............\n",
            "[CV]  C=0.01, l1_ratio=0.4, penalty=l1, solver=liblinear, score=0.651, total=   0.1s\n",
            "[CV] C=0.01, l1_ratio=0.4, penalty=l1, solver=liblinear ..............\n"
          ],
          "name": "stdout"
        },
        {
          "output_type": "stream",
          "text": [
            "/usr/local/lib/python3.7/dist-packages/sklearn/linear_model/_logistic.py:1501: UserWarning: l1_ratio parameter is only used when penalty is 'elasticnet'. Got (penalty=l1)\n",
            "  \"(penalty={})\".format(self.penalty))\n",
            "/usr/local/lib/python3.7/dist-packages/sklearn/linear_model/_logistic.py:1501: UserWarning: l1_ratio parameter is only used when penalty is 'elasticnet'. Got (penalty=l1)\n",
            "  \"(penalty={})\".format(self.penalty))\n"
          ],
          "name": "stderr"
        },
        {
          "output_type": "stream",
          "text": [
            "[CV]  C=0.01, l1_ratio=0.4, penalty=l1, solver=liblinear, score=0.639, total=   0.1s\n",
            "[CV] C=0.01, l1_ratio=0.4, penalty=l1, solver=liblinear ..............\n",
            "[CV]  C=0.01, l1_ratio=0.4, penalty=l1, solver=liblinear, score=0.665, total=   0.1s\n",
            "[CV] C=0.01, l1_ratio=0.4, penalty=l2, solver=saga ...................\n"
          ],
          "name": "stdout"
        },
        {
          "output_type": "stream",
          "text": [
            "/usr/local/lib/python3.7/dist-packages/sklearn/linear_model/_logistic.py:1501: UserWarning: l1_ratio parameter is only used when penalty is 'elasticnet'. Got (penalty=l1)\n",
            "  \"(penalty={})\".format(self.penalty))\n",
            "/usr/local/lib/python3.7/dist-packages/sklearn/linear_model/_logistic.py:1501: UserWarning: l1_ratio parameter is only used when penalty is 'elasticnet'. Got (penalty=l2)\n",
            "  \"(penalty={})\".format(self.penalty))\n"
          ],
          "name": "stderr"
        },
        {
          "output_type": "stream",
          "text": [
            "[CV]  C=0.01, l1_ratio=0.4, penalty=l2, solver=saga, score=0.672, total=   2.1s\n",
            "[CV] C=0.01, l1_ratio=0.4, penalty=l2, solver=saga ...................\n"
          ],
          "name": "stdout"
        },
        {
          "output_type": "stream",
          "text": [
            "/usr/local/lib/python3.7/dist-packages/sklearn/linear_model/_logistic.py:1501: UserWarning: l1_ratio parameter is only used when penalty is 'elasticnet'. Got (penalty=l2)\n",
            "  \"(penalty={})\".format(self.penalty))\n"
          ],
          "name": "stderr"
        },
        {
          "output_type": "stream",
          "text": [
            "[CV]  C=0.01, l1_ratio=0.4, penalty=l2, solver=saga, score=0.667, total=   2.1s\n",
            "[CV] C=0.01, l1_ratio=0.4, penalty=l2, solver=saga ...................\n"
          ],
          "name": "stdout"
        },
        {
          "output_type": "stream",
          "text": [
            "/usr/local/lib/python3.7/dist-packages/sklearn/linear_model/_logistic.py:1501: UserWarning: l1_ratio parameter is only used when penalty is 'elasticnet'. Got (penalty=l2)\n",
            "  \"(penalty={})\".format(self.penalty))\n"
          ],
          "name": "stderr"
        },
        {
          "output_type": "stream",
          "text": [
            "[CV]  C=0.01, l1_ratio=0.4, penalty=l2, solver=saga, score=0.654, total=   1.8s\n",
            "[CV] C=0.01, l1_ratio=0.4, penalty=l2, solver=saga ...................\n"
          ],
          "name": "stdout"
        },
        {
          "output_type": "stream",
          "text": [
            "/usr/local/lib/python3.7/dist-packages/sklearn/linear_model/_logistic.py:1501: UserWarning: l1_ratio parameter is only used when penalty is 'elasticnet'. Got (penalty=l2)\n",
            "  \"(penalty={})\".format(self.penalty))\n"
          ],
          "name": "stderr"
        },
        {
          "output_type": "stream",
          "text": [
            "[CV]  C=0.01, l1_ratio=0.4, penalty=l2, solver=saga, score=0.646, total=   2.1s\n",
            "[CV] C=0.01, l1_ratio=0.4, penalty=l2, solver=saga ...................\n"
          ],
          "name": "stdout"
        },
        {
          "output_type": "stream",
          "text": [
            "/usr/local/lib/python3.7/dist-packages/sklearn/linear_model/_logistic.py:1501: UserWarning: l1_ratio parameter is only used when penalty is 'elasticnet'. Got (penalty=l2)\n",
            "  \"(penalty={})\".format(self.penalty))\n"
          ],
          "name": "stderr"
        },
        {
          "output_type": "stream",
          "text": [
            "[CV]  C=0.01, l1_ratio=0.4, penalty=l2, solver=saga, score=0.658, total=   2.1s\n",
            "[CV] C=0.01, l1_ratio=0.4, penalty=l2, solver=liblinear ..............\n",
            "[CV]  C=0.01, l1_ratio=0.4, penalty=l2, solver=liblinear, score=0.675, total=   0.1s\n",
            "[CV] C=0.01, l1_ratio=0.4, penalty=l2, solver=liblinear ..............\n",
            "[CV]  C=0.01, l1_ratio=0.4, penalty=l2, solver=liblinear, score=0.666, total=   0.1s\n",
            "[CV] C=0.01, l1_ratio=0.4, penalty=l2, solver=liblinear ..............\n"
          ],
          "name": "stdout"
        },
        {
          "output_type": "stream",
          "text": [
            "/usr/local/lib/python3.7/dist-packages/sklearn/linear_model/_logistic.py:1501: UserWarning: l1_ratio parameter is only used when penalty is 'elasticnet'. Got (penalty=l2)\n",
            "  \"(penalty={})\".format(self.penalty))\n",
            "/usr/local/lib/python3.7/dist-packages/sklearn/linear_model/_logistic.py:1501: UserWarning: l1_ratio parameter is only used when penalty is 'elasticnet'. Got (penalty=l2)\n",
            "  \"(penalty={})\".format(self.penalty))\n",
            "/usr/local/lib/python3.7/dist-packages/sklearn/linear_model/_logistic.py:1501: UserWarning: l1_ratio parameter is only used when penalty is 'elasticnet'. Got (penalty=l2)\n",
            "  \"(penalty={})\".format(self.penalty))\n"
          ],
          "name": "stderr"
        },
        {
          "output_type": "stream",
          "text": [
            "[CV]  C=0.01, l1_ratio=0.4, penalty=l2, solver=liblinear, score=0.657, total=   0.1s\n",
            "[CV] C=0.01, l1_ratio=0.4, penalty=l2, solver=liblinear ..............\n",
            "[CV]  C=0.01, l1_ratio=0.4, penalty=l2, solver=liblinear, score=0.644, total=   0.1s\n",
            "[CV] C=0.01, l1_ratio=0.4, penalty=l2, solver=liblinear ..............\n",
            "[CV]  C=0.01, l1_ratio=0.4, penalty=l2, solver=liblinear, score=0.663, total=   0.1s\n",
            "[CV] C=0.01, l1_ratio=0.4, penalty=elasticnet, solver=saga ...........\n"
          ],
          "name": "stdout"
        },
        {
          "output_type": "stream",
          "text": [
            "/usr/local/lib/python3.7/dist-packages/sklearn/linear_model/_logistic.py:1501: UserWarning: l1_ratio parameter is only used when penalty is 'elasticnet'. Got (penalty=l2)\n",
            "  \"(penalty={})\".format(self.penalty))\n",
            "/usr/local/lib/python3.7/dist-packages/sklearn/linear_model/_logistic.py:1501: UserWarning: l1_ratio parameter is only used when penalty is 'elasticnet'. Got (penalty=l2)\n",
            "  \"(penalty={})\".format(self.penalty))\n"
          ],
          "name": "stderr"
        },
        {
          "output_type": "stream",
          "text": [
            "[CV]  C=0.01, l1_ratio=0.4, penalty=elasticnet, solver=saga, score=0.672, total=   2.7s\n",
            "[CV] C=0.01, l1_ratio=0.4, penalty=elasticnet, solver=saga ...........\n",
            "[CV]  C=0.01, l1_ratio=0.4, penalty=elasticnet, solver=saga, score=0.668, total=   2.7s\n",
            "[CV] C=0.01, l1_ratio=0.4, penalty=elasticnet, solver=saga ...........\n",
            "[CV]  C=0.01, l1_ratio=0.4, penalty=elasticnet, solver=saga, score=0.654, total=   2.3s\n",
            "[CV] C=0.01, l1_ratio=0.4, penalty=elasticnet, solver=saga ...........\n",
            "[CV]  C=0.01, l1_ratio=0.4, penalty=elasticnet, solver=saga, score=0.648, total=   2.7s\n",
            "[CV] C=0.01, l1_ratio=0.4, penalty=elasticnet, solver=saga ...........\n",
            "[CV]  C=0.01, l1_ratio=0.4, penalty=elasticnet, solver=saga, score=0.659, total=   2.8s\n",
            "[CV] C=0.01, l1_ratio=0.4, penalty=elasticnet, solver=liblinear ......\n",
            "[CV]  C=0.01, l1_ratio=0.4, penalty=elasticnet, solver=liblinear, score=nan, total=   0.0s\n",
            "[CV] C=0.01, l1_ratio=0.4, penalty=elasticnet, solver=liblinear ......\n",
            "[CV]  C=0.01, l1_ratio=0.4, penalty=elasticnet, solver=liblinear, score=nan, total=   0.0s\n",
            "[CV] C=0.01, l1_ratio=0.4, penalty=elasticnet, solver=liblinear ......\n",
            "[CV]  C=0.01, l1_ratio=0.4, penalty=elasticnet, solver=liblinear, score=nan, total=   0.0s\n",
            "[CV] C=0.01, l1_ratio=0.4, penalty=elasticnet, solver=liblinear ......\n",
            "[CV]  C=0.01, l1_ratio=0.4, penalty=elasticnet, solver=liblinear, score=nan, total=   0.0s\n",
            "[CV] C=0.01, l1_ratio=0.4, penalty=elasticnet, solver=liblinear ......\n",
            "[CV]  C=0.01, l1_ratio=0.4, penalty=elasticnet, solver=liblinear, score=nan, total=   0.0s\n",
            "[CV] C=0.01, l1_ratio=0.5, penalty=l1, solver=saga ...................\n"
          ],
          "name": "stdout"
        },
        {
          "output_type": "stream",
          "text": [
            "/usr/local/lib/python3.7/dist-packages/sklearn/model_selection/_validation.py:536: FitFailedWarning: Estimator fit failed. The score on this train-test partition for these parameters will be set to nan. Details: \n",
            "ValueError: Only 'saga' solver supports elasticnet penalty, got solver=liblinear.\n",
            "\n",
            "  FitFailedWarning)\n",
            "/usr/local/lib/python3.7/dist-packages/sklearn/linear_model/_logistic.py:1501: UserWarning: l1_ratio parameter is only used when penalty is 'elasticnet'. Got (penalty=l1)\n",
            "  \"(penalty={})\".format(self.penalty))\n"
          ],
          "name": "stderr"
        },
        {
          "output_type": "stream",
          "text": [
            "[CV]  C=0.01, l1_ratio=0.5, penalty=l1, solver=saga, score=0.671, total=   2.5s\n",
            "[CV] C=0.01, l1_ratio=0.5, penalty=l1, solver=saga ...................\n"
          ],
          "name": "stdout"
        },
        {
          "output_type": "stream",
          "text": [
            "/usr/local/lib/python3.7/dist-packages/sklearn/linear_model/_logistic.py:1501: UserWarning: l1_ratio parameter is only used when penalty is 'elasticnet'. Got (penalty=l1)\n",
            "  \"(penalty={})\".format(self.penalty))\n"
          ],
          "name": "stderr"
        },
        {
          "output_type": "stream",
          "text": [
            "[CV]  C=0.01, l1_ratio=0.5, penalty=l1, solver=saga, score=0.670, total=   2.5s\n",
            "[CV] C=0.01, l1_ratio=0.5, penalty=l1, solver=saga ...................\n"
          ],
          "name": "stdout"
        },
        {
          "output_type": "stream",
          "text": [
            "/usr/local/lib/python3.7/dist-packages/sklearn/linear_model/_logistic.py:1501: UserWarning: l1_ratio parameter is only used when penalty is 'elasticnet'. Got (penalty=l1)\n",
            "  \"(penalty={})\".format(self.penalty))\n"
          ],
          "name": "stderr"
        },
        {
          "output_type": "stream",
          "text": [
            "[CV]  C=0.01, l1_ratio=0.5, penalty=l1, solver=saga, score=0.653, total=   2.2s\n",
            "[CV] C=0.01, l1_ratio=0.5, penalty=l1, solver=saga ...................\n"
          ],
          "name": "stdout"
        },
        {
          "output_type": "stream",
          "text": [
            "/usr/local/lib/python3.7/dist-packages/sklearn/linear_model/_logistic.py:1501: UserWarning: l1_ratio parameter is only used when penalty is 'elasticnet'. Got (penalty=l1)\n",
            "  \"(penalty={})\".format(self.penalty))\n"
          ],
          "name": "stderr"
        },
        {
          "output_type": "stream",
          "text": [
            "[CV]  C=0.01, l1_ratio=0.5, penalty=l1, solver=saga, score=0.648, total=   2.7s\n",
            "[CV] C=0.01, l1_ratio=0.5, penalty=l1, solver=saga ...................\n"
          ],
          "name": "stdout"
        },
        {
          "output_type": "stream",
          "text": [
            "/usr/local/lib/python3.7/dist-packages/sklearn/linear_model/_logistic.py:1501: UserWarning: l1_ratio parameter is only used when penalty is 'elasticnet'. Got (penalty=l1)\n",
            "  \"(penalty={})\".format(self.penalty))\n"
          ],
          "name": "stderr"
        },
        {
          "output_type": "stream",
          "text": [
            "[CV]  C=0.01, l1_ratio=0.5, penalty=l1, solver=saga, score=0.658, total=   2.7s\n",
            "[CV] C=0.01, l1_ratio=0.5, penalty=l1, solver=liblinear ..............\n",
            "[CV]  C=0.01, l1_ratio=0.5, penalty=l1, solver=liblinear, score=0.665, total=   0.1s\n",
            "[CV] C=0.01, l1_ratio=0.5, penalty=l1, solver=liblinear ..............\n"
          ],
          "name": "stdout"
        },
        {
          "output_type": "stream",
          "text": [
            "/usr/local/lib/python3.7/dist-packages/sklearn/linear_model/_logistic.py:1501: UserWarning: l1_ratio parameter is only used when penalty is 'elasticnet'. Got (penalty=l1)\n",
            "  \"(penalty={})\".format(self.penalty))\n",
            "/usr/local/lib/python3.7/dist-packages/sklearn/linear_model/_logistic.py:1501: UserWarning: l1_ratio parameter is only used when penalty is 'elasticnet'. Got (penalty=l1)\n",
            "  \"(penalty={})\".format(self.penalty))\n"
          ],
          "name": "stderr"
        },
        {
          "output_type": "stream",
          "text": [
            "[CV]  C=0.01, l1_ratio=0.5, penalty=l1, solver=liblinear, score=0.661, total=   0.1s\n",
            "[CV] C=0.01, l1_ratio=0.5, penalty=l1, solver=liblinear ..............\n",
            "[CV]  C=0.01, l1_ratio=0.5, penalty=l1, solver=liblinear, score=0.651, total=   0.1s\n",
            "[CV] C=0.01, l1_ratio=0.5, penalty=l1, solver=liblinear ..............\n"
          ],
          "name": "stdout"
        },
        {
          "output_type": "stream",
          "text": [
            "/usr/local/lib/python3.7/dist-packages/sklearn/linear_model/_logistic.py:1501: UserWarning: l1_ratio parameter is only used when penalty is 'elasticnet'. Got (penalty=l1)\n",
            "  \"(penalty={})\".format(self.penalty))\n",
            "/usr/local/lib/python3.7/dist-packages/sklearn/linear_model/_logistic.py:1501: UserWarning: l1_ratio parameter is only used when penalty is 'elasticnet'. Got (penalty=l1)\n",
            "  \"(penalty={})\".format(self.penalty))\n"
          ],
          "name": "stderr"
        },
        {
          "output_type": "stream",
          "text": [
            "[CV]  C=0.01, l1_ratio=0.5, penalty=l1, solver=liblinear, score=0.639, total=   0.1s\n",
            "[CV] C=0.01, l1_ratio=0.5, penalty=l1, solver=liblinear ..............\n",
            "[CV]  C=0.01, l1_ratio=0.5, penalty=l1, solver=liblinear, score=0.665, total=   0.1s\n",
            "[CV] C=0.01, l1_ratio=0.5, penalty=l2, solver=saga ...................\n"
          ],
          "name": "stdout"
        },
        {
          "output_type": "stream",
          "text": [
            "/usr/local/lib/python3.7/dist-packages/sklearn/linear_model/_logistic.py:1501: UserWarning: l1_ratio parameter is only used when penalty is 'elasticnet'. Got (penalty=l1)\n",
            "  \"(penalty={})\".format(self.penalty))\n",
            "/usr/local/lib/python3.7/dist-packages/sklearn/linear_model/_logistic.py:1501: UserWarning: l1_ratio parameter is only used when penalty is 'elasticnet'. Got (penalty=l2)\n",
            "  \"(penalty={})\".format(self.penalty))\n"
          ],
          "name": "stderr"
        },
        {
          "output_type": "stream",
          "text": [
            "[CV]  C=0.01, l1_ratio=0.5, penalty=l2, solver=saga, score=0.672, total=   2.1s\n",
            "[CV] C=0.01, l1_ratio=0.5, penalty=l2, solver=saga ...................\n"
          ],
          "name": "stdout"
        },
        {
          "output_type": "stream",
          "text": [
            "/usr/local/lib/python3.7/dist-packages/sklearn/linear_model/_logistic.py:1501: UserWarning: l1_ratio parameter is only used when penalty is 'elasticnet'. Got (penalty=l2)\n",
            "  \"(penalty={})\".format(self.penalty))\n"
          ],
          "name": "stderr"
        },
        {
          "output_type": "stream",
          "text": [
            "[CV]  C=0.01, l1_ratio=0.5, penalty=l2, solver=saga, score=0.667, total=   2.2s\n",
            "[CV] C=0.01, l1_ratio=0.5, penalty=l2, solver=saga ...................\n"
          ],
          "name": "stdout"
        },
        {
          "output_type": "stream",
          "text": [
            "/usr/local/lib/python3.7/dist-packages/sklearn/linear_model/_logistic.py:1501: UserWarning: l1_ratio parameter is only used when penalty is 'elasticnet'. Got (penalty=l2)\n",
            "  \"(penalty={})\".format(self.penalty))\n"
          ],
          "name": "stderr"
        },
        {
          "output_type": "stream",
          "text": [
            "[CV]  C=0.01, l1_ratio=0.5, penalty=l2, solver=saga, score=0.654, total=   1.9s\n",
            "[CV] C=0.01, l1_ratio=0.5, penalty=l2, solver=saga ...................\n"
          ],
          "name": "stdout"
        },
        {
          "output_type": "stream",
          "text": [
            "/usr/local/lib/python3.7/dist-packages/sklearn/linear_model/_logistic.py:1501: UserWarning: l1_ratio parameter is only used when penalty is 'elasticnet'. Got (penalty=l2)\n",
            "  \"(penalty={})\".format(self.penalty))\n"
          ],
          "name": "stderr"
        },
        {
          "output_type": "stream",
          "text": [
            "[CV]  C=0.01, l1_ratio=0.5, penalty=l2, solver=saga, score=0.646, total=   2.2s\n",
            "[CV] C=0.01, l1_ratio=0.5, penalty=l2, solver=saga ...................\n"
          ],
          "name": "stdout"
        },
        {
          "output_type": "stream",
          "text": [
            "/usr/local/lib/python3.7/dist-packages/sklearn/linear_model/_logistic.py:1501: UserWarning: l1_ratio parameter is only used when penalty is 'elasticnet'. Got (penalty=l2)\n",
            "  \"(penalty={})\".format(self.penalty))\n"
          ],
          "name": "stderr"
        },
        {
          "output_type": "stream",
          "text": [
            "[CV]  C=0.01, l1_ratio=0.5, penalty=l2, solver=saga, score=0.658, total=   2.2s\n",
            "[CV] C=0.01, l1_ratio=0.5, penalty=l2, solver=liblinear ..............\n",
            "[CV]  C=0.01, l1_ratio=0.5, penalty=l2, solver=liblinear, score=0.675, total=   0.1s\n",
            "[CV] C=0.01, l1_ratio=0.5, penalty=l2, solver=liblinear ..............\n",
            "[CV]  C=0.01, l1_ratio=0.5, penalty=l2, solver=liblinear, score=0.666, total=   0.1s\n",
            "[CV] C=0.01, l1_ratio=0.5, penalty=l2, solver=liblinear ..............\n"
          ],
          "name": "stdout"
        },
        {
          "output_type": "stream",
          "text": [
            "/usr/local/lib/python3.7/dist-packages/sklearn/linear_model/_logistic.py:1501: UserWarning: l1_ratio parameter is only used when penalty is 'elasticnet'. Got (penalty=l2)\n",
            "  \"(penalty={})\".format(self.penalty))\n",
            "/usr/local/lib/python3.7/dist-packages/sklearn/linear_model/_logistic.py:1501: UserWarning: l1_ratio parameter is only used when penalty is 'elasticnet'. Got (penalty=l2)\n",
            "  \"(penalty={})\".format(self.penalty))\n",
            "/usr/local/lib/python3.7/dist-packages/sklearn/linear_model/_logistic.py:1501: UserWarning: l1_ratio parameter is only used when penalty is 'elasticnet'. Got (penalty=l2)\n",
            "  \"(penalty={})\".format(self.penalty))\n"
          ],
          "name": "stderr"
        },
        {
          "output_type": "stream",
          "text": [
            "[CV]  C=0.01, l1_ratio=0.5, penalty=l2, solver=liblinear, score=0.657, total=   0.1s\n",
            "[CV] C=0.01, l1_ratio=0.5, penalty=l2, solver=liblinear ..............\n",
            "[CV]  C=0.01, l1_ratio=0.5, penalty=l2, solver=liblinear, score=0.644, total=   0.1s\n",
            "[CV] C=0.01, l1_ratio=0.5, penalty=l2, solver=liblinear ..............\n",
            "[CV]  C=0.01, l1_ratio=0.5, penalty=l2, solver=liblinear, score=0.663, total=   0.1s\n",
            "[CV] C=0.01, l1_ratio=0.5, penalty=elasticnet, solver=saga ...........\n"
          ],
          "name": "stdout"
        },
        {
          "output_type": "stream",
          "text": [
            "/usr/local/lib/python3.7/dist-packages/sklearn/linear_model/_logistic.py:1501: UserWarning: l1_ratio parameter is only used when penalty is 'elasticnet'. Got (penalty=l2)\n",
            "  \"(penalty={})\".format(self.penalty))\n",
            "/usr/local/lib/python3.7/dist-packages/sklearn/linear_model/_logistic.py:1501: UserWarning: l1_ratio parameter is only used when penalty is 'elasticnet'. Got (penalty=l2)\n",
            "  \"(penalty={})\".format(self.penalty))\n"
          ],
          "name": "stderr"
        },
        {
          "output_type": "stream",
          "text": [
            "[CV]  C=0.01, l1_ratio=0.5, penalty=elasticnet, solver=saga, score=0.672, total=   2.7s\n",
            "[CV] C=0.01, l1_ratio=0.5, penalty=elasticnet, solver=saga ...........\n",
            "[CV]  C=0.01, l1_ratio=0.5, penalty=elasticnet, solver=saga, score=0.669, total=   2.7s\n",
            "[CV] C=0.01, l1_ratio=0.5, penalty=elasticnet, solver=saga ...........\n",
            "[CV]  C=0.01, l1_ratio=0.5, penalty=elasticnet, solver=saga, score=0.653, total=   2.3s\n",
            "[CV] C=0.01, l1_ratio=0.5, penalty=elasticnet, solver=saga ...........\n",
            "[CV]  C=0.01, l1_ratio=0.5, penalty=elasticnet, solver=saga, score=0.648, total=   2.8s\n",
            "[CV] C=0.01, l1_ratio=0.5, penalty=elasticnet, solver=saga ...........\n",
            "[CV]  C=0.01, l1_ratio=0.5, penalty=elasticnet, solver=saga, score=0.657, total=   2.8s\n",
            "[CV] C=0.01, l1_ratio=0.5, penalty=elasticnet, solver=liblinear ......\n",
            "[CV]  C=0.01, l1_ratio=0.5, penalty=elasticnet, solver=liblinear, score=nan, total=   0.0s\n",
            "[CV] C=0.01, l1_ratio=0.5, penalty=elasticnet, solver=liblinear ......\n",
            "[CV]  C=0.01, l1_ratio=0.5, penalty=elasticnet, solver=liblinear, score=nan, total=   0.0s\n",
            "[CV] C=0.01, l1_ratio=0.5, penalty=elasticnet, solver=liblinear ......\n",
            "[CV]  C=0.01, l1_ratio=0.5, penalty=elasticnet, solver=liblinear, score=nan, total=   0.0s\n",
            "[CV] C=0.01, l1_ratio=0.5, penalty=elasticnet, solver=liblinear ......\n",
            "[CV]  C=0.01, l1_ratio=0.5, penalty=elasticnet, solver=liblinear, score=nan, total=   0.0s\n",
            "[CV] C=0.01, l1_ratio=0.5, penalty=elasticnet, solver=liblinear ......\n",
            "[CV]  C=0.01, l1_ratio=0.5, penalty=elasticnet, solver=liblinear, score=nan, total=   0.0s\n",
            "[CV] C=0.1, l1_ratio=0.2, penalty=l1, solver=saga ....................\n"
          ],
          "name": "stdout"
        },
        {
          "output_type": "stream",
          "text": [
            "/usr/local/lib/python3.7/dist-packages/sklearn/model_selection/_validation.py:536: FitFailedWarning: Estimator fit failed. The score on this train-test partition for these parameters will be set to nan. Details: \n",
            "ValueError: Only 'saga' solver supports elasticnet penalty, got solver=liblinear.\n",
            "\n",
            "  FitFailedWarning)\n",
            "/usr/local/lib/python3.7/dist-packages/sklearn/linear_model/_logistic.py:1501: UserWarning: l1_ratio parameter is only used when penalty is 'elasticnet'. Got (penalty=l1)\n",
            "  \"(penalty={})\".format(self.penalty))\n"
          ],
          "name": "stderr"
        },
        {
          "output_type": "stream",
          "text": [
            "[CV]  C=0.1, l1_ratio=0.2, penalty=l1, solver=saga, score=0.673, total=   3.9s\n",
            "[CV] C=0.1, l1_ratio=0.2, penalty=l1, solver=saga ....................\n"
          ],
          "name": "stdout"
        },
        {
          "output_type": "stream",
          "text": [
            "/usr/local/lib/python3.7/dist-packages/sklearn/linear_model/_logistic.py:1501: UserWarning: l1_ratio parameter is only used when penalty is 'elasticnet'. Got (penalty=l1)\n",
            "  \"(penalty={})\".format(self.penalty))\n"
          ],
          "name": "stderr"
        },
        {
          "output_type": "stream",
          "text": [
            "[CV]  C=0.1, l1_ratio=0.2, penalty=l1, solver=saga, score=0.666, total=   3.8s\n",
            "[CV] C=0.1, l1_ratio=0.2, penalty=l1, solver=saga ....................\n"
          ],
          "name": "stdout"
        },
        {
          "output_type": "stream",
          "text": [
            "/usr/local/lib/python3.7/dist-packages/sklearn/linear_model/_logistic.py:1501: UserWarning: l1_ratio parameter is only used when penalty is 'elasticnet'. Got (penalty=l1)\n",
            "  \"(penalty={})\".format(self.penalty))\n"
          ],
          "name": "stderr"
        },
        {
          "output_type": "stream",
          "text": [
            "[CV]  C=0.1, l1_ratio=0.2, penalty=l1, solver=saga, score=0.654, total=   2.0s\n",
            "[CV] C=0.1, l1_ratio=0.2, penalty=l1, solver=saga ....................\n"
          ],
          "name": "stdout"
        },
        {
          "output_type": "stream",
          "text": [
            "/usr/local/lib/python3.7/dist-packages/sklearn/linear_model/_logistic.py:1501: UserWarning: l1_ratio parameter is only used when penalty is 'elasticnet'. Got (penalty=l1)\n",
            "  \"(penalty={})\".format(self.penalty))\n"
          ],
          "name": "stderr"
        },
        {
          "output_type": "stream",
          "text": [
            "[CV]  C=0.1, l1_ratio=0.2, penalty=l1, solver=saga, score=0.646, total=   6.5s\n",
            "[CV] C=0.1, l1_ratio=0.2, penalty=l1, solver=saga ....................\n"
          ],
          "name": "stdout"
        },
        {
          "output_type": "stream",
          "text": [
            "/usr/local/lib/python3.7/dist-packages/sklearn/linear_model/_logistic.py:1501: UserWarning: l1_ratio parameter is only used when penalty is 'elasticnet'. Got (penalty=l1)\n",
            "  \"(penalty={})\".format(self.penalty))\n"
          ],
          "name": "stderr"
        },
        {
          "output_type": "stream",
          "text": [
            "[CV]  C=0.1, l1_ratio=0.2, penalty=l1, solver=saga, score=0.659, total=   4.6s\n",
            "[CV] C=0.1, l1_ratio=0.2, penalty=l1, solver=liblinear ...............\n",
            "[CV]  C=0.1, l1_ratio=0.2, penalty=l1, solver=liblinear, score=0.671, total=   0.2s\n",
            "[CV] C=0.1, l1_ratio=0.2, penalty=l1, solver=liblinear ...............\n"
          ],
          "name": "stdout"
        },
        {
          "output_type": "stream",
          "text": [
            "/usr/local/lib/python3.7/dist-packages/sklearn/linear_model/_logistic.py:1501: UserWarning: l1_ratio parameter is only used when penalty is 'elasticnet'. Got (penalty=l1)\n",
            "  \"(penalty={})\".format(self.penalty))\n",
            "/usr/local/lib/python3.7/dist-packages/sklearn/linear_model/_logistic.py:1501: UserWarning: l1_ratio parameter is only used when penalty is 'elasticnet'. Got (penalty=l1)\n",
            "  \"(penalty={})\".format(self.penalty))\n"
          ],
          "name": "stderr"
        },
        {
          "output_type": "stream",
          "text": [
            "[CV]  C=0.1, l1_ratio=0.2, penalty=l1, solver=liblinear, score=0.669, total=   0.2s\n",
            "[CV] C=0.1, l1_ratio=0.2, penalty=l1, solver=liblinear ...............\n",
            "[CV]  C=0.1, l1_ratio=0.2, penalty=l1, solver=liblinear, score=0.654, total=   0.1s\n",
            "[CV] C=0.1, l1_ratio=0.2, penalty=l1, solver=liblinear ...............\n"
          ],
          "name": "stdout"
        },
        {
          "output_type": "stream",
          "text": [
            "/usr/local/lib/python3.7/dist-packages/sklearn/linear_model/_logistic.py:1501: UserWarning: l1_ratio parameter is only used when penalty is 'elasticnet'. Got (penalty=l1)\n",
            "  \"(penalty={})\".format(self.penalty))\n",
            "/usr/local/lib/python3.7/dist-packages/sklearn/linear_model/_logistic.py:1501: UserWarning: l1_ratio parameter is only used when penalty is 'elasticnet'. Got (penalty=l1)\n",
            "  \"(penalty={})\".format(self.penalty))\n"
          ],
          "name": "stderr"
        },
        {
          "output_type": "stream",
          "text": [
            "[CV]  C=0.1, l1_ratio=0.2, penalty=l1, solver=liblinear, score=0.646, total=   0.1s\n",
            "[CV] C=0.1, l1_ratio=0.2, penalty=l1, solver=liblinear ...............\n",
            "[CV]  C=0.1, l1_ratio=0.2, penalty=l1, solver=liblinear, score=0.659, total=   0.2s\n",
            "[CV] C=0.1, l1_ratio=0.2, penalty=l2, solver=saga ....................\n"
          ],
          "name": "stdout"
        },
        {
          "output_type": "stream",
          "text": [
            "/usr/local/lib/python3.7/dist-packages/sklearn/linear_model/_logistic.py:1501: UserWarning: l1_ratio parameter is only used when penalty is 'elasticnet'. Got (penalty=l1)\n",
            "  \"(penalty={})\".format(self.penalty))\n",
            "/usr/local/lib/python3.7/dist-packages/sklearn/linear_model/_logistic.py:1501: UserWarning: l1_ratio parameter is only used when penalty is 'elasticnet'. Got (penalty=l2)\n",
            "  \"(penalty={})\".format(self.penalty))\n"
          ],
          "name": "stderr"
        },
        {
          "output_type": "stream",
          "text": [
            "[CV]  C=0.1, l1_ratio=0.2, penalty=l2, solver=saga, score=0.673, total=   6.4s\n",
            "[CV] C=0.1, l1_ratio=0.2, penalty=l2, solver=saga ....................\n"
          ],
          "name": "stdout"
        },
        {
          "output_type": "stream",
          "text": [
            "/usr/local/lib/python3.7/dist-packages/sklearn/linear_model/_logistic.py:1501: UserWarning: l1_ratio parameter is only used when penalty is 'elasticnet'. Got (penalty=l2)\n",
            "  \"(penalty={})\".format(self.penalty))\n"
          ],
          "name": "stderr"
        },
        {
          "output_type": "stream",
          "text": [
            "[CV]  C=0.1, l1_ratio=0.2, penalty=l2, solver=saga, score=0.666, total=   4.7s\n",
            "[CV] C=0.1, l1_ratio=0.2, penalty=l2, solver=saga ....................\n"
          ],
          "name": "stdout"
        },
        {
          "output_type": "stream",
          "text": [
            "/usr/local/lib/python3.7/dist-packages/sklearn/linear_model/_logistic.py:1501: UserWarning: l1_ratio parameter is only used when penalty is 'elasticnet'. Got (penalty=l2)\n",
            "  \"(penalty={})\".format(self.penalty))\n"
          ],
          "name": "stderr"
        },
        {
          "output_type": "stream",
          "text": [
            "[CV]  C=0.1, l1_ratio=0.2, penalty=l2, solver=saga, score=0.654, total=   5.8s\n",
            "[CV] C=0.1, l1_ratio=0.2, penalty=l2, solver=saga ....................\n"
          ],
          "name": "stdout"
        },
        {
          "output_type": "stream",
          "text": [
            "/usr/local/lib/python3.7/dist-packages/sklearn/linear_model/_logistic.py:1501: UserWarning: l1_ratio parameter is only used when penalty is 'elasticnet'. Got (penalty=l2)\n",
            "  \"(penalty={})\".format(self.penalty))\n"
          ],
          "name": "stderr"
        },
        {
          "output_type": "stream",
          "text": [
            "[CV]  C=0.1, l1_ratio=0.2, penalty=l2, solver=saga, score=0.646, total=   4.9s\n",
            "[CV] C=0.1, l1_ratio=0.2, penalty=l2, solver=saga ....................\n"
          ],
          "name": "stdout"
        },
        {
          "output_type": "stream",
          "text": [
            "/usr/local/lib/python3.7/dist-packages/sklearn/linear_model/_logistic.py:1501: UserWarning: l1_ratio parameter is only used when penalty is 'elasticnet'. Got (penalty=l2)\n",
            "  \"(penalty={})\".format(self.penalty))\n"
          ],
          "name": "stderr"
        },
        {
          "output_type": "stream",
          "text": [
            "[CV]  C=0.1, l1_ratio=0.2, penalty=l2, solver=saga, score=0.658, total=   5.6s\n",
            "[CV] C=0.1, l1_ratio=0.2, penalty=l2, solver=liblinear ...............\n",
            "[CV]  C=0.1, l1_ratio=0.2, penalty=l2, solver=liblinear, score=0.672, total=   0.1s\n",
            "[CV] C=0.1, l1_ratio=0.2, penalty=l2, solver=liblinear ...............\n"
          ],
          "name": "stdout"
        },
        {
          "output_type": "stream",
          "text": [
            "/usr/local/lib/python3.7/dist-packages/sklearn/linear_model/_logistic.py:1501: UserWarning: l1_ratio parameter is only used when penalty is 'elasticnet'. Got (penalty=l2)\n",
            "  \"(penalty={})\".format(self.penalty))\n",
            "/usr/local/lib/python3.7/dist-packages/sklearn/linear_model/_logistic.py:1501: UserWarning: l1_ratio parameter is only used when penalty is 'elasticnet'. Got (penalty=l2)\n",
            "  \"(penalty={})\".format(self.penalty))\n"
          ],
          "name": "stderr"
        },
        {
          "output_type": "stream",
          "text": [
            "[CV]  C=0.1, l1_ratio=0.2, penalty=l2, solver=liblinear, score=0.668, total=   0.1s\n",
            "[CV] C=0.1, l1_ratio=0.2, penalty=l2, solver=liblinear ...............\n",
            "[CV]  C=0.1, l1_ratio=0.2, penalty=l2, solver=liblinear, score=0.654, total=   0.1s\n",
            "[CV] C=0.1, l1_ratio=0.2, penalty=l2, solver=liblinear ...............\n"
          ],
          "name": "stdout"
        },
        {
          "output_type": "stream",
          "text": [
            "/usr/local/lib/python3.7/dist-packages/sklearn/linear_model/_logistic.py:1501: UserWarning: l1_ratio parameter is only used when penalty is 'elasticnet'. Got (penalty=l2)\n",
            "  \"(penalty={})\".format(self.penalty))\n",
            "/usr/local/lib/python3.7/dist-packages/sklearn/linear_model/_logistic.py:1501: UserWarning: l1_ratio parameter is only used when penalty is 'elasticnet'. Got (penalty=l2)\n",
            "  \"(penalty={})\".format(self.penalty))\n"
          ],
          "name": "stderr"
        },
        {
          "output_type": "stream",
          "text": [
            "[CV]  C=0.1, l1_ratio=0.2, penalty=l2, solver=liblinear, score=0.646, total=   0.1s\n",
            "[CV] C=0.1, l1_ratio=0.2, penalty=l2, solver=liblinear ...............\n",
            "[CV]  C=0.1, l1_ratio=0.2, penalty=l2, solver=liblinear, score=0.660, total=   0.1s\n",
            "[CV] C=0.1, l1_ratio=0.2, penalty=elasticnet, solver=saga ............\n"
          ],
          "name": "stdout"
        },
        {
          "output_type": "stream",
          "text": [
            "/usr/local/lib/python3.7/dist-packages/sklearn/linear_model/_logistic.py:1501: UserWarning: l1_ratio parameter is only used when penalty is 'elasticnet'. Got (penalty=l2)\n",
            "  \"(penalty={})\".format(self.penalty))\n"
          ],
          "name": "stderr"
        },
        {
          "output_type": "stream",
          "text": [
            "[CV]  C=0.1, l1_ratio=0.2, penalty=elasticnet, solver=saga, score=0.672, total=   7.7s\n",
            "[CV] C=0.1, l1_ratio=0.2, penalty=elasticnet, solver=saga ............\n",
            "[CV]  C=0.1, l1_ratio=0.2, penalty=elasticnet, solver=saga, score=0.666, total=   6.3s\n",
            "[CV] C=0.1, l1_ratio=0.2, penalty=elasticnet, solver=saga ............\n",
            "[CV]  C=0.1, l1_ratio=0.2, penalty=elasticnet, solver=saga, score=0.654, total=   8.1s\n",
            "[CV] C=0.1, l1_ratio=0.2, penalty=elasticnet, solver=saga ............\n",
            "[CV]  C=0.1, l1_ratio=0.2, penalty=elasticnet, solver=saga, score=0.646, total=   6.7s\n",
            "[CV] C=0.1, l1_ratio=0.2, penalty=elasticnet, solver=saga ............\n",
            "[CV]  C=0.1, l1_ratio=0.2, penalty=elasticnet, solver=saga, score=0.658, total=   7.2s\n",
            "[CV] C=0.1, l1_ratio=0.2, penalty=elasticnet, solver=liblinear .......\n",
            "[CV]  C=0.1, l1_ratio=0.2, penalty=elasticnet, solver=liblinear, score=nan, total=   0.0s\n",
            "[CV] C=0.1, l1_ratio=0.2, penalty=elasticnet, solver=liblinear .......\n",
            "[CV]  C=0.1, l1_ratio=0.2, penalty=elasticnet, solver=liblinear, score=nan, total=   0.0s\n",
            "[CV] C=0.1, l1_ratio=0.2, penalty=elasticnet, solver=liblinear .......\n",
            "[CV]  C=0.1, l1_ratio=0.2, penalty=elasticnet, solver=liblinear, score=nan, total=   0.0s\n",
            "[CV] C=0.1, l1_ratio=0.2, penalty=elasticnet, solver=liblinear .......\n",
            "[CV]  C=0.1, l1_ratio=0.2, penalty=elasticnet, solver=liblinear, score=nan, total=   0.0s\n",
            "[CV] C=0.1, l1_ratio=0.2, penalty=elasticnet, solver=liblinear .......\n",
            "[CV]  C=0.1, l1_ratio=0.2, penalty=elasticnet, solver=liblinear, score=nan, total=   0.0s\n",
            "[CV] C=0.1, l1_ratio=0.4, penalty=l1, solver=saga ....................\n"
          ],
          "name": "stdout"
        },
        {
          "output_type": "stream",
          "text": [
            "/usr/local/lib/python3.7/dist-packages/sklearn/model_selection/_validation.py:536: FitFailedWarning: Estimator fit failed. The score on this train-test partition for these parameters will be set to nan. Details: \n",
            "ValueError: Only 'saga' solver supports elasticnet penalty, got solver=liblinear.\n",
            "\n",
            "  FitFailedWarning)\n",
            "/usr/local/lib/python3.7/dist-packages/sklearn/linear_model/_logistic.py:1501: UserWarning: l1_ratio parameter is only used when penalty is 'elasticnet'. Got (penalty=l1)\n",
            "  \"(penalty={})\".format(self.penalty))\n"
          ],
          "name": "stderr"
        },
        {
          "output_type": "stream",
          "text": [
            "[CV]  C=0.1, l1_ratio=0.4, penalty=l1, solver=saga, score=0.673, total=   3.9s\n",
            "[CV] C=0.1, l1_ratio=0.4, penalty=l1, solver=saga ....................\n"
          ],
          "name": "stdout"
        },
        {
          "output_type": "stream",
          "text": [
            "/usr/local/lib/python3.7/dist-packages/sklearn/linear_model/_logistic.py:1501: UserWarning: l1_ratio parameter is only used when penalty is 'elasticnet'. Got (penalty=l1)\n",
            "  \"(penalty={})\".format(self.penalty))\n"
          ],
          "name": "stderr"
        },
        {
          "output_type": "stream",
          "text": [
            "[CV]  C=0.1, l1_ratio=0.4, penalty=l1, solver=saga, score=0.666, total=   3.9s\n",
            "[CV] C=0.1, l1_ratio=0.4, penalty=l1, solver=saga ....................\n"
          ],
          "name": "stdout"
        },
        {
          "output_type": "stream",
          "text": [
            "/usr/local/lib/python3.7/dist-packages/sklearn/linear_model/_logistic.py:1501: UserWarning: l1_ratio parameter is only used when penalty is 'elasticnet'. Got (penalty=l1)\n",
            "  \"(penalty={})\".format(self.penalty))\n"
          ],
          "name": "stderr"
        },
        {
          "output_type": "stream",
          "text": [
            "[CV]  C=0.1, l1_ratio=0.4, penalty=l1, solver=saga, score=0.654, total=   2.0s\n",
            "[CV] C=0.1, l1_ratio=0.4, penalty=l1, solver=saga ....................\n"
          ],
          "name": "stdout"
        },
        {
          "output_type": "stream",
          "text": [
            "/usr/local/lib/python3.7/dist-packages/sklearn/linear_model/_logistic.py:1501: UserWarning: l1_ratio parameter is only used when penalty is 'elasticnet'. Got (penalty=l1)\n",
            "  \"(penalty={})\".format(self.penalty))\n"
          ],
          "name": "stderr"
        },
        {
          "output_type": "stream",
          "text": [
            "[CV]  C=0.1, l1_ratio=0.4, penalty=l1, solver=saga, score=0.646, total=   6.3s\n",
            "[CV] C=0.1, l1_ratio=0.4, penalty=l1, solver=saga ....................\n"
          ],
          "name": "stdout"
        },
        {
          "output_type": "stream",
          "text": [
            "/usr/local/lib/python3.7/dist-packages/sklearn/linear_model/_logistic.py:1501: UserWarning: l1_ratio parameter is only used when penalty is 'elasticnet'. Got (penalty=l1)\n",
            "  \"(penalty={})\".format(self.penalty))\n"
          ],
          "name": "stderr"
        },
        {
          "output_type": "stream",
          "text": [
            "[CV]  C=0.1, l1_ratio=0.4, penalty=l1, solver=saga, score=0.659, total=   4.8s\n",
            "[CV] C=0.1, l1_ratio=0.4, penalty=l1, solver=liblinear ...............\n",
            "[CV]  C=0.1, l1_ratio=0.4, penalty=l1, solver=liblinear, score=0.671, total=   0.2s\n",
            "[CV] C=0.1, l1_ratio=0.4, penalty=l1, solver=liblinear ...............\n"
          ],
          "name": "stdout"
        },
        {
          "output_type": "stream",
          "text": [
            "/usr/local/lib/python3.7/dist-packages/sklearn/linear_model/_logistic.py:1501: UserWarning: l1_ratio parameter is only used when penalty is 'elasticnet'. Got (penalty=l1)\n",
            "  \"(penalty={})\".format(self.penalty))\n",
            "/usr/local/lib/python3.7/dist-packages/sklearn/linear_model/_logistic.py:1501: UserWarning: l1_ratio parameter is only used when penalty is 'elasticnet'. Got (penalty=l1)\n",
            "  \"(penalty={})\".format(self.penalty))\n"
          ],
          "name": "stderr"
        },
        {
          "output_type": "stream",
          "text": [
            "[CV]  C=0.1, l1_ratio=0.4, penalty=l1, solver=liblinear, score=0.669, total=   0.2s\n",
            "[CV] C=0.1, l1_ratio=0.4, penalty=l1, solver=liblinear ...............\n",
            "[CV]  C=0.1, l1_ratio=0.4, penalty=l1, solver=liblinear, score=0.654, total=   0.1s\n",
            "[CV] C=0.1, l1_ratio=0.4, penalty=l1, solver=liblinear ...............\n"
          ],
          "name": "stdout"
        },
        {
          "output_type": "stream",
          "text": [
            "/usr/local/lib/python3.7/dist-packages/sklearn/linear_model/_logistic.py:1501: UserWarning: l1_ratio parameter is only used when penalty is 'elasticnet'. Got (penalty=l1)\n",
            "  \"(penalty={})\".format(self.penalty))\n",
            "/usr/local/lib/python3.7/dist-packages/sklearn/linear_model/_logistic.py:1501: UserWarning: l1_ratio parameter is only used when penalty is 'elasticnet'. Got (penalty=l1)\n",
            "  \"(penalty={})\".format(self.penalty))\n"
          ],
          "name": "stderr"
        },
        {
          "output_type": "stream",
          "text": [
            "[CV]  C=0.1, l1_ratio=0.4, penalty=l1, solver=liblinear, score=0.646, total=   0.2s\n",
            "[CV] C=0.1, l1_ratio=0.4, penalty=l1, solver=liblinear ...............\n",
            "[CV]  C=0.1, l1_ratio=0.4, penalty=l1, solver=liblinear, score=0.659, total=   0.2s\n",
            "[CV] C=0.1, l1_ratio=0.4, penalty=l2, solver=saga ....................\n"
          ],
          "name": "stdout"
        },
        {
          "output_type": "stream",
          "text": [
            "/usr/local/lib/python3.7/dist-packages/sklearn/linear_model/_logistic.py:1501: UserWarning: l1_ratio parameter is only used when penalty is 'elasticnet'. Got (penalty=l1)\n",
            "  \"(penalty={})\".format(self.penalty))\n",
            "/usr/local/lib/python3.7/dist-packages/sklearn/linear_model/_logistic.py:1501: UserWarning: l1_ratio parameter is only used when penalty is 'elasticnet'. Got (penalty=l2)\n",
            "  \"(penalty={})\".format(self.penalty))\n"
          ],
          "name": "stderr"
        },
        {
          "output_type": "stream",
          "text": [
            "[CV]  C=0.1, l1_ratio=0.4, penalty=l2, solver=saga, score=0.673, total=   6.4s\n",
            "[CV] C=0.1, l1_ratio=0.4, penalty=l2, solver=saga ....................\n"
          ],
          "name": "stdout"
        },
        {
          "output_type": "stream",
          "text": [
            "/usr/local/lib/python3.7/dist-packages/sklearn/linear_model/_logistic.py:1501: UserWarning: l1_ratio parameter is only used when penalty is 'elasticnet'. Got (penalty=l2)\n",
            "  \"(penalty={})\".format(self.penalty))\n"
          ],
          "name": "stderr"
        },
        {
          "output_type": "stream",
          "text": [
            "[CV]  C=0.1, l1_ratio=0.4, penalty=l2, solver=saga, score=0.666, total=   4.6s\n",
            "[CV] C=0.1, l1_ratio=0.4, penalty=l2, solver=saga ....................\n"
          ],
          "name": "stdout"
        },
        {
          "output_type": "stream",
          "text": [
            "/usr/local/lib/python3.7/dist-packages/sklearn/linear_model/_logistic.py:1501: UserWarning: l1_ratio parameter is only used when penalty is 'elasticnet'. Got (penalty=l2)\n",
            "  \"(penalty={})\".format(self.penalty))\n"
          ],
          "name": "stderr"
        },
        {
          "output_type": "stream",
          "text": [
            "[CV]  C=0.1, l1_ratio=0.4, penalty=l2, solver=saga, score=0.654, total=   5.7s\n",
            "[CV] C=0.1, l1_ratio=0.4, penalty=l2, solver=saga ....................\n"
          ],
          "name": "stdout"
        },
        {
          "output_type": "stream",
          "text": [
            "/usr/local/lib/python3.7/dist-packages/sklearn/linear_model/_logistic.py:1501: UserWarning: l1_ratio parameter is only used when penalty is 'elasticnet'. Got (penalty=l2)\n",
            "  \"(penalty={})\".format(self.penalty))\n"
          ],
          "name": "stderr"
        },
        {
          "output_type": "stream",
          "text": [
            "[CV]  C=0.1, l1_ratio=0.4, penalty=l2, solver=saga, score=0.646, total=   5.1s\n",
            "[CV] C=0.1, l1_ratio=0.4, penalty=l2, solver=saga ....................\n"
          ],
          "name": "stdout"
        },
        {
          "output_type": "stream",
          "text": [
            "/usr/local/lib/python3.7/dist-packages/sklearn/linear_model/_logistic.py:1501: UserWarning: l1_ratio parameter is only used when penalty is 'elasticnet'. Got (penalty=l2)\n",
            "  \"(penalty={})\".format(self.penalty))\n"
          ],
          "name": "stderr"
        },
        {
          "output_type": "stream",
          "text": [
            "[CV]  C=0.1, l1_ratio=0.4, penalty=l2, solver=saga, score=0.658, total=   5.8s\n",
            "[CV] C=0.1, l1_ratio=0.4, penalty=l2, solver=liblinear ...............\n",
            "[CV]  C=0.1, l1_ratio=0.4, penalty=l2, solver=liblinear, score=0.672, total=   0.1s\n",
            "[CV] C=0.1, l1_ratio=0.4, penalty=l2, solver=liblinear ...............\n"
          ],
          "name": "stdout"
        },
        {
          "output_type": "stream",
          "text": [
            "/usr/local/lib/python3.7/dist-packages/sklearn/linear_model/_logistic.py:1501: UserWarning: l1_ratio parameter is only used when penalty is 'elasticnet'. Got (penalty=l2)\n",
            "  \"(penalty={})\".format(self.penalty))\n",
            "/usr/local/lib/python3.7/dist-packages/sklearn/linear_model/_logistic.py:1501: UserWarning: l1_ratio parameter is only used when penalty is 'elasticnet'. Got (penalty=l2)\n",
            "  \"(penalty={})\".format(self.penalty))\n"
          ],
          "name": "stderr"
        },
        {
          "output_type": "stream",
          "text": [
            "[CV]  C=0.1, l1_ratio=0.4, penalty=l2, solver=liblinear, score=0.668, total=   0.1s\n",
            "[CV] C=0.1, l1_ratio=0.4, penalty=l2, solver=liblinear ...............\n",
            "[CV]  C=0.1, l1_ratio=0.4, penalty=l2, solver=liblinear, score=0.654, total=   0.1s\n",
            "[CV] C=0.1, l1_ratio=0.4, penalty=l2, solver=liblinear ...............\n"
          ],
          "name": "stdout"
        },
        {
          "output_type": "stream",
          "text": [
            "/usr/local/lib/python3.7/dist-packages/sklearn/linear_model/_logistic.py:1501: UserWarning: l1_ratio parameter is only used when penalty is 'elasticnet'. Got (penalty=l2)\n",
            "  \"(penalty={})\".format(self.penalty))\n",
            "/usr/local/lib/python3.7/dist-packages/sklearn/linear_model/_logistic.py:1501: UserWarning: l1_ratio parameter is only used when penalty is 'elasticnet'. Got (penalty=l2)\n",
            "  \"(penalty={})\".format(self.penalty))\n"
          ],
          "name": "stderr"
        },
        {
          "output_type": "stream",
          "text": [
            "[CV]  C=0.1, l1_ratio=0.4, penalty=l2, solver=liblinear, score=0.646, total=   0.1s\n",
            "[CV] C=0.1, l1_ratio=0.4, penalty=l2, solver=liblinear ...............\n",
            "[CV]  C=0.1, l1_ratio=0.4, penalty=l2, solver=liblinear, score=0.660, total=   0.1s\n",
            "[CV] C=0.1, l1_ratio=0.4, penalty=elasticnet, solver=saga ............\n"
          ],
          "name": "stdout"
        },
        {
          "output_type": "stream",
          "text": [
            "/usr/local/lib/python3.7/dist-packages/sklearn/linear_model/_logistic.py:1501: UserWarning: l1_ratio parameter is only used when penalty is 'elasticnet'. Got (penalty=l2)\n",
            "  \"(penalty={})\".format(self.penalty))\n"
          ],
          "name": "stderr"
        },
        {
          "output_type": "stream",
          "text": [
            "[CV]  C=0.1, l1_ratio=0.4, penalty=elasticnet, solver=saga, score=0.672, total=   5.9s\n",
            "[CV] C=0.1, l1_ratio=0.4, penalty=elasticnet, solver=saga ............\n",
            "[CV]  C=0.1, l1_ratio=0.4, penalty=elasticnet, solver=saga, score=0.667, total=   6.7s\n",
            "[CV] C=0.1, l1_ratio=0.4, penalty=elasticnet, solver=saga ............\n",
            "[CV]  C=0.1, l1_ratio=0.4, penalty=elasticnet, solver=saga, score=0.654, total=   8.4s\n",
            "[CV] C=0.1, l1_ratio=0.4, penalty=elasticnet, solver=saga ............\n",
            "[CV]  C=0.1, l1_ratio=0.4, penalty=elasticnet, solver=saga, score=0.647, total=   7.2s\n",
            "[CV] C=0.1, l1_ratio=0.4, penalty=elasticnet, solver=saga ............\n",
            "[CV]  C=0.1, l1_ratio=0.4, penalty=elasticnet, solver=saga, score=0.658, total=   6.6s\n",
            "[CV] C=0.1, l1_ratio=0.4, penalty=elasticnet, solver=liblinear .......\n",
            "[CV]  C=0.1, l1_ratio=0.4, penalty=elasticnet, solver=liblinear, score=nan, total=   0.0s\n",
            "[CV] C=0.1, l1_ratio=0.4, penalty=elasticnet, solver=liblinear .......\n",
            "[CV]  C=0.1, l1_ratio=0.4, penalty=elasticnet, solver=liblinear, score=nan, total=   0.0s\n",
            "[CV] C=0.1, l1_ratio=0.4, penalty=elasticnet, solver=liblinear .......\n",
            "[CV]  C=0.1, l1_ratio=0.4, penalty=elasticnet, solver=liblinear, score=nan, total=   0.0s\n",
            "[CV] C=0.1, l1_ratio=0.4, penalty=elasticnet, solver=liblinear .......\n",
            "[CV]  C=0.1, l1_ratio=0.4, penalty=elasticnet, solver=liblinear, score=nan, total=   0.0s\n",
            "[CV] C=0.1, l1_ratio=0.4, penalty=elasticnet, solver=liblinear .......\n",
            "[CV]  C=0.1, l1_ratio=0.4, penalty=elasticnet, solver=liblinear, score=nan, total=   0.0s\n",
            "[CV] C=0.1, l1_ratio=0.5, penalty=l1, solver=saga ....................\n"
          ],
          "name": "stdout"
        },
        {
          "output_type": "stream",
          "text": [
            "/usr/local/lib/python3.7/dist-packages/sklearn/model_selection/_validation.py:536: FitFailedWarning: Estimator fit failed. The score on this train-test partition for these parameters will be set to nan. Details: \n",
            "ValueError: Only 'saga' solver supports elasticnet penalty, got solver=liblinear.\n",
            "\n",
            "  FitFailedWarning)\n",
            "/usr/local/lib/python3.7/dist-packages/sklearn/linear_model/_logistic.py:1501: UserWarning: l1_ratio parameter is only used when penalty is 'elasticnet'. Got (penalty=l1)\n",
            "  \"(penalty={})\".format(self.penalty))\n"
          ],
          "name": "stderr"
        },
        {
          "output_type": "stream",
          "text": [
            "[CV]  C=0.1, l1_ratio=0.5, penalty=l1, solver=saga, score=0.673, total=   3.8s\n",
            "[CV] C=0.1, l1_ratio=0.5, penalty=l1, solver=saga ....................\n"
          ],
          "name": "stdout"
        },
        {
          "output_type": "stream",
          "text": [
            "/usr/local/lib/python3.7/dist-packages/sklearn/linear_model/_logistic.py:1501: UserWarning: l1_ratio parameter is only used when penalty is 'elasticnet'. Got (penalty=l1)\n",
            "  \"(penalty={})\".format(self.penalty))\n"
          ],
          "name": "stderr"
        },
        {
          "output_type": "stream",
          "text": [
            "[CV]  C=0.1, l1_ratio=0.5, penalty=l1, solver=saga, score=0.666, total=   3.7s\n",
            "[CV] C=0.1, l1_ratio=0.5, penalty=l1, solver=saga ....................\n"
          ],
          "name": "stdout"
        },
        {
          "output_type": "stream",
          "text": [
            "/usr/local/lib/python3.7/dist-packages/sklearn/linear_model/_logistic.py:1501: UserWarning: l1_ratio parameter is only used when penalty is 'elasticnet'. Got (penalty=l1)\n",
            "  \"(penalty={})\".format(self.penalty))\n"
          ],
          "name": "stderr"
        },
        {
          "output_type": "stream",
          "text": [
            "[CV]  C=0.1, l1_ratio=0.5, penalty=l1, solver=saga, score=0.654, total=   1.9s\n",
            "[CV] C=0.1, l1_ratio=0.5, penalty=l1, solver=saga ....................\n"
          ],
          "name": "stdout"
        },
        {
          "output_type": "stream",
          "text": [
            "/usr/local/lib/python3.7/dist-packages/sklearn/linear_model/_logistic.py:1501: UserWarning: l1_ratio parameter is only used when penalty is 'elasticnet'. Got (penalty=l1)\n",
            "  \"(penalty={})\".format(self.penalty))\n"
          ],
          "name": "stderr"
        },
        {
          "output_type": "stream",
          "text": [
            "[CV]  C=0.1, l1_ratio=0.5, penalty=l1, solver=saga, score=0.646, total=   6.4s\n",
            "[CV] C=0.1, l1_ratio=0.5, penalty=l1, solver=saga ....................\n"
          ],
          "name": "stdout"
        },
        {
          "output_type": "stream",
          "text": [
            "/usr/local/lib/python3.7/dist-packages/sklearn/linear_model/_logistic.py:1501: UserWarning: l1_ratio parameter is only used when penalty is 'elasticnet'. Got (penalty=l1)\n",
            "  \"(penalty={})\".format(self.penalty))\n"
          ],
          "name": "stderr"
        },
        {
          "output_type": "stream",
          "text": [
            "[CV]  C=0.1, l1_ratio=0.5, penalty=l1, solver=saga, score=0.659, total=   4.8s\n",
            "[CV] C=0.1, l1_ratio=0.5, penalty=l1, solver=liblinear ...............\n",
            "[CV]  C=0.1, l1_ratio=0.5, penalty=l1, solver=liblinear, score=0.671, total=   0.1s\n",
            "[CV] C=0.1, l1_ratio=0.5, penalty=l1, solver=liblinear ...............\n"
          ],
          "name": "stdout"
        },
        {
          "output_type": "stream",
          "text": [
            "/usr/local/lib/python3.7/dist-packages/sklearn/linear_model/_logistic.py:1501: UserWarning: l1_ratio parameter is only used when penalty is 'elasticnet'. Got (penalty=l1)\n",
            "  \"(penalty={})\".format(self.penalty))\n",
            "/usr/local/lib/python3.7/dist-packages/sklearn/linear_model/_logistic.py:1501: UserWarning: l1_ratio parameter is only used when penalty is 'elasticnet'. Got (penalty=l1)\n",
            "  \"(penalty={})\".format(self.penalty))\n"
          ],
          "name": "stderr"
        },
        {
          "output_type": "stream",
          "text": [
            "[CV]  C=0.1, l1_ratio=0.5, penalty=l1, solver=liblinear, score=0.669, total=   0.2s\n",
            "[CV] C=0.1, l1_ratio=0.5, penalty=l1, solver=liblinear ...............\n",
            "[CV]  C=0.1, l1_ratio=0.5, penalty=l1, solver=liblinear, score=0.654, total=   0.2s\n",
            "[CV] C=0.1, l1_ratio=0.5, penalty=l1, solver=liblinear ...............\n"
          ],
          "name": "stdout"
        },
        {
          "output_type": "stream",
          "text": [
            "/usr/local/lib/python3.7/dist-packages/sklearn/linear_model/_logistic.py:1501: UserWarning: l1_ratio parameter is only used when penalty is 'elasticnet'. Got (penalty=l1)\n",
            "  \"(penalty={})\".format(self.penalty))\n",
            "/usr/local/lib/python3.7/dist-packages/sklearn/linear_model/_logistic.py:1501: UserWarning: l1_ratio parameter is only used when penalty is 'elasticnet'. Got (penalty=l1)\n",
            "  \"(penalty={})\".format(self.penalty))\n"
          ],
          "name": "stderr"
        },
        {
          "output_type": "stream",
          "text": [
            "[CV]  C=0.1, l1_ratio=0.5, penalty=l1, solver=liblinear, score=0.646, total=   0.2s\n",
            "[CV] C=0.1, l1_ratio=0.5, penalty=l1, solver=liblinear ...............\n",
            "[CV]  C=0.1, l1_ratio=0.5, penalty=l1, solver=liblinear, score=0.659, total=   0.2s\n",
            "[CV] C=0.1, l1_ratio=0.5, penalty=l2, solver=saga ....................\n"
          ],
          "name": "stdout"
        },
        {
          "output_type": "stream",
          "text": [
            "/usr/local/lib/python3.7/dist-packages/sklearn/linear_model/_logistic.py:1501: UserWarning: l1_ratio parameter is only used when penalty is 'elasticnet'. Got (penalty=l1)\n",
            "  \"(penalty={})\".format(self.penalty))\n",
            "/usr/local/lib/python3.7/dist-packages/sklearn/linear_model/_logistic.py:1501: UserWarning: l1_ratio parameter is only used when penalty is 'elasticnet'. Got (penalty=l2)\n",
            "  \"(penalty={})\".format(self.penalty))\n"
          ],
          "name": "stderr"
        },
        {
          "output_type": "stream",
          "text": [
            "[CV]  C=0.1, l1_ratio=0.5, penalty=l2, solver=saga, score=0.673, total=   6.4s\n",
            "[CV] C=0.1, l1_ratio=0.5, penalty=l2, solver=saga ....................\n"
          ],
          "name": "stdout"
        },
        {
          "output_type": "stream",
          "text": [
            "/usr/local/lib/python3.7/dist-packages/sklearn/linear_model/_logistic.py:1501: UserWarning: l1_ratio parameter is only used when penalty is 'elasticnet'. Got (penalty=l2)\n",
            "  \"(penalty={})\".format(self.penalty))\n"
          ],
          "name": "stderr"
        },
        {
          "output_type": "stream",
          "text": [
            "[CV]  C=0.1, l1_ratio=0.5, penalty=l2, solver=saga, score=0.666, total=   4.8s\n",
            "[CV] C=0.1, l1_ratio=0.5, penalty=l2, solver=saga ....................\n"
          ],
          "name": "stdout"
        },
        {
          "output_type": "stream",
          "text": [
            "/usr/local/lib/python3.7/dist-packages/sklearn/linear_model/_logistic.py:1501: UserWarning: l1_ratio parameter is only used when penalty is 'elasticnet'. Got (penalty=l2)\n",
            "  \"(penalty={})\".format(self.penalty))\n"
          ],
          "name": "stderr"
        },
        {
          "output_type": "stream",
          "text": [
            "[CV]  C=0.1, l1_ratio=0.5, penalty=l2, solver=saga, score=0.654, total=   5.6s\n",
            "[CV] C=0.1, l1_ratio=0.5, penalty=l2, solver=saga ....................\n"
          ],
          "name": "stdout"
        },
        {
          "output_type": "stream",
          "text": [
            "/usr/local/lib/python3.7/dist-packages/sklearn/linear_model/_logistic.py:1501: UserWarning: l1_ratio parameter is only used when penalty is 'elasticnet'. Got (penalty=l2)\n",
            "  \"(penalty={})\".format(self.penalty))\n"
          ],
          "name": "stderr"
        },
        {
          "output_type": "stream",
          "text": [
            "[CV]  C=0.1, l1_ratio=0.5, penalty=l2, solver=saga, score=0.646, total=   4.8s\n",
            "[CV] C=0.1, l1_ratio=0.5, penalty=l2, solver=saga ....................\n"
          ],
          "name": "stdout"
        },
        {
          "output_type": "stream",
          "text": [
            "/usr/local/lib/python3.7/dist-packages/sklearn/linear_model/_logistic.py:1501: UserWarning: l1_ratio parameter is only used when penalty is 'elasticnet'. Got (penalty=l2)\n",
            "  \"(penalty={})\".format(self.penalty))\n"
          ],
          "name": "stderr"
        },
        {
          "output_type": "stream",
          "text": [
            "[CV]  C=0.1, l1_ratio=0.5, penalty=l2, solver=saga, score=0.658, total=   5.5s\n",
            "[CV] C=0.1, l1_ratio=0.5, penalty=l2, solver=liblinear ...............\n",
            "[CV]  C=0.1, l1_ratio=0.5, penalty=l2, solver=liblinear, score=0.672, total=   0.1s\n",
            "[CV] C=0.1, l1_ratio=0.5, penalty=l2, solver=liblinear ...............\n"
          ],
          "name": "stdout"
        },
        {
          "output_type": "stream",
          "text": [
            "/usr/local/lib/python3.7/dist-packages/sklearn/linear_model/_logistic.py:1501: UserWarning: l1_ratio parameter is only used when penalty is 'elasticnet'. Got (penalty=l2)\n",
            "  \"(penalty={})\".format(self.penalty))\n",
            "/usr/local/lib/python3.7/dist-packages/sklearn/linear_model/_logistic.py:1501: UserWarning: l1_ratio parameter is only used when penalty is 'elasticnet'. Got (penalty=l2)\n",
            "  \"(penalty={})\".format(self.penalty))\n"
          ],
          "name": "stderr"
        },
        {
          "output_type": "stream",
          "text": [
            "[CV]  C=0.1, l1_ratio=0.5, penalty=l2, solver=liblinear, score=0.668, total=   0.1s\n",
            "[CV] C=0.1, l1_ratio=0.5, penalty=l2, solver=liblinear ...............\n",
            "[CV]  C=0.1, l1_ratio=0.5, penalty=l2, solver=liblinear, score=0.654, total=   0.1s\n",
            "[CV] C=0.1, l1_ratio=0.5, penalty=l2, solver=liblinear ...............\n"
          ],
          "name": "stdout"
        },
        {
          "output_type": "stream",
          "text": [
            "/usr/local/lib/python3.7/dist-packages/sklearn/linear_model/_logistic.py:1501: UserWarning: l1_ratio parameter is only used when penalty is 'elasticnet'. Got (penalty=l2)\n",
            "  \"(penalty={})\".format(self.penalty))\n",
            "/usr/local/lib/python3.7/dist-packages/sklearn/linear_model/_logistic.py:1501: UserWarning: l1_ratio parameter is only used when penalty is 'elasticnet'. Got (penalty=l2)\n",
            "  \"(penalty={})\".format(self.penalty))\n"
          ],
          "name": "stderr"
        },
        {
          "output_type": "stream",
          "text": [
            "[CV]  C=0.1, l1_ratio=0.5, penalty=l2, solver=liblinear, score=0.646, total=   0.1s\n",
            "[CV] C=0.1, l1_ratio=0.5, penalty=l2, solver=liblinear ...............\n",
            "[CV]  C=0.1, l1_ratio=0.5, penalty=l2, solver=liblinear, score=0.660, total=   0.1s\n",
            "[CV] C=0.1, l1_ratio=0.5, penalty=elasticnet, solver=saga ............\n"
          ],
          "name": "stdout"
        },
        {
          "output_type": "stream",
          "text": [
            "/usr/local/lib/python3.7/dist-packages/sklearn/linear_model/_logistic.py:1501: UserWarning: l1_ratio parameter is only used when penalty is 'elasticnet'. Got (penalty=l2)\n",
            "  \"(penalty={})\".format(self.penalty))\n"
          ],
          "name": "stderr"
        },
        {
          "output_type": "stream",
          "text": [
            "[CV]  C=0.1, l1_ratio=0.5, penalty=elasticnet, solver=saga, score=0.673, total=   5.2s\n",
            "[CV] C=0.1, l1_ratio=0.5, penalty=elasticnet, solver=saga ............\n",
            "[CV]  C=0.1, l1_ratio=0.5, penalty=elasticnet, solver=saga, score=0.666, total=   6.9s\n",
            "[CV] C=0.1, l1_ratio=0.5, penalty=elasticnet, solver=saga ............\n",
            "[CV]  C=0.1, l1_ratio=0.5, penalty=elasticnet, solver=saga, score=0.654, total=   7.5s\n",
            "[CV] C=0.1, l1_ratio=0.5, penalty=elasticnet, solver=saga ............\n",
            "[CV]  C=0.1, l1_ratio=0.5, penalty=elasticnet, solver=saga, score=0.647, total=   7.2s\n",
            "[CV] C=0.1, l1_ratio=0.5, penalty=elasticnet, solver=saga ............\n",
            "[CV]  C=0.1, l1_ratio=0.5, penalty=elasticnet, solver=saga, score=0.658, total=   6.5s\n",
            "[CV] C=0.1, l1_ratio=0.5, penalty=elasticnet, solver=liblinear .......\n",
            "[CV]  C=0.1, l1_ratio=0.5, penalty=elasticnet, solver=liblinear, score=nan, total=   0.0s\n",
            "[CV] C=0.1, l1_ratio=0.5, penalty=elasticnet, solver=liblinear .......\n",
            "[CV]  C=0.1, l1_ratio=0.5, penalty=elasticnet, solver=liblinear, score=nan, total=   0.0s\n",
            "[CV] C=0.1, l1_ratio=0.5, penalty=elasticnet, solver=liblinear .......\n",
            "[CV]  C=0.1, l1_ratio=0.5, penalty=elasticnet, solver=liblinear, score=nan, total=   0.0s\n",
            "[CV] C=0.1, l1_ratio=0.5, penalty=elasticnet, solver=liblinear .......\n",
            "[CV]  C=0.1, l1_ratio=0.5, penalty=elasticnet, solver=liblinear, score=nan, total=   0.0s\n",
            "[CV] C=0.1, l1_ratio=0.5, penalty=elasticnet, solver=liblinear .......\n",
            "[CV]  C=0.1, l1_ratio=0.5, penalty=elasticnet, solver=liblinear, score=nan, total=   0.0s\n",
            "[CV] C=1, l1_ratio=0.2, penalty=l1, solver=saga ......................\n"
          ],
          "name": "stdout"
        },
        {
          "output_type": "stream",
          "text": [
            "/usr/local/lib/python3.7/dist-packages/sklearn/model_selection/_validation.py:536: FitFailedWarning: Estimator fit failed. The score on this train-test partition for these parameters will be set to nan. Details: \n",
            "ValueError: Only 'saga' solver supports elasticnet penalty, got solver=liblinear.\n",
            "\n",
            "  FitFailedWarning)\n",
            "/usr/local/lib/python3.7/dist-packages/sklearn/linear_model/_logistic.py:1501: UserWarning: l1_ratio parameter is only used when penalty is 'elasticnet'. Got (penalty=l1)\n",
            "  \"(penalty={})\".format(self.penalty))\n"
          ],
          "name": "stderr"
        },
        {
          "output_type": "stream",
          "text": [
            "[CV]  C=1, l1_ratio=0.2, penalty=l1, solver=saga, score=0.672, total=  16.7s\n",
            "[CV] C=1, l1_ratio=0.2, penalty=l1, solver=saga ......................\n"
          ],
          "name": "stdout"
        },
        {
          "output_type": "stream",
          "text": [
            "/usr/local/lib/python3.7/dist-packages/sklearn/linear_model/_logistic.py:1501: UserWarning: l1_ratio parameter is only used when penalty is 'elasticnet'. Got (penalty=l1)\n",
            "  \"(penalty={})\".format(self.penalty))\n"
          ],
          "name": "stderr"
        },
        {
          "output_type": "stream",
          "text": [
            "[CV]  C=1, l1_ratio=0.2, penalty=l1, solver=saga, score=0.666, total=  13.9s\n",
            "[CV] C=1, l1_ratio=0.2, penalty=l1, solver=saga ......................\n"
          ],
          "name": "stdout"
        },
        {
          "output_type": "stream",
          "text": [
            "/usr/local/lib/python3.7/dist-packages/sklearn/linear_model/_logistic.py:1501: UserWarning: l1_ratio parameter is only used when penalty is 'elasticnet'. Got (penalty=l1)\n",
            "  \"(penalty={})\".format(self.penalty))\n"
          ],
          "name": "stderr"
        },
        {
          "output_type": "stream",
          "text": [
            "[CV]  C=1, l1_ratio=0.2, penalty=l1, solver=saga, score=0.654, total=  34.2s\n",
            "[CV] C=1, l1_ratio=0.2, penalty=l1, solver=saga ......................\n"
          ],
          "name": "stdout"
        },
        {
          "output_type": "stream",
          "text": [
            "/usr/local/lib/python3.7/dist-packages/sklearn/linear_model/_logistic.py:1501: UserWarning: l1_ratio parameter is only used when penalty is 'elasticnet'. Got (penalty=l1)\n",
            "  \"(penalty={})\".format(self.penalty))\n"
          ],
          "name": "stderr"
        },
        {
          "output_type": "stream",
          "text": [
            "[CV]  C=1, l1_ratio=0.2, penalty=l1, solver=saga, score=0.646, total=  15.4s\n",
            "[CV] C=1, l1_ratio=0.2, penalty=l1, solver=saga ......................\n"
          ],
          "name": "stdout"
        },
        {
          "output_type": "stream",
          "text": [
            "/usr/local/lib/python3.7/dist-packages/sklearn/linear_model/_logistic.py:1501: UserWarning: l1_ratio parameter is only used when penalty is 'elasticnet'. Got (penalty=l1)\n",
            "  \"(penalty={})\".format(self.penalty))\n"
          ],
          "name": "stderr"
        },
        {
          "output_type": "stream",
          "text": [
            "[CV]  C=1, l1_ratio=0.2, penalty=l1, solver=saga, score=0.658, total=  15.0s\n",
            "[CV] C=1, l1_ratio=0.2, penalty=l1, solver=liblinear .................\n",
            "[CV]  C=1, l1_ratio=0.2, penalty=l1, solver=liblinear, score=0.673, total=   0.2s\n",
            "[CV] C=1, l1_ratio=0.2, penalty=l1, solver=liblinear .................\n"
          ],
          "name": "stdout"
        },
        {
          "output_type": "stream",
          "text": [
            "/usr/local/lib/python3.7/dist-packages/sklearn/linear_model/_logistic.py:1501: UserWarning: l1_ratio parameter is only used when penalty is 'elasticnet'. Got (penalty=l1)\n",
            "  \"(penalty={})\".format(self.penalty))\n",
            "/usr/local/lib/python3.7/dist-packages/sklearn/linear_model/_logistic.py:1501: UserWarning: l1_ratio parameter is only used when penalty is 'elasticnet'. Got (penalty=l1)\n",
            "  \"(penalty={})\".format(self.penalty))\n"
          ],
          "name": "stderr"
        },
        {
          "output_type": "stream",
          "text": [
            "[CV]  C=1, l1_ratio=0.2, penalty=l1, solver=liblinear, score=0.667, total=   0.2s\n",
            "[CV] C=1, l1_ratio=0.2, penalty=l1, solver=liblinear .................\n",
            "[CV]  C=1, l1_ratio=0.2, penalty=l1, solver=liblinear, score=0.654, total=   0.2s\n",
            "[CV] C=1, l1_ratio=0.2, penalty=l1, solver=liblinear .................\n"
          ],
          "name": "stdout"
        },
        {
          "output_type": "stream",
          "text": [
            "/usr/local/lib/python3.7/dist-packages/sklearn/linear_model/_logistic.py:1501: UserWarning: l1_ratio parameter is only used when penalty is 'elasticnet'. Got (penalty=l1)\n",
            "  \"(penalty={})\".format(self.penalty))\n",
            "/usr/local/lib/python3.7/dist-packages/sklearn/linear_model/_logistic.py:1501: UserWarning: l1_ratio parameter is only used when penalty is 'elasticnet'. Got (penalty=l1)\n",
            "  \"(penalty={})\".format(self.penalty))\n"
          ],
          "name": "stderr"
        },
        {
          "output_type": "stream",
          "text": [
            "[CV]  C=1, l1_ratio=0.2, penalty=l1, solver=liblinear, score=0.647, total=   0.2s\n",
            "[CV] C=1, l1_ratio=0.2, penalty=l1, solver=liblinear .................\n",
            "[CV]  C=1, l1_ratio=0.2, penalty=l1, solver=liblinear, score=0.658, total=   0.2s\n",
            "[CV] C=1, l1_ratio=0.2, penalty=l2, solver=saga ......................\n"
          ],
          "name": "stdout"
        },
        {
          "output_type": "stream",
          "text": [
            "/usr/local/lib/python3.7/dist-packages/sklearn/linear_model/_logistic.py:1501: UserWarning: l1_ratio parameter is only used when penalty is 'elasticnet'. Got (penalty=l1)\n",
            "  \"(penalty={})\".format(self.penalty))\n",
            "/usr/local/lib/python3.7/dist-packages/sklearn/linear_model/_logistic.py:1501: UserWarning: l1_ratio parameter is only used when penalty is 'elasticnet'. Got (penalty=l2)\n",
            "  \"(penalty={})\".format(self.penalty))\n"
          ],
          "name": "stderr"
        },
        {
          "output_type": "stream",
          "text": [
            "[CV]  C=1, l1_ratio=0.2, penalty=l2, solver=saga, score=0.672, total=  21.8s\n",
            "[CV] C=1, l1_ratio=0.2, penalty=l2, solver=saga ......................\n"
          ],
          "name": "stdout"
        },
        {
          "output_type": "stream",
          "text": [
            "/usr/local/lib/python3.7/dist-packages/sklearn/linear_model/_logistic.py:1501: UserWarning: l1_ratio parameter is only used when penalty is 'elasticnet'. Got (penalty=l2)\n",
            "  \"(penalty={})\".format(self.penalty))\n"
          ],
          "name": "stderr"
        },
        {
          "output_type": "stream",
          "text": [
            "[CV]  C=1, l1_ratio=0.2, penalty=l2, solver=saga, score=0.666, total=  12.8s\n",
            "[CV] C=1, l1_ratio=0.2, penalty=l2, solver=saga ......................\n"
          ],
          "name": "stdout"
        },
        {
          "output_type": "stream",
          "text": [
            "/usr/local/lib/python3.7/dist-packages/sklearn/linear_model/_logistic.py:1501: UserWarning: l1_ratio parameter is only used when penalty is 'elasticnet'. Got (penalty=l2)\n",
            "  \"(penalty={})\".format(self.penalty))\n"
          ],
          "name": "stderr"
        },
        {
          "output_type": "stream",
          "text": [
            "[CV]  C=1, l1_ratio=0.2, penalty=l2, solver=saga, score=0.654, total=  20.2s\n",
            "[CV] C=1, l1_ratio=0.2, penalty=l2, solver=saga ......................\n"
          ],
          "name": "stdout"
        },
        {
          "output_type": "stream",
          "text": [
            "/usr/local/lib/python3.7/dist-packages/sklearn/linear_model/_logistic.py:1501: UserWarning: l1_ratio parameter is only used when penalty is 'elasticnet'. Got (penalty=l2)\n",
            "  \"(penalty={})\".format(self.penalty))\n"
          ],
          "name": "stderr"
        },
        {
          "output_type": "stream",
          "text": [
            "[CV]  C=1, l1_ratio=0.2, penalty=l2, solver=saga, score=0.647, total=  13.7s\n",
            "[CV] C=1, l1_ratio=0.2, penalty=l2, solver=saga ......................\n"
          ],
          "name": "stdout"
        },
        {
          "output_type": "stream",
          "text": [
            "/usr/local/lib/python3.7/dist-packages/sklearn/linear_model/_logistic.py:1501: UserWarning: l1_ratio parameter is only used when penalty is 'elasticnet'. Got (penalty=l2)\n",
            "  \"(penalty={})\".format(self.penalty))\n"
          ],
          "name": "stderr"
        },
        {
          "output_type": "stream",
          "text": [
            "[CV]  C=1, l1_ratio=0.2, penalty=l2, solver=saga, score=0.658, total=  14.3s\n",
            "[CV] C=1, l1_ratio=0.2, penalty=l2, solver=liblinear .................\n",
            "[CV]  C=1, l1_ratio=0.2, penalty=l2, solver=liblinear, score=0.672, total=   0.2s\n",
            "[CV] C=1, l1_ratio=0.2, penalty=l2, solver=liblinear .................\n"
          ],
          "name": "stdout"
        },
        {
          "output_type": "stream",
          "text": [
            "/usr/local/lib/python3.7/dist-packages/sklearn/linear_model/_logistic.py:1501: UserWarning: l1_ratio parameter is only used when penalty is 'elasticnet'. Got (penalty=l2)\n",
            "  \"(penalty={})\".format(self.penalty))\n",
            "/usr/local/lib/python3.7/dist-packages/sklearn/linear_model/_logistic.py:1501: UserWarning: l1_ratio parameter is only used when penalty is 'elasticnet'. Got (penalty=l2)\n",
            "  \"(penalty={})\".format(self.penalty))\n"
          ],
          "name": "stderr"
        },
        {
          "output_type": "stream",
          "text": [
            "[CV]  C=1, l1_ratio=0.2, penalty=l2, solver=liblinear, score=0.666, total=   0.2s\n",
            "[CV] C=1, l1_ratio=0.2, penalty=l2, solver=liblinear .................\n",
            "[CV]  C=1, l1_ratio=0.2, penalty=l2, solver=liblinear, score=0.654, total=   0.1s\n",
            "[CV] C=1, l1_ratio=0.2, penalty=l2, solver=liblinear .................\n"
          ],
          "name": "stdout"
        },
        {
          "output_type": "stream",
          "text": [
            "/usr/local/lib/python3.7/dist-packages/sklearn/linear_model/_logistic.py:1501: UserWarning: l1_ratio parameter is only used when penalty is 'elasticnet'. Got (penalty=l2)\n",
            "  \"(penalty={})\".format(self.penalty))\n",
            "/usr/local/lib/python3.7/dist-packages/sklearn/linear_model/_logistic.py:1501: UserWarning: l1_ratio parameter is only used when penalty is 'elasticnet'. Got (penalty=l2)\n",
            "  \"(penalty={})\".format(self.penalty))\n"
          ],
          "name": "stderr"
        },
        {
          "output_type": "stream",
          "text": [
            "[CV]  C=1, l1_ratio=0.2, penalty=l2, solver=liblinear, score=0.647, total=   0.2s\n",
            "[CV] C=1, l1_ratio=0.2, penalty=l2, solver=liblinear .................\n",
            "[CV]  C=1, l1_ratio=0.2, penalty=l2, solver=liblinear, score=0.659, total=   0.1s\n",
            "[CV] C=1, l1_ratio=0.2, penalty=elasticnet, solver=saga ..............\n"
          ],
          "name": "stdout"
        },
        {
          "output_type": "stream",
          "text": [
            "/usr/local/lib/python3.7/dist-packages/sklearn/linear_model/_logistic.py:1501: UserWarning: l1_ratio parameter is only used when penalty is 'elasticnet'. Got (penalty=l2)\n",
            "  \"(penalty={})\".format(self.penalty))\n"
          ],
          "name": "stderr"
        },
        {
          "output_type": "stream",
          "text": [
            "[CV]  C=1, l1_ratio=0.2, penalty=elasticnet, solver=saga, score=0.673, total=  28.0s\n",
            "[CV] C=1, l1_ratio=0.2, penalty=elasticnet, solver=saga ..............\n",
            "[CV]  C=1, l1_ratio=0.2, penalty=elasticnet, solver=saga, score=0.666, total=  17.3s\n",
            "[CV] C=1, l1_ratio=0.2, penalty=elasticnet, solver=saga ..............\n",
            "[CV]  C=1, l1_ratio=0.2, penalty=elasticnet, solver=saga, score=0.654, total=  27.3s\n",
            "[CV] C=1, l1_ratio=0.2, penalty=elasticnet, solver=saga ..............\n",
            "[CV]  C=1, l1_ratio=0.2, penalty=elasticnet, solver=saga, score=0.647, total=  18.2s\n",
            "[CV] C=1, l1_ratio=0.2, penalty=elasticnet, solver=saga ..............\n",
            "[CV]  C=1, l1_ratio=0.2, penalty=elasticnet, solver=saga, score=0.658, total=  18.3s\n",
            "[CV] C=1, l1_ratio=0.2, penalty=elasticnet, solver=liblinear .........\n",
            "[CV]  C=1, l1_ratio=0.2, penalty=elasticnet, solver=liblinear, score=nan, total=   0.0s\n",
            "[CV] C=1, l1_ratio=0.2, penalty=elasticnet, solver=liblinear .........\n",
            "[CV]  C=1, l1_ratio=0.2, penalty=elasticnet, solver=liblinear, score=nan, total=   0.0s\n",
            "[CV] C=1, l1_ratio=0.2, penalty=elasticnet, solver=liblinear .........\n",
            "[CV]  C=1, l1_ratio=0.2, penalty=elasticnet, solver=liblinear, score=nan, total=   0.0s\n",
            "[CV] C=1, l1_ratio=0.2, penalty=elasticnet, solver=liblinear .........\n",
            "[CV]  C=1, l1_ratio=0.2, penalty=elasticnet, solver=liblinear, score=nan, total=   0.0s\n",
            "[CV] C=1, l1_ratio=0.2, penalty=elasticnet, solver=liblinear .........\n",
            "[CV]  C=1, l1_ratio=0.2, penalty=elasticnet, solver=liblinear, score=nan, total=   0.0s\n",
            "[CV] C=1, l1_ratio=0.4, penalty=l1, solver=saga ......................\n"
          ],
          "name": "stdout"
        },
        {
          "output_type": "stream",
          "text": [
            "/usr/local/lib/python3.7/dist-packages/sklearn/model_selection/_validation.py:536: FitFailedWarning: Estimator fit failed. The score on this train-test partition for these parameters will be set to nan. Details: \n",
            "ValueError: Only 'saga' solver supports elasticnet penalty, got solver=liblinear.\n",
            "\n",
            "  FitFailedWarning)\n",
            "/usr/local/lib/python3.7/dist-packages/sklearn/linear_model/_logistic.py:1501: UserWarning: l1_ratio parameter is only used when penalty is 'elasticnet'. Got (penalty=l1)\n",
            "  \"(penalty={})\".format(self.penalty))\n"
          ],
          "name": "stderr"
        },
        {
          "output_type": "stream",
          "text": [
            "[CV]  C=1, l1_ratio=0.4, penalty=l1, solver=saga, score=0.672, total=  16.9s\n",
            "[CV] C=1, l1_ratio=0.4, penalty=l1, solver=saga ......................\n"
          ],
          "name": "stdout"
        },
        {
          "output_type": "stream",
          "text": [
            "/usr/local/lib/python3.7/dist-packages/sklearn/linear_model/_logistic.py:1501: UserWarning: l1_ratio parameter is only used when penalty is 'elasticnet'. Got (penalty=l1)\n",
            "  \"(penalty={})\".format(self.penalty))\n"
          ],
          "name": "stderr"
        },
        {
          "output_type": "stream",
          "text": [
            "[CV]  C=1, l1_ratio=0.4, penalty=l1, solver=saga, score=0.666, total=  14.1s\n",
            "[CV] C=1, l1_ratio=0.4, penalty=l1, solver=saga ......................\n"
          ],
          "name": "stdout"
        },
        {
          "output_type": "stream",
          "text": [
            "/usr/local/lib/python3.7/dist-packages/sklearn/linear_model/_logistic.py:1501: UserWarning: l1_ratio parameter is only used when penalty is 'elasticnet'. Got (penalty=l1)\n",
            "  \"(penalty={})\".format(self.penalty))\n"
          ],
          "name": "stderr"
        },
        {
          "output_type": "stream",
          "text": [
            "[CV]  C=1, l1_ratio=0.4, penalty=l1, solver=saga, score=0.654, total=  33.8s\n",
            "[CV] C=1, l1_ratio=0.4, penalty=l1, solver=saga ......................\n"
          ],
          "name": "stdout"
        },
        {
          "output_type": "stream",
          "text": [
            "/usr/local/lib/python3.7/dist-packages/sklearn/linear_model/_logistic.py:1501: UserWarning: l1_ratio parameter is only used when penalty is 'elasticnet'. Got (penalty=l1)\n",
            "  \"(penalty={})\".format(self.penalty))\n"
          ],
          "name": "stderr"
        },
        {
          "output_type": "stream",
          "text": [
            "[CV]  C=1, l1_ratio=0.4, penalty=l1, solver=saga, score=0.646, total=  15.6s\n",
            "[CV] C=1, l1_ratio=0.4, penalty=l1, solver=saga ......................\n"
          ],
          "name": "stdout"
        },
        {
          "output_type": "stream",
          "text": [
            "/usr/local/lib/python3.7/dist-packages/sklearn/linear_model/_logistic.py:1501: UserWarning: l1_ratio parameter is only used when penalty is 'elasticnet'. Got (penalty=l1)\n",
            "  \"(penalty={})\".format(self.penalty))\n"
          ],
          "name": "stderr"
        },
        {
          "output_type": "stream",
          "text": [
            "[CV]  C=1, l1_ratio=0.4, penalty=l1, solver=saga, score=0.658, total=  15.0s\n",
            "[CV] C=1, l1_ratio=0.4, penalty=l1, solver=liblinear .................\n",
            "[CV]  C=1, l1_ratio=0.4, penalty=l1, solver=liblinear, score=0.673, total=   0.2s\n",
            "[CV] C=1, l1_ratio=0.4, penalty=l1, solver=liblinear .................\n"
          ],
          "name": "stdout"
        },
        {
          "output_type": "stream",
          "text": [
            "/usr/local/lib/python3.7/dist-packages/sklearn/linear_model/_logistic.py:1501: UserWarning: l1_ratio parameter is only used when penalty is 'elasticnet'. Got (penalty=l1)\n",
            "  \"(penalty={})\".format(self.penalty))\n",
            "/usr/local/lib/python3.7/dist-packages/sklearn/linear_model/_logistic.py:1501: UserWarning: l1_ratio parameter is only used when penalty is 'elasticnet'. Got (penalty=l1)\n",
            "  \"(penalty={})\".format(self.penalty))\n"
          ],
          "name": "stderr"
        },
        {
          "output_type": "stream",
          "text": [
            "[CV]  C=1, l1_ratio=0.4, penalty=l1, solver=liblinear, score=0.667, total=   0.2s\n",
            "[CV] C=1, l1_ratio=0.4, penalty=l1, solver=liblinear .................\n",
            "[CV]  C=1, l1_ratio=0.4, penalty=l1, solver=liblinear, score=0.654, total=   0.1s\n",
            "[CV] C=1, l1_ratio=0.4, penalty=l1, solver=liblinear .................\n"
          ],
          "name": "stdout"
        },
        {
          "output_type": "stream",
          "text": [
            "/usr/local/lib/python3.7/dist-packages/sklearn/linear_model/_logistic.py:1501: UserWarning: l1_ratio parameter is only used when penalty is 'elasticnet'. Got (penalty=l1)\n",
            "  \"(penalty={})\".format(self.penalty))\n",
            "/usr/local/lib/python3.7/dist-packages/sklearn/linear_model/_logistic.py:1501: UserWarning: l1_ratio parameter is only used when penalty is 'elasticnet'. Got (penalty=l1)\n",
            "  \"(penalty={})\".format(self.penalty))\n"
          ],
          "name": "stderr"
        },
        {
          "output_type": "stream",
          "text": [
            "[CV]  C=1, l1_ratio=0.4, penalty=l1, solver=liblinear, score=0.647, total=   0.2s\n",
            "[CV] C=1, l1_ratio=0.4, penalty=l1, solver=liblinear .................\n",
            "[CV]  C=1, l1_ratio=0.4, penalty=l1, solver=liblinear, score=0.658, total=   0.2s\n",
            "[CV] C=1, l1_ratio=0.4, penalty=l2, solver=saga ......................\n"
          ],
          "name": "stdout"
        },
        {
          "output_type": "stream",
          "text": [
            "/usr/local/lib/python3.7/dist-packages/sklearn/linear_model/_logistic.py:1501: UserWarning: l1_ratio parameter is only used when penalty is 'elasticnet'. Got (penalty=l1)\n",
            "  \"(penalty={})\".format(self.penalty))\n",
            "/usr/local/lib/python3.7/dist-packages/sklearn/linear_model/_logistic.py:1501: UserWarning: l1_ratio parameter is only used when penalty is 'elasticnet'. Got (penalty=l2)\n",
            "  \"(penalty={})\".format(self.penalty))\n"
          ],
          "name": "stderr"
        },
        {
          "output_type": "stream",
          "text": [
            "[CV]  C=1, l1_ratio=0.4, penalty=l2, solver=saga, score=0.672, total=  21.8s\n",
            "[CV] C=1, l1_ratio=0.4, penalty=l2, solver=saga ......................\n"
          ],
          "name": "stdout"
        },
        {
          "output_type": "stream",
          "text": [
            "/usr/local/lib/python3.7/dist-packages/sklearn/linear_model/_logistic.py:1501: UserWarning: l1_ratio parameter is only used when penalty is 'elasticnet'. Got (penalty=l2)\n",
            "  \"(penalty={})\".format(self.penalty))\n"
          ],
          "name": "stderr"
        },
        {
          "output_type": "stream",
          "text": [
            "[CV]  C=1, l1_ratio=0.4, penalty=l2, solver=saga, score=0.666, total=  12.8s\n",
            "[CV] C=1, l1_ratio=0.4, penalty=l2, solver=saga ......................\n"
          ],
          "name": "stdout"
        },
        {
          "output_type": "stream",
          "text": [
            "/usr/local/lib/python3.7/dist-packages/sklearn/linear_model/_logistic.py:1501: UserWarning: l1_ratio parameter is only used when penalty is 'elasticnet'. Got (penalty=l2)\n",
            "  \"(penalty={})\".format(self.penalty))\n"
          ],
          "name": "stderr"
        },
        {
          "output_type": "stream",
          "text": [
            "[CV]  C=1, l1_ratio=0.4, penalty=l2, solver=saga, score=0.654, total=  20.1s\n",
            "[CV] C=1, l1_ratio=0.4, penalty=l2, solver=saga ......................\n"
          ],
          "name": "stdout"
        },
        {
          "output_type": "stream",
          "text": [
            "/usr/local/lib/python3.7/dist-packages/sklearn/linear_model/_logistic.py:1501: UserWarning: l1_ratio parameter is only used when penalty is 'elasticnet'. Got (penalty=l2)\n",
            "  \"(penalty={})\".format(self.penalty))\n"
          ],
          "name": "stderr"
        },
        {
          "output_type": "stream",
          "text": [
            "[CV]  C=1, l1_ratio=0.4, penalty=l2, solver=saga, score=0.647, total=  13.7s\n",
            "[CV] C=1, l1_ratio=0.4, penalty=l2, solver=saga ......................\n"
          ],
          "name": "stdout"
        },
        {
          "output_type": "stream",
          "text": [
            "/usr/local/lib/python3.7/dist-packages/sklearn/linear_model/_logistic.py:1501: UserWarning: l1_ratio parameter is only used when penalty is 'elasticnet'. Got (penalty=l2)\n",
            "  \"(penalty={})\".format(self.penalty))\n"
          ],
          "name": "stderr"
        },
        {
          "output_type": "stream",
          "text": [
            "[CV]  C=1, l1_ratio=0.4, penalty=l2, solver=saga, score=0.658, total=  13.9s\n",
            "[CV] C=1, l1_ratio=0.4, penalty=l2, solver=liblinear .................\n",
            "[CV]  C=1, l1_ratio=0.4, penalty=l2, solver=liblinear, score=0.672, total=   0.2s\n",
            "[CV] C=1, l1_ratio=0.4, penalty=l2, solver=liblinear .................\n"
          ],
          "name": "stdout"
        },
        {
          "output_type": "stream",
          "text": [
            "/usr/local/lib/python3.7/dist-packages/sklearn/linear_model/_logistic.py:1501: UserWarning: l1_ratio parameter is only used when penalty is 'elasticnet'. Got (penalty=l2)\n",
            "  \"(penalty={})\".format(self.penalty))\n",
            "/usr/local/lib/python3.7/dist-packages/sklearn/linear_model/_logistic.py:1501: UserWarning: l1_ratio parameter is only used when penalty is 'elasticnet'. Got (penalty=l2)\n",
            "  \"(penalty={})\".format(self.penalty))\n"
          ],
          "name": "stderr"
        },
        {
          "output_type": "stream",
          "text": [
            "[CV]  C=1, l1_ratio=0.4, penalty=l2, solver=liblinear, score=0.666, total=   0.2s\n",
            "[CV] C=1, l1_ratio=0.4, penalty=l2, solver=liblinear .................\n",
            "[CV]  C=1, l1_ratio=0.4, penalty=l2, solver=liblinear, score=0.654, total=   0.1s\n",
            "[CV] C=1, l1_ratio=0.4, penalty=l2, solver=liblinear .................\n"
          ],
          "name": "stdout"
        },
        {
          "output_type": "stream",
          "text": [
            "/usr/local/lib/python3.7/dist-packages/sklearn/linear_model/_logistic.py:1501: UserWarning: l1_ratio parameter is only used when penalty is 'elasticnet'. Got (penalty=l2)\n",
            "  \"(penalty={})\".format(self.penalty))\n",
            "/usr/local/lib/python3.7/dist-packages/sklearn/linear_model/_logistic.py:1501: UserWarning: l1_ratio parameter is only used when penalty is 'elasticnet'. Got (penalty=l2)\n",
            "  \"(penalty={})\".format(self.penalty))\n"
          ],
          "name": "stderr"
        },
        {
          "output_type": "stream",
          "text": [
            "[CV]  C=1, l1_ratio=0.4, penalty=l2, solver=liblinear, score=0.647, total=   0.2s\n",
            "[CV] C=1, l1_ratio=0.4, penalty=l2, solver=liblinear .................\n",
            "[CV]  C=1, l1_ratio=0.4, penalty=l2, solver=liblinear, score=0.659, total=   0.1s\n",
            "[CV] C=1, l1_ratio=0.4, penalty=elasticnet, solver=saga ..............\n"
          ],
          "name": "stdout"
        },
        {
          "output_type": "stream",
          "text": [
            "/usr/local/lib/python3.7/dist-packages/sklearn/linear_model/_logistic.py:1501: UserWarning: l1_ratio parameter is only used when penalty is 'elasticnet'. Got (penalty=l2)\n",
            "  \"(penalty={})\".format(self.penalty))\n"
          ],
          "name": "stderr"
        },
        {
          "output_type": "stream",
          "text": [
            "[CV]  C=1, l1_ratio=0.4, penalty=elasticnet, solver=saga, score=0.673, total=  27.4s\n",
            "[CV] C=1, l1_ratio=0.4, penalty=elasticnet, solver=saga ..............\n",
            "[CV]  C=1, l1_ratio=0.4, penalty=elasticnet, solver=saga, score=0.666, total=  17.2s\n",
            "[CV] C=1, l1_ratio=0.4, penalty=elasticnet, solver=saga ..............\n",
            "[CV]  C=1, l1_ratio=0.4, penalty=elasticnet, solver=saga, score=0.654, total=  30.0s\n",
            "[CV] C=1, l1_ratio=0.4, penalty=elasticnet, solver=saga ..............\n",
            "[CV]  C=1, l1_ratio=0.4, penalty=elasticnet, solver=saga, score=0.647, total=  18.2s\n",
            "[CV] C=1, l1_ratio=0.4, penalty=elasticnet, solver=saga ..............\n",
            "[CV]  C=1, l1_ratio=0.4, penalty=elasticnet, solver=saga, score=0.658, total=  18.2s\n",
            "[CV] C=1, l1_ratio=0.4, penalty=elasticnet, solver=liblinear .........\n",
            "[CV]  C=1, l1_ratio=0.4, penalty=elasticnet, solver=liblinear, score=nan, total=   0.0s\n",
            "[CV] C=1, l1_ratio=0.4, penalty=elasticnet, solver=liblinear .........\n",
            "[CV]  C=1, l1_ratio=0.4, penalty=elasticnet, solver=liblinear, score=nan, total=   0.0s\n",
            "[CV] C=1, l1_ratio=0.4, penalty=elasticnet, solver=liblinear .........\n",
            "[CV]  C=1, l1_ratio=0.4, penalty=elasticnet, solver=liblinear, score=nan, total=   0.0s\n",
            "[CV] C=1, l1_ratio=0.4, penalty=elasticnet, solver=liblinear .........\n",
            "[CV]  C=1, l1_ratio=0.4, penalty=elasticnet, solver=liblinear, score=nan, total=   0.0s\n",
            "[CV] C=1, l1_ratio=0.4, penalty=elasticnet, solver=liblinear .........\n",
            "[CV]  C=1, l1_ratio=0.4, penalty=elasticnet, solver=liblinear, score=nan, total=   0.0s\n",
            "[CV] C=1, l1_ratio=0.5, penalty=l1, solver=saga ......................\n"
          ],
          "name": "stdout"
        },
        {
          "output_type": "stream",
          "text": [
            "/usr/local/lib/python3.7/dist-packages/sklearn/model_selection/_validation.py:536: FitFailedWarning: Estimator fit failed. The score on this train-test partition for these parameters will be set to nan. Details: \n",
            "ValueError: Only 'saga' solver supports elasticnet penalty, got solver=liblinear.\n",
            "\n",
            "  FitFailedWarning)\n",
            "/usr/local/lib/python3.7/dist-packages/sklearn/linear_model/_logistic.py:1501: UserWarning: l1_ratio parameter is only used when penalty is 'elasticnet'. Got (penalty=l1)\n",
            "  \"(penalty={})\".format(self.penalty))\n"
          ],
          "name": "stderr"
        },
        {
          "output_type": "stream",
          "text": [
            "[CV]  C=1, l1_ratio=0.5, penalty=l1, solver=saga, score=0.672, total=  16.6s\n",
            "[CV] C=1, l1_ratio=0.5, penalty=l1, solver=saga ......................\n"
          ],
          "name": "stdout"
        },
        {
          "output_type": "stream",
          "text": [
            "/usr/local/lib/python3.7/dist-packages/sklearn/linear_model/_logistic.py:1501: UserWarning: l1_ratio parameter is only used when penalty is 'elasticnet'. Got (penalty=l1)\n",
            "  \"(penalty={})\".format(self.penalty))\n"
          ],
          "name": "stderr"
        },
        {
          "output_type": "stream",
          "text": [
            "[CV]  C=1, l1_ratio=0.5, penalty=l1, solver=saga, score=0.666, total=  14.1s\n",
            "[CV] C=1, l1_ratio=0.5, penalty=l1, solver=saga ......................\n"
          ],
          "name": "stdout"
        },
        {
          "output_type": "stream",
          "text": [
            "/usr/local/lib/python3.7/dist-packages/sklearn/linear_model/_logistic.py:1501: UserWarning: l1_ratio parameter is only used when penalty is 'elasticnet'. Got (penalty=l1)\n",
            "  \"(penalty={})\".format(self.penalty))\n"
          ],
          "name": "stderr"
        },
        {
          "output_type": "stream",
          "text": [
            "[CV]  C=1, l1_ratio=0.5, penalty=l1, solver=saga, score=0.654, total=  34.3s\n",
            "[CV] C=1, l1_ratio=0.5, penalty=l1, solver=saga ......................\n"
          ],
          "name": "stdout"
        },
        {
          "output_type": "stream",
          "text": [
            "/usr/local/lib/python3.7/dist-packages/sklearn/linear_model/_logistic.py:1501: UserWarning: l1_ratio parameter is only used when penalty is 'elasticnet'. Got (penalty=l1)\n",
            "  \"(penalty={})\".format(self.penalty))\n"
          ],
          "name": "stderr"
        },
        {
          "output_type": "stream",
          "text": [
            "[CV]  C=1, l1_ratio=0.5, penalty=l1, solver=saga, score=0.646, total=  15.9s\n",
            "[CV] C=1, l1_ratio=0.5, penalty=l1, solver=saga ......................\n"
          ],
          "name": "stdout"
        },
        {
          "output_type": "stream",
          "text": [
            "/usr/local/lib/python3.7/dist-packages/sklearn/linear_model/_logistic.py:1501: UserWarning: l1_ratio parameter is only used when penalty is 'elasticnet'. Got (penalty=l1)\n",
            "  \"(penalty={})\".format(self.penalty))\n"
          ],
          "name": "stderr"
        },
        {
          "output_type": "stream",
          "text": [
            "[CV]  C=1, l1_ratio=0.5, penalty=l1, solver=saga, score=0.658, total=  15.2s\n",
            "[CV] C=1, l1_ratio=0.5, penalty=l1, solver=liblinear .................\n",
            "[CV]  C=1, l1_ratio=0.5, penalty=l1, solver=liblinear, score=0.673, total=   0.2s\n",
            "[CV] C=1, l1_ratio=0.5, penalty=l1, solver=liblinear .................\n"
          ],
          "name": "stdout"
        },
        {
          "output_type": "stream",
          "text": [
            "/usr/local/lib/python3.7/dist-packages/sklearn/linear_model/_logistic.py:1501: UserWarning: l1_ratio parameter is only used when penalty is 'elasticnet'. Got (penalty=l1)\n",
            "  \"(penalty={})\".format(self.penalty))\n",
            "/usr/local/lib/python3.7/dist-packages/sklearn/linear_model/_logistic.py:1501: UserWarning: l1_ratio parameter is only used when penalty is 'elasticnet'. Got (penalty=l1)\n",
            "  \"(penalty={})\".format(self.penalty))\n"
          ],
          "name": "stderr"
        },
        {
          "output_type": "stream",
          "text": [
            "[CV]  C=1, l1_ratio=0.5, penalty=l1, solver=liblinear, score=0.667, total=   0.2s\n",
            "[CV] C=1, l1_ratio=0.5, penalty=l1, solver=liblinear .................\n",
            "[CV]  C=1, l1_ratio=0.5, penalty=l1, solver=liblinear, score=0.654, total=   0.1s\n",
            "[CV] C=1, l1_ratio=0.5, penalty=l1, solver=liblinear .................\n"
          ],
          "name": "stdout"
        },
        {
          "output_type": "stream",
          "text": [
            "/usr/local/lib/python3.7/dist-packages/sklearn/linear_model/_logistic.py:1501: UserWarning: l1_ratio parameter is only used when penalty is 'elasticnet'. Got (penalty=l1)\n",
            "  \"(penalty={})\".format(self.penalty))\n",
            "/usr/local/lib/python3.7/dist-packages/sklearn/linear_model/_logistic.py:1501: UserWarning: l1_ratio parameter is only used when penalty is 'elasticnet'. Got (penalty=l1)\n",
            "  \"(penalty={})\".format(self.penalty))\n"
          ],
          "name": "stderr"
        },
        {
          "output_type": "stream",
          "text": [
            "[CV]  C=1, l1_ratio=0.5, penalty=l1, solver=liblinear, score=0.647, total=   0.2s\n",
            "[CV] C=1, l1_ratio=0.5, penalty=l1, solver=liblinear .................\n",
            "[CV]  C=1, l1_ratio=0.5, penalty=l1, solver=liblinear, score=0.658, total=   0.1s\n",
            "[CV] C=1, l1_ratio=0.5, penalty=l2, solver=saga ......................\n"
          ],
          "name": "stdout"
        },
        {
          "output_type": "stream",
          "text": [
            "/usr/local/lib/python3.7/dist-packages/sklearn/linear_model/_logistic.py:1501: UserWarning: l1_ratio parameter is only used when penalty is 'elasticnet'. Got (penalty=l1)\n",
            "  \"(penalty={})\".format(self.penalty))\n",
            "/usr/local/lib/python3.7/dist-packages/sklearn/linear_model/_logistic.py:1501: UserWarning: l1_ratio parameter is only used when penalty is 'elasticnet'. Got (penalty=l2)\n",
            "  \"(penalty={})\".format(self.penalty))\n"
          ],
          "name": "stderr"
        },
        {
          "output_type": "stream",
          "text": [
            "[CV]  C=1, l1_ratio=0.5, penalty=l2, solver=saga, score=0.672, total=  22.1s\n",
            "[CV] C=1, l1_ratio=0.5, penalty=l2, solver=saga ......................\n"
          ],
          "name": "stdout"
        },
        {
          "output_type": "stream",
          "text": [
            "/usr/local/lib/python3.7/dist-packages/sklearn/linear_model/_logistic.py:1501: UserWarning: l1_ratio parameter is only used when penalty is 'elasticnet'. Got (penalty=l2)\n",
            "  \"(penalty={})\".format(self.penalty))\n"
          ],
          "name": "stderr"
        },
        {
          "output_type": "stream",
          "text": [
            "[CV]  C=1, l1_ratio=0.5, penalty=l2, solver=saga, score=0.666, total=  12.9s\n",
            "[CV] C=1, l1_ratio=0.5, penalty=l2, solver=saga ......................\n"
          ],
          "name": "stdout"
        },
        {
          "output_type": "stream",
          "text": [
            "/usr/local/lib/python3.7/dist-packages/sklearn/linear_model/_logistic.py:1501: UserWarning: l1_ratio parameter is only used when penalty is 'elasticnet'. Got (penalty=l2)\n",
            "  \"(penalty={})\".format(self.penalty))\n"
          ],
          "name": "stderr"
        },
        {
          "output_type": "stream",
          "text": [
            "[CV]  C=1, l1_ratio=0.5, penalty=l2, solver=saga, score=0.654, total=  20.3s\n",
            "[CV] C=1, l1_ratio=0.5, penalty=l2, solver=saga ......................\n"
          ],
          "name": "stdout"
        },
        {
          "output_type": "stream",
          "text": [
            "/usr/local/lib/python3.7/dist-packages/sklearn/linear_model/_logistic.py:1501: UserWarning: l1_ratio parameter is only used when penalty is 'elasticnet'. Got (penalty=l2)\n",
            "  \"(penalty={})\".format(self.penalty))\n"
          ],
          "name": "stderr"
        },
        {
          "output_type": "stream",
          "text": [
            "[CV]  C=1, l1_ratio=0.5, penalty=l2, solver=saga, score=0.647, total=  13.8s\n",
            "[CV] C=1, l1_ratio=0.5, penalty=l2, solver=saga ......................\n"
          ],
          "name": "stdout"
        },
        {
          "output_type": "stream",
          "text": [
            "/usr/local/lib/python3.7/dist-packages/sklearn/linear_model/_logistic.py:1501: UserWarning: l1_ratio parameter is only used when penalty is 'elasticnet'. Got (penalty=l2)\n",
            "  \"(penalty={})\".format(self.penalty))\n"
          ],
          "name": "stderr"
        },
        {
          "output_type": "stream",
          "text": [
            "[CV]  C=1, l1_ratio=0.5, penalty=l2, solver=saga, score=0.658, total=  14.4s\n",
            "[CV] C=1, l1_ratio=0.5, penalty=l2, solver=liblinear .................\n",
            "[CV]  C=1, l1_ratio=0.5, penalty=l2, solver=liblinear, score=0.672, total=   0.2s\n",
            "[CV] C=1, l1_ratio=0.5, penalty=l2, solver=liblinear .................\n"
          ],
          "name": "stdout"
        },
        {
          "output_type": "stream",
          "text": [
            "/usr/local/lib/python3.7/dist-packages/sklearn/linear_model/_logistic.py:1501: UserWarning: l1_ratio parameter is only used when penalty is 'elasticnet'. Got (penalty=l2)\n",
            "  \"(penalty={})\".format(self.penalty))\n",
            "/usr/local/lib/python3.7/dist-packages/sklearn/linear_model/_logistic.py:1501: UserWarning: l1_ratio parameter is only used when penalty is 'elasticnet'. Got (penalty=l2)\n",
            "  \"(penalty={})\".format(self.penalty))\n"
          ],
          "name": "stderr"
        },
        {
          "output_type": "stream",
          "text": [
            "[CV]  C=1, l1_ratio=0.5, penalty=l2, solver=liblinear, score=0.666, total=   0.2s\n",
            "[CV] C=1, l1_ratio=0.5, penalty=l2, solver=liblinear .................\n",
            "[CV]  C=1, l1_ratio=0.5, penalty=l2, solver=liblinear, score=0.654, total=   0.1s\n",
            "[CV] C=1, l1_ratio=0.5, penalty=l2, solver=liblinear .................\n"
          ],
          "name": "stdout"
        },
        {
          "output_type": "stream",
          "text": [
            "/usr/local/lib/python3.7/dist-packages/sklearn/linear_model/_logistic.py:1501: UserWarning: l1_ratio parameter is only used when penalty is 'elasticnet'. Got (penalty=l2)\n",
            "  \"(penalty={})\".format(self.penalty))\n",
            "/usr/local/lib/python3.7/dist-packages/sklearn/linear_model/_logistic.py:1501: UserWarning: l1_ratio parameter is only used when penalty is 'elasticnet'. Got (penalty=l2)\n",
            "  \"(penalty={})\".format(self.penalty))\n"
          ],
          "name": "stderr"
        },
        {
          "output_type": "stream",
          "text": [
            "[CV]  C=1, l1_ratio=0.5, penalty=l2, solver=liblinear, score=0.647, total=   0.2s\n",
            "[CV] C=1, l1_ratio=0.5, penalty=l2, solver=liblinear .................\n",
            "[CV]  C=1, l1_ratio=0.5, penalty=l2, solver=liblinear, score=0.659, total=   0.1s\n",
            "[CV] C=1, l1_ratio=0.5, penalty=elasticnet, solver=saga ..............\n"
          ],
          "name": "stdout"
        },
        {
          "output_type": "stream",
          "text": [
            "/usr/local/lib/python3.7/dist-packages/sklearn/linear_model/_logistic.py:1501: UserWarning: l1_ratio parameter is only used when penalty is 'elasticnet'. Got (penalty=l2)\n",
            "  \"(penalty={})\".format(self.penalty))\n"
          ],
          "name": "stderr"
        },
        {
          "output_type": "stream",
          "text": [
            "[CV]  C=1, l1_ratio=0.5, penalty=elasticnet, solver=saga, score=0.673, total=  27.2s\n",
            "[CV] C=1, l1_ratio=0.5, penalty=elasticnet, solver=saga ..............\n",
            "[CV]  C=1, l1_ratio=0.5, penalty=elasticnet, solver=saga, score=0.666, total=  16.3s\n",
            "[CV] C=1, l1_ratio=0.5, penalty=elasticnet, solver=saga ..............\n",
            "[CV]  C=1, l1_ratio=0.5, penalty=elasticnet, solver=saga, score=0.654, total=  29.0s\n",
            "[CV] C=1, l1_ratio=0.5, penalty=elasticnet, solver=saga ..............\n",
            "[CV]  C=1, l1_ratio=0.5, penalty=elasticnet, solver=saga, score=0.647, total=  18.3s\n",
            "[CV] C=1, l1_ratio=0.5, penalty=elasticnet, solver=saga ..............\n",
            "[CV]  C=1, l1_ratio=0.5, penalty=elasticnet, solver=saga, score=0.658, total=  17.8s\n",
            "[CV] C=1, l1_ratio=0.5, penalty=elasticnet, solver=liblinear .........\n",
            "[CV]  C=1, l1_ratio=0.5, penalty=elasticnet, solver=liblinear, score=nan, total=   0.0s\n",
            "[CV] C=1, l1_ratio=0.5, penalty=elasticnet, solver=liblinear .........\n",
            "[CV]  C=1, l1_ratio=0.5, penalty=elasticnet, solver=liblinear, score=nan, total=   0.0s\n",
            "[CV] C=1, l1_ratio=0.5, penalty=elasticnet, solver=liblinear .........\n",
            "[CV]  C=1, l1_ratio=0.5, penalty=elasticnet, solver=liblinear, score=nan, total=   0.0s\n",
            "[CV] C=1, l1_ratio=0.5, penalty=elasticnet, solver=liblinear .........\n",
            "[CV]  C=1, l1_ratio=0.5, penalty=elasticnet, solver=liblinear, score=nan, total=   0.0s\n",
            "[CV] C=1, l1_ratio=0.5, penalty=elasticnet, solver=liblinear .........\n",
            "[CV]  C=1, l1_ratio=0.5, penalty=elasticnet, solver=liblinear, score=nan, total=   0.0s\n",
            "[CV] C=10, l1_ratio=0.2, penalty=l1, solver=saga .....................\n"
          ],
          "name": "stdout"
        },
        {
          "output_type": "stream",
          "text": [
            "/usr/local/lib/python3.7/dist-packages/sklearn/model_selection/_validation.py:536: FitFailedWarning: Estimator fit failed. The score on this train-test partition for these parameters will be set to nan. Details: \n",
            "ValueError: Only 'saga' solver supports elasticnet penalty, got solver=liblinear.\n",
            "\n",
            "  FitFailedWarning)\n",
            "/usr/local/lib/python3.7/dist-packages/sklearn/linear_model/_logistic.py:1501: UserWarning: l1_ratio parameter is only used when penalty is 'elasticnet'. Got (penalty=l1)\n",
            "  \"(penalty={})\".format(self.penalty))\n"
          ],
          "name": "stderr"
        },
        {
          "output_type": "stream",
          "text": [
            "[CV]  C=10, l1_ratio=0.2, penalty=l1, solver=saga, score=0.672, total=  46.3s\n",
            "[CV] C=10, l1_ratio=0.2, penalty=l1, solver=saga .....................\n"
          ],
          "name": "stdout"
        },
        {
          "output_type": "stream",
          "text": [
            "/usr/local/lib/python3.7/dist-packages/sklearn/linear_model/_logistic.py:1501: UserWarning: l1_ratio parameter is only used when penalty is 'elasticnet'. Got (penalty=l1)\n",
            "  \"(penalty={})\".format(self.penalty))\n"
          ],
          "name": "stderr"
        },
        {
          "output_type": "stream",
          "text": [
            "[CV]  C=10, l1_ratio=0.2, penalty=l1, solver=saga, score=0.666, total=  27.3s\n",
            "[CV] C=10, l1_ratio=0.2, penalty=l1, solver=saga .....................\n"
          ],
          "name": "stdout"
        },
        {
          "output_type": "stream",
          "text": [
            "/usr/local/lib/python3.7/dist-packages/sklearn/linear_model/_logistic.py:1501: UserWarning: l1_ratio parameter is only used when penalty is 'elasticnet'. Got (penalty=l1)\n",
            "  \"(penalty={})\".format(self.penalty))\n"
          ],
          "name": "stderr"
        },
        {
          "output_type": "stream",
          "text": [
            "[CV]  C=10, l1_ratio=0.2, penalty=l1, solver=saga, score=0.654, total=  40.3s\n",
            "[CV] C=10, l1_ratio=0.2, penalty=l1, solver=saga .....................\n"
          ],
          "name": "stdout"
        },
        {
          "output_type": "stream",
          "text": [
            "/usr/local/lib/python3.7/dist-packages/sklearn/linear_model/_logistic.py:1501: UserWarning: l1_ratio parameter is only used when penalty is 'elasticnet'. Got (penalty=l1)\n",
            "  \"(penalty={})\".format(self.penalty))\n"
          ],
          "name": "stderr"
        },
        {
          "output_type": "stream",
          "text": [
            "[CV]  C=10, l1_ratio=0.2, penalty=l1, solver=saga, score=0.647, total=  28.5s\n",
            "[CV] C=10, l1_ratio=0.2, penalty=l1, solver=saga .....................\n"
          ],
          "name": "stdout"
        },
        {
          "output_type": "stream",
          "text": [
            "/usr/local/lib/python3.7/dist-packages/sklearn/linear_model/_logistic.py:1501: UserWarning: l1_ratio parameter is only used when penalty is 'elasticnet'. Got (penalty=l1)\n",
            "  \"(penalty={})\".format(self.penalty))\n"
          ],
          "name": "stderr"
        },
        {
          "output_type": "stream",
          "text": [
            "[CV]  C=10, l1_ratio=0.2, penalty=l1, solver=saga, score=0.658, total=  27.3s\n",
            "[CV] C=10, l1_ratio=0.2, penalty=l1, solver=liblinear ................\n",
            "[CV]  C=10, l1_ratio=0.2, penalty=l1, solver=liblinear, score=0.672, total=   0.2s\n",
            "[CV] C=10, l1_ratio=0.2, penalty=l1, solver=liblinear ................\n"
          ],
          "name": "stdout"
        },
        {
          "output_type": "stream",
          "text": [
            "/usr/local/lib/python3.7/dist-packages/sklearn/linear_model/_logistic.py:1501: UserWarning: l1_ratio parameter is only used when penalty is 'elasticnet'. Got (penalty=l1)\n",
            "  \"(penalty={})\".format(self.penalty))\n",
            "/usr/local/lib/python3.7/dist-packages/sklearn/linear_model/_logistic.py:1501: UserWarning: l1_ratio parameter is only used when penalty is 'elasticnet'. Got (penalty=l1)\n",
            "  \"(penalty={})\".format(self.penalty))\n"
          ],
          "name": "stderr"
        },
        {
          "output_type": "stream",
          "text": [
            "[CV]  C=10, l1_ratio=0.2, penalty=l1, solver=liblinear, score=0.666, total=   0.2s\n",
            "[CV] C=10, l1_ratio=0.2, penalty=l1, solver=liblinear ................\n",
            "[CV]  C=10, l1_ratio=0.2, penalty=l1, solver=liblinear, score=0.654, total=   0.2s\n",
            "[CV] C=10, l1_ratio=0.2, penalty=l1, solver=liblinear ................\n"
          ],
          "name": "stdout"
        },
        {
          "output_type": "stream",
          "text": [
            "/usr/local/lib/python3.7/dist-packages/sklearn/linear_model/_logistic.py:1501: UserWarning: l1_ratio parameter is only used when penalty is 'elasticnet'. Got (penalty=l1)\n",
            "  \"(penalty={})\".format(self.penalty))\n",
            "/usr/local/lib/python3.7/dist-packages/sklearn/linear_model/_logistic.py:1501: UserWarning: l1_ratio parameter is only used when penalty is 'elasticnet'. Got (penalty=l1)\n",
            "  \"(penalty={})\".format(self.penalty))\n"
          ],
          "name": "stderr"
        },
        {
          "output_type": "stream",
          "text": [
            "[CV]  C=10, l1_ratio=0.2, penalty=l1, solver=liblinear, score=0.647, total=   0.2s\n",
            "[CV] C=10, l1_ratio=0.2, penalty=l1, solver=liblinear ................\n",
            "[CV]  C=10, l1_ratio=0.2, penalty=l1, solver=liblinear, score=0.659, total=   0.2s\n",
            "[CV] C=10, l1_ratio=0.2, penalty=l2, solver=saga .....................\n"
          ],
          "name": "stdout"
        },
        {
          "output_type": "stream",
          "text": [
            "/usr/local/lib/python3.7/dist-packages/sklearn/linear_model/_logistic.py:1501: UserWarning: l1_ratio parameter is only used when penalty is 'elasticnet'. Got (penalty=l1)\n",
            "  \"(penalty={})\".format(self.penalty))\n",
            "/usr/local/lib/python3.7/dist-packages/sklearn/linear_model/_logistic.py:1501: UserWarning: l1_ratio parameter is only used when penalty is 'elasticnet'. Got (penalty=l2)\n",
            "  \"(penalty={})\".format(self.penalty))\n"
          ],
          "name": "stderr"
        },
        {
          "output_type": "stream",
          "text": [
            "[CV]  C=10, l1_ratio=0.2, penalty=l2, solver=saga, score=0.672, total=  35.6s\n",
            "[CV] C=10, l1_ratio=0.2, penalty=l2, solver=saga .....................\n"
          ],
          "name": "stdout"
        },
        {
          "output_type": "stream",
          "text": [
            "/usr/local/lib/python3.7/dist-packages/sklearn/linear_model/_logistic.py:1501: UserWarning: l1_ratio parameter is only used when penalty is 'elasticnet'. Got (penalty=l2)\n",
            "  \"(penalty={})\".format(self.penalty))\n"
          ],
          "name": "stderr"
        },
        {
          "output_type": "stream",
          "text": [
            "[CV]  C=10, l1_ratio=0.2, penalty=l2, solver=saga, score=0.666, total=  21.7s\n",
            "[CV] C=10, l1_ratio=0.2, penalty=l2, solver=saga .....................\n"
          ],
          "name": "stdout"
        },
        {
          "output_type": "stream",
          "text": [
            "/usr/local/lib/python3.7/dist-packages/sklearn/linear_model/_logistic.py:1501: UserWarning: l1_ratio parameter is only used when penalty is 'elasticnet'. Got (penalty=l2)\n",
            "  \"(penalty={})\".format(self.penalty))\n"
          ],
          "name": "stderr"
        },
        {
          "output_type": "stream",
          "text": [
            "[CV]  C=10, l1_ratio=0.2, penalty=l2, solver=saga, score=0.654, total=  32.3s\n",
            "[CV] C=10, l1_ratio=0.2, penalty=l2, solver=saga .....................\n"
          ],
          "name": "stdout"
        },
        {
          "output_type": "stream",
          "text": [
            "/usr/local/lib/python3.7/dist-packages/sklearn/linear_model/_logistic.py:1501: UserWarning: l1_ratio parameter is only used when penalty is 'elasticnet'. Got (penalty=l2)\n",
            "  \"(penalty={})\".format(self.penalty))\n"
          ],
          "name": "stderr"
        },
        {
          "output_type": "stream",
          "text": [
            "[CV]  C=10, l1_ratio=0.2, penalty=l2, solver=saga, score=0.647, total=  22.6s\n",
            "[CV] C=10, l1_ratio=0.2, penalty=l2, solver=saga .....................\n"
          ],
          "name": "stdout"
        },
        {
          "output_type": "stream",
          "text": [
            "/usr/local/lib/python3.7/dist-packages/sklearn/linear_model/_logistic.py:1501: UserWarning: l1_ratio parameter is only used when penalty is 'elasticnet'. Got (penalty=l2)\n",
            "  \"(penalty={})\".format(self.penalty))\n"
          ],
          "name": "stderr"
        },
        {
          "output_type": "stream",
          "text": [
            "[CV]  C=10, l1_ratio=0.2, penalty=l2, solver=saga, score=0.658, total=  22.1s\n",
            "[CV] C=10, l1_ratio=0.2, penalty=l2, solver=liblinear ................\n",
            "[CV]  C=10, l1_ratio=0.2, penalty=l2, solver=liblinear, score=0.672, total=   0.2s\n",
            "[CV] C=10, l1_ratio=0.2, penalty=l2, solver=liblinear ................\n"
          ],
          "name": "stdout"
        },
        {
          "output_type": "stream",
          "text": [
            "/usr/local/lib/python3.7/dist-packages/sklearn/linear_model/_logistic.py:1501: UserWarning: l1_ratio parameter is only used when penalty is 'elasticnet'. Got (penalty=l2)\n",
            "  \"(penalty={})\".format(self.penalty))\n",
            "/usr/local/lib/python3.7/dist-packages/sklearn/linear_model/_logistic.py:1501: UserWarning: l1_ratio parameter is only used when penalty is 'elasticnet'. Got (penalty=l2)\n",
            "  \"(penalty={})\".format(self.penalty))\n"
          ],
          "name": "stderr"
        },
        {
          "output_type": "stream",
          "text": [
            "[CV]  C=10, l1_ratio=0.2, penalty=l2, solver=liblinear, score=0.666, total=   0.1s\n",
            "[CV] C=10, l1_ratio=0.2, penalty=l2, solver=liblinear ................\n",
            "[CV]  C=10, l1_ratio=0.2, penalty=l2, solver=liblinear, score=0.654, total=   0.2s\n",
            "[CV] C=10, l1_ratio=0.2, penalty=l2, solver=liblinear ................\n"
          ],
          "name": "stdout"
        },
        {
          "output_type": "stream",
          "text": [
            "/usr/local/lib/python3.7/dist-packages/sklearn/linear_model/_logistic.py:1501: UserWarning: l1_ratio parameter is only used when penalty is 'elasticnet'. Got (penalty=l2)\n",
            "  \"(penalty={})\".format(self.penalty))\n",
            "/usr/local/lib/python3.7/dist-packages/sklearn/linear_model/_logistic.py:1501: UserWarning: l1_ratio parameter is only used when penalty is 'elasticnet'. Got (penalty=l2)\n",
            "  \"(penalty={})\".format(self.penalty))\n"
          ],
          "name": "stderr"
        },
        {
          "output_type": "stream",
          "text": [
            "[CV]  C=10, l1_ratio=0.2, penalty=l2, solver=liblinear, score=0.647, total=   0.2s\n",
            "[CV] C=10, l1_ratio=0.2, penalty=l2, solver=liblinear ................\n",
            "[CV]  C=10, l1_ratio=0.2, penalty=l2, solver=liblinear, score=0.659, total=   0.2s\n",
            "[CV] C=10, l1_ratio=0.2, penalty=elasticnet, solver=saga .............\n"
          ],
          "name": "stdout"
        },
        {
          "output_type": "stream",
          "text": [
            "/usr/local/lib/python3.7/dist-packages/sklearn/linear_model/_logistic.py:1501: UserWarning: l1_ratio parameter is only used when penalty is 'elasticnet'. Got (penalty=l2)\n",
            "  \"(penalty={})\".format(self.penalty))\n"
          ],
          "name": "stderr"
        },
        {
          "output_type": "stream",
          "text": [
            "[CV]  C=10, l1_ratio=0.2, penalty=elasticnet, solver=saga, score=0.672, total=  47.0s\n",
            "[CV] C=10, l1_ratio=0.2, penalty=elasticnet, solver=saga .............\n",
            "[CV]  C=10, l1_ratio=0.2, penalty=elasticnet, solver=saga, score=0.666, total=  28.5s\n",
            "[CV] C=10, l1_ratio=0.2, penalty=elasticnet, solver=saga .............\n",
            "[CV]  C=10, l1_ratio=0.2, penalty=elasticnet, solver=saga, score=0.654, total=  41.4s\n",
            "[CV] C=10, l1_ratio=0.2, penalty=elasticnet, solver=saga .............\n",
            "[CV]  C=10, l1_ratio=0.2, penalty=elasticnet, solver=saga, score=0.647, total=  29.3s\n",
            "[CV] C=10, l1_ratio=0.2, penalty=elasticnet, solver=saga .............\n",
            "[CV]  C=10, l1_ratio=0.2, penalty=elasticnet, solver=saga, score=0.658, total=  28.4s\n",
            "[CV] C=10, l1_ratio=0.2, penalty=elasticnet, solver=liblinear ........\n",
            "[CV]  C=10, l1_ratio=0.2, penalty=elasticnet, solver=liblinear, score=nan, total=   0.0s\n",
            "[CV] C=10, l1_ratio=0.2, penalty=elasticnet, solver=liblinear ........\n",
            "[CV]  C=10, l1_ratio=0.2, penalty=elasticnet, solver=liblinear, score=nan, total=   0.0s\n",
            "[CV] C=10, l1_ratio=0.2, penalty=elasticnet, solver=liblinear ........\n",
            "[CV]  C=10, l1_ratio=0.2, penalty=elasticnet, solver=liblinear, score=nan, total=   0.0s\n",
            "[CV] C=10, l1_ratio=0.2, penalty=elasticnet, solver=liblinear ........\n",
            "[CV]  C=10, l1_ratio=0.2, penalty=elasticnet, solver=liblinear, score=nan, total=   0.0s\n",
            "[CV] C=10, l1_ratio=0.2, penalty=elasticnet, solver=liblinear ........\n",
            "[CV]  C=10, l1_ratio=0.2, penalty=elasticnet, solver=liblinear, score=nan, total=   0.0s\n",
            "[CV] C=10, l1_ratio=0.4, penalty=l1, solver=saga .....................\n"
          ],
          "name": "stdout"
        },
        {
          "output_type": "stream",
          "text": [
            "/usr/local/lib/python3.7/dist-packages/sklearn/model_selection/_validation.py:536: FitFailedWarning: Estimator fit failed. The score on this train-test partition for these parameters will be set to nan. Details: \n",
            "ValueError: Only 'saga' solver supports elasticnet penalty, got solver=liblinear.\n",
            "\n",
            "  FitFailedWarning)\n",
            "/usr/local/lib/python3.7/dist-packages/sklearn/linear_model/_logistic.py:1501: UserWarning: l1_ratio parameter is only used when penalty is 'elasticnet'. Got (penalty=l1)\n",
            "  \"(penalty={})\".format(self.penalty))\n"
          ],
          "name": "stderr"
        },
        {
          "output_type": "stream",
          "text": [
            "[CV]  C=10, l1_ratio=0.4, penalty=l1, solver=saga, score=0.672, total=  46.1s\n",
            "[CV] C=10, l1_ratio=0.4, penalty=l1, solver=saga .....................\n"
          ],
          "name": "stdout"
        },
        {
          "output_type": "stream",
          "text": [
            "/usr/local/lib/python3.7/dist-packages/sklearn/linear_model/_logistic.py:1501: UserWarning: l1_ratio parameter is only used when penalty is 'elasticnet'. Got (penalty=l1)\n",
            "  \"(penalty={})\".format(self.penalty))\n"
          ],
          "name": "stderr"
        },
        {
          "output_type": "stream",
          "text": [
            "[CV]  C=10, l1_ratio=0.4, penalty=l1, solver=saga, score=0.666, total=  27.2s\n",
            "[CV] C=10, l1_ratio=0.4, penalty=l1, solver=saga .....................\n"
          ],
          "name": "stdout"
        },
        {
          "output_type": "stream",
          "text": [
            "/usr/local/lib/python3.7/dist-packages/sklearn/linear_model/_logistic.py:1501: UserWarning: l1_ratio parameter is only used when penalty is 'elasticnet'. Got (penalty=l1)\n",
            "  \"(penalty={})\".format(self.penalty))\n"
          ],
          "name": "stderr"
        },
        {
          "output_type": "stream",
          "text": [
            "[CV]  C=10, l1_ratio=0.4, penalty=l1, solver=saga, score=0.654, total=  40.2s\n",
            "[CV] C=10, l1_ratio=0.4, penalty=l1, solver=saga .....................\n"
          ],
          "name": "stdout"
        },
        {
          "output_type": "stream",
          "text": [
            "/usr/local/lib/python3.7/dist-packages/sklearn/linear_model/_logistic.py:1501: UserWarning: l1_ratio parameter is only used when penalty is 'elasticnet'. Got (penalty=l1)\n",
            "  \"(penalty={})\".format(self.penalty))\n"
          ],
          "name": "stderr"
        },
        {
          "output_type": "stream",
          "text": [
            "[CV]  C=10, l1_ratio=0.4, penalty=l1, solver=saga, score=0.647, total=  28.7s\n",
            "[CV] C=10, l1_ratio=0.4, penalty=l1, solver=saga .....................\n"
          ],
          "name": "stdout"
        },
        {
          "output_type": "stream",
          "text": [
            "/usr/local/lib/python3.7/dist-packages/sklearn/linear_model/_logistic.py:1501: UserWarning: l1_ratio parameter is only used when penalty is 'elasticnet'. Got (penalty=l1)\n",
            "  \"(penalty={})\".format(self.penalty))\n"
          ],
          "name": "stderr"
        },
        {
          "output_type": "stream",
          "text": [
            "[CV]  C=10, l1_ratio=0.4, penalty=l1, solver=saga, score=0.658, total=  27.2s\n",
            "[CV] C=10, l1_ratio=0.4, penalty=l1, solver=liblinear ................\n",
            "[CV]  C=10, l1_ratio=0.4, penalty=l1, solver=liblinear, score=0.672, total=   0.2s\n",
            "[CV] C=10, l1_ratio=0.4, penalty=l1, solver=liblinear ................\n"
          ],
          "name": "stdout"
        },
        {
          "output_type": "stream",
          "text": [
            "/usr/local/lib/python3.7/dist-packages/sklearn/linear_model/_logistic.py:1501: UserWarning: l1_ratio parameter is only used when penalty is 'elasticnet'. Got (penalty=l1)\n",
            "  \"(penalty={})\".format(self.penalty))\n",
            "/usr/local/lib/python3.7/dist-packages/sklearn/linear_model/_logistic.py:1501: UserWarning: l1_ratio parameter is only used when penalty is 'elasticnet'. Got (penalty=l1)\n",
            "  \"(penalty={})\".format(self.penalty))\n"
          ],
          "name": "stderr"
        },
        {
          "output_type": "stream",
          "text": [
            "[CV]  C=10, l1_ratio=0.4, penalty=l1, solver=liblinear, score=0.666, total=   0.2s\n",
            "[CV] C=10, l1_ratio=0.4, penalty=l1, solver=liblinear ................\n",
            "[CV]  C=10, l1_ratio=0.4, penalty=l1, solver=liblinear, score=0.654, total=   0.2s\n",
            "[CV] C=10, l1_ratio=0.4, penalty=l1, solver=liblinear ................\n"
          ],
          "name": "stdout"
        },
        {
          "output_type": "stream",
          "text": [
            "/usr/local/lib/python3.7/dist-packages/sklearn/linear_model/_logistic.py:1501: UserWarning: l1_ratio parameter is only used when penalty is 'elasticnet'. Got (penalty=l1)\n",
            "  \"(penalty={})\".format(self.penalty))\n",
            "/usr/local/lib/python3.7/dist-packages/sklearn/linear_model/_logistic.py:1501: UserWarning: l1_ratio parameter is only used when penalty is 'elasticnet'. Got (penalty=l1)\n",
            "  \"(penalty={})\".format(self.penalty))\n"
          ],
          "name": "stderr"
        },
        {
          "output_type": "stream",
          "text": [
            "[CV]  C=10, l1_ratio=0.4, penalty=l1, solver=liblinear, score=0.647, total=   0.2s\n",
            "[CV] C=10, l1_ratio=0.4, penalty=l1, solver=liblinear ................\n",
            "[CV]  C=10, l1_ratio=0.4, penalty=l1, solver=liblinear, score=0.659, total=   0.2s\n",
            "[CV] C=10, l1_ratio=0.4, penalty=l2, solver=saga .....................\n"
          ],
          "name": "stdout"
        },
        {
          "output_type": "stream",
          "text": [
            "/usr/local/lib/python3.7/dist-packages/sklearn/linear_model/_logistic.py:1501: UserWarning: l1_ratio parameter is only used when penalty is 'elasticnet'. Got (penalty=l1)\n",
            "  \"(penalty={})\".format(self.penalty))\n",
            "/usr/local/lib/python3.7/dist-packages/sklearn/linear_model/_logistic.py:1501: UserWarning: l1_ratio parameter is only used when penalty is 'elasticnet'. Got (penalty=l2)\n",
            "  \"(penalty={})\".format(self.penalty))\n"
          ],
          "name": "stderr"
        },
        {
          "output_type": "stream",
          "text": [
            "[CV]  C=10, l1_ratio=0.4, penalty=l2, solver=saga, score=0.672, total=  35.5s\n",
            "[CV] C=10, l1_ratio=0.4, penalty=l2, solver=saga .....................\n"
          ],
          "name": "stdout"
        },
        {
          "output_type": "stream",
          "text": [
            "/usr/local/lib/python3.7/dist-packages/sklearn/linear_model/_logistic.py:1501: UserWarning: l1_ratio parameter is only used when penalty is 'elasticnet'. Got (penalty=l2)\n",
            "  \"(penalty={})\".format(self.penalty))\n"
          ],
          "name": "stderr"
        },
        {
          "output_type": "stream",
          "text": [
            "[CV]  C=10, l1_ratio=0.4, penalty=l2, solver=saga, score=0.666, total=  21.5s\n",
            "[CV] C=10, l1_ratio=0.4, penalty=l2, solver=saga .....................\n"
          ],
          "name": "stdout"
        },
        {
          "output_type": "stream",
          "text": [
            "/usr/local/lib/python3.7/dist-packages/sklearn/linear_model/_logistic.py:1501: UserWarning: l1_ratio parameter is only used when penalty is 'elasticnet'. Got (penalty=l2)\n",
            "  \"(penalty={})\".format(self.penalty))\n"
          ],
          "name": "stderr"
        },
        {
          "output_type": "stream",
          "text": [
            "[CV]  C=10, l1_ratio=0.4, penalty=l2, solver=saga, score=0.654, total=  32.0s\n",
            "[CV] C=10, l1_ratio=0.4, penalty=l2, solver=saga .....................\n"
          ],
          "name": "stdout"
        },
        {
          "output_type": "stream",
          "text": [
            "/usr/local/lib/python3.7/dist-packages/sklearn/linear_model/_logistic.py:1501: UserWarning: l1_ratio parameter is only used when penalty is 'elasticnet'. Got (penalty=l2)\n",
            "  \"(penalty={})\".format(self.penalty))\n"
          ],
          "name": "stderr"
        },
        {
          "output_type": "stream",
          "text": [
            "[CV]  C=10, l1_ratio=0.4, penalty=l2, solver=saga, score=0.647, total=  22.5s\n",
            "[CV] C=10, l1_ratio=0.4, penalty=l2, solver=saga .....................\n"
          ],
          "name": "stdout"
        },
        {
          "output_type": "stream",
          "text": [
            "/usr/local/lib/python3.7/dist-packages/sklearn/linear_model/_logistic.py:1501: UserWarning: l1_ratio parameter is only used when penalty is 'elasticnet'. Got (penalty=l2)\n",
            "  \"(penalty={})\".format(self.penalty))\n"
          ],
          "name": "stderr"
        },
        {
          "output_type": "stream",
          "text": [
            "[CV]  C=10, l1_ratio=0.4, penalty=l2, solver=saga, score=0.658, total=  21.6s\n",
            "[CV] C=10, l1_ratio=0.4, penalty=l2, solver=liblinear ................\n",
            "[CV]  C=10, l1_ratio=0.4, penalty=l2, solver=liblinear, score=0.672, total=   0.2s\n",
            "[CV] C=10, l1_ratio=0.4, penalty=l2, solver=liblinear ................\n"
          ],
          "name": "stdout"
        },
        {
          "output_type": "stream",
          "text": [
            "/usr/local/lib/python3.7/dist-packages/sklearn/linear_model/_logistic.py:1501: UserWarning: l1_ratio parameter is only used when penalty is 'elasticnet'. Got (penalty=l2)\n",
            "  \"(penalty={})\".format(self.penalty))\n",
            "/usr/local/lib/python3.7/dist-packages/sklearn/linear_model/_logistic.py:1501: UserWarning: l1_ratio parameter is only used when penalty is 'elasticnet'. Got (penalty=l2)\n",
            "  \"(penalty={})\".format(self.penalty))\n"
          ],
          "name": "stderr"
        },
        {
          "output_type": "stream",
          "text": [
            "[CV]  C=10, l1_ratio=0.4, penalty=l2, solver=liblinear, score=0.666, total=   0.2s\n",
            "[CV] C=10, l1_ratio=0.4, penalty=l2, solver=liblinear ................\n",
            "[CV]  C=10, l1_ratio=0.4, penalty=l2, solver=liblinear, score=0.654, total=   0.2s\n",
            "[CV] C=10, l1_ratio=0.4, penalty=l2, solver=liblinear ................\n"
          ],
          "name": "stdout"
        },
        {
          "output_type": "stream",
          "text": [
            "/usr/local/lib/python3.7/dist-packages/sklearn/linear_model/_logistic.py:1501: UserWarning: l1_ratio parameter is only used when penalty is 'elasticnet'. Got (penalty=l2)\n",
            "  \"(penalty={})\".format(self.penalty))\n",
            "/usr/local/lib/python3.7/dist-packages/sklearn/linear_model/_logistic.py:1501: UserWarning: l1_ratio parameter is only used when penalty is 'elasticnet'. Got (penalty=l2)\n",
            "  \"(penalty={})\".format(self.penalty))\n"
          ],
          "name": "stderr"
        },
        {
          "output_type": "stream",
          "text": [
            "[CV]  C=10, l1_ratio=0.4, penalty=l2, solver=liblinear, score=0.647, total=   0.2s\n",
            "[CV] C=10, l1_ratio=0.4, penalty=l2, solver=liblinear ................\n",
            "[CV]  C=10, l1_ratio=0.4, penalty=l2, solver=liblinear, score=0.659, total=   0.2s\n",
            "[CV] C=10, l1_ratio=0.4, penalty=elasticnet, solver=saga .............\n"
          ],
          "name": "stdout"
        },
        {
          "output_type": "stream",
          "text": [
            "/usr/local/lib/python3.7/dist-packages/sklearn/linear_model/_logistic.py:1501: UserWarning: l1_ratio parameter is only used when penalty is 'elasticnet'. Got (penalty=l2)\n",
            "  \"(penalty={})\".format(self.penalty))\n"
          ],
          "name": "stderr"
        },
        {
          "output_type": "stream",
          "text": [
            "[CV]  C=10, l1_ratio=0.4, penalty=elasticnet, solver=saga, score=0.672, total=  46.4s\n",
            "[CV] C=10, l1_ratio=0.4, penalty=elasticnet, solver=saga .............\n",
            "[CV]  C=10, l1_ratio=0.4, penalty=elasticnet, solver=saga, score=0.666, total=  28.4s\n",
            "[CV] C=10, l1_ratio=0.4, penalty=elasticnet, solver=saga .............\n",
            "[CV]  C=10, l1_ratio=0.4, penalty=elasticnet, solver=saga, score=0.654, total=  41.5s\n",
            "[CV] C=10, l1_ratio=0.4, penalty=elasticnet, solver=saga .............\n",
            "[CV]  C=10, l1_ratio=0.4, penalty=elasticnet, solver=saga, score=0.647, total=  29.5s\n",
            "[CV] C=10, l1_ratio=0.4, penalty=elasticnet, solver=saga .............\n",
            "[CV]  C=10, l1_ratio=0.4, penalty=elasticnet, solver=saga, score=0.658, total=  28.4s\n",
            "[CV] C=10, l1_ratio=0.4, penalty=elasticnet, solver=liblinear ........\n",
            "[CV]  C=10, l1_ratio=0.4, penalty=elasticnet, solver=liblinear, score=nan, total=   0.0s\n",
            "[CV] C=10, l1_ratio=0.4, penalty=elasticnet, solver=liblinear ........\n",
            "[CV]  C=10, l1_ratio=0.4, penalty=elasticnet, solver=liblinear, score=nan, total=   0.0s\n",
            "[CV] C=10, l1_ratio=0.4, penalty=elasticnet, solver=liblinear ........\n",
            "[CV]  C=10, l1_ratio=0.4, penalty=elasticnet, solver=liblinear, score=nan, total=   0.0s\n",
            "[CV] C=10, l1_ratio=0.4, penalty=elasticnet, solver=liblinear ........\n",
            "[CV]  C=10, l1_ratio=0.4, penalty=elasticnet, solver=liblinear, score=nan, total=   0.0s\n",
            "[CV] C=10, l1_ratio=0.4, penalty=elasticnet, solver=liblinear ........\n",
            "[CV]  C=10, l1_ratio=0.4, penalty=elasticnet, solver=liblinear, score=nan, total=   0.0s\n",
            "[CV] C=10, l1_ratio=0.5, penalty=l1, solver=saga .....................\n"
          ],
          "name": "stdout"
        },
        {
          "output_type": "stream",
          "text": [
            "/usr/local/lib/python3.7/dist-packages/sklearn/model_selection/_validation.py:536: FitFailedWarning: Estimator fit failed. The score on this train-test partition for these parameters will be set to nan. Details: \n",
            "ValueError: Only 'saga' solver supports elasticnet penalty, got solver=liblinear.\n",
            "\n",
            "  FitFailedWarning)\n",
            "/usr/local/lib/python3.7/dist-packages/sklearn/linear_model/_logistic.py:1501: UserWarning: l1_ratio parameter is only used when penalty is 'elasticnet'. Got (penalty=l1)\n",
            "  \"(penalty={})\".format(self.penalty))\n"
          ],
          "name": "stderr"
        },
        {
          "output_type": "stream",
          "text": [
            "[CV]  C=10, l1_ratio=0.5, penalty=l1, solver=saga, score=0.672, total=  46.3s\n",
            "[CV] C=10, l1_ratio=0.5, penalty=l1, solver=saga .....................\n"
          ],
          "name": "stdout"
        },
        {
          "output_type": "stream",
          "text": [
            "/usr/local/lib/python3.7/dist-packages/sklearn/linear_model/_logistic.py:1501: UserWarning: l1_ratio parameter is only used when penalty is 'elasticnet'. Got (penalty=l1)\n",
            "  \"(penalty={})\".format(self.penalty))\n"
          ],
          "name": "stderr"
        },
        {
          "output_type": "stream",
          "text": [
            "[CV]  C=10, l1_ratio=0.5, penalty=l1, solver=saga, score=0.666, total=  27.5s\n",
            "[CV] C=10, l1_ratio=0.5, penalty=l1, solver=saga .....................\n"
          ],
          "name": "stdout"
        },
        {
          "output_type": "stream",
          "text": [
            "/usr/local/lib/python3.7/dist-packages/sklearn/linear_model/_logistic.py:1501: UserWarning: l1_ratio parameter is only used when penalty is 'elasticnet'. Got (penalty=l1)\n",
            "  \"(penalty={})\".format(self.penalty))\n"
          ],
          "name": "stderr"
        },
        {
          "output_type": "stream",
          "text": [
            "[CV]  C=10, l1_ratio=0.5, penalty=l1, solver=saga, score=0.654, total=  40.5s\n",
            "[CV] C=10, l1_ratio=0.5, penalty=l1, solver=saga .....................\n"
          ],
          "name": "stdout"
        },
        {
          "output_type": "stream",
          "text": [
            "/usr/local/lib/python3.7/dist-packages/sklearn/linear_model/_logistic.py:1501: UserWarning: l1_ratio parameter is only used when penalty is 'elasticnet'. Got (penalty=l1)\n",
            "  \"(penalty={})\".format(self.penalty))\n"
          ],
          "name": "stderr"
        },
        {
          "output_type": "stream",
          "text": [
            "[CV]  C=10, l1_ratio=0.5, penalty=l1, solver=saga, score=0.647, total=  28.3s\n",
            "[CV] C=10, l1_ratio=0.5, penalty=l1, solver=saga .....................\n"
          ],
          "name": "stdout"
        },
        {
          "output_type": "stream",
          "text": [
            "/usr/local/lib/python3.7/dist-packages/sklearn/linear_model/_logistic.py:1501: UserWarning: l1_ratio parameter is only used when penalty is 'elasticnet'. Got (penalty=l1)\n",
            "  \"(penalty={})\".format(self.penalty))\n"
          ],
          "name": "stderr"
        },
        {
          "output_type": "stream",
          "text": [
            "[CV]  C=10, l1_ratio=0.5, penalty=l1, solver=saga, score=0.658, total=  27.3s\n",
            "[CV] C=10, l1_ratio=0.5, penalty=l1, solver=liblinear ................\n",
            "[CV]  C=10, l1_ratio=0.5, penalty=l1, solver=liblinear, score=0.672, total=   0.2s\n",
            "[CV] C=10, l1_ratio=0.5, penalty=l1, solver=liblinear ................\n"
          ],
          "name": "stdout"
        },
        {
          "output_type": "stream",
          "text": [
            "/usr/local/lib/python3.7/dist-packages/sklearn/linear_model/_logistic.py:1501: UserWarning: l1_ratio parameter is only used when penalty is 'elasticnet'. Got (penalty=l1)\n",
            "  \"(penalty={})\".format(self.penalty))\n",
            "/usr/local/lib/python3.7/dist-packages/sklearn/linear_model/_logistic.py:1501: UserWarning: l1_ratio parameter is only used when penalty is 'elasticnet'. Got (penalty=l1)\n",
            "  \"(penalty={})\".format(self.penalty))\n"
          ],
          "name": "stderr"
        },
        {
          "output_type": "stream",
          "text": [
            "[CV]  C=10, l1_ratio=0.5, penalty=l1, solver=liblinear, score=0.666, total=   0.2s\n",
            "[CV] C=10, l1_ratio=0.5, penalty=l1, solver=liblinear ................\n",
            "[CV]  C=10, l1_ratio=0.5, penalty=l1, solver=liblinear, score=0.654, total=   0.2s\n",
            "[CV] C=10, l1_ratio=0.5, penalty=l1, solver=liblinear ................\n"
          ],
          "name": "stdout"
        },
        {
          "output_type": "stream",
          "text": [
            "/usr/local/lib/python3.7/dist-packages/sklearn/linear_model/_logistic.py:1501: UserWarning: l1_ratio parameter is only used when penalty is 'elasticnet'. Got (penalty=l1)\n",
            "  \"(penalty={})\".format(self.penalty))\n",
            "/usr/local/lib/python3.7/dist-packages/sklearn/linear_model/_logistic.py:1501: UserWarning: l1_ratio parameter is only used when penalty is 'elasticnet'. Got (penalty=l1)\n",
            "  \"(penalty={})\".format(self.penalty))\n"
          ],
          "name": "stderr"
        },
        {
          "output_type": "stream",
          "text": [
            "[CV]  C=10, l1_ratio=0.5, penalty=l1, solver=liblinear, score=0.647, total=   0.2s\n",
            "[CV] C=10, l1_ratio=0.5, penalty=l1, solver=liblinear ................\n",
            "[CV]  C=10, l1_ratio=0.5, penalty=l1, solver=liblinear, score=0.659, total=   0.2s\n",
            "[CV] C=10, l1_ratio=0.5, penalty=l2, solver=saga .....................\n"
          ],
          "name": "stdout"
        },
        {
          "output_type": "stream",
          "text": [
            "/usr/local/lib/python3.7/dist-packages/sklearn/linear_model/_logistic.py:1501: UserWarning: l1_ratio parameter is only used when penalty is 'elasticnet'. Got (penalty=l1)\n",
            "  \"(penalty={})\".format(self.penalty))\n",
            "/usr/local/lib/python3.7/dist-packages/sklearn/linear_model/_logistic.py:1501: UserWarning: l1_ratio parameter is only used when penalty is 'elasticnet'. Got (penalty=l2)\n",
            "  \"(penalty={})\".format(self.penalty))\n"
          ],
          "name": "stderr"
        },
        {
          "output_type": "stream",
          "text": [
            "[CV]  C=10, l1_ratio=0.5, penalty=l2, solver=saga, score=0.672, total=  35.4s\n",
            "[CV] C=10, l1_ratio=0.5, penalty=l2, solver=saga .....................\n"
          ],
          "name": "stdout"
        },
        {
          "output_type": "stream",
          "text": [
            "/usr/local/lib/python3.7/dist-packages/sklearn/linear_model/_logistic.py:1501: UserWarning: l1_ratio parameter is only used when penalty is 'elasticnet'. Got (penalty=l2)\n",
            "  \"(penalty={})\".format(self.penalty))\n"
          ],
          "name": "stderr"
        },
        {
          "output_type": "stream",
          "text": [
            "[CV]  C=10, l1_ratio=0.5, penalty=l2, solver=saga, score=0.666, total=  21.6s\n",
            "[CV] C=10, l1_ratio=0.5, penalty=l2, solver=saga .....................\n"
          ],
          "name": "stdout"
        },
        {
          "output_type": "stream",
          "text": [
            "/usr/local/lib/python3.7/dist-packages/sklearn/linear_model/_logistic.py:1501: UserWarning: l1_ratio parameter is only used when penalty is 'elasticnet'. Got (penalty=l2)\n",
            "  \"(penalty={})\".format(self.penalty))\n"
          ],
          "name": "stderr"
        },
        {
          "output_type": "stream",
          "text": [
            "[CV]  C=10, l1_ratio=0.5, penalty=l2, solver=saga, score=0.654, total=  31.9s\n",
            "[CV] C=10, l1_ratio=0.5, penalty=l2, solver=saga .....................\n"
          ],
          "name": "stdout"
        },
        {
          "output_type": "stream",
          "text": [
            "/usr/local/lib/python3.7/dist-packages/sklearn/linear_model/_logistic.py:1501: UserWarning: l1_ratio parameter is only used when penalty is 'elasticnet'. Got (penalty=l2)\n",
            "  \"(penalty={})\".format(self.penalty))\n"
          ],
          "name": "stderr"
        },
        {
          "output_type": "stream",
          "text": [
            "[CV]  C=10, l1_ratio=0.5, penalty=l2, solver=saga, score=0.647, total=  22.5s\n",
            "[CV] C=10, l1_ratio=0.5, penalty=l2, solver=saga .....................\n"
          ],
          "name": "stdout"
        },
        {
          "output_type": "stream",
          "text": [
            "/usr/local/lib/python3.7/dist-packages/sklearn/linear_model/_logistic.py:1501: UserWarning: l1_ratio parameter is only used when penalty is 'elasticnet'. Got (penalty=l2)\n",
            "  \"(penalty={})\".format(self.penalty))\n"
          ],
          "name": "stderr"
        },
        {
          "output_type": "stream",
          "text": [
            "[CV]  C=10, l1_ratio=0.5, penalty=l2, solver=saga, score=0.658, total=  21.8s\n",
            "[CV] C=10, l1_ratio=0.5, penalty=l2, solver=liblinear ................\n",
            "[CV]  C=10, l1_ratio=0.5, penalty=l2, solver=liblinear, score=0.672, total=   0.2s\n",
            "[CV] C=10, l1_ratio=0.5, penalty=l2, solver=liblinear ................\n"
          ],
          "name": "stdout"
        },
        {
          "output_type": "stream",
          "text": [
            "/usr/local/lib/python3.7/dist-packages/sklearn/linear_model/_logistic.py:1501: UserWarning: l1_ratio parameter is only used when penalty is 'elasticnet'. Got (penalty=l2)\n",
            "  \"(penalty={})\".format(self.penalty))\n",
            "/usr/local/lib/python3.7/dist-packages/sklearn/linear_model/_logistic.py:1501: UserWarning: l1_ratio parameter is only used when penalty is 'elasticnet'. Got (penalty=l2)\n",
            "  \"(penalty={})\".format(self.penalty))\n"
          ],
          "name": "stderr"
        },
        {
          "output_type": "stream",
          "text": [
            "[CV]  C=10, l1_ratio=0.5, penalty=l2, solver=liblinear, score=0.666, total=   0.1s\n",
            "[CV] C=10, l1_ratio=0.5, penalty=l2, solver=liblinear ................\n",
            "[CV]  C=10, l1_ratio=0.5, penalty=l2, solver=liblinear, score=0.654, total=   0.2s\n",
            "[CV] C=10, l1_ratio=0.5, penalty=l2, solver=liblinear ................\n"
          ],
          "name": "stdout"
        },
        {
          "output_type": "stream",
          "text": [
            "/usr/local/lib/python3.7/dist-packages/sklearn/linear_model/_logistic.py:1501: UserWarning: l1_ratio parameter is only used when penalty is 'elasticnet'. Got (penalty=l2)\n",
            "  \"(penalty={})\".format(self.penalty))\n",
            "/usr/local/lib/python3.7/dist-packages/sklearn/linear_model/_logistic.py:1501: UserWarning: l1_ratio parameter is only used when penalty is 'elasticnet'. Got (penalty=l2)\n",
            "  \"(penalty={})\".format(self.penalty))\n"
          ],
          "name": "stderr"
        },
        {
          "output_type": "stream",
          "text": [
            "[CV]  C=10, l1_ratio=0.5, penalty=l2, solver=liblinear, score=0.647, total=   0.2s\n",
            "[CV] C=10, l1_ratio=0.5, penalty=l2, solver=liblinear ................\n",
            "[CV]  C=10, l1_ratio=0.5, penalty=l2, solver=liblinear, score=0.659, total=   0.2s\n",
            "[CV] C=10, l1_ratio=0.5, penalty=elasticnet, solver=saga .............\n"
          ],
          "name": "stdout"
        },
        {
          "output_type": "stream",
          "text": [
            "/usr/local/lib/python3.7/dist-packages/sklearn/linear_model/_logistic.py:1501: UserWarning: l1_ratio parameter is only used when penalty is 'elasticnet'. Got (penalty=l2)\n",
            "  \"(penalty={})\".format(self.penalty))\n"
          ],
          "name": "stderr"
        },
        {
          "output_type": "stream",
          "text": [
            "[CV]  C=10, l1_ratio=0.5, penalty=elasticnet, solver=saga, score=0.672, total=  46.6s\n",
            "[CV] C=10, l1_ratio=0.5, penalty=elasticnet, solver=saga .............\n",
            "[CV]  C=10, l1_ratio=0.5, penalty=elasticnet, solver=saga, score=0.666, total=  28.3s\n",
            "[CV] C=10, l1_ratio=0.5, penalty=elasticnet, solver=saga .............\n",
            "[CV]  C=10, l1_ratio=0.5, penalty=elasticnet, solver=saga, score=0.654, total=  41.2s\n",
            "[CV] C=10, l1_ratio=0.5, penalty=elasticnet, solver=saga .............\n",
            "[CV]  C=10, l1_ratio=0.5, penalty=elasticnet, solver=saga, score=0.647, total=  29.0s\n",
            "[CV] C=10, l1_ratio=0.5, penalty=elasticnet, solver=saga .............\n",
            "[CV]  C=10, l1_ratio=0.5, penalty=elasticnet, solver=saga, score=0.658, total=  28.0s\n",
            "[CV] C=10, l1_ratio=0.5, penalty=elasticnet, solver=liblinear ........\n",
            "[CV]  C=10, l1_ratio=0.5, penalty=elasticnet, solver=liblinear, score=nan, total=   0.0s\n",
            "[CV] C=10, l1_ratio=0.5, penalty=elasticnet, solver=liblinear ........\n",
            "[CV]  C=10, l1_ratio=0.5, penalty=elasticnet, solver=liblinear, score=nan, total=   0.0s\n",
            "[CV] C=10, l1_ratio=0.5, penalty=elasticnet, solver=liblinear ........\n",
            "[CV]  C=10, l1_ratio=0.5, penalty=elasticnet, solver=liblinear, score=nan, total=   0.0s\n",
            "[CV] C=10, l1_ratio=0.5, penalty=elasticnet, solver=liblinear ........\n",
            "[CV]  C=10, l1_ratio=0.5, penalty=elasticnet, solver=liblinear, score=nan, total=   0.0s\n",
            "[CV] C=10, l1_ratio=0.5, penalty=elasticnet, solver=liblinear ........\n",
            "[CV]  C=10, l1_ratio=0.5, penalty=elasticnet, solver=liblinear, score=nan, total=   0.0s\n"
          ],
          "name": "stdout"
        },
        {
          "output_type": "stream",
          "text": [
            "/usr/local/lib/python3.7/dist-packages/sklearn/model_selection/_validation.py:536: FitFailedWarning: Estimator fit failed. The score on this train-test partition for these parameters will be set to nan. Details: \n",
            "ValueError: Only 'saga' solver supports elasticnet penalty, got solver=liblinear.\n",
            "\n",
            "  FitFailedWarning)\n",
            "[Parallel(n_jobs=1)]: Done 360 out of 360 | elapsed: 44.5min finished\n",
            "/usr/local/lib/python3.7/dist-packages/sklearn/linear_model/_logistic.py:1501: UserWarning: l1_ratio parameter is only used when penalty is 'elasticnet'. Got (penalty=l2)\n",
            "  \"(penalty={})\".format(self.penalty))\n"
          ],
          "name": "stderr"
        },
        {
          "output_type": "execute_result",
          "data": {
            "text/plain": [
              "GridSearchCV(cv=None, error_score=nan,\n",
              "             estimator=LogisticRegression(C=1.0, class_weight=None, dual=False,\n",
              "                                          fit_intercept=True,\n",
              "                                          intercept_scaling=1, l1_ratio=None,\n",
              "                                          max_iter=50000, multi_class='auto',\n",
              "                                          n_jobs=None, penalty='l2',\n",
              "                                          random_state=None, solver='lbfgs',\n",
              "                                          tol=0.0001, verbose=0,\n",
              "                                          warm_start=False),\n",
              "             iid='deprecated', n_jobs=None,\n",
              "             param_grid={'C': [0.01, 0.1, 1, 10], 'l1_ratio': [0.2, 0.4, 0.5],\n",
              "                         'penalty': ['l1', 'l2', 'elasticnet'],\n",
              "                         'solver': ['saga', 'liblinear']},\n",
              "             pre_dispatch='2*n_jobs', refit=True, return_train_score=False,\n",
              "             scoring=None, verbose=4)"
            ]
          },
          "metadata": {
            "tags": []
          },
          "execution_count": 39
        }
      ]
    },
    {
      "cell_type": "code",
      "metadata": {
        "colab": {
          "base_uri": "https://localhost:8080/"
        },
        "id": "TPhnYxVaHP8w",
        "outputId": "6f9b09bc-0c8d-4e70-b4db-7c7917c3e261"
      },
      "source": [
        "print(grid_logreg.best_params_)\n",
        "print(grid_logreg.best_estimator_)\n",
        "print(grid_logreg.best_score_)"
      ],
      "execution_count": null,
      "outputs": [
        {
          "output_type": "stream",
          "text": [
            "{'C': 0.01, 'l1_ratio': 0.2, 'penalty': 'l2', 'solver': 'liblinear'}\n",
            "LogisticRegression(C=0.01, class_weight=None, dual=False, fit_intercept=True,\n",
            "                   intercept_scaling=1, l1_ratio=0.2, max_iter=50000,\n",
            "                   multi_class='auto', n_jobs=None, penalty='l2',\n",
            "                   random_state=None, solver='liblinear', tol=0.0001, verbose=0,\n",
            "                   warm_start=False)\n",
            "0.6612379807692308\n"
          ],
          "name": "stdout"
        }
      ]
    },
    {
      "cell_type": "code",
      "metadata": {
        "id": "IGESLH1FHlPv",
        "colab": {
          "base_uri": "https://localhost:8080/"
        },
        "outputId": "2fb09b00-9bfe-40da-dfe1-1484d13d0440"
      },
      "source": [
        "logreg = LogisticRegression(C = 0.01, l1_ratio = 0.2, penalty = 'l2', solver = 'liblinear', max_iter = 50000)\n",
        "logreg.fit(X_train, y_train)"
      ],
      "execution_count": null,
      "outputs": [
        {
          "output_type": "stream",
          "text": [
            "/usr/local/lib/python3.7/dist-packages/sklearn/linear_model/_logistic.py:1501: UserWarning: l1_ratio parameter is only used when penalty is 'elasticnet'. Got (penalty=l2)\n",
            "  \"(penalty={})\".format(self.penalty))\n"
          ],
          "name": "stderr"
        },
        {
          "output_type": "execute_result",
          "data": {
            "text/plain": [
              "LogisticRegression(C=0.01, class_weight=None, dual=False, fit_intercept=True,\n",
              "                   intercept_scaling=1, l1_ratio=0.2, max_iter=50000,\n",
              "                   multi_class='auto', n_jobs=None, penalty='l2',\n",
              "                   random_state=None, solver='liblinear', tol=0.0001, verbose=0,\n",
              "                   warm_start=False)"
            ]
          },
          "metadata": {
            "tags": []
          },
          "execution_count": 126
        }
      ]
    },
    {
      "cell_type": "code",
      "metadata": {
        "colab": {
          "base_uri": "https://localhost:8080/"
        },
        "id": "AsPgDmZwNcfJ",
        "outputId": "12e78385-8d65-4880-fc4a-873cb40366df"
      },
      "source": [
        "print(logreg.score(X_train, y_train))\n",
        "print(logreg.score(X_test, y_test))\n",
        "print(precision_score(logreg.predict(X_test), y_test))"
      ],
      "execution_count": null,
      "outputs": [
        {
          "output_type": "stream",
          "text": [
            "0.66328125\n",
            "0.6721153846153847\n",
            "0.6000971817298348\n"
          ],
          "name": "stdout"
        }
      ]
    },
    {
      "cell_type": "code",
      "metadata": {
        "colab": {
          "base_uri": "https://localhost:8080/"
        },
        "id": "1qhBfK10vXd2",
        "outputId": "7bd10411-7899-4544-93e4-dbe80be6d4d9"
      },
      "source": [
        "##Now doing the prediction with the help of adaboost classifiers\n",
        "adaboost_grid = {'n_estimators' : [100, 150, 200, 250],\n",
        "                 'algorithm' : ['SAMME.R', 'SAMME'],\n",
        "                 'learning_rate' : [0.2, 0.5, 0.8]}\n",
        "\n",
        "grid_clf = GridSearchCV(AdaBoostClassifier(DecisionTreeClassifier(max_depth = 1)), adaboost_grid, refit = True, verbose = 4)\n",
        "grid_clf.fit(X_train, y_train)"
      ],
      "execution_count": null,
      "outputs": [
        {
          "output_type": "stream",
          "text": [
            "Fitting 5 folds for each of 24 candidates, totalling 120 fits\n",
            "[CV] algorithm=SAMME.R, learning_rate=0.2, n_estimators=100 ..........\n"
          ],
          "name": "stdout"
        },
        {
          "output_type": "stream",
          "text": [
            "[Parallel(n_jobs=1)]: Using backend SequentialBackend with 1 concurrent workers.\n"
          ],
          "name": "stderr"
        },
        {
          "output_type": "stream",
          "text": [
            "[CV]  algorithm=SAMME.R, learning_rate=0.2, n_estimators=100, score=0.789, total=   1.8s\n",
            "[CV] algorithm=SAMME.R, learning_rate=0.2, n_estimators=100 ..........\n"
          ],
          "name": "stdout"
        },
        {
          "output_type": "stream",
          "text": [
            "[Parallel(n_jobs=1)]: Done   1 out of   1 | elapsed:    1.8s remaining:    0.0s\n"
          ],
          "name": "stderr"
        },
        {
          "output_type": "stream",
          "text": [
            "[CV]  algorithm=SAMME.R, learning_rate=0.2, n_estimators=100, score=0.779, total=   1.8s\n",
            "[CV] algorithm=SAMME.R, learning_rate=0.2, n_estimators=100 ..........\n"
          ],
          "name": "stdout"
        },
        {
          "output_type": "stream",
          "text": [
            "[Parallel(n_jobs=1)]: Done   2 out of   2 | elapsed:    3.7s remaining:    0.0s\n"
          ],
          "name": "stderr"
        },
        {
          "output_type": "stream",
          "text": [
            "[CV]  algorithm=SAMME.R, learning_rate=0.2, n_estimators=100, score=0.765, total=   1.8s\n",
            "[CV] algorithm=SAMME.R, learning_rate=0.2, n_estimators=100 ..........\n"
          ],
          "name": "stdout"
        },
        {
          "output_type": "stream",
          "text": [
            "[Parallel(n_jobs=1)]: Done   3 out of   3 | elapsed:    5.5s remaining:    0.0s\n"
          ],
          "name": "stderr"
        },
        {
          "output_type": "stream",
          "text": [
            "[CV]  algorithm=SAMME.R, learning_rate=0.2, n_estimators=100, score=0.754, total=   1.8s\n",
            "[CV] algorithm=SAMME.R, learning_rate=0.2, n_estimators=100 ..........\n",
            "[CV]  algorithm=SAMME.R, learning_rate=0.2, n_estimators=100, score=0.776, total=   1.8s\n",
            "[CV] algorithm=SAMME.R, learning_rate=0.2, n_estimators=150 ..........\n",
            "[CV]  algorithm=SAMME.R, learning_rate=0.2, n_estimators=150, score=0.798, total=   2.7s\n",
            "[CV] algorithm=SAMME.R, learning_rate=0.2, n_estimators=150 ..........\n",
            "[CV]  algorithm=SAMME.R, learning_rate=0.2, n_estimators=150, score=0.789, total=   2.7s\n",
            "[CV] algorithm=SAMME.R, learning_rate=0.2, n_estimators=150 ..........\n",
            "[CV]  algorithm=SAMME.R, learning_rate=0.2, n_estimators=150, score=0.783, total=   2.7s\n",
            "[CV] algorithm=SAMME.R, learning_rate=0.2, n_estimators=150 ..........\n",
            "[CV]  algorithm=SAMME.R, learning_rate=0.2, n_estimators=150, score=0.763, total=   2.7s\n",
            "[CV] algorithm=SAMME.R, learning_rate=0.2, n_estimators=150 ..........\n",
            "[CV]  algorithm=SAMME.R, learning_rate=0.2, n_estimators=150, score=0.790, total=   2.7s\n",
            "[CV] algorithm=SAMME.R, learning_rate=0.2, n_estimators=200 ..........\n",
            "[CV]  algorithm=SAMME.R, learning_rate=0.2, n_estimators=200, score=0.808, total=   3.6s\n",
            "[CV] algorithm=SAMME.R, learning_rate=0.2, n_estimators=200 ..........\n",
            "[CV]  algorithm=SAMME.R, learning_rate=0.2, n_estimators=200, score=0.793, total=   3.6s\n",
            "[CV] algorithm=SAMME.R, learning_rate=0.2, n_estimators=200 ..........\n",
            "[CV]  algorithm=SAMME.R, learning_rate=0.2, n_estimators=200, score=0.787, total=   3.6s\n",
            "[CV] algorithm=SAMME.R, learning_rate=0.2, n_estimators=200 ..........\n",
            "[CV]  algorithm=SAMME.R, learning_rate=0.2, n_estimators=200, score=0.768, total=   3.6s\n",
            "[CV] algorithm=SAMME.R, learning_rate=0.2, n_estimators=200 ..........\n",
            "[CV]  algorithm=SAMME.R, learning_rate=0.2, n_estimators=200, score=0.798, total=   3.7s\n",
            "[CV] algorithm=SAMME.R, learning_rate=0.2, n_estimators=250 ..........\n",
            "[CV]  algorithm=SAMME.R, learning_rate=0.2, n_estimators=250, score=0.812, total=   4.5s\n",
            "[CV] algorithm=SAMME.R, learning_rate=0.2, n_estimators=250 ..........\n",
            "[CV]  algorithm=SAMME.R, learning_rate=0.2, n_estimators=250, score=0.803, total=   4.4s\n",
            "[CV] algorithm=SAMME.R, learning_rate=0.2, n_estimators=250 ..........\n",
            "[CV]  algorithm=SAMME.R, learning_rate=0.2, n_estimators=250, score=0.790, total=   4.5s\n",
            "[CV] algorithm=SAMME.R, learning_rate=0.2, n_estimators=250 ..........\n",
            "[CV]  algorithm=SAMME.R, learning_rate=0.2, n_estimators=250, score=0.773, total=   4.6s\n",
            "[CV] algorithm=SAMME.R, learning_rate=0.2, n_estimators=250 ..........\n",
            "[CV]  algorithm=SAMME.R, learning_rate=0.2, n_estimators=250, score=0.801, total=   4.6s\n",
            "[CV] algorithm=SAMME.R, learning_rate=0.5, n_estimators=100 ..........\n",
            "[CV]  algorithm=SAMME.R, learning_rate=0.5, n_estimators=100, score=0.816, total=   1.9s\n",
            "[CV] algorithm=SAMME.R, learning_rate=0.5, n_estimators=100 ..........\n",
            "[CV]  algorithm=SAMME.R, learning_rate=0.5, n_estimators=100, score=0.804, total=   1.8s\n",
            "[CV] algorithm=SAMME.R, learning_rate=0.5, n_estimators=100 ..........\n",
            "[CV]  algorithm=SAMME.R, learning_rate=0.5, n_estimators=100, score=0.791, total=   1.8s\n",
            "[CV] algorithm=SAMME.R, learning_rate=0.5, n_estimators=100 ..........\n",
            "[CV]  algorithm=SAMME.R, learning_rate=0.5, n_estimators=100, score=0.777, total=   1.8s\n",
            "[CV] algorithm=SAMME.R, learning_rate=0.5, n_estimators=100 ..........\n",
            "[CV]  algorithm=SAMME.R, learning_rate=0.5, n_estimators=100, score=0.804, total=   1.8s\n",
            "[CV] algorithm=SAMME.R, learning_rate=0.5, n_estimators=150 ..........\n",
            "[CV]  algorithm=SAMME.R, learning_rate=0.5, n_estimators=150, score=0.822, total=   2.7s\n",
            "[CV] algorithm=SAMME.R, learning_rate=0.5, n_estimators=150 ..........\n",
            "[CV]  algorithm=SAMME.R, learning_rate=0.5, n_estimators=150, score=0.812, total=   2.7s\n",
            "[CV] algorithm=SAMME.R, learning_rate=0.5, n_estimators=150 ..........\n",
            "[CV]  algorithm=SAMME.R, learning_rate=0.5, n_estimators=150, score=0.803, total=   2.7s\n",
            "[CV] algorithm=SAMME.R, learning_rate=0.5, n_estimators=150 ..........\n",
            "[CV]  algorithm=SAMME.R, learning_rate=0.5, n_estimators=150, score=0.787, total=   2.8s\n",
            "[CV] algorithm=SAMME.R, learning_rate=0.5, n_estimators=150 ..........\n",
            "[CV]  algorithm=SAMME.R, learning_rate=0.5, n_estimators=150, score=0.815, total=   2.7s\n",
            "[CV] algorithm=SAMME.R, learning_rate=0.5, n_estimators=200 ..........\n",
            "[CV]  algorithm=SAMME.R, learning_rate=0.5, n_estimators=200, score=0.828, total=   3.6s\n",
            "[CV] algorithm=SAMME.R, learning_rate=0.5, n_estimators=200 ..........\n",
            "[CV]  algorithm=SAMME.R, learning_rate=0.5, n_estimators=200, score=0.817, total=   3.6s\n",
            "[CV] algorithm=SAMME.R, learning_rate=0.5, n_estimators=200 ..........\n",
            "[CV]  algorithm=SAMME.R, learning_rate=0.5, n_estimators=200, score=0.812, total=   3.6s\n",
            "[CV] algorithm=SAMME.R, learning_rate=0.5, n_estimators=200 ..........\n",
            "[CV]  algorithm=SAMME.R, learning_rate=0.5, n_estimators=200, score=0.795, total=   3.7s\n",
            "[CV] algorithm=SAMME.R, learning_rate=0.5, n_estimators=200 ..........\n",
            "[CV]  algorithm=SAMME.R, learning_rate=0.5, n_estimators=200, score=0.813, total=   3.6s\n",
            "[CV] algorithm=SAMME.R, learning_rate=0.5, n_estimators=250 ..........\n",
            "[CV]  algorithm=SAMME.R, learning_rate=0.5, n_estimators=250, score=0.834, total=   4.5s\n",
            "[CV] algorithm=SAMME.R, learning_rate=0.5, n_estimators=250 ..........\n",
            "[CV]  algorithm=SAMME.R, learning_rate=0.5, n_estimators=250, score=0.824, total=   4.5s\n",
            "[CV] algorithm=SAMME.R, learning_rate=0.5, n_estimators=250 ..........\n",
            "[CV]  algorithm=SAMME.R, learning_rate=0.5, n_estimators=250, score=0.817, total=   4.5s\n",
            "[CV] algorithm=SAMME.R, learning_rate=0.5, n_estimators=250 ..........\n",
            "[CV]  algorithm=SAMME.R, learning_rate=0.5, n_estimators=250, score=0.797, total=   4.6s\n",
            "[CV] algorithm=SAMME.R, learning_rate=0.5, n_estimators=250 ..........\n",
            "[CV]  algorithm=SAMME.R, learning_rate=0.5, n_estimators=250, score=0.822, total=   4.6s\n",
            "[CV] algorithm=SAMME.R, learning_rate=0.8, n_estimators=100 ..........\n",
            "[CV]  algorithm=SAMME.R, learning_rate=0.8, n_estimators=100, score=0.829, total=   1.8s\n",
            "[CV] algorithm=SAMME.R, learning_rate=0.8, n_estimators=100 ..........\n",
            "[CV]  algorithm=SAMME.R, learning_rate=0.8, n_estimators=100, score=0.814, total=   1.8s\n",
            "[CV] algorithm=SAMME.R, learning_rate=0.8, n_estimators=100 ..........\n",
            "[CV]  algorithm=SAMME.R, learning_rate=0.8, n_estimators=100, score=0.803, total=   1.8s\n",
            "[CV] algorithm=SAMME.R, learning_rate=0.8, n_estimators=100 ..........\n",
            "[CV]  algorithm=SAMME.R, learning_rate=0.8, n_estimators=100, score=0.792, total=   1.8s\n",
            "[CV] algorithm=SAMME.R, learning_rate=0.8, n_estimators=100 ..........\n",
            "[CV]  algorithm=SAMME.R, learning_rate=0.8, n_estimators=100, score=0.811, total=   1.8s\n",
            "[CV] algorithm=SAMME.R, learning_rate=0.8, n_estimators=150 ..........\n",
            "[CV]  algorithm=SAMME.R, learning_rate=0.8, n_estimators=150, score=0.833, total=   2.7s\n",
            "[CV] algorithm=SAMME.R, learning_rate=0.8, n_estimators=150 ..........\n",
            "[CV]  algorithm=SAMME.R, learning_rate=0.8, n_estimators=150, score=0.822, total=   2.7s\n",
            "[CV] algorithm=SAMME.R, learning_rate=0.8, n_estimators=150 ..........\n",
            "[CV]  algorithm=SAMME.R, learning_rate=0.8, n_estimators=150, score=0.817, total=   2.7s\n",
            "[CV] algorithm=SAMME.R, learning_rate=0.8, n_estimators=150 ..........\n",
            "[CV]  algorithm=SAMME.R, learning_rate=0.8, n_estimators=150, score=0.798, total=   2.7s\n",
            "[CV] algorithm=SAMME.R, learning_rate=0.8, n_estimators=150 ..........\n",
            "[CV]  algorithm=SAMME.R, learning_rate=0.8, n_estimators=150, score=0.817, total=   2.7s\n",
            "[CV] algorithm=SAMME.R, learning_rate=0.8, n_estimators=200 ..........\n",
            "[CV]  algorithm=SAMME.R, learning_rate=0.8, n_estimators=200, score=0.838, total=   3.6s\n",
            "[CV] algorithm=SAMME.R, learning_rate=0.8, n_estimators=200 ..........\n",
            "[CV]  algorithm=SAMME.R, learning_rate=0.8, n_estimators=200, score=0.832, total=   3.6s\n",
            "[CV] algorithm=SAMME.R, learning_rate=0.8, n_estimators=200 ..........\n",
            "[CV]  algorithm=SAMME.R, learning_rate=0.8, n_estimators=200, score=0.821, total=   3.6s\n",
            "[CV] algorithm=SAMME.R, learning_rate=0.8, n_estimators=200 ..........\n",
            "[CV]  algorithm=SAMME.R, learning_rate=0.8, n_estimators=200, score=0.809, total=   3.6s\n",
            "[CV] algorithm=SAMME.R, learning_rate=0.8, n_estimators=200 ..........\n",
            "[CV]  algorithm=SAMME.R, learning_rate=0.8, n_estimators=200, score=0.820, total=   3.6s\n",
            "[CV] algorithm=SAMME.R, learning_rate=0.8, n_estimators=250 ..........\n",
            "[CV]  algorithm=SAMME.R, learning_rate=0.8, n_estimators=250, score=0.842, total=   4.5s\n",
            "[CV] algorithm=SAMME.R, learning_rate=0.8, n_estimators=250 ..........\n",
            "[CV]  algorithm=SAMME.R, learning_rate=0.8, n_estimators=250, score=0.837, total=   4.5s\n",
            "[CV] algorithm=SAMME.R, learning_rate=0.8, n_estimators=250 ..........\n",
            "[CV]  algorithm=SAMME.R, learning_rate=0.8, n_estimators=250, score=0.825, total=   4.5s\n",
            "[CV] algorithm=SAMME.R, learning_rate=0.8, n_estimators=250 ..........\n",
            "[CV]  algorithm=SAMME.R, learning_rate=0.8, n_estimators=250, score=0.810, total=   4.6s\n",
            "[CV] algorithm=SAMME.R, learning_rate=0.8, n_estimators=250 ..........\n",
            "[CV]  algorithm=SAMME.R, learning_rate=0.8, n_estimators=250, score=0.827, total=   4.5s\n",
            "[CV] algorithm=SAMME, learning_rate=0.2, n_estimators=100 ............\n",
            "[CV]  algorithm=SAMME, learning_rate=0.2, n_estimators=100, score=0.701, total=   1.6s\n",
            "[CV] algorithm=SAMME, learning_rate=0.2, n_estimators=100 ............\n",
            "[CV]  algorithm=SAMME, learning_rate=0.2, n_estimators=100, score=0.698, total=   1.6s\n",
            "[CV] algorithm=SAMME, learning_rate=0.2, n_estimators=100 ............\n",
            "[CV]  algorithm=SAMME, learning_rate=0.2, n_estimators=100, score=0.687, total=   1.6s\n",
            "[CV] algorithm=SAMME, learning_rate=0.2, n_estimators=100 ............\n",
            "[CV]  algorithm=SAMME, learning_rate=0.2, n_estimators=100, score=0.679, total=   1.6s\n",
            "[CV] algorithm=SAMME, learning_rate=0.2, n_estimators=100 ............\n",
            "[CV]  algorithm=SAMME, learning_rate=0.2, n_estimators=100, score=0.698, total=   1.6s\n",
            "[CV] algorithm=SAMME, learning_rate=0.2, n_estimators=150 ............\n",
            "[CV]  algorithm=SAMME, learning_rate=0.2, n_estimators=150, score=0.701, total=   2.4s\n",
            "[CV] algorithm=SAMME, learning_rate=0.2, n_estimators=150 ............\n",
            "[CV]  algorithm=SAMME, learning_rate=0.2, n_estimators=150, score=0.698, total=   2.3s\n",
            "[CV] algorithm=SAMME, learning_rate=0.2, n_estimators=150 ............\n",
            "[CV]  algorithm=SAMME, learning_rate=0.2, n_estimators=150, score=0.687, total=   2.4s\n",
            "[CV] algorithm=SAMME, learning_rate=0.2, n_estimators=150 ............\n",
            "[CV]  algorithm=SAMME, learning_rate=0.2, n_estimators=150, score=0.679, total=   2.4s\n",
            "[CV] algorithm=SAMME, learning_rate=0.2, n_estimators=150 ............\n",
            "[CV]  algorithm=SAMME, learning_rate=0.2, n_estimators=150, score=0.698, total=   2.4s\n",
            "[CV] algorithm=SAMME, learning_rate=0.2, n_estimators=200 ............\n",
            "[CV]  algorithm=SAMME, learning_rate=0.2, n_estimators=200, score=0.701, total=   3.1s\n",
            "[CV] algorithm=SAMME, learning_rate=0.2, n_estimators=200 ............\n",
            "[CV]  algorithm=SAMME, learning_rate=0.2, n_estimators=200, score=0.700, total=   3.1s\n",
            "[CV] algorithm=SAMME, learning_rate=0.2, n_estimators=200 ............\n",
            "[CV]  algorithm=SAMME, learning_rate=0.2, n_estimators=200, score=0.687, total=   3.1s\n",
            "[CV] algorithm=SAMME, learning_rate=0.2, n_estimators=200 ............\n",
            "[CV]  algorithm=SAMME, learning_rate=0.2, n_estimators=200, score=0.683, total=   3.2s\n",
            "[CV] algorithm=SAMME, learning_rate=0.2, n_estimators=200 ............\n",
            "[CV]  algorithm=SAMME, learning_rate=0.2, n_estimators=200, score=0.698, total=   3.2s\n",
            "[CV] algorithm=SAMME, learning_rate=0.2, n_estimators=250 ............\n",
            "[CV]  algorithm=SAMME, learning_rate=0.2, n_estimators=250, score=0.707, total=   4.0s\n",
            "[CV] algorithm=SAMME, learning_rate=0.2, n_estimators=250 ............\n",
            "[CV]  algorithm=SAMME, learning_rate=0.2, n_estimators=250, score=0.706, total=   3.9s\n",
            "[CV] algorithm=SAMME, learning_rate=0.2, n_estimators=250 ............\n",
            "[CV]  algorithm=SAMME, learning_rate=0.2, n_estimators=250, score=0.688, total=   4.0s\n",
            "[CV] algorithm=SAMME, learning_rate=0.2, n_estimators=250 ............\n",
            "[CV]  algorithm=SAMME, learning_rate=0.2, n_estimators=250, score=0.689, total=   3.9s\n",
            "[CV] algorithm=SAMME, learning_rate=0.2, n_estimators=250 ............\n",
            "[CV]  algorithm=SAMME, learning_rate=0.2, n_estimators=250, score=0.703, total=   4.0s\n",
            "[CV] algorithm=SAMME, learning_rate=0.5, n_estimators=100 ............\n",
            "[CV]  algorithm=SAMME, learning_rate=0.5, n_estimators=100, score=0.709, total=   1.6s\n",
            "[CV] algorithm=SAMME, learning_rate=0.5, n_estimators=100 ............\n",
            "[CV]  algorithm=SAMME, learning_rate=0.5, n_estimators=100, score=0.711, total=   1.6s\n",
            "[CV] algorithm=SAMME, learning_rate=0.5, n_estimators=100 ............\n",
            "[CV]  algorithm=SAMME, learning_rate=0.5, n_estimators=100, score=0.693, total=   1.6s\n",
            "[CV] algorithm=SAMME, learning_rate=0.5, n_estimators=100 ............\n",
            "[CV]  algorithm=SAMME, learning_rate=0.5, n_estimators=100, score=0.688, total=   1.6s\n",
            "[CV] algorithm=SAMME, learning_rate=0.5, n_estimators=100 ............\n",
            "[CV]  algorithm=SAMME, learning_rate=0.5, n_estimators=100, score=0.709, total=   1.6s\n",
            "[CV] algorithm=SAMME, learning_rate=0.5, n_estimators=150 ............\n",
            "[CV]  algorithm=SAMME, learning_rate=0.5, n_estimators=150, score=0.713, total=   2.4s\n",
            "[CV] algorithm=SAMME, learning_rate=0.5, n_estimators=150 ............\n",
            "[CV]  algorithm=SAMME, learning_rate=0.5, n_estimators=150, score=0.724, total=   2.4s\n",
            "[CV] algorithm=SAMME, learning_rate=0.5, n_estimators=150 ............\n",
            "[CV]  algorithm=SAMME, learning_rate=0.5, n_estimators=150, score=0.701, total=   2.4s\n",
            "[CV] algorithm=SAMME, learning_rate=0.5, n_estimators=150 ............\n",
            "[CV]  algorithm=SAMME, learning_rate=0.5, n_estimators=150, score=0.697, total=   2.4s\n",
            "[CV] algorithm=SAMME, learning_rate=0.5, n_estimators=150 ............\n",
            "[CV]  algorithm=SAMME, learning_rate=0.5, n_estimators=150, score=0.717, total=   2.4s\n",
            "[CV] algorithm=SAMME, learning_rate=0.5, n_estimators=200 ............\n",
            "[CV]  algorithm=SAMME, learning_rate=0.5, n_estimators=200, score=0.721, total=   3.2s\n",
            "[CV] algorithm=SAMME, learning_rate=0.5, n_estimators=200 ............\n",
            "[CV]  algorithm=SAMME, learning_rate=0.5, n_estimators=200, score=0.726, total=   3.1s\n",
            "[CV] algorithm=SAMME, learning_rate=0.5, n_estimators=200 ............\n",
            "[CV]  algorithm=SAMME, learning_rate=0.5, n_estimators=200, score=0.706, total=   3.2s\n",
            "[CV] algorithm=SAMME, learning_rate=0.5, n_estimators=200 ............\n",
            "[CV]  algorithm=SAMME, learning_rate=0.5, n_estimators=200, score=0.702, total=   3.2s\n",
            "[CV] algorithm=SAMME, learning_rate=0.5, n_estimators=200 ............\n",
            "[CV]  algorithm=SAMME, learning_rate=0.5, n_estimators=200, score=0.726, total=   3.2s\n",
            "[CV] algorithm=SAMME, learning_rate=0.5, n_estimators=250 ............\n",
            "[CV]  algorithm=SAMME, learning_rate=0.5, n_estimators=250, score=0.730, total=   4.0s\n",
            "[CV] algorithm=SAMME, learning_rate=0.5, n_estimators=250 ............\n",
            "[CV]  algorithm=SAMME, learning_rate=0.5, n_estimators=250, score=0.733, total=   3.9s\n",
            "[CV] algorithm=SAMME, learning_rate=0.5, n_estimators=250 ............\n",
            "[CV]  algorithm=SAMME, learning_rate=0.5, n_estimators=250, score=0.714, total=   3.9s\n",
            "[CV] algorithm=SAMME, learning_rate=0.5, n_estimators=250 ............\n",
            "[CV]  algorithm=SAMME, learning_rate=0.5, n_estimators=250, score=0.710, total=   4.0s\n",
            "[CV] algorithm=SAMME, learning_rate=0.5, n_estimators=250 ............\n",
            "[CV]  algorithm=SAMME, learning_rate=0.5, n_estimators=250, score=0.734, total=   4.0s\n",
            "[CV] algorithm=SAMME, learning_rate=0.8, n_estimators=100 ............\n",
            "[CV]  algorithm=SAMME, learning_rate=0.8, n_estimators=100, score=0.729, total=   1.6s\n",
            "[CV] algorithm=SAMME, learning_rate=0.8, n_estimators=100 ............\n",
            "[CV]  algorithm=SAMME, learning_rate=0.8, n_estimators=100, score=0.724, total=   1.6s\n",
            "[CV] algorithm=SAMME, learning_rate=0.8, n_estimators=100 ............\n",
            "[CV]  algorithm=SAMME, learning_rate=0.8, n_estimators=100, score=0.720, total=   1.6s\n",
            "[CV] algorithm=SAMME, learning_rate=0.8, n_estimators=100 ............\n",
            "[CV]  algorithm=SAMME, learning_rate=0.8, n_estimators=100, score=0.707, total=   1.6s\n",
            "[CV] algorithm=SAMME, learning_rate=0.8, n_estimators=100 ............\n",
            "[CV]  algorithm=SAMME, learning_rate=0.8, n_estimators=100, score=0.733, total=   1.6s\n",
            "[CV] algorithm=SAMME, learning_rate=0.8, n_estimators=150 ............\n",
            "[CV]  algorithm=SAMME, learning_rate=0.8, n_estimators=150, score=0.751, total=   2.4s\n",
            "[CV] algorithm=SAMME, learning_rate=0.8, n_estimators=150 ............\n",
            "[CV]  algorithm=SAMME, learning_rate=0.8, n_estimators=150, score=0.742, total=   2.4s\n",
            "[CV] algorithm=SAMME, learning_rate=0.8, n_estimators=150 ............\n",
            "[CV]  algorithm=SAMME, learning_rate=0.8, n_estimators=150, score=0.735, total=   2.4s\n",
            "[CV] algorithm=SAMME, learning_rate=0.8, n_estimators=150 ............\n",
            "[CV]  algorithm=SAMME, learning_rate=0.8, n_estimators=150, score=0.725, total=   2.4s\n",
            "[CV] algorithm=SAMME, learning_rate=0.8, n_estimators=150 ............\n",
            "[CV]  algorithm=SAMME, learning_rate=0.8, n_estimators=150, score=0.744, total=   2.4s\n",
            "[CV] algorithm=SAMME, learning_rate=0.8, n_estimators=200 ............\n",
            "[CV]  algorithm=SAMME, learning_rate=0.8, n_estimators=200, score=0.760, total=   3.2s\n",
            "[CV] algorithm=SAMME, learning_rate=0.8, n_estimators=200 ............\n",
            "[CV]  algorithm=SAMME, learning_rate=0.8, n_estimators=200, score=0.747, total=   3.1s\n",
            "[CV] algorithm=SAMME, learning_rate=0.8, n_estimators=200 ............\n",
            "[CV]  algorithm=SAMME, learning_rate=0.8, n_estimators=200, score=0.749, total=   3.2s\n",
            "[CV] algorithm=SAMME, learning_rate=0.8, n_estimators=200 ............\n",
            "[CV]  algorithm=SAMME, learning_rate=0.8, n_estimators=200, score=0.733, total=   3.2s\n",
            "[CV] algorithm=SAMME, learning_rate=0.8, n_estimators=200 ............\n",
            "[CV]  algorithm=SAMME, learning_rate=0.8, n_estimators=200, score=0.753, total=   3.2s\n",
            "[CV] algorithm=SAMME, learning_rate=0.8, n_estimators=250 ............\n",
            "[CV]  algorithm=SAMME, learning_rate=0.8, n_estimators=250, score=0.773, total=   4.0s\n",
            "[CV] algorithm=SAMME, learning_rate=0.8, n_estimators=250 ............\n",
            "[CV]  algorithm=SAMME, learning_rate=0.8, n_estimators=250, score=0.757, total=   3.9s\n",
            "[CV] algorithm=SAMME, learning_rate=0.8, n_estimators=250 ............\n",
            "[CV]  algorithm=SAMME, learning_rate=0.8, n_estimators=250, score=0.752, total=   3.9s\n",
            "[CV] algorithm=SAMME, learning_rate=0.8, n_estimators=250 ............\n",
            "[CV]  algorithm=SAMME, learning_rate=0.8, n_estimators=250, score=0.743, total=   4.0s\n",
            "[CV] algorithm=SAMME, learning_rate=0.8, n_estimators=250 ............\n",
            "[CV]  algorithm=SAMME, learning_rate=0.8, n_estimators=250, score=0.761, total=   4.0s\n"
          ],
          "name": "stdout"
        },
        {
          "output_type": "stream",
          "text": [
            "[Parallel(n_jobs=1)]: Done 120 out of 120 | elapsed:  5.9min finished\n"
          ],
          "name": "stderr"
        },
        {
          "output_type": "execute_result",
          "data": {
            "text/plain": [
              "GridSearchCV(cv=None, error_score=nan,\n",
              "             estimator=AdaBoostClassifier(algorithm='SAMME.R',\n",
              "                                          base_estimator=DecisionTreeClassifier(ccp_alpha=0.0,\n",
              "                                                                                class_weight=None,\n",
              "                                                                                criterion='gini',\n",
              "                                                                                max_depth=1,\n",
              "                                                                                max_features=None,\n",
              "                                                                                max_leaf_nodes=None,\n",
              "                                                                                min_impurity_decrease=0.0,\n",
              "                                                                                min_impurity_split=None,\n",
              "                                                                                min_samples_leaf=1,\n",
              "                                                                                min_samples_split=2,\n",
              "                                                                                min_weight_fraction_leaf=0.0,\n",
              "                                                                                presort='deprecated',\n",
              "                                                                                random_state=None,\n",
              "                                                                                splitter='best'),\n",
              "                                          learning_rate=1.0, n_estimators=50,\n",
              "                                          random_state=None),\n",
              "             iid='deprecated', n_jobs=None,\n",
              "             param_grid={'algorithm': ['SAMME.R', 'SAMME'],\n",
              "                         'learning_rate': [0.2, 0.5, 0.8],\n",
              "                         'n_estimators': [100, 150, 200, 250]},\n",
              "             pre_dispatch='2*n_jobs', refit=True, return_train_score=False,\n",
              "             scoring=None, verbose=4)"
            ]
          },
          "metadata": {
            "tags": []
          },
          "execution_count": 128
        }
      ]
    },
    {
      "cell_type": "code",
      "metadata": {
        "colab": {
          "base_uri": "https://localhost:8080/"
        },
        "id": "42aKY7mN2n20",
        "outputId": "b74af005-1e4f-4b30-87e7-f6edb11edfd8"
      },
      "source": [
        "print(grid_clf.best_estimator_)\n",
        "print(grid_clf.best_params_)\n",
        "print(grid_clf.best_score_)"
      ],
      "execution_count": null,
      "outputs": [
        {
          "output_type": "stream",
          "text": [
            "AdaBoostClassifier(algorithm='SAMME.R',\n",
            "                   base_estimator=DecisionTreeClassifier(ccp_alpha=0.0,\n",
            "                                                         class_weight=None,\n",
            "                                                         criterion='gini',\n",
            "                                                         max_depth=1,\n",
            "                                                         max_features=None,\n",
            "                                                         max_leaf_nodes=None,\n",
            "                                                         min_impurity_decrease=0.0,\n",
            "                                                         min_impurity_split=None,\n",
            "                                                         min_samples_leaf=1,\n",
            "                                                         min_samples_split=2,\n",
            "                                                         min_weight_fraction_leaf=0.0,\n",
            "                                                         presort='deprecated',\n",
            "                                                         random_state=None,\n",
            "                                                         splitter='best'),\n",
            "                   learning_rate=0.8, n_estimators=250, random_state=None)\n",
            "{'algorithm': 'SAMME.R', 'learning_rate': 0.8, 'n_estimators': 250}\n",
            "0.828125\n"
          ],
          "name": "stdout"
        }
      ]
    },
    {
      "cell_type": "code",
      "metadata": {
        "colab": {
          "base_uri": "https://localhost:8080/"
        },
        "id": "0lvtqxLb2zG9",
        "outputId": "cf474cbe-d506-4372-b522-c20becdd8b24"
      },
      "source": [
        "ada_clf = AdaBoostClassifier(DecisionTreeClassifier(max_depth = 1), algorithm = 'SAMME.R', learning_rate = 0.8, n_estimators = 250)\n",
        "ada_clf.fit(X_train, y_train)"
      ],
      "execution_count": null,
      "outputs": [
        {
          "output_type": "execute_result",
          "data": {
            "text/plain": [
              "AdaBoostClassifier(algorithm='SAMME.R',\n",
              "                   base_estimator=DecisionTreeClassifier(ccp_alpha=0.0,\n",
              "                                                         class_weight=None,\n",
              "                                                         criterion='gini',\n",
              "                                                         max_depth=1,\n",
              "                                                         max_features=None,\n",
              "                                                         max_leaf_nodes=None,\n",
              "                                                         min_impurity_decrease=0.0,\n",
              "                                                         min_impurity_split=None,\n",
              "                                                         min_samples_leaf=1,\n",
              "                                                         min_samples_split=2,\n",
              "                                                         min_weight_fraction_leaf=0.0,\n",
              "                                                         presort='deprecated',\n",
              "                                                         random_state=None,\n",
              "                                                         splitter='best'),\n",
              "                   learning_rate=0.8, n_estimators=250, random_state=None)"
            ]
          },
          "metadata": {
            "tags": []
          },
          "execution_count": 130
        }
      ]
    },
    {
      "cell_type": "code",
      "metadata": {
        "colab": {
          "base_uri": "https://localhost:8080/"
        },
        "id": "lKMFAtep3ONq",
        "outputId": "e5cb7169-c763-4926-af94-7ed7720caa8e"
      },
      "source": [
        "print(ada_clf.score(X_train, y_train))\n",
        "print(ada_clf.score(X_test, y_test))\n",
        "print(precision_score(ada_clf.predict(X_test), y_test))"
      ],
      "execution_count": null,
      "outputs": [
        {
          "output_type": "stream",
          "text": [
            "0.8364783653846154\n",
            "0.833173076923077\n",
            "0.8440233236151603\n"
          ],
          "name": "stdout"
        }
      ]
    },
    {
      "cell_type": "code",
      "metadata": {
        "colab": {
          "base_uri": "https://localhost:8080/"
        },
        "id": "8fvhmNXi4vrg",
        "outputId": "61cc710b-288a-410b-83f4-5122fee435ec"
      },
      "source": [
        "rf_grid = {'n_estimators' : [200, 250, 300, 350],\n",
        "           'max_depth' : [16, 20, 24],\n",
        "           'criterion' : ['gini', 'entropy']}\n",
        "\n",
        "rf_grid_clf = GridSearchCV(RandomForestClassifier(bootstrap = True, oob_score = True), rf_grid, refit = True, verbose = 4)\n",
        "rf_grid_clf.fit(X_train, y_train)"
      ],
      "execution_count": null,
      "outputs": [
        {
          "output_type": "stream",
          "text": [
            "Fitting 5 folds for each of 24 candidates, totalling 120 fits\n",
            "[CV] criterion=gini, max_depth=16, n_estimators=200 ..................\n"
          ],
          "name": "stdout"
        },
        {
          "output_type": "stream",
          "text": [
            "[Parallel(n_jobs=1)]: Using backend SequentialBackend with 1 concurrent workers.\n"
          ],
          "name": "stderr"
        },
        {
          "output_type": "stream",
          "text": [
            "[CV]  criterion=gini, max_depth=16, n_estimators=200, score=0.841, total=   3.8s\n",
            "[CV] criterion=gini, max_depth=16, n_estimators=200 ..................\n"
          ],
          "name": "stdout"
        },
        {
          "output_type": "stream",
          "text": [
            "[Parallel(n_jobs=1)]: Done   1 out of   1 | elapsed:    3.8s remaining:    0.0s\n"
          ],
          "name": "stderr"
        },
        {
          "output_type": "stream",
          "text": [
            "[CV]  criterion=gini, max_depth=16, n_estimators=200, score=0.831, total=   3.7s\n",
            "[CV] criterion=gini, max_depth=16, n_estimators=200 ..................\n"
          ],
          "name": "stdout"
        },
        {
          "output_type": "stream",
          "text": [
            "[Parallel(n_jobs=1)]: Done   2 out of   2 | elapsed:    7.5s remaining:    0.0s\n"
          ],
          "name": "stderr"
        },
        {
          "output_type": "stream",
          "text": [
            "[CV]  criterion=gini, max_depth=16, n_estimators=200, score=0.818, total=   3.7s\n",
            "[CV] criterion=gini, max_depth=16, n_estimators=200 ..................\n"
          ],
          "name": "stdout"
        },
        {
          "output_type": "stream",
          "text": [
            "[Parallel(n_jobs=1)]: Done   3 out of   3 | elapsed:   11.2s remaining:    0.0s\n"
          ],
          "name": "stderr"
        },
        {
          "output_type": "stream",
          "text": [
            "[CV]  criterion=gini, max_depth=16, n_estimators=200, score=0.800, total=   3.8s\n",
            "[CV] criterion=gini, max_depth=16, n_estimators=200 ..................\n",
            "[CV]  criterion=gini, max_depth=16, n_estimators=200, score=0.828, total=   3.7s\n",
            "[CV] criterion=gini, max_depth=16, n_estimators=250 ..................\n",
            "[CV]  criterion=gini, max_depth=16, n_estimators=250, score=0.837, total=   4.7s\n",
            "[CV] criterion=gini, max_depth=16, n_estimators=250 ..................\n",
            "[CV]  criterion=gini, max_depth=16, n_estimators=250, score=0.833, total=   4.6s\n",
            "[CV] criterion=gini, max_depth=16, n_estimators=250 ..................\n",
            "[CV]  criterion=gini, max_depth=16, n_estimators=250, score=0.822, total=   4.7s\n",
            "[CV] criterion=gini, max_depth=16, n_estimators=250 ..................\n",
            "[CV]  criterion=gini, max_depth=16, n_estimators=250, score=0.803, total=   4.7s\n",
            "[CV] criterion=gini, max_depth=16, n_estimators=250 ..................\n",
            "[CV]  criterion=gini, max_depth=16, n_estimators=250, score=0.826, total=   4.7s\n",
            "[CV] criterion=gini, max_depth=16, n_estimators=300 ..................\n",
            "[CV]  criterion=gini, max_depth=16, n_estimators=300, score=0.845, total=   5.6s\n",
            "[CV] criterion=gini, max_depth=16, n_estimators=300 ..................\n",
            "[CV]  criterion=gini, max_depth=16, n_estimators=300, score=0.832, total=   5.5s\n",
            "[CV] criterion=gini, max_depth=16, n_estimators=300 ..................\n",
            "[CV]  criterion=gini, max_depth=16, n_estimators=300, score=0.825, total=   5.5s\n",
            "[CV] criterion=gini, max_depth=16, n_estimators=300 ..................\n",
            "[CV]  criterion=gini, max_depth=16, n_estimators=300, score=0.803, total=   5.6s\n",
            "[CV] criterion=gini, max_depth=16, n_estimators=300 ..................\n",
            "[CV]  criterion=gini, max_depth=16, n_estimators=300, score=0.826, total=   5.6s\n",
            "[CV] criterion=gini, max_depth=16, n_estimators=350 ..................\n",
            "[CV]  criterion=gini, max_depth=16, n_estimators=350, score=0.839, total=   6.5s\n",
            "[CV] criterion=gini, max_depth=16, n_estimators=350 ..................\n",
            "[CV]  criterion=gini, max_depth=16, n_estimators=350, score=0.830, total=   6.5s\n",
            "[CV] criterion=gini, max_depth=16, n_estimators=350 ..................\n",
            "[CV]  criterion=gini, max_depth=16, n_estimators=350, score=0.822, total=   6.4s\n",
            "[CV] criterion=gini, max_depth=16, n_estimators=350 ..................\n",
            "[CV]  criterion=gini, max_depth=16, n_estimators=350, score=0.804, total=   6.4s\n",
            "[CV] criterion=gini, max_depth=16, n_estimators=350 ..................\n",
            "[CV]  criterion=gini, max_depth=16, n_estimators=350, score=0.828, total=   6.4s\n",
            "[CV] criterion=gini, max_depth=20, n_estimators=200 ..................\n",
            "[CV]  criterion=gini, max_depth=20, n_estimators=200, score=0.846, total=   4.4s\n",
            "[CV] criterion=gini, max_depth=20, n_estimators=200 ..................\n",
            "[CV]  criterion=gini, max_depth=20, n_estimators=200, score=0.839, total=   4.2s\n",
            "[CV] criterion=gini, max_depth=20, n_estimators=200 ..................\n",
            "[CV]  criterion=gini, max_depth=20, n_estimators=200, score=0.829, total=   4.2s\n",
            "[CV] criterion=gini, max_depth=20, n_estimators=200 ..................\n",
            "[CV]  criterion=gini, max_depth=20, n_estimators=200, score=0.818, total=   4.1s\n",
            "[CV] criterion=gini, max_depth=20, n_estimators=200 ..................\n",
            "[CV]  criterion=gini, max_depth=20, n_estimators=200, score=0.835, total=   4.2s\n",
            "[CV] criterion=gini, max_depth=20, n_estimators=250 ..................\n",
            "[CV]  criterion=gini, max_depth=20, n_estimators=250, score=0.845, total=   5.1s\n",
            "[CV] criterion=gini, max_depth=20, n_estimators=250 ..................\n",
            "[CV]  criterion=gini, max_depth=20, n_estimators=250, score=0.841, total=   5.2s\n",
            "[CV] criterion=gini, max_depth=20, n_estimators=250 ..................\n",
            "[CV]  criterion=gini, max_depth=20, n_estimators=250, score=0.825, total=   5.2s\n",
            "[CV] criterion=gini, max_depth=20, n_estimators=250 ..................\n",
            "[CV]  criterion=gini, max_depth=20, n_estimators=250, score=0.816, total=   5.3s\n",
            "[CV] criterion=gini, max_depth=20, n_estimators=250 ..................\n",
            "[CV]  criterion=gini, max_depth=20, n_estimators=250, score=0.829, total=   5.2s\n",
            "[CV] criterion=gini, max_depth=20, n_estimators=300 ..................\n",
            "[CV]  criterion=gini, max_depth=20, n_estimators=300, score=0.850, total=   6.3s\n",
            "[CV] criterion=gini, max_depth=20, n_estimators=300 ..................\n",
            "[CV]  criterion=gini, max_depth=20, n_estimators=300, score=0.842, total=   6.2s\n",
            "[CV] criterion=gini, max_depth=20, n_estimators=300 ..................\n",
            "[CV]  criterion=gini, max_depth=20, n_estimators=300, score=0.828, total=   6.3s\n",
            "[CV] criterion=gini, max_depth=20, n_estimators=300 ..................\n",
            "[CV]  criterion=gini, max_depth=20, n_estimators=300, score=0.813, total=   6.3s\n",
            "[CV] criterion=gini, max_depth=20, n_estimators=300 ..................\n",
            "[CV]  criterion=gini, max_depth=20, n_estimators=300, score=0.836, total=   6.3s\n",
            "[CV] criterion=gini, max_depth=20, n_estimators=350 ..................\n",
            "[CV]  criterion=gini, max_depth=20, n_estimators=350, score=0.846, total=   7.4s\n",
            "[CV] criterion=gini, max_depth=20, n_estimators=350 ..................\n",
            "[CV]  criterion=gini, max_depth=20, n_estimators=350, score=0.838, total=   7.4s\n",
            "[CV] criterion=gini, max_depth=20, n_estimators=350 ..................\n",
            "[CV]  criterion=gini, max_depth=20, n_estimators=350, score=0.828, total=   7.4s\n",
            "[CV] criterion=gini, max_depth=20, n_estimators=350 ..................\n",
            "[CV]  criterion=gini, max_depth=20, n_estimators=350, score=0.809, total=   7.2s\n",
            "[CV] criterion=gini, max_depth=20, n_estimators=350 ..................\n",
            "[CV]  criterion=gini, max_depth=20, n_estimators=350, score=0.831, total=   7.2s\n",
            "[CV] criterion=gini, max_depth=24, n_estimators=200 ..................\n",
            "[CV]  criterion=gini, max_depth=24, n_estimators=200, score=0.842, total=   4.5s\n",
            "[CV] criterion=gini, max_depth=24, n_estimators=200 ..................\n",
            "[CV]  criterion=gini, max_depth=24, n_estimators=200, score=0.844, total=   4.5s\n",
            "[CV] criterion=gini, max_depth=24, n_estimators=200 ..................\n",
            "[CV]  criterion=gini, max_depth=24, n_estimators=200, score=0.829, total=   4.4s\n",
            "[CV] criterion=gini, max_depth=24, n_estimators=200 ..................\n",
            "[CV]  criterion=gini, max_depth=24, n_estimators=200, score=0.819, total=   4.4s\n",
            "[CV] criterion=gini, max_depth=24, n_estimators=200 ..................\n",
            "[CV]  criterion=gini, max_depth=24, n_estimators=200, score=0.833, total=   4.4s\n",
            "[CV] criterion=gini, max_depth=24, n_estimators=250 ..................\n",
            "[CV]  criterion=gini, max_depth=24, n_estimators=250, score=0.852, total=   5.5s\n",
            "[CV] criterion=gini, max_depth=24, n_estimators=250 ..................\n",
            "[CV]  criterion=gini, max_depth=24, n_estimators=250, score=0.843, total=   5.5s\n",
            "[CV] criterion=gini, max_depth=24, n_estimators=250 ..................\n",
            "[CV]  criterion=gini, max_depth=24, n_estimators=250, score=0.832, total=   5.6s\n",
            "[CV] criterion=gini, max_depth=24, n_estimators=250 ..................\n",
            "[CV]  criterion=gini, max_depth=24, n_estimators=250, score=0.819, total=   5.6s\n",
            "[CV] criterion=gini, max_depth=24, n_estimators=250 ..................\n",
            "[CV]  criterion=gini, max_depth=24, n_estimators=250, score=0.836, total=   5.8s\n",
            "[CV] criterion=gini, max_depth=24, n_estimators=300 ..................\n",
            "[CV]  criterion=gini, max_depth=24, n_estimators=300, score=0.847, total=   6.7s\n",
            "[CV] criterion=gini, max_depth=24, n_estimators=300 ..................\n",
            "[CV]  criterion=gini, max_depth=24, n_estimators=300, score=0.843, total=   6.7s\n",
            "[CV] criterion=gini, max_depth=24, n_estimators=300 ..................\n",
            "[CV]  criterion=gini, max_depth=24, n_estimators=300, score=0.832, total=   6.8s\n",
            "[CV] criterion=gini, max_depth=24, n_estimators=300 ..................\n",
            "[CV]  criterion=gini, max_depth=24, n_estimators=300, score=0.817, total=   6.6s\n",
            "[CV] criterion=gini, max_depth=24, n_estimators=300 ..................\n",
            "[CV]  criterion=gini, max_depth=24, n_estimators=300, score=0.836, total=   6.7s\n",
            "[CV] criterion=gini, max_depth=24, n_estimators=350 ..................\n",
            "[CV]  criterion=gini, max_depth=24, n_estimators=350, score=0.849, total=   7.8s\n",
            "[CV] criterion=gini, max_depth=24, n_estimators=350 ..................\n",
            "[CV]  criterion=gini, max_depth=24, n_estimators=350, score=0.843, total=   7.7s\n",
            "[CV] criterion=gini, max_depth=24, n_estimators=350 ..................\n",
            "[CV]  criterion=gini, max_depth=24, n_estimators=350, score=0.829, total=   7.8s\n",
            "[CV] criterion=gini, max_depth=24, n_estimators=350 ..................\n",
            "[CV]  criterion=gini, max_depth=24, n_estimators=350, score=0.818, total=   7.7s\n",
            "[CV] criterion=gini, max_depth=24, n_estimators=350 ..................\n",
            "[CV]  criterion=gini, max_depth=24, n_estimators=350, score=0.835, total=   7.9s\n",
            "[CV] criterion=entropy, max_depth=16, n_estimators=200 ...............\n",
            "[CV]  criterion=entropy, max_depth=16, n_estimators=200, score=0.839, total=   4.5s\n",
            "[CV] criterion=entropy, max_depth=16, n_estimators=200 ...............\n",
            "[CV]  criterion=entropy, max_depth=16, n_estimators=200, score=0.830, total=   4.4s\n",
            "[CV] criterion=entropy, max_depth=16, n_estimators=200 ...............\n",
            "[CV]  criterion=entropy, max_depth=16, n_estimators=200, score=0.822, total=   4.5s\n",
            "[CV] criterion=entropy, max_depth=16, n_estimators=200 ...............\n",
            "[CV]  criterion=entropy, max_depth=16, n_estimators=200, score=0.803, total=   4.4s\n",
            "[CV] criterion=entropy, max_depth=16, n_estimators=200 ...............\n",
            "[CV]  criterion=entropy, max_depth=16, n_estimators=200, score=0.828, total=   4.5s\n",
            "[CV] criterion=entropy, max_depth=16, n_estimators=250 ...............\n",
            "[CV]  criterion=entropy, max_depth=16, n_estimators=250, score=0.837, total=   5.5s\n",
            "[CV] criterion=entropy, max_depth=16, n_estimators=250 ...............\n",
            "[CV]  criterion=entropy, max_depth=16, n_estimators=250, score=0.834, total=   5.5s\n",
            "[CV] criterion=entropy, max_depth=16, n_estimators=250 ...............\n",
            "[CV]  criterion=entropy, max_depth=16, n_estimators=250, score=0.820, total=   5.6s\n",
            "[CV] criterion=entropy, max_depth=16, n_estimators=250 ...............\n",
            "[CV]  criterion=entropy, max_depth=16, n_estimators=250, score=0.799, total=   5.6s\n",
            "[CV] criterion=entropy, max_depth=16, n_estimators=250 ...............\n",
            "[CV]  criterion=entropy, max_depth=16, n_estimators=250, score=0.825, total=   5.5s\n",
            "[CV] criterion=entropy, max_depth=16, n_estimators=300 ...............\n",
            "[CV]  criterion=entropy, max_depth=16, n_estimators=300, score=0.838, total=   6.6s\n",
            "[CV] criterion=entropy, max_depth=16, n_estimators=300 ...............\n",
            "[CV]  criterion=entropy, max_depth=16, n_estimators=300, score=0.831, total=   6.6s\n",
            "[CV] criterion=entropy, max_depth=16, n_estimators=300 ...............\n",
            "[CV]  criterion=entropy, max_depth=16, n_estimators=300, score=0.824, total=   6.6s\n",
            "[CV] criterion=entropy, max_depth=16, n_estimators=300 ...............\n",
            "[CV]  criterion=entropy, max_depth=16, n_estimators=300, score=0.803, total=   6.6s\n",
            "[CV] criterion=entropy, max_depth=16, n_estimators=300 ...............\n",
            "[CV]  criterion=entropy, max_depth=16, n_estimators=300, score=0.828, total=   6.6s\n",
            "[CV] criterion=entropy, max_depth=16, n_estimators=350 ...............\n",
            "[CV]  criterion=entropy, max_depth=16, n_estimators=350, score=0.841, total=   7.7s\n",
            "[CV] criterion=entropy, max_depth=16, n_estimators=350 ...............\n",
            "[CV]  criterion=entropy, max_depth=16, n_estimators=350, score=0.833, total=   7.6s\n",
            "[CV] criterion=entropy, max_depth=16, n_estimators=350 ...............\n",
            "[CV]  criterion=entropy, max_depth=16, n_estimators=350, score=0.824, total=   7.7s\n",
            "[CV] criterion=entropy, max_depth=16, n_estimators=350 ...............\n",
            "[CV]  criterion=entropy, max_depth=16, n_estimators=350, score=0.801, total=   7.7s\n",
            "[CV] criterion=entropy, max_depth=16, n_estimators=350 ...............\n",
            "[CV]  criterion=entropy, max_depth=16, n_estimators=350, score=0.829, total=   7.7s\n",
            "[CV] criterion=entropy, max_depth=20, n_estimators=200 ...............\n",
            "[CV]  criterion=entropy, max_depth=20, n_estimators=200, score=0.850, total=   5.2s\n",
            "[CV] criterion=entropy, max_depth=20, n_estimators=200 ...............\n",
            "[CV]  criterion=entropy, max_depth=20, n_estimators=200, score=0.839, total=   5.2s\n",
            "[CV] criterion=entropy, max_depth=20, n_estimators=200 ...............\n",
            "[CV]  criterion=entropy, max_depth=20, n_estimators=200, score=0.829, total=   5.1s\n",
            "[CV] criterion=entropy, max_depth=20, n_estimators=200 ...............\n",
            "[CV]  criterion=entropy, max_depth=20, n_estimators=200, score=0.810, total=   5.1s\n",
            "[CV] criterion=entropy, max_depth=20, n_estimators=200 ...............\n",
            "[CV]  criterion=entropy, max_depth=20, n_estimators=200, score=0.832, total=   5.1s\n",
            "[CV] criterion=entropy, max_depth=20, n_estimators=250 ...............\n",
            "[CV]  criterion=entropy, max_depth=20, n_estimators=250, score=0.844, total=   6.4s\n",
            "[CV] criterion=entropy, max_depth=20, n_estimators=250 ...............\n",
            "[CV]  criterion=entropy, max_depth=20, n_estimators=250, score=0.838, total=   6.4s\n",
            "[CV] criterion=entropy, max_depth=20, n_estimators=250 ...............\n",
            "[CV]  criterion=entropy, max_depth=20, n_estimators=250, score=0.827, total=   6.3s\n",
            "[CV] criterion=entropy, max_depth=20, n_estimators=250 ...............\n",
            "[CV]  criterion=entropy, max_depth=20, n_estimators=250, score=0.812, total=   6.4s\n",
            "[CV] criterion=entropy, max_depth=20, n_estimators=250 ...............\n",
            "[CV]  criterion=entropy, max_depth=20, n_estimators=250, score=0.833, total=   6.4s\n",
            "[CV] criterion=entropy, max_depth=20, n_estimators=300 ...............\n",
            "[CV]  criterion=entropy, max_depth=20, n_estimators=300, score=0.846, total=   8.0s\n",
            "[CV] criterion=entropy, max_depth=20, n_estimators=300 ...............\n",
            "[CV]  criterion=entropy, max_depth=20, n_estimators=300, score=0.839, total=   7.7s\n",
            "[CV] criterion=entropy, max_depth=20, n_estimators=300 ...............\n",
            "[CV]  criterion=entropy, max_depth=20, n_estimators=300, score=0.829, total=   7.8s\n",
            "[CV] criterion=entropy, max_depth=20, n_estimators=300 ...............\n",
            "[CV]  criterion=entropy, max_depth=20, n_estimators=300, score=0.813, total=   7.7s\n",
            "[CV] criterion=entropy, max_depth=20, n_estimators=300 ...............\n",
            "[CV]  criterion=entropy, max_depth=20, n_estimators=300, score=0.835, total=   7.7s\n",
            "[CV] criterion=entropy, max_depth=20, n_estimators=350 ...............\n",
            "[CV]  criterion=entropy, max_depth=20, n_estimators=350, score=0.848, total=   9.0s\n",
            "[CV] criterion=entropy, max_depth=20, n_estimators=350 ...............\n",
            "[CV]  criterion=entropy, max_depth=20, n_estimators=350, score=0.842, total=   9.0s\n",
            "[CV] criterion=entropy, max_depth=20, n_estimators=350 ...............\n",
            "[CV]  criterion=entropy, max_depth=20, n_estimators=350, score=0.826, total=   8.9s\n",
            "[CV] criterion=entropy, max_depth=20, n_estimators=350 ...............\n",
            "[CV]  criterion=entropy, max_depth=20, n_estimators=350, score=0.812, total=   9.1s\n",
            "[CV] criterion=entropy, max_depth=20, n_estimators=350 ...............\n",
            "[CV]  criterion=entropy, max_depth=20, n_estimators=350, score=0.832, total=   8.9s\n",
            "[CV] criterion=entropy, max_depth=24, n_estimators=200 ...............\n",
            "[CV]  criterion=entropy, max_depth=24, n_estimators=200, score=0.850, total=   5.7s\n",
            "[CV] criterion=entropy, max_depth=24, n_estimators=200 ...............\n",
            "[CV]  criterion=entropy, max_depth=24, n_estimators=200, score=0.845, total=   5.6s\n",
            "[CV] criterion=entropy, max_depth=24, n_estimators=200 ...............\n",
            "[CV]  criterion=entropy, max_depth=24, n_estimators=200, score=0.833, total=   5.7s\n",
            "[CV] criterion=entropy, max_depth=24, n_estimators=200 ...............\n",
            "[CV]  criterion=entropy, max_depth=24, n_estimators=200, score=0.818, total=   5.7s\n",
            "[CV] criterion=entropy, max_depth=24, n_estimators=200 ...............\n",
            "[CV]  criterion=entropy, max_depth=24, n_estimators=200, score=0.836, total=   5.6s\n",
            "[CV] criterion=entropy, max_depth=24, n_estimators=250 ...............\n",
            "[CV]  criterion=entropy, max_depth=24, n_estimators=250, score=0.850, total=   7.1s\n",
            "[CV] criterion=entropy, max_depth=24, n_estimators=250 ...............\n",
            "[CV]  criterion=entropy, max_depth=24, n_estimators=250, score=0.844, total=   7.1s\n",
            "[CV] criterion=entropy, max_depth=24, n_estimators=250 ...............\n",
            "[CV]  criterion=entropy, max_depth=24, n_estimators=250, score=0.833, total=   7.2s\n",
            "[CV] criterion=entropy, max_depth=24, n_estimators=250 ...............\n",
            "[CV]  criterion=entropy, max_depth=24, n_estimators=250, score=0.819, total=   7.1s\n",
            "[CV] criterion=entropy, max_depth=24, n_estimators=250 ...............\n",
            "[CV]  criterion=entropy, max_depth=24, n_estimators=250, score=0.836, total=   7.1s\n",
            "[CV] criterion=entropy, max_depth=24, n_estimators=300 ...............\n",
            "[CV]  criterion=entropy, max_depth=24, n_estimators=300, score=0.847, total=   8.6s\n",
            "[CV] criterion=entropy, max_depth=24, n_estimators=300 ...............\n",
            "[CV]  criterion=entropy, max_depth=24, n_estimators=300, score=0.849, total=   8.5s\n",
            "[CV] criterion=entropy, max_depth=24, n_estimators=300 ...............\n",
            "[CV]  criterion=entropy, max_depth=24, n_estimators=300, score=0.832, total=   8.5s\n",
            "[CV] criterion=entropy, max_depth=24, n_estimators=300 ...............\n",
            "[CV]  criterion=entropy, max_depth=24, n_estimators=300, score=0.820, total=   8.5s\n",
            "[CV] criterion=entropy, max_depth=24, n_estimators=300 ...............\n",
            "[CV]  criterion=entropy, max_depth=24, n_estimators=300, score=0.835, total=   8.7s\n",
            "[CV] criterion=entropy, max_depth=24, n_estimators=350 ...............\n",
            "[CV]  criterion=entropy, max_depth=24, n_estimators=350, score=0.850, total=  10.6s\n",
            "[CV] criterion=entropy, max_depth=24, n_estimators=350 ...............\n",
            "[CV]  criterion=entropy, max_depth=24, n_estimators=350, score=0.845, total=   9.9s\n",
            "[CV] criterion=entropy, max_depth=24, n_estimators=350 ...............\n",
            "[CV]  criterion=entropy, max_depth=24, n_estimators=350, score=0.831, total=  10.0s\n",
            "[CV] criterion=entropy, max_depth=24, n_estimators=350 ...............\n",
            "[CV]  criterion=entropy, max_depth=24, n_estimators=350, score=0.819, total=   9.9s\n",
            "[CV] criterion=entropy, max_depth=24, n_estimators=350 ...............\n",
            "[CV]  criterion=entropy, max_depth=24, n_estimators=350, score=0.832, total=  10.0s\n"
          ],
          "name": "stdout"
        },
        {
          "output_type": "stream",
          "text": [
            "[Parallel(n_jobs=1)]: Done 120 out of 120 | elapsed: 12.7min finished\n"
          ],
          "name": "stderr"
        },
        {
          "output_type": "execute_result",
          "data": {
            "text/plain": [
              "GridSearchCV(cv=None, error_score=nan,\n",
              "             estimator=RandomForestClassifier(bootstrap=True, ccp_alpha=0.0,\n",
              "                                              class_weight=None,\n",
              "                                              criterion='gini', max_depth=None,\n",
              "                                              max_features='auto',\n",
              "                                              max_leaf_nodes=None,\n",
              "                                              max_samples=None,\n",
              "                                              min_impurity_decrease=0.0,\n",
              "                                              min_impurity_split=None,\n",
              "                                              min_samples_leaf=1,\n",
              "                                              min_samples_split=2,\n",
              "                                              min_weight_fraction_leaf=0.0,\n",
              "                                              n_estimators=100, n_jobs=None,\n",
              "                                              oob_score=True, random_state=None,\n",
              "                                              verbose=0, warm_start=False),\n",
              "             iid='deprecated', n_jobs=None,\n",
              "             param_grid={'criterion': ['gini', 'entropy'],\n",
              "                         'max_depth': [16, 20, 24],\n",
              "                         'n_estimators': [200, 250, 300, 350]},\n",
              "             pre_dispatch='2*n_jobs', refit=True, return_train_score=False,\n",
              "             scoring=None, verbose=4)"
            ]
          },
          "metadata": {
            "tags": []
          },
          "execution_count": 48
        }
      ]
    },
    {
      "cell_type": "code",
      "metadata": {
        "colab": {
          "base_uri": "https://localhost:8080/"
        },
        "id": "t-Jcn9HS7xzu",
        "outputId": "5236a474-f21f-47fd-ce22-a3241ae59558"
      },
      "source": [
        "print(rf_grid_clf.best_params_)\n",
        "print(rf_grid_clf.best_estimator_)\n",
        "print(rf_grid_clf.best_score_)"
      ],
      "execution_count": null,
      "outputs": [
        {
          "output_type": "stream",
          "text": [
            "{'criterion': 'entropy', 'max_depth': 24, 'n_estimators': 300}\n",
            "RandomForestClassifier(bootstrap=True, ccp_alpha=0.0, class_weight=None,\n",
            "                       criterion='entropy', max_depth=24, max_features='auto',\n",
            "                       max_leaf_nodes=None, max_samples=None,\n",
            "                       min_impurity_decrease=0.0, min_impurity_split=None,\n",
            "                       min_samples_leaf=1, min_samples_split=2,\n",
            "                       min_weight_fraction_leaf=0.0, n_estimators=300,\n",
            "                       n_jobs=None, oob_score=True, random_state=None,\n",
            "                       verbose=0, warm_start=False)\n",
            "0.8365985576923076\n"
          ],
          "name": "stdout"
        }
      ]
    },
    {
      "cell_type": "code",
      "metadata": {
        "colab": {
          "base_uri": "https://localhost:8080/"
        },
        "id": "qsrV5VJ_-59c",
        "outputId": "14676b5b-2b57-4539-d71a-4817fc19a50d"
      },
      "source": [
        "rf_clf = RandomForestClassifier(criterion = 'entropy', max_depth = 24, n_estimators = 300)\n",
        "rf_clf.fit(X_train, y_train)"
      ],
      "execution_count": null,
      "outputs": [
        {
          "output_type": "execute_result",
          "data": {
            "text/plain": [
              "RandomForestClassifier(bootstrap=True, ccp_alpha=0.0, class_weight=None,\n",
              "                       criterion='entropy', max_depth=24, max_features='auto',\n",
              "                       max_leaf_nodes=None, max_samples=None,\n",
              "                       min_impurity_decrease=0.0, min_impurity_split=None,\n",
              "                       min_samples_leaf=1, min_samples_split=2,\n",
              "                       min_weight_fraction_leaf=0.0, n_estimators=300,\n",
              "                       n_jobs=None, oob_score=False, random_state=None,\n",
              "                       verbose=0, warm_start=False)"
            ]
          },
          "metadata": {
            "tags": []
          },
          "execution_count": 132
        }
      ]
    },
    {
      "cell_type": "code",
      "metadata": {
        "colab": {
          "base_uri": "https://localhost:8080/"
        },
        "id": "TbRxFWyE_aai",
        "outputId": "a4d89ad6-fc19-4528-9315-bb36d3a1292f"
      },
      "source": [
        "print(rf_clf.score(X_train, y_train))\n",
        "print(rf_clf.score(X_test, y_test))\n",
        "print(precision_score(rf_clf.predict(X_test), y_test))"
      ],
      "execution_count": null,
      "outputs": [
        {
          "output_type": "stream",
          "text": [
            "0.9907451923076923\n",
            "0.8444711538461539\n",
            "0.8629737609329446\n"
          ],
          "name": "stdout"
        }
      ]
    },
    {
      "cell_type": "code",
      "metadata": {
        "colab": {
          "base_uri": "https://localhost:8080/"
        },
        "id": "asc6knAB_657",
        "outputId": "95d72df8-61e4-45a0-e784-e98abb064dde"
      },
      "source": [
        "xgb_clf = XGBClassifier(learning_rate=0.8)\n",
        "xgb_clf.fit(X_train, y_train)"
      ],
      "execution_count": null,
      "outputs": [
        {
          "output_type": "execute_result",
          "data": {
            "text/plain": [
              "XGBClassifier(base_score=0.5, booster='gbtree', colsample_bylevel=1,\n",
              "              colsample_bynode=1, colsample_bytree=1, gamma=0,\n",
              "              learning_rate=0.8, max_delta_step=0, max_depth=3,\n",
              "              min_child_weight=1, missing=None, n_estimators=100, n_jobs=1,\n",
              "              nthread=None, objective='binary:logistic', random_state=0,\n",
              "              reg_alpha=0, reg_lambda=1, scale_pos_weight=1, seed=None,\n",
              "              silent=None, subsample=1, verbosity=1)"
            ]
          },
          "metadata": {
            "tags": []
          },
          "execution_count": 135
        }
      ]
    },
    {
      "cell_type": "code",
      "metadata": {
        "colab": {
          "base_uri": "https://localhost:8080/"
        },
        "id": "DQxo_8wTAXrX",
        "outputId": "5792e7fe-28b8-42c9-e441-94d9b58fbb65"
      },
      "source": [
        "print(xgb_clf.score(X_train, y_train))\n",
        "print(xgb_clf.score(X_test, y_test))\n",
        "print(precision_score(xgb_clf.predict(X_test), y_test))"
      ],
      "execution_count": null,
      "outputs": [
        {
          "output_type": "stream",
          "text": [
            "0.9141225961538462\n",
            "0.8769230769230769\n",
            "0.892128279883382\n"
          ],
          "name": "stdout"
        }
      ]
    },
    {
      "cell_type": "code",
      "metadata": {
        "id": "a5erXpPvON-2"
      },
      "source": [
        "test_doc = test['clean_total']\n",
        "test_df = tf_idf_matrix(test_doc)\n",
        "\n",
        "## Now to create the dataset upon which predictions will be done."
      ],
      "execution_count": null,
      "outputs": []
    },
    {
      "cell_type": "code",
      "metadata": {
        "id": "NcBVLHEKOzFo"
      },
      "source": [
        "lst = []\n",
        "for k in range(1, 5201): \n",
        "  x = test_df[k].where(test_df[k].values > 0.0)\n",
        "  x.fillna(0.0, inplace = True)\n",
        "  y = []\n",
        "  for i in x:\n",
        "    if i > 0.0:\n",
        "      y.append(i)\n",
        "\n",
        "  lst.append(y)"
      ],
      "execution_count": null,
      "outputs": []
    },
    {
      "cell_type": "code",
      "metadata": {
        "colab": {
          "base_uri": "https://localhost:8080/",
          "height": 422
        },
        "id": "LUGLbNDnPUtg",
        "outputId": "d507619c-8f79-4288-f84c-79ede44a5f08"
      },
      "source": [
        "df_test = pd.DataFrame(lst, columns = [i for i in range(1, 26)])\n",
        "df_test.fillna(0.0, inplace = True)\n",
        "df_test"
      ],
      "execution_count": null,
      "outputs": [
        {
          "output_type": "execute_result",
          "data": {
            "text/html": [
              "<div>\n",
              "<style scoped>\n",
              "    .dataframe tbody tr th:only-of-type {\n",
              "        vertical-align: middle;\n",
              "    }\n",
              "\n",
              "    .dataframe tbody tr th {\n",
              "        vertical-align: top;\n",
              "    }\n",
              "\n",
              "    .dataframe thead th {\n",
              "        text-align: right;\n",
              "    }\n",
              "</style>\n",
              "<table border=\"1\" class=\"dataframe\">\n",
              "  <thead>\n",
              "    <tr style=\"text-align: right;\">\n",
              "      <th></th>\n",
              "      <th>1</th>\n",
              "      <th>2</th>\n",
              "      <th>3</th>\n",
              "      <th>4</th>\n",
              "      <th>5</th>\n",
              "      <th>6</th>\n",
              "      <th>7</th>\n",
              "      <th>8</th>\n",
              "      <th>9</th>\n",
              "      <th>10</th>\n",
              "      <th>11</th>\n",
              "      <th>12</th>\n",
              "      <th>13</th>\n",
              "      <th>14</th>\n",
              "      <th>15</th>\n",
              "      <th>16</th>\n",
              "      <th>17</th>\n",
              "      <th>18</th>\n",
              "      <th>19</th>\n",
              "      <th>20</th>\n",
              "      <th>21</th>\n",
              "      <th>22</th>\n",
              "      <th>23</th>\n",
              "      <th>24</th>\n",
              "      <th>25</th>\n",
              "    </tr>\n",
              "  </thead>\n",
              "  <tbody>\n",
              "    <tr>\n",
              "      <th>0</th>\n",
              "      <td>8.863459</td>\n",
              "      <td>2.114113</td>\n",
              "      <td>8.863459</td>\n",
              "      <td>7.477165</td>\n",
              "      <td>8.863459</td>\n",
              "      <td>8.457994</td>\n",
              "      <td>8.863459</td>\n",
              "      <td>6.122619</td>\n",
              "      <td>8.863459</td>\n",
              "      <td>2.788113</td>\n",
              "      <td>7.359382</td>\n",
              "      <td>2.183860</td>\n",
              "      <td>0.000000</td>\n",
              "      <td>0.000000</td>\n",
              "      <td>0.00000</td>\n",
              "      <td>0.0</td>\n",
              "      <td>0.0</td>\n",
              "      <td>0.0</td>\n",
              "      <td>0.0</td>\n",
              "      <td>0.0</td>\n",
              "      <td>0.0</td>\n",
              "      <td>0.0</td>\n",
              "      <td>0.0</td>\n",
              "      <td>0.0</td>\n",
              "      <td>0.0</td>\n",
              "    </tr>\n",
              "    <tr>\n",
              "      <th>1</th>\n",
              "      <td>6.560874</td>\n",
              "      <td>6.560874</td>\n",
              "      <td>6.917549</td>\n",
              "      <td>5.187158</td>\n",
              "      <td>6.378552</td>\n",
              "      <td>6.122619</td>\n",
              "      <td>7.947168</td>\n",
              "      <td>0.000000</td>\n",
              "      <td>0.000000</td>\n",
              "      <td>0.000000</td>\n",
              "      <td>0.000000</td>\n",
              "      <td>0.000000</td>\n",
              "      <td>0.000000</td>\n",
              "      <td>0.000000</td>\n",
              "      <td>0.00000</td>\n",
              "      <td>0.0</td>\n",
              "      <td>0.0</td>\n",
              "      <td>0.0</td>\n",
              "      <td>0.0</td>\n",
              "      <td>0.0</td>\n",
              "      <td>0.0</td>\n",
              "      <td>0.0</td>\n",
              "      <td>0.0</td>\n",
              "      <td>0.0</td>\n",
              "      <td>0.0</td>\n",
              "    </tr>\n",
              "    <tr>\n",
              "      <th>2</th>\n",
              "      <td>5.024007</td>\n",
              "      <td>6.991657</td>\n",
              "      <td>6.723393</td>\n",
              "      <td>7.254021</td>\n",
              "      <td>5.727965</td>\n",
              "      <td>8.170312</td>\n",
              "      <td>7.947168</td>\n",
              "      <td>8.863459</td>\n",
              "      <td>6.991657</td>\n",
              "      <td>6.666234</td>\n",
              "      <td>6.991657</td>\n",
              "      <td>0.000000</td>\n",
              "      <td>0.000000</td>\n",
              "      <td>0.000000</td>\n",
              "      <td>0.00000</td>\n",
              "      <td>0.0</td>\n",
              "      <td>0.0</td>\n",
              "      <td>0.0</td>\n",
              "      <td>0.0</td>\n",
              "      <td>0.0</td>\n",
              "      <td>0.0</td>\n",
              "      <td>0.0</td>\n",
              "      <td>0.0</td>\n",
              "      <td>0.0</td>\n",
              "      <td>0.0</td>\n",
              "    </tr>\n",
              "    <tr>\n",
              "      <th>3</th>\n",
              "      <td>6.337730</td>\n",
              "      <td>7.158711</td>\n",
              "      <td>7.947168</td>\n",
              "      <td>8.170312</td>\n",
              "      <td>2.114113</td>\n",
              "      <td>8.457994</td>\n",
              "      <td>6.723393</td>\n",
              "      <td>4.720324</td>\n",
              "      <td>6.917549</td>\n",
              "      <td>7.071700</td>\n",
              "      <td>2.183860</td>\n",
              "      <td>0.000000</td>\n",
              "      <td>0.000000</td>\n",
              "      <td>0.000000</td>\n",
              "      <td>0.00000</td>\n",
              "      <td>0.0</td>\n",
              "      <td>0.0</td>\n",
              "      <td>0.0</td>\n",
              "      <td>0.0</td>\n",
              "      <td>0.0</td>\n",
              "      <td>0.0</td>\n",
              "      <td>0.0</td>\n",
              "      <td>0.0</td>\n",
              "      <td>0.0</td>\n",
              "      <td>0.0</td>\n",
              "    </tr>\n",
              "    <tr>\n",
              "      <th>4</th>\n",
              "      <td>7.477165</td>\n",
              "      <td>8.863459</td>\n",
              "      <td>8.457994</td>\n",
              "      <td>6.337730</td>\n",
              "      <td>4.820408</td>\n",
              "      <td>6.421112</td>\n",
              "      <td>5.090698</td>\n",
              "      <td>0.000000</td>\n",
              "      <td>0.000000</td>\n",
              "      <td>0.000000</td>\n",
              "      <td>0.000000</td>\n",
              "      <td>0.000000</td>\n",
              "      <td>0.000000</td>\n",
              "      <td>0.000000</td>\n",
              "      <td>0.00000</td>\n",
              "      <td>0.0</td>\n",
              "      <td>0.0</td>\n",
              "      <td>0.0</td>\n",
              "      <td>0.0</td>\n",
              "      <td>0.0</td>\n",
              "      <td>0.0</td>\n",
              "      <td>0.0</td>\n",
              "      <td>0.0</td>\n",
              "      <td>0.0</td>\n",
              "      <td>0.0</td>\n",
              "    </tr>\n",
              "    <tr>\n",
              "      <th>...</th>\n",
              "      <td>...</td>\n",
              "      <td>...</td>\n",
              "      <td>...</td>\n",
              "      <td>...</td>\n",
              "      <td>...</td>\n",
              "      <td>...</td>\n",
              "      <td>...</td>\n",
              "      <td>...</td>\n",
              "      <td>...</td>\n",
              "      <td>...</td>\n",
              "      <td>...</td>\n",
              "      <td>...</td>\n",
              "      <td>...</td>\n",
              "      <td>...</td>\n",
              "      <td>...</td>\n",
              "      <td>...</td>\n",
              "      <td>...</td>\n",
              "      <td>...</td>\n",
              "      <td>...</td>\n",
              "      <td>...</td>\n",
              "      <td>...</td>\n",
              "      <td>...</td>\n",
              "      <td>...</td>\n",
              "      <td>...</td>\n",
              "      <td>...</td>\n",
              "    </tr>\n",
              "    <tr>\n",
              "      <th>5195</th>\n",
              "      <td>8.863459</td>\n",
              "      <td>6.001258</td>\n",
              "      <td>8.863459</td>\n",
              "      <td>6.723393</td>\n",
              "      <td>2.114113</td>\n",
              "      <td>8.863459</td>\n",
              "      <td>8.863459</td>\n",
              "      <td>7.947168</td>\n",
              "      <td>2.183860</td>\n",
              "      <td>0.000000</td>\n",
              "      <td>0.000000</td>\n",
              "      <td>0.000000</td>\n",
              "      <td>0.000000</td>\n",
              "      <td>0.000000</td>\n",
              "      <td>0.00000</td>\n",
              "      <td>0.0</td>\n",
              "      <td>0.0</td>\n",
              "      <td>0.0</td>\n",
              "      <td>0.0</td>\n",
              "      <td>0.0</td>\n",
              "      <td>0.0</td>\n",
              "      <td>0.0</td>\n",
              "      <td>0.0</td>\n",
              "      <td>0.0</td>\n",
              "      <td>0.0</td>\n",
              "    </tr>\n",
              "    <tr>\n",
              "      <th>5196</th>\n",
              "      <td>7.158711</td>\n",
              "      <td>5.706459</td>\n",
              "      <td>6.512084</td>\n",
              "      <td>5.397723</td>\n",
              "      <td>8.170312</td>\n",
              "      <td>7.477165</td>\n",
              "      <td>2.114113</td>\n",
              "      <td>7.158711</td>\n",
              "      <td>4.971639</td>\n",
              "      <td>8.170312</td>\n",
              "      <td>6.260769</td>\n",
              "      <td>7.947168</td>\n",
              "      <td>8.170312</td>\n",
              "      <td>8.457994</td>\n",
              "      <td>2.18386</td>\n",
              "      <td>0.0</td>\n",
              "      <td>0.0</td>\n",
              "      <td>0.0</td>\n",
              "      <td>0.0</td>\n",
              "      <td>0.0</td>\n",
              "      <td>0.0</td>\n",
              "      <td>0.0</td>\n",
              "      <td>0.0</td>\n",
              "      <td>0.0</td>\n",
              "      <td>0.0</td>\n",
              "    </tr>\n",
              "    <tr>\n",
              "      <th>5197</th>\n",
              "      <td>5.945688</td>\n",
              "      <td>8.863459</td>\n",
              "      <td>6.784017</td>\n",
              "      <td>2.114113</td>\n",
              "      <td>8.170312</td>\n",
              "      <td>6.189310</td>\n",
              "      <td>6.337730</td>\n",
              "      <td>2.183860</td>\n",
              "      <td>0.000000</td>\n",
              "      <td>0.000000</td>\n",
              "      <td>0.000000</td>\n",
              "      <td>0.000000</td>\n",
              "      <td>0.000000</td>\n",
              "      <td>0.000000</td>\n",
              "      <td>0.00000</td>\n",
              "      <td>0.0</td>\n",
              "      <td>0.0</td>\n",
              "      <td>0.0</td>\n",
              "      <td>0.0</td>\n",
              "      <td>0.0</td>\n",
              "      <td>0.0</td>\n",
              "      <td>0.0</td>\n",
              "      <td>0.0</td>\n",
              "      <td>0.0</td>\n",
              "      <td>0.0</td>\n",
              "    </tr>\n",
              "    <tr>\n",
              "      <th>5198</th>\n",
              "      <td>5.919020</td>\n",
              "      <td>7.477165</td>\n",
              "      <td>6.991657</td>\n",
              "      <td>7.947168</td>\n",
              "      <td>5.187158</td>\n",
              "      <td>4.593762</td>\n",
              "      <td>0.000000</td>\n",
              "      <td>0.000000</td>\n",
              "      <td>0.000000</td>\n",
              "      <td>0.000000</td>\n",
              "      <td>0.000000</td>\n",
              "      <td>0.000000</td>\n",
              "      <td>0.000000</td>\n",
              "      <td>0.000000</td>\n",
              "      <td>0.00000</td>\n",
              "      <td>0.0</td>\n",
              "      <td>0.0</td>\n",
              "      <td>0.0</td>\n",
              "      <td>0.0</td>\n",
              "      <td>0.0</td>\n",
              "      <td>0.0</td>\n",
              "      <td>0.0</td>\n",
              "      <td>0.0</td>\n",
              "      <td>0.0</td>\n",
              "      <td>0.0</td>\n",
              "    </tr>\n",
              "    <tr>\n",
              "      <th>5199</th>\n",
              "      <td>8.457994</td>\n",
              "      <td>2.114113</td>\n",
              "      <td>8.863459</td>\n",
              "      <td>6.666234</td>\n",
              "      <td>8.863459</td>\n",
              "      <td>7.947168</td>\n",
              "      <td>2.183860</td>\n",
              "      <td>0.000000</td>\n",
              "      <td>0.000000</td>\n",
              "      <td>0.000000</td>\n",
              "      <td>0.000000</td>\n",
              "      <td>0.000000</td>\n",
              "      <td>0.000000</td>\n",
              "      <td>0.000000</td>\n",
              "      <td>0.00000</td>\n",
              "      <td>0.0</td>\n",
              "      <td>0.0</td>\n",
              "      <td>0.0</td>\n",
              "      <td>0.0</td>\n",
              "      <td>0.0</td>\n",
              "      <td>0.0</td>\n",
              "      <td>0.0</td>\n",
              "      <td>0.0</td>\n",
              "      <td>0.0</td>\n",
              "      <td>0.0</td>\n",
              "    </tr>\n",
              "  </tbody>\n",
              "</table>\n",
              "<p>5200 rows × 25 columns</p>\n",
              "</div>"
            ],
            "text/plain": [
              "            1         2         3         4         5   ...   21   22   23   24   25\n",
              "0     8.863459  2.114113  8.863459  7.477165  8.863459  ...  0.0  0.0  0.0  0.0  0.0\n",
              "1     6.560874  6.560874  6.917549  5.187158  6.378552  ...  0.0  0.0  0.0  0.0  0.0\n",
              "2     5.024007  6.991657  6.723393  7.254021  5.727965  ...  0.0  0.0  0.0  0.0  0.0\n",
              "3     6.337730  7.158711  7.947168  8.170312  2.114113  ...  0.0  0.0  0.0  0.0  0.0\n",
              "4     7.477165  8.863459  8.457994  6.337730  4.820408  ...  0.0  0.0  0.0  0.0  0.0\n",
              "...        ...       ...       ...       ...       ...  ...  ...  ...  ...  ...  ...\n",
              "5195  8.863459  6.001258  8.863459  6.723393  2.114113  ...  0.0  0.0  0.0  0.0  0.0\n",
              "5196  7.158711  5.706459  6.512084  5.397723  8.170312  ...  0.0  0.0  0.0  0.0  0.0\n",
              "5197  5.945688  8.863459  6.784017  2.114113  8.170312  ...  0.0  0.0  0.0  0.0  0.0\n",
              "5198  5.919020  7.477165  6.991657  7.947168  5.187158  ...  0.0  0.0  0.0  0.0  0.0\n",
              "5199  8.457994  2.114113  8.863459  6.666234  8.863459  ...  0.0  0.0  0.0  0.0  0.0\n",
              "\n",
              "[5200 rows x 25 columns]"
            ]
          },
          "metadata": {
            "tags": []
          },
          "execution_count": 167
        }
      ]
    },
    {
      "cell_type": "code",
      "metadata": {
        "colab": {
          "base_uri": "https://localhost:8080/",
          "height": 422
        },
        "id": "apPVYVunjTAT",
        "outputId": "0c33bb91-fe88-4993-8344-e247e548c6dc"
      },
      "source": [
        "## Now adding more columns to make the test and train dataframes same.\n",
        "\n",
        "for i in range(25, 47):\n",
        "  df_test[i] = 0.0\n",
        "\n",
        "df_test"
      ],
      "execution_count": null,
      "outputs": [
        {
          "output_type": "execute_result",
          "data": {
            "text/html": [
              "<div>\n",
              "<style scoped>\n",
              "    .dataframe tbody tr th:only-of-type {\n",
              "        vertical-align: middle;\n",
              "    }\n",
              "\n",
              "    .dataframe tbody tr th {\n",
              "        vertical-align: top;\n",
              "    }\n",
              "\n",
              "    .dataframe thead th {\n",
              "        text-align: right;\n",
              "    }\n",
              "</style>\n",
              "<table border=\"1\" class=\"dataframe\">\n",
              "  <thead>\n",
              "    <tr style=\"text-align: right;\">\n",
              "      <th></th>\n",
              "      <th>1</th>\n",
              "      <th>2</th>\n",
              "      <th>3</th>\n",
              "      <th>4</th>\n",
              "      <th>5</th>\n",
              "      <th>6</th>\n",
              "      <th>7</th>\n",
              "      <th>8</th>\n",
              "      <th>9</th>\n",
              "      <th>10</th>\n",
              "      <th>11</th>\n",
              "      <th>12</th>\n",
              "      <th>13</th>\n",
              "      <th>14</th>\n",
              "      <th>15</th>\n",
              "      <th>16</th>\n",
              "      <th>17</th>\n",
              "      <th>18</th>\n",
              "      <th>19</th>\n",
              "      <th>20</th>\n",
              "      <th>21</th>\n",
              "      <th>22</th>\n",
              "      <th>23</th>\n",
              "      <th>24</th>\n",
              "      <th>25</th>\n",
              "      <th>26</th>\n",
              "      <th>27</th>\n",
              "      <th>28</th>\n",
              "      <th>29</th>\n",
              "      <th>30</th>\n",
              "      <th>31</th>\n",
              "      <th>32</th>\n",
              "      <th>33</th>\n",
              "      <th>34</th>\n",
              "      <th>35</th>\n",
              "      <th>36</th>\n",
              "      <th>37</th>\n",
              "      <th>38</th>\n",
              "      <th>39</th>\n",
              "      <th>40</th>\n",
              "      <th>41</th>\n",
              "      <th>42</th>\n",
              "      <th>43</th>\n",
              "      <th>44</th>\n",
              "      <th>45</th>\n",
              "      <th>46</th>\n",
              "    </tr>\n",
              "  </thead>\n",
              "  <tbody>\n",
              "    <tr>\n",
              "      <th>0</th>\n",
              "      <td>8.863459</td>\n",
              "      <td>2.114113</td>\n",
              "      <td>8.863459</td>\n",
              "      <td>7.477165</td>\n",
              "      <td>8.863459</td>\n",
              "      <td>8.457994</td>\n",
              "      <td>8.863459</td>\n",
              "      <td>6.122619</td>\n",
              "      <td>8.863459</td>\n",
              "      <td>2.788113</td>\n",
              "      <td>7.359382</td>\n",
              "      <td>2.183860</td>\n",
              "      <td>0.000000</td>\n",
              "      <td>0.000000</td>\n",
              "      <td>0.00000</td>\n",
              "      <td>0.0</td>\n",
              "      <td>0.0</td>\n",
              "      <td>0.0</td>\n",
              "      <td>0.0</td>\n",
              "      <td>0.0</td>\n",
              "      <td>0.0</td>\n",
              "      <td>0.0</td>\n",
              "      <td>0.0</td>\n",
              "      <td>0.0</td>\n",
              "      <td>0.0</td>\n",
              "      <td>0.0</td>\n",
              "      <td>0.0</td>\n",
              "      <td>0.0</td>\n",
              "      <td>0.0</td>\n",
              "      <td>0.0</td>\n",
              "      <td>0.0</td>\n",
              "      <td>0.0</td>\n",
              "      <td>0.0</td>\n",
              "      <td>0.0</td>\n",
              "      <td>0.0</td>\n",
              "      <td>0.0</td>\n",
              "      <td>0.0</td>\n",
              "      <td>0.0</td>\n",
              "      <td>0.0</td>\n",
              "      <td>0.0</td>\n",
              "      <td>0.0</td>\n",
              "      <td>0.0</td>\n",
              "      <td>0.0</td>\n",
              "      <td>0.0</td>\n",
              "      <td>0.0</td>\n",
              "      <td>0.0</td>\n",
              "    </tr>\n",
              "    <tr>\n",
              "      <th>1</th>\n",
              "      <td>6.560874</td>\n",
              "      <td>6.560874</td>\n",
              "      <td>6.917549</td>\n",
              "      <td>5.187158</td>\n",
              "      <td>6.378552</td>\n",
              "      <td>6.122619</td>\n",
              "      <td>7.947168</td>\n",
              "      <td>0.000000</td>\n",
              "      <td>0.000000</td>\n",
              "      <td>0.000000</td>\n",
              "      <td>0.000000</td>\n",
              "      <td>0.000000</td>\n",
              "      <td>0.000000</td>\n",
              "      <td>0.000000</td>\n",
              "      <td>0.00000</td>\n",
              "      <td>0.0</td>\n",
              "      <td>0.0</td>\n",
              "      <td>0.0</td>\n",
              "      <td>0.0</td>\n",
              "      <td>0.0</td>\n",
              "      <td>0.0</td>\n",
              "      <td>0.0</td>\n",
              "      <td>0.0</td>\n",
              "      <td>0.0</td>\n",
              "      <td>0.0</td>\n",
              "      <td>0.0</td>\n",
              "      <td>0.0</td>\n",
              "      <td>0.0</td>\n",
              "      <td>0.0</td>\n",
              "      <td>0.0</td>\n",
              "      <td>0.0</td>\n",
              "      <td>0.0</td>\n",
              "      <td>0.0</td>\n",
              "      <td>0.0</td>\n",
              "      <td>0.0</td>\n",
              "      <td>0.0</td>\n",
              "      <td>0.0</td>\n",
              "      <td>0.0</td>\n",
              "      <td>0.0</td>\n",
              "      <td>0.0</td>\n",
              "      <td>0.0</td>\n",
              "      <td>0.0</td>\n",
              "      <td>0.0</td>\n",
              "      <td>0.0</td>\n",
              "      <td>0.0</td>\n",
              "      <td>0.0</td>\n",
              "    </tr>\n",
              "    <tr>\n",
              "      <th>2</th>\n",
              "      <td>5.024007</td>\n",
              "      <td>6.991657</td>\n",
              "      <td>6.723393</td>\n",
              "      <td>7.254021</td>\n",
              "      <td>5.727965</td>\n",
              "      <td>8.170312</td>\n",
              "      <td>7.947168</td>\n",
              "      <td>8.863459</td>\n",
              "      <td>6.991657</td>\n",
              "      <td>6.666234</td>\n",
              "      <td>6.991657</td>\n",
              "      <td>0.000000</td>\n",
              "      <td>0.000000</td>\n",
              "      <td>0.000000</td>\n",
              "      <td>0.00000</td>\n",
              "      <td>0.0</td>\n",
              "      <td>0.0</td>\n",
              "      <td>0.0</td>\n",
              "      <td>0.0</td>\n",
              "      <td>0.0</td>\n",
              "      <td>0.0</td>\n",
              "      <td>0.0</td>\n",
              "      <td>0.0</td>\n",
              "      <td>0.0</td>\n",
              "      <td>0.0</td>\n",
              "      <td>0.0</td>\n",
              "      <td>0.0</td>\n",
              "      <td>0.0</td>\n",
              "      <td>0.0</td>\n",
              "      <td>0.0</td>\n",
              "      <td>0.0</td>\n",
              "      <td>0.0</td>\n",
              "      <td>0.0</td>\n",
              "      <td>0.0</td>\n",
              "      <td>0.0</td>\n",
              "      <td>0.0</td>\n",
              "      <td>0.0</td>\n",
              "      <td>0.0</td>\n",
              "      <td>0.0</td>\n",
              "      <td>0.0</td>\n",
              "      <td>0.0</td>\n",
              "      <td>0.0</td>\n",
              "      <td>0.0</td>\n",
              "      <td>0.0</td>\n",
              "      <td>0.0</td>\n",
              "      <td>0.0</td>\n",
              "    </tr>\n",
              "    <tr>\n",
              "      <th>3</th>\n",
              "      <td>6.337730</td>\n",
              "      <td>7.158711</td>\n",
              "      <td>7.947168</td>\n",
              "      <td>8.170312</td>\n",
              "      <td>2.114113</td>\n",
              "      <td>8.457994</td>\n",
              "      <td>6.723393</td>\n",
              "      <td>4.720324</td>\n",
              "      <td>6.917549</td>\n",
              "      <td>7.071700</td>\n",
              "      <td>2.183860</td>\n",
              "      <td>0.000000</td>\n",
              "      <td>0.000000</td>\n",
              "      <td>0.000000</td>\n",
              "      <td>0.00000</td>\n",
              "      <td>0.0</td>\n",
              "      <td>0.0</td>\n",
              "      <td>0.0</td>\n",
              "      <td>0.0</td>\n",
              "      <td>0.0</td>\n",
              "      <td>0.0</td>\n",
              "      <td>0.0</td>\n",
              "      <td>0.0</td>\n",
              "      <td>0.0</td>\n",
              "      <td>0.0</td>\n",
              "      <td>0.0</td>\n",
              "      <td>0.0</td>\n",
              "      <td>0.0</td>\n",
              "      <td>0.0</td>\n",
              "      <td>0.0</td>\n",
              "      <td>0.0</td>\n",
              "      <td>0.0</td>\n",
              "      <td>0.0</td>\n",
              "      <td>0.0</td>\n",
              "      <td>0.0</td>\n",
              "      <td>0.0</td>\n",
              "      <td>0.0</td>\n",
              "      <td>0.0</td>\n",
              "      <td>0.0</td>\n",
              "      <td>0.0</td>\n",
              "      <td>0.0</td>\n",
              "      <td>0.0</td>\n",
              "      <td>0.0</td>\n",
              "      <td>0.0</td>\n",
              "      <td>0.0</td>\n",
              "      <td>0.0</td>\n",
              "    </tr>\n",
              "    <tr>\n",
              "      <th>4</th>\n",
              "      <td>7.477165</td>\n",
              "      <td>8.863459</td>\n",
              "      <td>8.457994</td>\n",
              "      <td>6.337730</td>\n",
              "      <td>4.820408</td>\n",
              "      <td>6.421112</td>\n",
              "      <td>5.090698</td>\n",
              "      <td>0.000000</td>\n",
              "      <td>0.000000</td>\n",
              "      <td>0.000000</td>\n",
              "      <td>0.000000</td>\n",
              "      <td>0.000000</td>\n",
              "      <td>0.000000</td>\n",
              "      <td>0.000000</td>\n",
              "      <td>0.00000</td>\n",
              "      <td>0.0</td>\n",
              "      <td>0.0</td>\n",
              "      <td>0.0</td>\n",
              "      <td>0.0</td>\n",
              "      <td>0.0</td>\n",
              "      <td>0.0</td>\n",
              "      <td>0.0</td>\n",
              "      <td>0.0</td>\n",
              "      <td>0.0</td>\n",
              "      <td>0.0</td>\n",
              "      <td>0.0</td>\n",
              "      <td>0.0</td>\n",
              "      <td>0.0</td>\n",
              "      <td>0.0</td>\n",
              "      <td>0.0</td>\n",
              "      <td>0.0</td>\n",
              "      <td>0.0</td>\n",
              "      <td>0.0</td>\n",
              "      <td>0.0</td>\n",
              "      <td>0.0</td>\n",
              "      <td>0.0</td>\n",
              "      <td>0.0</td>\n",
              "      <td>0.0</td>\n",
              "      <td>0.0</td>\n",
              "      <td>0.0</td>\n",
              "      <td>0.0</td>\n",
              "      <td>0.0</td>\n",
              "      <td>0.0</td>\n",
              "      <td>0.0</td>\n",
              "      <td>0.0</td>\n",
              "      <td>0.0</td>\n",
              "    </tr>\n",
              "    <tr>\n",
              "      <th>...</th>\n",
              "      <td>...</td>\n",
              "      <td>...</td>\n",
              "      <td>...</td>\n",
              "      <td>...</td>\n",
              "      <td>...</td>\n",
              "      <td>...</td>\n",
              "      <td>...</td>\n",
              "      <td>...</td>\n",
              "      <td>...</td>\n",
              "      <td>...</td>\n",
              "      <td>...</td>\n",
              "      <td>...</td>\n",
              "      <td>...</td>\n",
              "      <td>...</td>\n",
              "      <td>...</td>\n",
              "      <td>...</td>\n",
              "      <td>...</td>\n",
              "      <td>...</td>\n",
              "      <td>...</td>\n",
              "      <td>...</td>\n",
              "      <td>...</td>\n",
              "      <td>...</td>\n",
              "      <td>...</td>\n",
              "      <td>...</td>\n",
              "      <td>...</td>\n",
              "      <td>...</td>\n",
              "      <td>...</td>\n",
              "      <td>...</td>\n",
              "      <td>...</td>\n",
              "      <td>...</td>\n",
              "      <td>...</td>\n",
              "      <td>...</td>\n",
              "      <td>...</td>\n",
              "      <td>...</td>\n",
              "      <td>...</td>\n",
              "      <td>...</td>\n",
              "      <td>...</td>\n",
              "      <td>...</td>\n",
              "      <td>...</td>\n",
              "      <td>...</td>\n",
              "      <td>...</td>\n",
              "      <td>...</td>\n",
              "      <td>...</td>\n",
              "      <td>...</td>\n",
              "      <td>...</td>\n",
              "      <td>...</td>\n",
              "    </tr>\n",
              "    <tr>\n",
              "      <th>5195</th>\n",
              "      <td>8.863459</td>\n",
              "      <td>6.001258</td>\n",
              "      <td>8.863459</td>\n",
              "      <td>6.723393</td>\n",
              "      <td>2.114113</td>\n",
              "      <td>8.863459</td>\n",
              "      <td>8.863459</td>\n",
              "      <td>7.947168</td>\n",
              "      <td>2.183860</td>\n",
              "      <td>0.000000</td>\n",
              "      <td>0.000000</td>\n",
              "      <td>0.000000</td>\n",
              "      <td>0.000000</td>\n",
              "      <td>0.000000</td>\n",
              "      <td>0.00000</td>\n",
              "      <td>0.0</td>\n",
              "      <td>0.0</td>\n",
              "      <td>0.0</td>\n",
              "      <td>0.0</td>\n",
              "      <td>0.0</td>\n",
              "      <td>0.0</td>\n",
              "      <td>0.0</td>\n",
              "      <td>0.0</td>\n",
              "      <td>0.0</td>\n",
              "      <td>0.0</td>\n",
              "      <td>0.0</td>\n",
              "      <td>0.0</td>\n",
              "      <td>0.0</td>\n",
              "      <td>0.0</td>\n",
              "      <td>0.0</td>\n",
              "      <td>0.0</td>\n",
              "      <td>0.0</td>\n",
              "      <td>0.0</td>\n",
              "      <td>0.0</td>\n",
              "      <td>0.0</td>\n",
              "      <td>0.0</td>\n",
              "      <td>0.0</td>\n",
              "      <td>0.0</td>\n",
              "      <td>0.0</td>\n",
              "      <td>0.0</td>\n",
              "      <td>0.0</td>\n",
              "      <td>0.0</td>\n",
              "      <td>0.0</td>\n",
              "      <td>0.0</td>\n",
              "      <td>0.0</td>\n",
              "      <td>0.0</td>\n",
              "    </tr>\n",
              "    <tr>\n",
              "      <th>5196</th>\n",
              "      <td>7.158711</td>\n",
              "      <td>5.706459</td>\n",
              "      <td>6.512084</td>\n",
              "      <td>5.397723</td>\n",
              "      <td>8.170312</td>\n",
              "      <td>7.477165</td>\n",
              "      <td>2.114113</td>\n",
              "      <td>7.158711</td>\n",
              "      <td>4.971639</td>\n",
              "      <td>8.170312</td>\n",
              "      <td>6.260769</td>\n",
              "      <td>7.947168</td>\n",
              "      <td>8.170312</td>\n",
              "      <td>8.457994</td>\n",
              "      <td>2.18386</td>\n",
              "      <td>0.0</td>\n",
              "      <td>0.0</td>\n",
              "      <td>0.0</td>\n",
              "      <td>0.0</td>\n",
              "      <td>0.0</td>\n",
              "      <td>0.0</td>\n",
              "      <td>0.0</td>\n",
              "      <td>0.0</td>\n",
              "      <td>0.0</td>\n",
              "      <td>0.0</td>\n",
              "      <td>0.0</td>\n",
              "      <td>0.0</td>\n",
              "      <td>0.0</td>\n",
              "      <td>0.0</td>\n",
              "      <td>0.0</td>\n",
              "      <td>0.0</td>\n",
              "      <td>0.0</td>\n",
              "      <td>0.0</td>\n",
              "      <td>0.0</td>\n",
              "      <td>0.0</td>\n",
              "      <td>0.0</td>\n",
              "      <td>0.0</td>\n",
              "      <td>0.0</td>\n",
              "      <td>0.0</td>\n",
              "      <td>0.0</td>\n",
              "      <td>0.0</td>\n",
              "      <td>0.0</td>\n",
              "      <td>0.0</td>\n",
              "      <td>0.0</td>\n",
              "      <td>0.0</td>\n",
              "      <td>0.0</td>\n",
              "    </tr>\n",
              "    <tr>\n",
              "      <th>5197</th>\n",
              "      <td>5.945688</td>\n",
              "      <td>8.863459</td>\n",
              "      <td>6.784017</td>\n",
              "      <td>2.114113</td>\n",
              "      <td>8.170312</td>\n",
              "      <td>6.189310</td>\n",
              "      <td>6.337730</td>\n",
              "      <td>2.183860</td>\n",
              "      <td>0.000000</td>\n",
              "      <td>0.000000</td>\n",
              "      <td>0.000000</td>\n",
              "      <td>0.000000</td>\n",
              "      <td>0.000000</td>\n",
              "      <td>0.000000</td>\n",
              "      <td>0.00000</td>\n",
              "      <td>0.0</td>\n",
              "      <td>0.0</td>\n",
              "      <td>0.0</td>\n",
              "      <td>0.0</td>\n",
              "      <td>0.0</td>\n",
              "      <td>0.0</td>\n",
              "      <td>0.0</td>\n",
              "      <td>0.0</td>\n",
              "      <td>0.0</td>\n",
              "      <td>0.0</td>\n",
              "      <td>0.0</td>\n",
              "      <td>0.0</td>\n",
              "      <td>0.0</td>\n",
              "      <td>0.0</td>\n",
              "      <td>0.0</td>\n",
              "      <td>0.0</td>\n",
              "      <td>0.0</td>\n",
              "      <td>0.0</td>\n",
              "      <td>0.0</td>\n",
              "      <td>0.0</td>\n",
              "      <td>0.0</td>\n",
              "      <td>0.0</td>\n",
              "      <td>0.0</td>\n",
              "      <td>0.0</td>\n",
              "      <td>0.0</td>\n",
              "      <td>0.0</td>\n",
              "      <td>0.0</td>\n",
              "      <td>0.0</td>\n",
              "      <td>0.0</td>\n",
              "      <td>0.0</td>\n",
              "      <td>0.0</td>\n",
              "    </tr>\n",
              "    <tr>\n",
              "      <th>5198</th>\n",
              "      <td>5.919020</td>\n",
              "      <td>7.477165</td>\n",
              "      <td>6.991657</td>\n",
              "      <td>7.947168</td>\n",
              "      <td>5.187158</td>\n",
              "      <td>4.593762</td>\n",
              "      <td>0.000000</td>\n",
              "      <td>0.000000</td>\n",
              "      <td>0.000000</td>\n",
              "      <td>0.000000</td>\n",
              "      <td>0.000000</td>\n",
              "      <td>0.000000</td>\n",
              "      <td>0.000000</td>\n",
              "      <td>0.000000</td>\n",
              "      <td>0.00000</td>\n",
              "      <td>0.0</td>\n",
              "      <td>0.0</td>\n",
              "      <td>0.0</td>\n",
              "      <td>0.0</td>\n",
              "      <td>0.0</td>\n",
              "      <td>0.0</td>\n",
              "      <td>0.0</td>\n",
              "      <td>0.0</td>\n",
              "      <td>0.0</td>\n",
              "      <td>0.0</td>\n",
              "      <td>0.0</td>\n",
              "      <td>0.0</td>\n",
              "      <td>0.0</td>\n",
              "      <td>0.0</td>\n",
              "      <td>0.0</td>\n",
              "      <td>0.0</td>\n",
              "      <td>0.0</td>\n",
              "      <td>0.0</td>\n",
              "      <td>0.0</td>\n",
              "      <td>0.0</td>\n",
              "      <td>0.0</td>\n",
              "      <td>0.0</td>\n",
              "      <td>0.0</td>\n",
              "      <td>0.0</td>\n",
              "      <td>0.0</td>\n",
              "      <td>0.0</td>\n",
              "      <td>0.0</td>\n",
              "      <td>0.0</td>\n",
              "      <td>0.0</td>\n",
              "      <td>0.0</td>\n",
              "      <td>0.0</td>\n",
              "    </tr>\n",
              "    <tr>\n",
              "      <th>5199</th>\n",
              "      <td>8.457994</td>\n",
              "      <td>2.114113</td>\n",
              "      <td>8.863459</td>\n",
              "      <td>6.666234</td>\n",
              "      <td>8.863459</td>\n",
              "      <td>7.947168</td>\n",
              "      <td>2.183860</td>\n",
              "      <td>0.000000</td>\n",
              "      <td>0.000000</td>\n",
              "      <td>0.000000</td>\n",
              "      <td>0.000000</td>\n",
              "      <td>0.000000</td>\n",
              "      <td>0.000000</td>\n",
              "      <td>0.000000</td>\n",
              "      <td>0.00000</td>\n",
              "      <td>0.0</td>\n",
              "      <td>0.0</td>\n",
              "      <td>0.0</td>\n",
              "      <td>0.0</td>\n",
              "      <td>0.0</td>\n",
              "      <td>0.0</td>\n",
              "      <td>0.0</td>\n",
              "      <td>0.0</td>\n",
              "      <td>0.0</td>\n",
              "      <td>0.0</td>\n",
              "      <td>0.0</td>\n",
              "      <td>0.0</td>\n",
              "      <td>0.0</td>\n",
              "      <td>0.0</td>\n",
              "      <td>0.0</td>\n",
              "      <td>0.0</td>\n",
              "      <td>0.0</td>\n",
              "      <td>0.0</td>\n",
              "      <td>0.0</td>\n",
              "      <td>0.0</td>\n",
              "      <td>0.0</td>\n",
              "      <td>0.0</td>\n",
              "      <td>0.0</td>\n",
              "      <td>0.0</td>\n",
              "      <td>0.0</td>\n",
              "      <td>0.0</td>\n",
              "      <td>0.0</td>\n",
              "      <td>0.0</td>\n",
              "      <td>0.0</td>\n",
              "      <td>0.0</td>\n",
              "      <td>0.0</td>\n",
              "    </tr>\n",
              "  </tbody>\n",
              "</table>\n",
              "<p>5200 rows × 46 columns</p>\n",
              "</div>"
            ],
            "text/plain": [
              "            1         2         3         4         5   ...   42   43   44   45   46\n",
              "0     8.863459  2.114113  8.863459  7.477165  8.863459  ...  0.0  0.0  0.0  0.0  0.0\n",
              "1     6.560874  6.560874  6.917549  5.187158  6.378552  ...  0.0  0.0  0.0  0.0  0.0\n",
              "2     5.024007  6.991657  6.723393  7.254021  5.727965  ...  0.0  0.0  0.0  0.0  0.0\n",
              "3     6.337730  7.158711  7.947168  8.170312  2.114113  ...  0.0  0.0  0.0  0.0  0.0\n",
              "4     7.477165  8.863459  8.457994  6.337730  4.820408  ...  0.0  0.0  0.0  0.0  0.0\n",
              "...        ...       ...       ...       ...       ...  ...  ...  ...  ...  ...  ...\n",
              "5195  8.863459  6.001258  8.863459  6.723393  2.114113  ...  0.0  0.0  0.0  0.0  0.0\n",
              "5196  7.158711  5.706459  6.512084  5.397723  8.170312  ...  0.0  0.0  0.0  0.0  0.0\n",
              "5197  5.945688  8.863459  6.784017  2.114113  8.170312  ...  0.0  0.0  0.0  0.0  0.0\n",
              "5198  5.919020  7.477165  6.991657  7.947168  5.187158  ...  0.0  0.0  0.0  0.0  0.0\n",
              "5199  8.457994  2.114113  8.863459  6.666234  8.863459  ...  0.0  0.0  0.0  0.0  0.0\n",
              "\n",
              "[5200 rows x 46 columns]"
            ]
          },
          "metadata": {
            "tags": []
          },
          "execution_count": 168
        }
      ]
    },
    {
      "cell_type": "code",
      "metadata": {
        "id": "75ZutRFJP-9d"
      },
      "source": [
        "test_array = df_test[0:].to_numpy()             ##This is the array upon which predictions will be done.\n",
        "y = train.label.to_numpy()             ##This again reassigns the value of y because it was altered in previous segments"
      ],
      "execution_count": null,
      "outputs": []
    },
    {
      "cell_type": "code",
      "metadata": {
        "colab": {
          "base_uri": "https://localhost:8080/"
        },
        "id": "ojUGg7f0DJpO",
        "outputId": "dbf342bf-c1df-4151-f9b9-14950b537794"
      },
      "source": [
        "svc = SVC(C = 100, kernel = 'rbf', gamma = 0.01, degree = 3)\n",
        "svc.fit(X, y)"
      ],
      "execution_count": null,
      "outputs": [
        {
          "output_type": "execute_result",
          "data": {
            "text/plain": [
              "SVC(C=100, break_ties=False, cache_size=200, class_weight=None, coef0=0.0,\n",
              "    decision_function_shape='ovr', degree=3, gamma=0.01, kernel='rbf',\n",
              "    max_iter=-1, probability=False, random_state=None, shrinking=True,\n",
              "    tol=0.001, verbose=False)"
            ]
          },
          "metadata": {
            "tags": []
          },
          "execution_count": 170
        }
      ]
    },
    {
      "cell_type": "code",
      "metadata": {
        "id": "ktBXs7VshZ3A"
      },
      "source": [
        "predicted = svc.predict(test_array)"
      ],
      "execution_count": null,
      "outputs": []
    },
    {
      "cell_type": "code",
      "metadata": {
        "id": "8hveKet2lDx0"
      },
      "source": [
        "ans = pd.read_csv('/content/gdrive/MyDrive/Submission.csv')\n",
        "solution = ans['label'].to_numpy()"
      ],
      "execution_count": null,
      "outputs": []
    },
    {
      "cell_type": "code",
      "metadata": {
        "colab": {
          "base_uri": "https://localhost:8080/"
        },
        "id": "E1bcBgxRluZA",
        "outputId": "4ba2ee22-f790-4049-f0c5-0a4571efd150"
      },
      "source": [
        "print(accuracy_score(predicted, solution))\n",
        "print(precision_score(predicted, solution))\n",
        "print(confusion_matrix(predicted, solution))"
      ],
      "execution_count": null,
      "outputs": [
        {
          "output_type": "stream",
          "text": [
            "0.78\n",
            "0.7407550077041603\n",
            "[[2133  673]\n",
            " [ 471 1923]]\n"
          ],
          "name": "stdout"
        }
      ]
    },
    {
      "cell_type": "code",
      "metadata": {
        "colab": {
          "base_uri": "https://localhost:8080/"
        },
        "id": "IDhb0pV1mLZc",
        "outputId": "b5793e3b-6085-4fe1-c945-53e7db0bf659"
      },
      "source": [
        "kneighbors = KNeighborsClassifier(n_neighbors = 10, weights='distance')\n",
        "kneighbors.fit(X, y)"
      ],
      "execution_count": null,
      "outputs": [
        {
          "output_type": "execute_result",
          "data": {
            "text/plain": [
              "KNeighborsClassifier(algorithm='auto', leaf_size=30, metric='minkowski',\n",
              "                     metric_params=None, n_jobs=None, n_neighbors=10, p=2,\n",
              "                     weights='distance')"
            ]
          },
          "metadata": {
            "tags": []
          },
          "execution_count": 147
        }
      ]
    },
    {
      "cell_type": "code",
      "metadata": {
        "colab": {
          "base_uri": "https://localhost:8080/"
        },
        "id": "7Srqi8las6Xb",
        "outputId": "ececa1a6-8f2e-4913-e95f-b7b43a542ce7"
      },
      "source": [
        "predicted_knn = kneighbors.predict(test_array)\n",
        "print(accuracy_score(predicted_knn, solution))\n",
        "print(precision_score(predicted_knn, solution))\n",
        "print(confusion_matrix(predicted_knn, solution))"
      ],
      "execution_count": null,
      "outputs": [
        {
          "output_type": "stream",
          "text": [
            "0.7576923076923077\n",
            "0.6648690292758089\n",
            "[[2214  870]\n",
            " [ 390 1726]]\n"
          ],
          "name": "stdout"
        }
      ]
    },
    {
      "cell_type": "code",
      "metadata": {
        "colab": {
          "base_uri": "https://localhost:8080/"
        },
        "id": "EblU3UD-tXd6",
        "outputId": "689f8431-924b-4308-f456-c7b0c56e626d"
      },
      "source": [
        "logreg = LogisticRegression(C = 0.01, penalty = 'l2', solver = 'liblinear', max_iter = 50000, random_state=42, multi_class='ovr')\n",
        "logreg.fit(X, y)"
      ],
      "execution_count": null,
      "outputs": [
        {
          "output_type": "execute_result",
          "data": {
            "text/plain": [
              "LogisticRegression(C=0.01, class_weight=None, dual=False, fit_intercept=True,\n",
              "                   intercept_scaling=1, l1_ratio=None, max_iter=50000,\n",
              "                   multi_class='ovr', n_jobs=None, penalty='l2',\n",
              "                   random_state=42, solver='liblinear', tol=0.0001, verbose=0,\n",
              "                   warm_start=False)"
            ]
          },
          "metadata": {
            "tags": []
          },
          "execution_count": 150
        }
      ]
    },
    {
      "cell_type": "code",
      "metadata": {
        "colab": {
          "base_uri": "https://localhost:8080/"
        },
        "id": "nT2Kr57ht3se",
        "outputId": "5ef64dab-cc1c-4a68-d5ba-c345dda319b7"
      },
      "source": [
        "predicted_log = logreg.predict(test_array)\n",
        "print(accuracy_score(predicted_log, solution))\n",
        "print(precision_score(predicted_log, solution))\n",
        "print(confusion_matrix(predicted_log, solution))"
      ],
      "execution_count": null,
      "outputs": [
        {
          "output_type": "stream",
          "text": [
            "0.6644230769230769\n",
            "0.6024653312788906\n",
            "[[1891 1032]\n",
            " [ 713 1564]]\n"
          ],
          "name": "stdout"
        }
      ]
    },
    {
      "cell_type": "code",
      "metadata": {
        "id": "tIrNTGwvuEAc",
        "colab": {
          "base_uri": "https://localhost:8080/"
        },
        "outputId": "6527bfcd-1557-404d-8a57-a59d0c832b01"
      },
      "source": [
        "ada_clf = AdaBoostClassifier(DecisionTreeClassifier(max_depth = 1), algorithm = 'SAMME.R', learning_rate = 1, n_estimators = 250)\n",
        "ada_clf.fit(X, y)"
      ],
      "execution_count": null,
      "outputs": [
        {
          "output_type": "execute_result",
          "data": {
            "text/plain": [
              "AdaBoostClassifier(algorithm='SAMME.R',\n",
              "                   base_estimator=DecisionTreeClassifier(ccp_alpha=0.0,\n",
              "                                                         class_weight=None,\n",
              "                                                         criterion='gini',\n",
              "                                                         max_depth=1,\n",
              "                                                         max_features=None,\n",
              "                                                         max_leaf_nodes=None,\n",
              "                                                         min_impurity_decrease=0.0,\n",
              "                                                         min_impurity_split=None,\n",
              "                                                         min_samples_leaf=1,\n",
              "                                                         min_samples_split=2,\n",
              "                                                         min_weight_fraction_leaf=0.0,\n",
              "                                                         presort='deprecated',\n",
              "                                                         random_state=None,\n",
              "                                                         splitter='best'),\n",
              "                   learning_rate=1, n_estimators=250, random_state=None)"
            ]
          },
          "metadata": {
            "tags": []
          },
          "execution_count": 152
        }
      ]
    },
    {
      "cell_type": "code",
      "metadata": {
        "id": "cLW653nj3514"
      },
      "source": [
        "predicted_adaboost = ada_clf.predict(test_array)"
      ],
      "execution_count": null,
      "outputs": []
    },
    {
      "cell_type": "code",
      "metadata": {
        "colab": {
          "base_uri": "https://localhost:8080/"
        },
        "id": "votrOyV74BVF",
        "outputId": "b5eebb06-3440-4dd3-ed93-b82a47c34f87"
      },
      "source": [
        "print(accuracy_score(predicted_adaboost, solution))\n",
        "print(precision_score(predicted_adaboost, solution))\n",
        "print(confusion_matrix(predicted_adaboost, solution))"
      ],
      "execution_count": null,
      "outputs": [
        {
          "output_type": "stream",
          "text": [
            "0.7892307692307692\n",
            "0.6910631741140215\n",
            "[[2310  802]\n",
            " [ 294 1794]]\n"
          ],
          "name": "stdout"
        }
      ]
    },
    {
      "cell_type": "code",
      "metadata": {
        "colab": {
          "base_uri": "https://localhost:8080/"
        },
        "id": "n0hajUL5_pKk",
        "outputId": "f921ac35-6de3-4431-c97b-dafe3c4a2e3a"
      },
      "source": [
        "rf_clf = RandomForestClassifier(criterion = 'entropy', max_depth = 24, n_estimators = 300, oob_score=True)\n",
        "rf_clf.fit(X, y)"
      ],
      "execution_count": null,
      "outputs": [
        {
          "output_type": "execute_result",
          "data": {
            "text/plain": [
              "RandomForestClassifier(bootstrap=True, ccp_alpha=0.0, class_weight=None,\n",
              "                       criterion='entropy', max_depth=24, max_features='auto',\n",
              "                       max_leaf_nodes=None, max_samples=None,\n",
              "                       min_impurity_decrease=0.0, min_impurity_split=None,\n",
              "                       min_samples_leaf=1, min_samples_split=2,\n",
              "                       min_weight_fraction_leaf=0.0, n_estimators=300,\n",
              "                       n_jobs=None, oob_score=True, random_state=None,\n",
              "                       verbose=0, warm_start=False)"
            ]
          },
          "metadata": {
            "tags": []
          },
          "execution_count": 156
        }
      ]
    },
    {
      "cell_type": "code",
      "metadata": {
        "colab": {
          "base_uri": "https://localhost:8080/"
        },
        "id": "_Cval8bK_sc0",
        "outputId": "24c864f0-3632-46b5-eea4-413198e1141d"
      },
      "source": [
        "predicted_rf = rf_clf.predict(test_array)\n",
        "print(accuracy_score(predicted_rf, solution))\n",
        "print(precision_score(predicted_rf, solution))\n",
        "print(confusion_matrix(predicted_rf, solution))"
      ],
      "execution_count": null,
      "outputs": [
        {
          "output_type": "stream",
          "text": [
            "0.815\n",
            "0.7715716486902927\n",
            "[[2235  593]\n",
            " [ 369 2003]]\n"
          ],
          "name": "stdout"
        }
      ]
    },
    {
      "cell_type": "code",
      "metadata": {
        "colab": {
          "base_uri": "https://localhost:8080/"
        },
        "id": "9Yz1apliAnAg",
        "outputId": "351cd204-c4b0-475f-e71c-ffd3b697db8b"
      },
      "source": [
        "xgb_clf = XGBClassifier(learning_rate=0.8)\n",
        "xgb_clf.fit(X, y)"
      ],
      "execution_count": null,
      "outputs": [
        {
          "output_type": "execute_result",
          "data": {
            "text/plain": [
              "XGBClassifier(base_score=0.5, booster='gbtree', colsample_bylevel=1,\n",
              "              colsample_bynode=1, colsample_bytree=1, gamma=0,\n",
              "              learning_rate=0.8, max_delta_step=0, max_depth=3,\n",
              "              min_child_weight=1, missing=None, n_estimators=100, n_jobs=1,\n",
              "              nthread=None, objective='binary:logistic', random_state=0,\n",
              "              reg_alpha=0, reg_lambda=1, scale_pos_weight=1, seed=None,\n",
              "              silent=None, subsample=1, verbosity=1)"
            ]
          },
          "metadata": {
            "tags": []
          },
          "execution_count": 158
        }
      ]
    },
    {
      "cell_type": "code",
      "metadata": {
        "colab": {
          "base_uri": "https://localhost:8080/"
        },
        "id": "XGVSVklmAsiz",
        "outputId": "f03f5cfb-592a-4e6a-c131-215904f6409b"
      },
      "source": [
        "predicted_xgb = xgb_clf.predict(test_array)\n",
        "print(accuracy_score(predicted_xgb, solution))\n",
        "print(precision_score(predicted_xgb, solution))\n",
        "print(confusion_matrix(predicted_xgb, solution))"
      ],
      "execution_count": null,
      "outputs": [
        {
          "output_type": "stream",
          "text": [
            "0.8007692307692308\n",
            "0.7565485362095532\n",
            "[[2200  632]\n",
            " [ 404 1964]]\n"
          ],
          "name": "stdout"
        }
      ]
    },
    {
      "cell_type": "code",
      "metadata": {
        "colab": {
          "base_uri": "https://localhost:8080/",
          "height": 609
        },
        "id": "8Ivf5_JfE9oO",
        "outputId": "2c775f3e-d1db-4edf-eccf-236a231567c3"
      },
      "source": [
        "accuracies = [accuracy_score(predicted, solution), accuracy_score(predicted_knn, solution), accuracy_score(predicted_log, solution), accuracy_score(predicted_adaboost, solution), accuracy_score(predicted_rf, solution), accuracy_score(predicted_xgb, solution)]\n",
        "precisions = [precision_score(predicted, solution), precision_score(predicted_knn, solution), precision_score(predicted_log, solution), precision_score(predicted_adaboost, solution), precision_score(predicted_rf, solution), precision_score(predicted_xgb, solution)]\n",
        "xlabels = ['SVC', 'KNeighborClassifier', 'Logistic Regression', 'Adaboost Classifier', 'RandomForest Classifier', 'XGBoost Classifier']\n",
        "df = pd.DataFrame(zip(accuracies, precisions), columns=['Accuracy', 'Precision'], index=xlabels)\n",
        "df.plot.bar(rot=0, figsize=(15,10))"
      ],
      "execution_count": null,
      "outputs": [
        {
          "output_type": "execute_result",
          "data": {
            "text/plain": [
              "<matplotlib.axes._subplots.AxesSubplot at 0x7f5ec0a25a90>"
            ]
          },
          "metadata": {
            "tags": []
          },
          "execution_count": 160
        },
        {
          "output_type": "display_data",
          "data": {
            "image/png": "[encoded data removed]",
            "text/plain": [
              "<Figure size 1080x720 with 1 Axes>"
            ]
          },
          "metadata": {
            "tags": [],
            "needs_background": "light"
          }
        }
      ]
    },
    {
      "cell_type": "markdown",
      "metadata": {
        "id": "yLj5lE63IHgV"
      },
      "source": [
        "The precision of KNeighborClassifiers and Logistic Regression are the same.And as always RandomForest Classifiers are the best classifiers of the lot. The next step is to apply Neural Networks."
      ]
    },
    {
      "cell_type": "code",
      "metadata": {
        "id": "7DLrVUCgO7sW"
      },
      "source": [
        "sentence_length = 45\n",
        "tokenizer = Tokenizer()\n",
        "\n",
        "tokenizer.fit_on_texts(train['clean_total'])\n",
        "train_total = tokenizer.texts_to_sequences(train['clean_total'])\n",
        "train_total = pad_sequences(train_total,maxlen=sentence_length)\n",
        "test_total = tokenizer.texts_to_sequences(test['clean_total'])\n",
        "test_total = pad_sequences(test_total,maxlen=sentence_length)"
      ],
      "execution_count": null,
      "outputs": []
    },
    {
      "cell_type": "code",
      "metadata": {
        "colab": {
          "base_uri": "https://localhost:8080/"
        },
        "id": "GC4ncGclP1pB",
        "outputId": "5c52fc53-5d44-4e43-9448-d0d4dcb2a707"
      },
      "source": [
        "train_total.shape"
      ],
      "execution_count": null,
      "outputs": [
        {
          "output_type": "execute_result",
          "data": {
            "text/plain": [
              "(20800, 45)"
            ]
          },
          "metadata": {
            "tags": []
          },
          "execution_count": 174
        }
      ]
    },
    {
      "cell_type": "code",
      "metadata": {
        "id": "Et9I7essQLHC"
      },
      "source": [
        "def create_model(learning_rate):\n",
        "      opt = Adam(lr = learning_rate)\n",
        "      embedding_vector_features=30\n",
        "      model = keras.Sequential()\n",
        "      model.add(layers.Embedding(60000,embedding_vector_features,input_length=sentence_length))\n",
        "      model.add(layers.Dropout(0.3))\n",
        "      model.add(layers.LSTM(50))\n",
        "      model.add(layers.Dropout(0.3))\n",
        "      model.add(layers.Dense(64,activation='relu'))\n",
        "      model.add(layers.Dropout(0.3))\n",
        "      model.add(layers.Dense(1,activation='relu'))\n",
        "      model.compile(loss='binary_crossentropy',optimizer=opt ,metrics=['accuracy'])\n",
        "      return model"
      ],
      "execution_count": null,
      "outputs": []
    },
    {
      "cell_type": "code",
      "metadata": {
        "id": "PyaBK_LNQ9lx"
      },
      "source": [
        "model = KerasClassifier(build_fn = create_model)\n",
        "\n",
        "early_stop = EarlyStopping(\n",
        "    monitor = 'accuracy',\n",
        "    min_delta = 0.1,\n",
        "    patience = 5,\n",
        "    verbose = 0\n",
        ")\n",
        "callbacks = [early_stop]\n",
        "params = {\n",
        "          'learning_rate' : [0.1, 0.01, 0.001],\n",
        "          'batch_size': [64],\n",
        "          'callbacks':callbacks,\n",
        "          'epochs' :[25]\n",
        "          }\n",
        "random_search = RandomizedSearchCV(model, param_distributions=params, cv=KFold(3), n_jobs=1, verbose=1)\n",
        "\n",
        "reduce_lr = ReduceLROnPlateau(monitor='accuracy', factor=0.1, patience=5, verbose=1, mode='min')"
      ],
      "execution_count": null,
      "outputs": []
    },
    {
      "cell_type": "code",
      "metadata": {
        "id": "xiDlfnokRlXv"
      },
      "source": [
        "X = train_total\n",
        "y = train['label']"
      ],
      "execution_count": null,
      "outputs": []
    },
    {
      "cell_type": "code",
      "metadata": {
        "colab": {
          "base_uri": "https://localhost:8080/"
        },
        "id": "lEWt68MGRpnw",
        "outputId": "65a223b4-d188-44d7-aae5-0ab61a2074c2"
      },
      "source": [
        "random_search.fit(X, y)\n",
        "\n",
        "print('Best score obtained: {0}'.format(random_search.best_score_))\n",
        "print('Parameters:')\n",
        "for param, value in random_search.best_params_.items():\n",
        "    print('\\t{}: {}'.format(param, value))"
      ],
      "execution_count": null,
      "outputs": [
        {
          "output_type": "stream",
          "text": [
            "/usr/local/lib/python3.7/dist-packages/sklearn/model_selection/_search.py:281: UserWarning: The total space of parameters 3 is smaller than n_iter=10. Running 3 iterations. For exhaustive searches, use GridSearchCV.\n",
            "  % (grid_size, self.n_iter, grid_size), UserWarning)\n",
            "[Parallel(n_jobs=1)]: Using backend SequentialBackend with 1 concurrent workers.\n",
            "/usr/local/lib/python3.7/dist-packages/tensorflow/python/keras/optimizer_v2/optimizer_v2.py:375: UserWarning: The `lr` argument is deprecated, use `learning_rate` instead.\n",
            "  \"The `lr` argument is deprecated, use `learning_rate` instead.\")\n"
          ],
          "name": "stderr"
        },
        {
          "output_type": "stream",
          "text": [
            "Fitting 3 folds for each of 3 candidates, totalling 9 fits\n",
            "Epoch 1/25\n",
            "217/217 [==============================] - 20s 80ms/step - loss: 0.7877 - accuracy: 0.4960\n",
            "Epoch 2/25\n",
            "217/217 [==============================] - 17s 80ms/step - loss: 0.6667 - accuracy: 0.5415\n",
            "Epoch 3/25\n",
            "217/217 [==============================] - 17s 79ms/step - loss: 0.6822 - accuracy: 0.6471\n",
            "Epoch 4/25\n",
            "217/217 [==============================] - 18s 81ms/step - loss: 0.7302 - accuracy: 0.6834\n",
            "Epoch 5/25\n",
            "217/217 [==============================] - 18s 82ms/step - loss: 0.7110 - accuracy: 0.6829\n",
            "Epoch 6/25\n",
            "217/217 [==============================] - 17s 79ms/step - loss: 0.5855 - accuracy: 0.7319\n",
            "Epoch 7/25\n",
            "217/217 [==============================] - 17s 81ms/step - loss: 0.5454 - accuracy: 0.7484\n",
            "Epoch 8/25\n",
            "217/217 [==============================] - 17s 80ms/step - loss: 0.5348 - accuracy: 0.7545\n",
            "Epoch 9/25\n",
            "217/217 [==============================] - 17s 80ms/step - loss: 0.5135 - accuracy: 0.7726\n",
            "Epoch 10/25\n",
            "217/217 [==============================] - 17s 80ms/step - loss: 0.4904 - accuracy: 0.7740\n",
            "Epoch 11/25\n",
            "217/217 [==============================] - 17s 80ms/step - loss: 0.4935 - accuracy: 0.7839\n",
            "Epoch 12/25\n",
            "217/217 [==============================] - 18s 81ms/step - loss: 0.4877 - accuracy: 0.7899\n",
            "109/109 [==============================] - 3s 20ms/step - loss: 0.3104 - accuracy: 0.8525\n",
            "Epoch 1/25\n",
            "217/217 [==============================] - 20s 83ms/step - loss: 0.4487 - accuracy: 0.8078\n",
            "Epoch 2/25\n",
            "217/217 [==============================] - 18s 84ms/step - loss: 0.2695 - accuracy: 0.9306\n",
            "Epoch 3/25\n",
            "217/217 [==============================] - 18s 84ms/step - loss: 0.3912 - accuracy: 0.8968\n",
            "Epoch 4/25\n",
            "217/217 [==============================] - 18s 85ms/step - loss: 0.5338 - accuracy: 0.8566\n",
            "Epoch 5/25\n",
            "217/217 [==============================] - 18s 83ms/step - loss: 0.4746 - accuracy: 0.8502\n",
            "Epoch 6/25\n",
            "217/217 [==============================] - 18s 82ms/step - loss: 0.4003 - accuracy: 0.8659\n",
            "Epoch 7/25\n",
            "217/217 [==============================] - 18s 83ms/step - loss: 0.4323 - accuracy: 0.8582\n",
            "109/109 [==============================] - 3s 19ms/step - loss: 0.3054 - accuracy: 0.8559\n",
            "Epoch 1/25\n",
            "217/217 [==============================] - 20s 83ms/step - loss: 0.7698 - accuracy: 0.5709\n",
            "Epoch 2/25\n",
            "217/217 [==============================] - 18s 83ms/step - loss: 0.7090 - accuracy: 0.7746\n",
            "Epoch 3/25\n",
            "217/217 [==============================] - 18s 83ms/step - loss: 0.4100 - accuracy: 0.8513\n",
            "Epoch 4/25\n",
            "217/217 [==============================] - 18s 83ms/step - loss: 0.3704 - accuracy: 0.8681\n",
            "Epoch 5/25\n",
            "217/217 [==============================] - 18s 82ms/step - loss: 0.3689 - accuracy: 0.8724\n",
            "Epoch 6/25\n",
            "217/217 [==============================] - 18s 81ms/step - loss: 0.3220 - accuracy: 0.8889\n",
            "Epoch 7/25\n",
            "217/217 [==============================] - 17s 80ms/step - loss: 0.3447 - accuracy: 0.8869\n",
            "Epoch 8/25\n",
            "217/217 [==============================] - 18s 82ms/step - loss: 0.3164 - accuracy: 0.8931\n",
            "Epoch 9/25\n",
            "217/217 [==============================] - 18s 83ms/step - loss: 0.3171 - accuracy: 0.8892\n",
            "Epoch 10/25\n",
            "217/217 [==============================] - 18s 82ms/step - loss: 0.2967 - accuracy: 0.8933\n",
            "Epoch 11/25\n",
            "217/217 [==============================] - 18s 81ms/step - loss: 0.2966 - accuracy: 0.8806\n",
            "109/109 [==============================] - 3s 19ms/step - loss: 0.4271 - accuracy: 0.8979\n",
            "Epoch 1/25\n",
            "217/217 [==============================] - 19s 79ms/step - loss: 0.1038 - accuracy: 0.9555\n",
            "Epoch 2/25\n",
            "217/217 [==============================] - 17s 79ms/step - loss: 0.0092 - accuracy: 0.9975\n",
            "Epoch 3/25\n",
            "217/217 [==============================] - 18s 81ms/step - loss: 0.0012 - accuracy: 0.9996\n",
            "Epoch 4/25\n",
            "217/217 [==============================] - 17s 79ms/step - loss: 2.4596e-04 - accuracy: 1.0000\n",
            "Epoch 5/25\n",
            "217/217 [==============================] - 17s 78ms/step - loss: 5.2356e-05 - accuracy: 1.0000\n",
            "Epoch 6/25\n",
            "217/217 [==============================] - 17s 78ms/step - loss: 9.0614e-04 - accuracy: 0.9999\n",
            "109/109 [==============================] - 2s 18ms/step - loss: 0.0635 - accuracy: 0.9860\n",
            "Epoch 1/25\n",
            "217/217 [==============================] - 19s 78ms/step - loss: 0.1083 - accuracy: 0.9573\n",
            "Epoch 2/25\n",
            "217/217 [==============================] - 17s 78ms/step - loss: 0.0057 - accuracy: 0.9984\n",
            "Epoch 3/25\n",
            "217/217 [==============================] - 17s 78ms/step - loss: 0.0012 - accuracy: 0.9994\n",
            "Epoch 4/25\n",
            "217/217 [==============================] - 17s 78ms/step - loss: 1.5836e-04 - accuracy: 0.9999\n",
            "Epoch 5/25\n",
            "217/217 [==============================] - 17s 79ms/step - loss: 3.1193e-05 - accuracy: 1.0000\n",
            "Epoch 6/25\n",
            "217/217 [==============================] - 17s 79ms/step - loss: 2.3980e-05 - accuracy: 1.0000\n",
            "109/109 [==============================] - 2s 18ms/step - loss: 0.0698 - accuracy: 0.9895\n",
            "Epoch 1/25\n",
            "217/217 [==============================] - 19s 79ms/step - loss: 0.1043 - accuracy: 0.9606\n",
            "Epoch 2/25\n",
            "217/217 [==============================] - 17s 78ms/step - loss: 0.0063 - accuracy: 0.9980\n",
            "Epoch 3/25\n",
            "217/217 [==============================] - 17s 79ms/step - loss: 0.0022 - accuracy: 0.9995\n",
            "Epoch 4/25\n",
            "217/217 [==============================] - 17s 79ms/step - loss: 0.0018 - accuracy: 0.9996\n",
            "Epoch 5/25\n",
            "217/217 [==============================] - 17s 79ms/step - loss: 0.0023 - accuracy: 0.9992\n",
            "Epoch 6/25\n",
            "217/217 [==============================] - 17s 80ms/step - loss: 0.0017 - accuracy: 0.9996\n",
            "109/109 [==============================] - 2s 18ms/step - loss: 0.1199 - accuracy: 0.9814\n",
            "Epoch 1/25\n",
            "217/217 [==============================] - 19s 80ms/step - loss: 0.2434 - accuracy: 0.8877\n",
            "Epoch 2/25\n",
            "217/217 [==============================] - 17s 80ms/step - loss: 0.0177 - accuracy: 0.9944\n",
            "Epoch 3/25\n",
            "217/217 [==============================] - 17s 80ms/step - loss: 0.0051 - accuracy: 0.9986\n",
            "Epoch 4/25\n",
            "217/217 [==============================] - 17s 80ms/step - loss: 0.0012 - accuracy: 0.9996\n",
            "Epoch 5/25\n",
            "217/217 [==============================] - 17s 80ms/step - loss: 4.5251e-04 - accuracy: 0.9999\n",
            "Epoch 6/25\n",
            "217/217 [==============================] - 17s 80ms/step - loss: 2.7484e-04 - accuracy: 0.9999\n",
            "Epoch 7/25\n",
            "217/217 [==============================] - 17s 81ms/step - loss: 1.6561e-04 - accuracy: 1.0000\n",
            "109/109 [==============================] - 2s 18ms/step - loss: 0.0442 - accuracy: 0.9877\n",
            "Epoch 1/25\n",
            "217/217 [==============================] - 19s 81ms/step - loss: 0.2372 - accuracy: 0.8953\n",
            "Epoch 2/25\n",
            "217/217 [==============================] - 17s 80ms/step - loss: 0.0182 - accuracy: 0.9944\n",
            "Epoch 3/25\n",
            "217/217 [==============================] - 17s 80ms/step - loss: 0.0031 - accuracy: 0.9992\n",
            "Epoch 4/25\n",
            "217/217 [==============================] - 17s 80ms/step - loss: 9.2950e-04 - accuracy: 0.9997\n",
            "Epoch 5/25\n",
            "217/217 [==============================] - 17s 81ms/step - loss: 5.4984e-04 - accuracy: 0.9999\n",
            "Epoch 6/25\n",
            "217/217 [==============================] - 18s 81ms/step - loss: 2.6597e-04 - accuracy: 0.9999\n",
            "Epoch 7/25\n",
            "217/217 [==============================] - 18s 81ms/step - loss: 8.2585e-05 - accuracy: 1.0000\n",
            "Epoch 8/25\n",
            "217/217 [==============================] - 17s 80ms/step - loss: 4.7078e-04 - accuracy: 0.9999\n",
            "109/109 [==============================] - 2s 18ms/step - loss: 0.0410 - accuracy: 0.9911\n",
            "Epoch 1/25\n",
            "217/217 [==============================] - 19s 80ms/step - loss: 0.2262 - accuracy: 0.9040\n",
            "Epoch 2/25\n",
            "217/217 [==============================] - 17s 80ms/step - loss: 0.0173 - accuracy: 0.9950\n",
            "Epoch 3/25\n",
            "217/217 [==============================] - 18s 81ms/step - loss: 0.0031 - accuracy: 0.9992\n",
            "Epoch 4/25\n",
            "217/217 [==============================] - 17s 80ms/step - loss: 0.0015 - accuracy: 0.9996\n",
            "Epoch 5/25\n",
            "217/217 [==============================] - 17s 81ms/step - loss: 6.1513e-04 - accuracy: 0.9999\n",
            "Epoch 6/25\n",
            "217/217 [==============================] - 18s 81ms/step - loss: 9.0400e-04 - accuracy: 0.9997\n",
            "109/109 [==============================] - 3s 19ms/step - loss: 0.0446 - accuracy: 0.9893\n"
          ],
          "name": "stdout"
        },
        {
          "output_type": "stream",
          "text": [
            "[Parallel(n_jobs=1)]: Done   9 out of   9 | elapsed: 23.4min finished\n"
          ],
          "name": "stderr"
        },
        {
          "output_type": "stream",
          "text": [
            "Epoch 1/25\n",
            "325/325 [==============================] - 26s 73ms/step - loss: 0.1602 - accuracy: 0.9337\n",
            "Epoch 2/25\n",
            "325/325 [==============================] - 24s 73ms/step - loss: 0.0124 - accuracy: 0.9961\n",
            "Epoch 3/25\n",
            "325/325 [==============================] - 24s 73ms/step - loss: 0.0026 - accuracy: 0.9992\n",
            "Epoch 4/25\n",
            "325/325 [==============================] - 24s 73ms/step - loss: 9.9023e-04 - accuracy: 0.9998\n",
            "Epoch 5/25\n",
            "325/325 [==============================] - 24s 73ms/step - loss: 2.9012e-04 - accuracy: 1.0000\n",
            "Epoch 6/25\n",
            "325/325 [==============================] - 24s 73ms/step - loss: 4.5439e-04 - accuracy: 0.9999\n",
            "Best score obtained: 0.989375094572703\n",
            "Parameters:\n",
            "\tlearning_rate: 0.001\n",
            "\tepochs: 25\n",
            "\tcallbacks: <tensorflow.python.keras.callbacks.EarlyStopping object at 0x7f1c6f50e9d0>\n",
            "\tbatch_size: 64\n"
          ],
          "name": "stdout"
        }
      ]
    },
    {
      "cell_type": "code",
      "metadata": {
        "id": "YR8S1mcSYMqb"
      },
      "source": [
        "X_train, X_test, y_train, y_test = train_test_split(X, y, test_size=0.33, random_state=42)"
      ],
      "execution_count": null,
      "outputs": []
    },
    {
      "cell_type": "code",
      "metadata": {
        "id": "MUlt0eNlY8Zn"
      },
      "source": [
        "    opt = Adam(learning_rate=0.001)\n",
        "    embedding_vector_features=40\n",
        "    model = keras.Sequential()\n",
        "    model.add(layers.Embedding(60000,embedding_vector_features,input_length=sentence_length))\n",
        "    model.add(layers.Dropout(0.3))\n",
        "    model.add(layers.LSTM(50))\n",
        "    model.add(layers.Dropout(0.3))\n",
        "    model.add(layers.Dense(64,activation='relu'))\n",
        "    model.add(layers.Dropout(0.3))\n",
        "    model.add(layers.Dense(1,activation='relu'))\n",
        "    model.compile(loss='binary_crossentropy',optimizer=opt ,metrics=['accuracy'])"
      ],
      "execution_count": null,
      "outputs": []
    },
    {
      "cell_type": "code",
      "metadata": {
        "colab": {
          "base_uri": "https://localhost:8080/"
        },
        "id": "gJDqgqTSZBGG",
        "outputId": "9ac512c1-d878-4fe4-acc6-ebb11fc69567"
      },
      "source": [
        "history = model.fit(X_train, y_train,\n",
        "                    validation_data=(X_test,y_test),\n",
        "                    callbacks=[early_stop,reduce_lr],\n",
        "                    epochs = 50,\n",
        "                    batch_size = 64\n",
        "                    )"
      ],
      "execution_count": null,
      "outputs": [
        {
          "output_type": "stream",
          "text": [
            "Epoch 1/50\n",
            "218/218 [==============================] - 16s 63ms/step - loss: 0.5666 - accuracy: 0.7880 - val_loss: 0.1008 - val_accuracy: 0.9722\n",
            "Epoch 2/50\n",
            "218/218 [==============================] - 14s 62ms/step - loss: 0.1478 - accuracy: 0.9427 - val_loss: 0.1536 - val_accuracy: 0.9318\n",
            "Epoch 3/50\n",
            "218/218 [==============================] - 13s 61ms/step - loss: 0.0373 - accuracy: 0.9921 - val_loss: 0.0593 - val_accuracy: 0.9894\n",
            "Epoch 4/50\n",
            "218/218 [==============================] - 13s 62ms/step - loss: 0.0205 - accuracy: 0.9971 - val_loss: 0.0590 - val_accuracy: 0.9910\n",
            "Epoch 5/50\n",
            "218/218 [==============================] - 13s 61ms/step - loss: 0.0113 - accuracy: 0.9986 - val_loss: 0.0579 - val_accuracy: 0.9910\n",
            "Epoch 6/50\n",
            "218/218 [==============================] - 13s 61ms/step - loss: 0.0174 - accuracy: 0.9958 - val_loss: 0.0712 - val_accuracy: 0.9837\n",
            "\n",
            "Epoch 00006: ReduceLROnPlateau reducing learning rate to 0.00010000000474974513.\n",
            "Epoch 7/50\n",
            "218/218 [==============================] - 13s 61ms/step - loss: 0.0126 - accuracy: 0.9986 - val_loss: 0.0594 - val_accuracy: 0.9872\n"
          ],
          "name": "stdout"
        }
      ]
    },
    {
      "cell_type": "code",
      "metadata": {
        "colab": {
          "base_uri": "https://localhost:8080/",
          "height": 298
        },
        "id": "vrrVbbgnl_EJ",
        "outputId": "628b29fa-c84e-4e99-f6fa-694c2408d328"
      },
      "source": [
        "history_df = pd.DataFrame(history.history)\n",
        "history_df.loc[:,['val_loss', 'loss']].plot()\n",
        "print(\"Minimum Loss: {}\".format(history_df['loss'].min()))\n",
        "print(\"Minimum Validation Loss: {}\".format(history_df['val_loss'].min()))"
      ],
      "execution_count": null,
      "outputs": [
        {
          "output_type": "stream",
          "text": [
            "Minimum Loss: 0.011321472935378551\n",
            "Minimum Validation Loss: 0.05785120278596878\n"
          ],
          "name": "stdout"
        },
        {
          "output_type": "display_data",
          "data": {
            "image/png": "[encoded data removed]",
            "text/plain": [
              "<Figure size 432x288 with 1 Axes>"
            ]
          },
          "metadata": {
            "tags": [],
            "needs_background": "light"
          }
        }
      ]
    },
    {
      "cell_type": "code",
      "metadata": {
        "id": "9MAcN6gOaJtS"
      },
      "source": [
        "pred = model.predict(X_test)\n",
        "pred = pred.reshape(-1)\n",
        "pred.tolist()\n",
        "pred = [1 if x > 0.5 else 0 for x in pred]"
      ],
      "execution_count": null,
      "outputs": []
    },
    {
      "cell_type": "code",
      "metadata": {
        "colab": {
          "base_uri": "https://localhost:8080/"
        },
        "id": "-q-paC15aTLX",
        "outputId": "1f2387d6-1754-44e9-9b76-49c95b8bf7d8"
      },
      "source": [
        "target_names = ['label_0', 'label_1']\n",
        "print(classification_report(pred, y_test, target_names=target_names))"
      ],
      "execution_count": null,
      "outputs": [
        {
          "output_type": "stream",
          "text": [
            "              precision    recall  f1-score   support\n",
            "\n",
            "     label_0       0.99      0.98      0.99      3489\n",
            "     label_1       0.98      0.99      0.99      3375\n",
            "\n",
            "    accuracy                           0.99      6864\n",
            "   macro avg       0.99      0.99      0.99      6864\n",
            "weighted avg       0.99      0.99      0.99      6864\n",
            "\n"
          ],
          "name": "stdout"
        }
      ]
    },
    {
      "cell_type": "code",
      "metadata": {
        "colab": {
          "base_uri": "https://localhost:8080/"
        },
        "id": "WX1y_SpTaotx",
        "outputId": "7a06fd35-0246-4158-dcc8-39ddbeaae87e"
      },
      "source": [
        "test_pred = model.predict(test_total)\n",
        "test_pred = test_pred.reshape(-1)\n",
        "test_pred.tolist()\n",
        "test_pred = [1 if x > 0.5 else 0 for x in test_pred]\n",
        "target_names = ['label_0', 'label_1']\n",
        "print(classification_report(test_pred, solution, target_names=target_names))"
      ],
      "execution_count": null,
      "outputs": [
        {
          "output_type": "stream",
          "text": [
            "              precision    recall  f1-score   support\n",
            "\n",
            "     label_0       0.99      0.99      0.99      2616\n",
            "     label_1       0.99      0.99      0.99      2584\n",
            "\n",
            "    accuracy                           0.99      5200\n",
            "   macro avg       0.99      0.99      0.99      5200\n",
            "weighted avg       0.99      0.99      0.99      5200\n",
            "\n"
          ],
          "name": "stdout"
        }
      ]
    },
    {
      "cell_type": "code",
      "metadata": {
        "colab": {
          "base_uri": "https://localhost:8080/"
        },
        "id": "xB0Nj2KXbClM",
        "outputId": "eaca3ab5-ae73-4e3c-9390-2d1991795848"
      },
      "source": [
        "print(accuracy_score(test_pred, solution))\n",
        "print(precision_score(test_pred, solution))"
      ],
      "execution_count": null,
      "outputs": [
        {
          "output_type": "stream",
          "text": [
            "0.9911538461538462\n",
            "0.9888289676425269\n"
          ],
          "name": "stdout"
        }
      ]
    },
    {
      "cell_type": "code",
      "metadata": {
        "colab": {
          "base_uri": "https://localhost:8080/"
        },
        "id": "b5QDPHWa63fN",
        "outputId": "19dc1e66-31af-43dc-f98c-07ed0ea6893d"
      },
      "source": [
        "new = input(\"Enter the headline of the news article along with the author name: \")\n",
        "new_stemmed = porterstemmer(new)\n",
        "new_df = pd.Series(new_stemmed)\n",
        "tokenizer.fit_on_texts(new_df)\n",
        "new_total = tokenizer.texts_to_sequences(new_df)\n",
        "new_total = pad_sequences(new_total, maxlen=sentence_length)"
      ],
      "execution_count": null,
      "outputs": [
        {
          "output_type": "stream",
          "text": [
            "Enter the headline of the news article along with the author name: I don't know what to do. -The HinduRidhi Thalaseima\n"
          ],
          "name": "stdout"
        }
      ]
    },
    {
      "cell_type": "code",
      "metadata": {
        "colab": {
          "base_uri": "https://localhost:8080/"
        },
        "id": "Rv8am3U9E0V4",
        "outputId": "c1f8433c-75f1-49f2-f61b-d0f656446d55"
      },
      "source": [
        "x = model.predict(new_total)\n",
        "if x > 0.5:\n",
        "  x = 1\n",
        "else:\n",
        "  x = 0\n",
        "\n",
        "print(\"The news source is {}\".format(\"unreliable\" if x==1 else \"reliable\"))"
      ],
      "execution_count": null,
      "outputs": [
        {
          "output_type": "stream",
          "text": [
            "The news source is unreliable\n"
          ],
          "name": "stdout"
        }
      ]
    },
    {
      "cell_type": "code",
      "metadata": {
        "colab": {
          "base_uri": "https://localhost:8080/"
        },
        "id": "PHzfsVsdGgrn",
        "outputId": "62e21d55-5063-4869-9eaa-7aedbef09506"
      },
      "source": [
        "model.predict(new_total)"
      ],
      "execution_count": null,
      "outputs": [
        {
          "output_type": "execute_result",
          "data": {
            "text/plain": [
              "array([[0.8478582]], dtype=float32)"
            ]
          },
          "metadata": {
            "tags": []
          },
          "execution_count": 137
        }
      ]
    }
  ]
}